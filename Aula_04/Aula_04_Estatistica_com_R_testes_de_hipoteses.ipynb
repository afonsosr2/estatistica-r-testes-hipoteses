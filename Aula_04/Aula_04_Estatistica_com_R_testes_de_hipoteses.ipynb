{
  "cells": [
    {
      "cell_type": "markdown",
      "metadata": {
        "id": "1Ij6xDJE_ggJ"
      },
      "source": [
        "# <font size=6>**Estatística com R: testes de hipóteses**</font>"
      ]
    },
    {
      "cell_type": "markdown",
      "metadata": {
        "id": "hEI3qc1sABmA"
      },
      "source": [
        "Estamos atuando como **cientistas de dados** em uma empresa que presta consultoria a muitas empresas das mais diversas áreas.\n",
        "\n",
        "Aqui, precisaremos auxiliar estas empresas a coletar informações importantes dos dados que possuem ajudando nas tomadas de decisões dentro da empresa. Para isso, vamos utilizar uma série de conceitos da estatística para investigar e auxiliar nos problemas e demandas que ela está enfrentando, baseando suas decisões na formulação de hipóteses com os dados recebidos.\n",
        "\n",
        "Neste projeto, vamos ter acesso a resultados de pesquisas e dados levantados por times de marketing, atendimento ao cliente, logística entre outros.\n",
        "\n",
        "**Desafio**\n",
        "\n",
        "Nosso desafio é aplicar os conceitos de **inferência estatística**, **teste de hipóteses**, aplicação do **p-valor** e **nível de significância** para analisar os dados e testar hipóteses para agregar valor aos times e ajudar nos processos de decisão. Para isso, serão repassados algumas demandas que foram separadas para que nós possamos contribuir na execução dessa análise.\n",
        "\n",
        "Vamos utilizar a **linguagem R** para responder todos os questionamentos levantados."
      ]
    },
    {
      "cell_type": "markdown",
      "metadata": {
        "id": "VNh0xW71M63z"
      },
      "source": [
        "# **1. Teste de normalidade e etapas de um teste de hipótese**\n",
        "\n",
        "---\n",
        "\n"
      ]
    },
    {
      "cell_type": "markdown",
      "metadata": {
        "id": "cpTa9r2gN55_"
      },
      "source": [
        "## **1.1 Iniciando o projeto**"
      ]
    },
    {
      "cell_type": "markdown",
      "metadata": {
        "id": "SqAIG4z2OTC2"
      },
      "source": [
        "Vamos aplicar ao longo deste documento diversos tipos de teste de hipóteses. Para isso vamos importar alguns pacotes que são extremamente importantes para pessoas cientistas e pesquisadoras e que vão nos auxiliar em cada problema que devemos responder."
      ]
    },
    {
      "cell_type": "markdown",
      "metadata": {
        "id": "0sTQjqX6ALOn"
      },
      "source": [
        "### **Importando os pacotes**"
      ]
    },
    {
      "cell_type": "code",
      "execution_count": null,
      "metadata": {
        "id": "5KEx_ewa41Ct",
        "vscode": {
          "languageId": "r"
        }
      },
      "outputs": [],
      "source": [
        "# Baixando o arquivo de ambiente do R\n",
        "R_environment_file <- \"https://github.com/alura-cursos/estatistica-r-testes-hipoteses/raw/refs/heads/main/libs/library.tar.gz\"\n",
        "\n",
        "download.file(R_environment_file, destfile=\"./library.tar.gz\")\n",
        "\n",
        "# unzip do arquivo library do R: 'library.tar.gz' para a pasta library do R\n",
        "untar(\"library.tar.gz\", \"library\")\n",
        "\n",
        "# Mudando a pasta das libs do R para './library'\n",
        ".libPaths(\"library\")"
      ]
    },
    {
      "cell_type": "code",
      "execution_count": null,
      "metadata": {
        "id": "4P3rE7Nv_eEs",
        "vscode": {
          "languageId": "r"
        }
      },
      "outputs": [],
      "source": [
        "# Importando os pacotes do projeto\n",
        "library(dplyr, warn.conflicts = F)\n",
        "library(ggplot2, warn.conflicts = F)\n",
        "library(rstatix, warn.conflicts = F)\n",
        "library(BSDA, warn.conflicts = F)\n",
        "options(repr.matrix.max.rows = 10)"
      ]
    },
    {
      "cell_type": "code",
      "execution_count": null,
      "metadata": {
        "id": "k-_CRp_b8mdt",
        "vscode": {
          "languageId": "r"
        }
      },
      "outputs": [],
      "source": [
        "# Ajustando parâmetros para visuais que serão construídos ao longo do curso\n",
        "options(repr.plot.width = 16, repr.plot.height = 8)\n",
        "tema <- theme(\n",
        "        plot.title=element_text(size = 22, hjust = 0.5),\n",
        "        axis.title.y=element_text(size = 16, vjust = +0.2),\n",
        "        axis.title.x=element_text(size = 16, vjust = -0.2),\n",
        "        axis.text.y=element_text(size = 14),\n",
        "        axis.text.x=element_text(size = 14),\n",
        "        legend.position = \"none\")"
      ]
    },
    {
      "cell_type": "markdown",
      "metadata": {
        "id": "lt_BGgPKEQ0F"
      },
      "source": [
        "No curso anterior, nós já aprendemos a:\n",
        "* Estimar valores;\n",
        "* Calcular probabilidades de uma distribuição normal;\n",
        "* Calcular intervalos de confiança e tamanhos de amostra;\n",
        "* Compreender o que é nível de confiança e significância.\n",
        "\n",
        "Tudo isso para dar uma base a este curso voltado aos **testes de hipóteses**.\n",
        "\n",
        "De forma resumida, os **testes de hipóteses** são ferramentas utilizadas para tomar decisões ou tirar conclusões sobre uma população com base em dados amostrais.\n",
        "\n",
        "Aqui, nós agimos como detetives levantando **hipóteses** (**afirmações**) baseadas em **probabilidade** e avaliando se as evidências coletadas **sustentam ou refutam** essas afirmações.\n",
        "\n",
        "Ele testa coisas como \"Existe diferença significativa entre dois grupos?\", \"A média observada é compatível com o valor esperado?\" ou ainda \"As variáveis estão relacionadas?\". Quando usamos testes estatísticos, queremos entender padrões nos dados, comparar grupos ou verificar relações entre variáveis.\n",
        "\n",
        "Neste curso, dividiremos os testes de hipóteses em dois grandes tipos:\n",
        "\n",
        "* Testes paramétricos\n",
        "* Testes não paramétricos\n",
        "\n",
        "\n",
        "\n",
        "Ao longo do curso, abordaremos uma série de problemas práticos, aplicando testes de hipóteses utilizando a linguagem R e te preparando para escolher qual a abordagem mais adequada em diferentes contextos e como interpretar os resultados.\n",
        "\n",
        "Vamos nessa?"
      ]
    },
    {
      "cell_type": "markdown",
      "metadata": {
        "id": "S7F1TSHrAe8P"
      },
      "source": [
        "## **1.2 Teste de normalidade (Shapiro-Wilk)**\n",
        "\n",
        "---\n",
        "\n"
      ]
    },
    {
      "cell_type": "markdown",
      "metadata": {
        "id": "iT_adbfKAfKm"
      },
      "source": [
        "Vamos trabalhar com o nosso primeiro teste estatístico. Com ele vamos avaliar as hipóteses feitas sobre os parâmetros populacionais e aceitá-las ou rejeitá-las como provavelmente verdadeiras ou falsas tendo como base uma amostra.\n",
        "\n",
        "Para isso, vamos responder ao primeiro case trazido pelo time de RH de uma grande empresa de e-commerce."
      ]
    },
    {
      "cell_type": "markdown",
      "metadata": {
        "id": "Wwvh6slYGOtd"
      },
      "source": [
        "### <font color=\"#E23155\" face=\"Verdana\">Demanda 1: Analisando as distribuições da remuneração e tempo de treinamento</font>"
      ]
    },
    {
      "cell_type": "markdown",
      "metadata": {
        "id": "cWrHOE7eGOte"
      },
      "source": [
        "Em uma empresa varejista de e-commerce, a área de Recursos Humanos está realizando uma **análise dos dados dos colaboradores** para entender melhor a distribuição de duas variáveis importantes:\n",
        "\n",
        "* A **remuneração** dos funcionários, que reflete a estrutura salarial da empresa.\n",
        "* As **horas de treinamento** realizadas pelos colaboradores durante o ano de 2024, que indicam o investimento em capacitação.\n",
        "\n",
        "No entanto, antes de aplicar qualquer teste estatístico, é essencial verificar se essas variáveis seguem uma **distribuição normal**, pois muitos métodos estatísticos assumem a normalidade dos dados.\n",
        "\n",
        "Para garantir que as análises futuras sejam confiáveis, é necessário responder às seguintes perguntas:\n",
        "\n",
        "* A distribuição da **remuneração** dos colaboradores é normal?\n",
        "* A distribuição das **horas de treinamento** é normal?\n"
      ]
    },
    {
      "cell_type": "markdown",
      "metadata": {
        "id": "brz7dIEC1vYl"
      },
      "source": [
        "### <font color=\"#E23155\" face=\"Verdana\">Solução:</font>"
      ]
    },
    {
      "cell_type": "markdown",
      "metadata": {
        "id": "BA6Q4xrV1zKe"
      },
      "source": [
        "### **Teste de Normalidade de Shapiro-Wilk**\n",
        "\n",
        "O **Teste de Shapiro-Wilk** é um teste de hipóteses que avalia se uma amostra de dados vem de uma **distribuição normal**. Ele compara a distribuição observada com uma distribuição normal teórica, gerando um **p-valor**.\n",
        "\n",
        "* Se o **p-valor** for maior que o nível de significância (geralmente 0,05), **não rejeitamos a hipótese nula**, ou seja, os dados seguem uma distribuição normal.\n",
        "\n",
        "* Se o **p-valor** for menor que o nível de significância, **rejeitamos a hipótese nula**, indicando que os dados não seguem uma distribuição normal.\n",
        "\n",
        "Além do teste, a visualização gráfica por meio, por exemplo, de histogramas e/ou curvas de densidade ajuda a entender a forma da distribuição e complementa a análise."
      ]
    },
    {
      "cell_type": "markdown",
      "metadata": {
        "id": "df9VBevZMQLT"
      },
      "source": [
        "> **Documentações:**\n",
        ">\n",
        "> - [**shapiro.test**](https://www.rdocumentation.org/packages/stats/versions/3.6.2/topics/shapiro.test)\n"
      ]
    },
    {
      "cell_type": "markdown",
      "metadata": {
        "id": "m1JFt9MWNP3O"
      },
      "source": [
        "#### **Lendo os dados**"
      ]
    },
    {
      "cell_type": "code",
      "execution_count": null,
      "metadata": {
        "id": "Y0_zQjYQ5gtn",
        "vscode": {
          "languageId": "r"
        }
      },
      "outputs": [],
      "source": [
        "dados <- read.csv(\"https://raw.githubusercontent.com/alura-cursos/estatistica-r-testes-hipoteses/refs/heads/main/dados/colaboradores.csv\")"
      ]
    },
    {
      "cell_type": "code",
      "execution_count": null,
      "metadata": {
        "colab": {
          "base_uri": "https://localhost:8080/",
          "height": 428
        },
        "id": "oGw9LQZB6jQ3",
        "outputId": "eaddfcb1-313f-4de5-cc38-fe43fd03f564",
        "vscode": {
          "languageId": "r"
        }
      },
      "outputs": [
        {
          "data": {
            "text/html": [
              "<table class=\"dataframe\">\n",
              "<caption>A data.frame: 6 × 8</caption>\n",
              "<thead>\n",
              "\t<tr><th></th><th scope=col>id_colaborador</th><th scope=col>nome</th><th scope=col>sexo_biologico</th><th scope=col>idade</th><th scope=col>cargo</th><th scope=col>nota_desempenho</th><th scope=col>remuneracao</th><th scope=col>horas_treinamento</th></tr>\n",
              "\t<tr><th></th><th scope=col>&lt;chr&gt;</th><th scope=col>&lt;chr&gt;</th><th scope=col>&lt;chr&gt;</th><th scope=col>&lt;int&gt;</th><th scope=col>&lt;chr&gt;</th><th scope=col>&lt;chr&gt;</th><th scope=col>&lt;dbl&gt;</th><th scope=col>&lt;int&gt;</th></tr>\n",
              "</thead>\n",
              "<tbody>\n",
              "\t<tr><th scope=row>1</th><td>DIR000001</td><td>Théo Sales        </td><td>Masculino</td><td>45</td><td>Diretor(a)</td><td>Bom      </td><td>29950.79</td><td>17</td></tr>\n",
              "\t<tr><th scope=row>2</th><td>DIR000002</td><td>Isis Pinto        </td><td>Feminino </td><td>45</td><td>Diretor(a)</td><td>Bom      </td><td>27261.07</td><td>22</td></tr>\n",
              "\t<tr><th scope=row>3</th><td>DIR000003</td><td>Isabelly Garcia   </td><td>Feminino </td><td>45</td><td>Diretor(a)</td><td>Bom      </td><td>25635.61</td><td>29</td></tr>\n",
              "\t<tr><th scope=row>4</th><td>DIR000004</td><td>Nina Pereira      </td><td>Feminino </td><td>45</td><td>Diretor(a)</td><td>Excelente</td><td>27678.60</td><td>18</td></tr>\n",
              "\t<tr><th scope=row>5</th><td>DIR000005</td><td>Otávio Azevedo    </td><td>Masculino</td><td>46</td><td>Diretor(a)</td><td>Excelente</td><td>32084.55</td><td>25</td></tr>\n",
              "\t<tr><th scope=row>6</th><td>GER000006</td><td>João Pedro da Mata</td><td>Masculino</td><td>42</td><td>Gerente   </td><td>Excelente</td><td>21656.81</td><td>17</td></tr>\n",
              "</tbody>\n",
              "</table>\n"
            ],
            "text/latex": [
              "A data.frame: 6 × 8\n",
              "\\begin{tabular}{r|llllllll}\n",
              "  & id\\_colaborador & nome & sexo\\_biologico & idade & cargo & nota\\_desempenho & remuneracao & horas\\_treinamento\\\\\n",
              "  & <chr> & <chr> & <chr> & <int> & <chr> & <chr> & <dbl> & <int>\\\\\n",
              "\\hline\n",
              "\t1 & DIR000001 & Théo Sales         & Masculino & 45 & Diretor(a) & Bom       & 29950.79 & 17\\\\\n",
              "\t2 & DIR000002 & Isis Pinto         & Feminino  & 45 & Diretor(a) & Bom       & 27261.07 & 22\\\\\n",
              "\t3 & DIR000003 & Isabelly Garcia    & Feminino  & 45 & Diretor(a) & Bom       & 25635.61 & 29\\\\\n",
              "\t4 & DIR000004 & Nina Pereira       & Feminino  & 45 & Diretor(a) & Excelente & 27678.60 & 18\\\\\n",
              "\t5 & DIR000005 & Otávio Azevedo     & Masculino & 46 & Diretor(a) & Excelente & 32084.55 & 25\\\\\n",
              "\t6 & GER000006 & João Pedro da Mata & Masculino & 42 & Gerente    & Excelente & 21656.81 & 17\\\\\n",
              "\\end{tabular}\n"
            ],
            "text/markdown": [
              "\n",
              "A data.frame: 6 × 8\n",
              "\n",
              "| <!--/--> | id_colaborador &lt;chr&gt; | nome &lt;chr&gt; | sexo_biologico &lt;chr&gt; | idade &lt;int&gt; | cargo &lt;chr&gt; | nota_desempenho &lt;chr&gt; | remuneracao &lt;dbl&gt; | horas_treinamento &lt;int&gt; |\n",
              "|---|---|---|---|---|---|---|---|---|\n",
              "| 1 | DIR000001 | Théo Sales         | Masculino | 45 | Diretor(a) | Bom       | 29950.79 | 17 |\n",
              "| 2 | DIR000002 | Isis Pinto         | Feminino  | 45 | Diretor(a) | Bom       | 27261.07 | 22 |\n",
              "| 3 | DIR000003 | Isabelly Garcia    | Feminino  | 45 | Diretor(a) | Bom       | 25635.61 | 29 |\n",
              "| 4 | DIR000004 | Nina Pereira       | Feminino  | 45 | Diretor(a) | Excelente | 27678.60 | 18 |\n",
              "| 5 | DIR000005 | Otávio Azevedo     | Masculino | 46 | Diretor(a) | Excelente | 32084.55 | 25 |\n",
              "| 6 | GER000006 | João Pedro da Mata | Masculino | 42 | Gerente    | Excelente | 21656.81 | 17 |\n",
              "\n"
            ],
            "text/plain": [
              "  id_colaborador nome               sexo_biologico idade cargo     \n",
              "1 DIR000001      Théo Sales         Masculino      45    Diretor(a)\n",
              "2 DIR000002      Isis Pinto         Feminino       45    Diretor(a)\n",
              "3 DIR000003      Isabelly Garcia    Feminino       45    Diretor(a)\n",
              "4 DIR000004      Nina Pereira       Feminino       45    Diretor(a)\n",
              "5 DIR000005      Otávio Azevedo     Masculino      46    Diretor(a)\n",
              "6 GER000006      João Pedro da Mata Masculino      42    Gerente   \n",
              "  nota_desempenho remuneracao horas_treinamento\n",
              "1 Bom             29950.79    17               \n",
              "2 Bom             27261.07    22               \n",
              "3 Bom             25635.61    29               \n",
              "4 Excelente       27678.60    18               \n",
              "5 Excelente       32084.55    25               \n",
              "6 Excelente       21656.81    17               "
            ]
          },
          "metadata": {},
          "output_type": "display_data"
        }
      ],
      "source": [
        "head(dados)"
      ]
    },
    {
      "cell_type": "code",
      "execution_count": null,
      "metadata": {
        "colab": {
          "base_uri": "https://localhost:8080/",
          "height": 34
        },
        "id": "5u_QHFBN6pxF",
        "outputId": "6cf9302a-3414-494e-ffd8-4274a9931d6e",
        "vscode": {
          "languageId": "r"
        }
      },
      "outputs": [
        {
          "data": {
            "text/html": [
              "11090"
            ],
            "text/latex": [
              "11090"
            ],
            "text/markdown": [
              "11090"
            ],
            "text/plain": [
              "[1] 11090"
            ]
          },
          "metadata": {},
          "output_type": "display_data"
        }
      ],
      "source": [
        "nrow(dados)"
      ]
    },
    {
      "cell_type": "markdown",
      "metadata": {
        "id": "v5Z9Dv-tM9ga"
      },
      "source": [
        "#### **Definindo a significância do teste ($\\alpha$)?**"
      ]
    },
    {
      "cell_type": "code",
      "execution_count": null,
      "metadata": {
        "id": "mTKKf_d76wIf",
        "vscode": {
          "languageId": "r"
        }
      },
      "outputs": [],
      "source": [
        "significancia <- 0.05"
      ]
    },
    {
      "cell_type": "markdown",
      "metadata": {
        "id": "yV9TxTdrNo-S"
      },
      "source": [
        "#### **Visualizando as distribuições**"
      ]
    },
    {
      "cell_type": "code",
      "execution_count": null,
      "metadata": {
        "colab": {
          "base_uri": "https://localhost:8080/",
          "height": 532
        },
        "id": "_-eyBbT6NlNB",
        "outputId": "df422ccf-c14e-4833-864d-285ffafbc2af",
        "vscode": {
          "languageId": "r"
        }
      },
      "outputs": [
        {
          "name": "stderr",
          "output_type": "stream",
          "text": [
            "\u001b[1m\u001b[22m`stat_bin()` using `bins = 30`. Pick better value with `binwidth`.\n",
            "\u001b[1m\u001b[22m`stat_bin()` using `bins = 30`. Pick better value with `binwidth`.\n"
          ]
        },
        {
          "data": {
            "image/png": "[encoded data removed]",
            "text/plain": [
              "plot without title"
            ]
          },
          "metadata": {
            "image/png": {
              "height": 480,
              "width": 960
            }
          },
          "output_type": "display_data"
        }
      ],
      "source": [
        "library(cowplot)\n",
        "\n",
        "p1 <- ggplot(dados, aes(x = remuneracao)) + geom_histogram() +\n",
        "    labs(y = \"Frequência\", x = \"Remuneração\", title = \"Histograma da Remuneração\") +\n",
        "    tema\n",
        "\n",
        "p2 <- ggplot(dados, aes(x = horas_treinamento)) +  geom_histogram() +\n",
        "    labs(y = \"Frequência\", x = \"Horas de treinamento\", title = \"Histograma das Horas de treinamento em 2024\") +\n",
        "    tema\n",
        "\n",
        "plot_grid(p1, p2, labels = \"AUTO\")"
      ]
    },
    {
      "cell_type": "markdown",
      "metadata": {
        "id": "rfAK_2C2JdQL"
      },
      "source": [
        "Podemos observar que a distribuição da remuneração dos colaboradores parece ser **assimétrica**, com alguns salários muito altos puxando a média para cima. Além disso, há dúvidas sobre a distribuição das horas de treinamento."
      ]
    },
    {
      "cell_type": "markdown",
      "metadata": {
        "id": "ll2uZBOQQOk6"
      },
      "source": [
        "#### **Testando a variável `remuneracao`**"
      ]
    },
    {
      "cell_type": "markdown",
      "metadata": {
        "id": "x_B4s3BVQfJ-"
      },
      "source": [
        "### <font color='green'>Critério do $p_{value}$</font>\n",
        "\n",
        "> ### Rejeitar $H_0$ se o $p_{value} \\leq \\alpha$"
      ]
    },
    {
      "cell_type": "code",
      "execution_count": null,
      "metadata": {
        "id": "RaS9fqgE7AJd",
        "vscode": {
          "languageId": "r"
        }
      },
      "outputs": [],
      "source": [
        "set.seed(2025)\n",
        "amostra <- sample_n(dados, 500)"
      ]
    },
    {
      "cell_type": "code",
      "execution_count": null,
      "metadata": {
        "colab": {
          "base_uri": "https://localhost:8080/",
          "height": 104
        },
        "id": "_QgB2Dxx7D3t",
        "outputId": "79098b0c-3d60-4a21-c14a-0b46be449c53",
        "vscode": {
          "languageId": "r"
        }
      },
      "outputs": [
        {
          "data": {
            "text/plain": [
              "\n",
              "\tShapiro-Wilk normality test\n",
              "\n",
              "data:  amostra$remuneracao\n",
              "W = 0.81457, p-value < 2.2e-16\n"
            ]
          },
          "metadata": {},
          "output_type": "display_data"
        }
      ],
      "source": [
        "resultado <- shapiro.test(amostra$remuneracao)\n",
        "resultado"
      ]
    },
    {
      "cell_type": "code",
      "execution_count": null,
      "metadata": {
        "colab": {
          "base_uri": "https://localhost:8080/",
          "height": 34
        },
        "id": "1BgwOI887IEW",
        "outputId": "dc5b337d-0d04-46f8-8240-a555df2e1f35",
        "vscode": {
          "languageId": "r"
        }
      },
      "outputs": [
        {
          "data": {
            "text/html": [
              "1.45856887720388e-23"
            ],
            "text/latex": [
              "1.45856887720388e-23"
            ],
            "text/markdown": [
              "1.45856887720388e-23"
            ],
            "text/plain": [
              "[1] 1.458569e-23"
            ]
          },
          "metadata": {},
          "output_type": "display_data"
        }
      ],
      "source": [
        "p_valor <- resultado$p.value\n",
        "p_valor"
      ]
    },
    {
      "cell_type": "code",
      "execution_count": null,
      "metadata": {
        "colab": {
          "base_uri": "https://localhost:8080/",
          "height": 34
        },
        "id": "E5JTa0wg7Pzb",
        "outputId": "049ca31a-da9c-4edf-9807-bf69bc79e92c",
        "vscode": {
          "languageId": "r"
        }
      },
      "outputs": [
        {
          "data": {
            "text/html": [
              "TRUE"
            ],
            "text/latex": [
              "TRUE"
            ],
            "text/markdown": [
              "TRUE"
            ],
            "text/plain": [
              "[1] TRUE"
            ]
          },
          "metadata": {},
          "output_type": "display_data"
        }
      ],
      "source": [
        "p_valor <= significancia"
      ]
    },
    {
      "cell_type": "markdown",
      "metadata": {
        "id": "_IrFxZDIRiok"
      },
      "source": [
        "Ao executar o código em R, observamos o seguinte resultado para **remuneração**:\n",
        "\n",
        "* O teste de Shapiro-Wilk retornou um p-valor **muito baixo** (p < 0.05), indicando que a distribuição da remuneração **não é normal**.\n",
        "\n",
        "* O histograma nos mostrou que temos uma **distribuição assimétrica à direita**, com uma cauda longa para valores altos de remuneração. Isso é comum em dados salariais, onde poucos colaboradores têm salários muito altos."
      ]
    },
    {
      "cell_type": "markdown",
      "metadata": {
        "id": "GgoMq0LLSJUV"
      },
      "source": [
        "#### **Testando a variável `horas_treinamento`**"
      ]
    },
    {
      "cell_type": "markdown",
      "metadata": {
        "id": "SS3a2qHcSJUV"
      },
      "source": [
        "### <font color='green'>Critério do $p_{value}$</font>\n",
        "\n",
        "> ### Rejeitar $H_0$ se o $p_{value} \\leq \\alpha$"
      ]
    },
    {
      "cell_type": "code",
      "execution_count": null,
      "metadata": {
        "colab": {
          "base_uri": "https://localhost:8080/",
          "height": 104
        },
        "id": "E8RKcEBJ7ZMz",
        "outputId": "506e21b1-3c99-4079-8006-333d75b858ab",
        "vscode": {
          "languageId": "r"
        }
      },
      "outputs": [
        {
          "data": {
            "text/plain": [
              "\n",
              "\tShapiro-Wilk normality test\n",
              "\n",
              "data:  amostra$horas_treinamento\n",
              "W = 0.99428, p-value = 0.05759\n"
            ]
          },
          "metadata": {},
          "output_type": "display_data"
        }
      ],
      "source": [
        "resultado <- shapiro.test(amostra$horas_treinamento)\n",
        "resultado"
      ]
    },
    {
      "cell_type": "code",
      "execution_count": null,
      "metadata": {
        "colab": {
          "base_uri": "https://localhost:8080/",
          "height": 34
        },
        "id": "eGH6yvaX7aeV",
        "outputId": "52558906-46e1-4086-95a6-fb1ea7ffd461",
        "vscode": {
          "languageId": "r"
        }
      },
      "outputs": [
        {
          "data": {
            "text/html": [
              "0.0575945898497616"
            ],
            "text/latex": [
              "0.0575945898497616"
            ],
            "text/markdown": [
              "0.0575945898497616"
            ],
            "text/plain": [
              "[1] 0.05759459"
            ]
          },
          "metadata": {},
          "output_type": "display_data"
        }
      ],
      "source": [
        "p_valor <- resultado$p.value\n",
        "p_valor"
      ]
    },
    {
      "cell_type": "code",
      "execution_count": null,
      "metadata": {
        "colab": {
          "base_uri": "https://localhost:8080/",
          "height": 34
        },
        "id": "k5D0fMkz7cBv",
        "outputId": "173be89b-50bc-4b5d-ea57-7bf566075fa1",
        "vscode": {
          "languageId": "r"
        }
      },
      "outputs": [
        {
          "data": {
            "text/html": [
              "FALSE"
            ],
            "text/latex": [
              "FALSE"
            ],
            "text/markdown": [
              "FALSE"
            ],
            "text/plain": [
              "[1] FALSE"
            ]
          },
          "metadata": {},
          "output_type": "display_data"
        }
      ],
      "source": [
        "p_valor <= significancia"
      ]
    },
    {
      "cell_type": "markdown",
      "metadata": {
        "id": "9C6UGC8BSQeu"
      },
      "source": [
        "Ao executar o código em R, observamos o seguinte resultado para **horas de treinamento**:\n",
        "\n",
        "* O teste de Shapiro-Wilk retornou um p-valor **maior que 0.05**, sugerindo que a distribuição das horas de treinamento pode ser considerada normal.\n",
        "\n",
        "* O histograma mostra uma distribuição mais simétrica, com a maioria dos colaboradores concentrada em um número médio de horas de treinamento."
      ]
    },
    {
      "cell_type": "markdown",
      "metadata": {
        "id": "hxxABMXKSgKF"
      },
      "source": [
        "Com base nesses resultados, podemos concluir que:\n",
        "\n",
        "* Para a **remuneração**, métodos estatísticos que não assumem normalidade (não paramétricos) podem ser utilizados.\n",
        "\n",
        "* Para as **horas de treinamento**, métodos paramétricos podem ser aplicados com maior confiança."
      ]
    },
    {
      "cell_type": "markdown",
      "metadata": {
        "id": "Mq03BkXcQLCi"
      },
      "source": [
        "## **1.3 Etapas de um teste de hipótese**\n",
        "\n",
        "---\n",
        "\n"
      ]
    },
    {
      "cell_type": "markdown",
      "metadata": {
        "id": "vAzFoddSe9ND"
      },
      "source": [
        "Nada melhor que aprender sobre teste de hipótese que praticando, correto?\n",
        "\n",
        "Por isso, vamos aprender as **etapas básicas de um teste de hipótese** trabalhando com um problema de uma distribuição normal utilizando um **teste paramétrico**. Um teste é chamado de **paramétrico** quando ele assume determinadas premissas sobre os parâmetros de uma população.\n",
        "\n",
        "Vamos ver um exemplo aqui, mas ao longo do curso aprenderemos que existem mais de um tipo e cada um tem a sua particularidade."
      ]
    },
    {
      "cell_type": "markdown",
      "metadata": {
        "id": "hnhk3dAOe9ND"
      },
      "source": [
        "### <font color=\"#E23155\" face=\"Verdana\">Demanda 2: Analisando a amostra dos sucos de frutas</font>"
      ]
    },
    {
      "cell_type": "markdown",
      "metadata": {
        "id": "Xkrl4qYHe9ND"
      },
      "source": [
        "Uma empresa que produz **sucos de frutas em embalagens de 500 ml** utiliza um processo de produção quase totalmente automatizado. No entanto, a máquina responsável pelo preenchimento das embalagens às vezes apresenta desajustes, levando a erros no volume de suco.\n",
        "\n",
        "Quando o volume médio cai abaixo de 500 ml, a empresa enfrenta riscos de perda de vendas e problemas com órgãos fiscalizadores. Por outro lado, quando o volume ultrapassa 500 ml, a empresa começa a se preocupar com prejuízos no processo de produção.\n",
        "\n",
        "Para monitorar o processo, o setor de controle de qualidade coleta periodicamente **amostras de 50 embalagens** para a realização de testes de hipóteses para verificar se a máquina está desajustada. O **nível de significância que vamos adotar é de 5%**.\n",
        "\n",
        "Em uma amostra recente de **50 embalagens**, a média amostral observada foi de **503,24 ml**. A questão que surge é:\n",
        "\n",
        "* Esse valor de **média amostral é suficientemente maior que 500 ml** para rejeitarmos a hipótese de que a média do processo é de 500 ml, ao nível de significância de 5%?"
      ]
    },
    {
      "cell_type": "markdown",
      "metadata": {
        "id": "pBBA3nUXe9ND"
      },
      "source": [
        "### <font color=\"#E23155\" face=\"Verdana\">Solução:</font>"
      ]
    },
    {
      "cell_type": "markdown",
      "metadata": {
        "id": "gAAx-8yFlgZX"
      },
      "source": [
        "Para solucionar este problema, vamos dividí-lo em passos para investigar se rejeitamos ou não a hipótese nula ($H_0$).\n",
        "\n",
        "O processo que faremos aqui será aplicado a muitos testes ao longo deste documento."
      ]
    },
    {
      "cell_type": "markdown",
      "metadata": {
        "id": "ADukt4JyrHT9"
      },
      "source": [
        "#### **Dados do problema**"
      ]
    },
    {
      "cell_type": "markdown",
      "metadata": {
        "id": "d3eeAEuM5jz0"
      },
      "source": [
        "O **teste bicaudal** é muito utilizado em **testes de qualidade**, como o apresentado em nosso problema acima. Outro exemplo é a avaliação de peças que devem ter um encaixe perfeito (porcas e parafusos, chaves e fechaduras etc.).\n",
        "\n",
        "<img src=\"https://github.com/alura-cursos/estatistica-r-testes-hipoteses/blob/main/imagens/outros/teste_z_bicaudal.png?raw=true\" alt=\"Distribuição normal com as áreas de rejeição e aceitação de H0\" width=\"460\">"
      ]
    },
    {
      "cell_type": "code",
      "execution_count": null,
      "metadata": {
        "colab": {
          "base_uri": "https://localhost:8080/",
          "height": 304
        },
        "id": "I_rN2c14rNkr",
        "outputId": "d4cf27c9-ad04-4128-9ad0-3d1e1e50ef5a",
        "vscode": {
          "languageId": "r"
        }
      },
      "outputs": [
        {
          "data": {
            "text/html": [
              "<table class=\"dataframe\">\n",
              "<caption>A data.frame: 6 × 1</caption>\n",
              "<thead>\n",
              "\t<tr><th></th><th scope=col>Amostra</th></tr>\n",
              "\t<tr><th></th><th scope=col>&lt;dbl&gt;</th></tr>\n",
              "</thead>\n",
              "<tbody>\n",
              "\t<tr><th scope=row>1</th><td>509</td></tr>\n",
              "\t<tr><th scope=row>2</th><td>505</td></tr>\n",
              "\t<tr><th scope=row>3</th><td>495</td></tr>\n",
              "\t<tr><th scope=row>4</th><td>510</td></tr>\n",
              "\t<tr><th scope=row>5</th><td>496</td></tr>\n",
              "\t<tr><th scope=row>6</th><td>509</td></tr>\n",
              "</tbody>\n",
              "</table>\n"
            ],
            "text/latex": [
              "A data.frame: 6 × 1\n",
              "\\begin{tabular}{r|l}\n",
              "  & Amostra\\\\\n",
              "  & <dbl>\\\\\n",
              "\\hline\n",
              "\t1 & 509\\\\\n",
              "\t2 & 505\\\\\n",
              "\t3 & 495\\\\\n",
              "\t4 & 510\\\\\n",
              "\t5 & 496\\\\\n",
              "\t6 & 509\\\\\n",
              "\\end{tabular}\n"
            ],
            "text/markdown": [
              "\n",
              "A data.frame: 6 × 1\n",
              "\n",
              "| <!--/--> | Amostra &lt;dbl&gt; |\n",
              "|---|---|\n",
              "| 1 | 509 |\n",
              "| 2 | 505 |\n",
              "| 3 | 495 |\n",
              "| 4 | 510 |\n",
              "| 5 | 496 |\n",
              "| 6 | 509 |\n",
              "\n"
            ],
            "text/plain": [
              "  Amostra\n",
              "1 509    \n",
              "2 505    \n",
              "3 495    \n",
              "4 510    \n",
              "5 496    \n",
              "6 509    "
            ]
          },
          "metadata": {},
          "output_type": "display_data"
        }
      ],
      "source": [
        "amostra <- data.frame(Amostra = c(509, 505, 495, 510, 496, 509, 497, 502, 503, 505,\n",
        "                                  501, 505, 510, 505, 504, 497, 506, 506, 508, 505,\n",
        "                                  497, 504, 500, 498, 506, 496, 508, 497, 503, 501,\n",
        "                                  503, 506, 499, 498, 509, 507, 503, 499, 509, 495,\n",
        "                                  502, 505, 504, 509, 508, 501, 505, 497, 508, 507) )\n",
        "head(amostra)"
      ]
    },
    {
      "cell_type": "code",
      "execution_count": null,
      "metadata": {
        "colab": {
          "base_uri": "https://localhost:8080/",
          "height": 34
        },
        "id": "VBrWlX1hrkrD",
        "outputId": "2b1ae8c4-2bae-4424-c0ab-d87ebc8eff03",
        "vscode": {
          "languageId": "r"
        }
      },
      "outputs": [
        {
          "data": {
            "text/html": [
              "503.24"
            ],
            "text/latex": [
              "503.24"
            ],
            "text/markdown": [
              "503.24"
            ],
            "text/plain": [
              "[1] 503.24"
            ]
          },
          "metadata": {},
          "output_type": "display_data"
        }
      ],
      "source": [
        "media_amostra <- mean(amostra$Amostra)\n",
        "media_amostra"
      ]
    },
    {
      "cell_type": "code",
      "execution_count": null,
      "metadata": {
        "colab": {
          "base_uri": "https://localhost:8080/",
          "height": 34
        },
        "id": "cxWwjXWormxl",
        "outputId": "b0a0a644-712a-4e81-8838-7030b4c38399",
        "vscode": {
          "languageId": "r"
        }
      },
      "outputs": [
        {
          "data": {
            "text/html": [
              "4.48380305052735"
            ],
            "text/latex": [
              "4.48380305052735"
            ],
            "text/markdown": [
              "4.48380305052735"
            ],
            "text/plain": [
              "[1] 4.483803"
            ]
          },
          "metadata": {},
          "output_type": "display_data"
        }
      ],
      "source": [
        "desvio_padrao_amostra <- sd(amostra$Amostra)\n",
        "desvio_padrao_amostra"
      ]
    },
    {
      "cell_type": "code",
      "execution_count": null,
      "metadata": {
        "id": "D0I6XJoWrmtx",
        "vscode": {
          "languageId": "r"
        }
      },
      "outputs": [],
      "source": [
        "media <- 500\n",
        "n <- 50"
      ]
    },
    {
      "cell_type": "markdown",
      "metadata": {
        "id": "9M_oIsTumL8Z"
      },
      "source": [
        "### **Passo 1** - Formulação das hipóteses $H_0$ e $H_1$;\n",
        "\n",
        "> ### <font color='green'>Pontos importantes</font>\n",
        "> - De maneira geral, a hipótese alternativa $H_1$ traz a afirmação sobre o parâmetro que esperamos ser verdadeira.\n",
        ">\n",
        "> - A hipótese nula ($H_0$) sempre afirma uma igualdade (\"$=$\" ou por \"$\\geq$\" e \"$\\leq$\") ou propriedade populacional.\n",
        ">\n",
        "> - Já a hipótese alternativa $H_1$ é definida por uma desigualdade que pode ser uma diferença simples \"$\\neq$\" ou dos tipos \"$>$\" e \"$<$\", e sempre é complementar ao estabelecido pela $H_0$."
      ]
    },
    {
      "cell_type": "markdown",
      "metadata": {
        "id": "FhiM4fQBpn4G"
      },
      "source": [
        "#### **Hipóteses**\n",
        "\n",
        "#### <font color='green'>Lembre-se, a hipótese nula **sempre** contém a alegação de igualdade</font>\n",
        "> ### $H_0: \\mu = 500$\n",
        ">\n",
        "> ### $H_1: \\mu \\neq 500$"
      ]
    },
    {
      "cell_type": "markdown",
      "metadata": {
        "id": "zgNpzP7MGTmr"
      },
      "source": [
        "\n",
        "\n",
        "---\n",
        "\n"
      ]
    },
    {
      "cell_type": "markdown",
      "metadata": {
        "id": "oAbAV8nSscSg"
      },
      "source": [
        "### **Passo 2** - Escolha da distribuição amostral adequada\n",
        "\n",
        "> ### <font color='green'>Pontos importantes</font>\n",
        ">\n",
        "> - Quando o tamanho da amostra tiver 30 elementos ou mais, deve-se utilizar a distribuição normal, como estabelecido pelo **teorema do limite central**.\n",
        ">\n",
        "> - Para um tamanho de amostra menor que 30 elementos, e se pudermos afirmar que a população se distribui aproximadamente como uma normal e o desvio padrão populacional for conhecido, deve-se utilizar a distribuição normal.\n",
        ">\n",
        "> - Para um tamanho de amostra menor que 30 elementos, e se pudermos afirmar que a população se distribui aproximadamente como uma normal e o desvio padrão populacional for desconhecido, deve-se utilizar a distribuição t de Student.\n",
        ">\n",
        "> <img src=\"https://github.com/alura-cursos/estatistica-r-testes-hipoteses/blob/main/imagens/outros/qual_distribuicao_escolher.png?raw=true\" alt=\"Diagrama para escolha da distribuição amostral adequada\">"
      ]
    },
    {
      "cell_type": "markdown",
      "metadata": {
        "id": "TyG-pkRu4V53"
      },
      "source": [
        "#### **O tamanho da amostra é maior que 30?**"
      ]
    },
    {
      "cell_type": "markdown",
      "metadata": {
        "id": "IsLfwgWj4V54"
      },
      "source": [
        "**Resposta:** Sim"
      ]
    },
    {
      "cell_type": "markdown",
      "metadata": {
        "id": "p59BCsvM4V56"
      },
      "source": [
        "#### **O desvio padrão populacional ($\\sigma$) é conhecido?**"
      ]
    },
    {
      "cell_type": "markdown",
      "metadata": {
        "id": "KIi3_H1p4V56"
      },
      "source": [
        "**Resposta:** Não. Inclusive, calculamos o desvio padrão amostral para nosso problema ($S$)"
      ]
    },
    {
      "cell_type": "markdown",
      "metadata": {
        "id": "wATFmJlAGWYf"
      },
      "source": [
        "\n",
        "\n",
        "---\n",
        "\n"
      ]
    },
    {
      "cell_type": "markdown",
      "metadata": {
        "id": "6oaj9WfBiWK8"
      },
      "source": [
        "### **Passo 3** - Fixação da significância do teste ($\\alpha$), que define as regiões de aceitação e rejeição das hipóteses (os valores mais freqüentes são 10%, 5% e 1%)\n",
        ">\n",
        ">O **nível de significância** ($\\alpha$) expressa a probabilidade de erro da estimativa. De forma complementar, o **nível de confiança** ($1 - \\alpha$) representa a probabilidade de acerto desta estimativa.\n",
        ">\n",
        ">&nbsp;\n",
        ">\n",
        "> <img src=\"https://github.com/alura-cursos/estatistica-r-testes-hipoteses/blob/main/imagens/outros/confianca_significancia.png?raw=true\" alt=\"Distribuição normal com as áreas do nível de confiança e significância\" width=\"460\">\n",
        ">\n",
        ">&nbsp;\n",
        ">\n",
        "> O **nível de confiança** representa o grau de confiabilidade do resultado da estimativa estar dentro de determinado intervalo. Quando fixamos em uma pesquisa um **nível de confiança** de 95%, por exemplo, estamos assumindo que existe uma probabilidade de 95% dos resultados da pesquisa representarem bem a realidade, ou seja, estarem corretos.\n",
        ">\n",
        "> &nbsp;\n",
        ">\n",
        "> <img src=\"https://github.com/alura-cursos/estatistica-r-testes-hipoteses/blob/main/imagens/outros/teste_uni_bicaudal.png?raw=true\" alt=\"Distribuições normais unicaudal inferior, bicaudal e unicaudal superior com as faixas de rejeição e aceitação de H0\">"
      ]
    },
    {
      "cell_type": "markdown",
      "metadata": {
        "id": "9fV9q58I6StS"
      },
      "source": [
        "> **Documentações:**\n",
        ">\n",
        "> - [**Normal**](https://www.rdocumentation.org/packages/stats/versions/3.6.2/topics/Normal)\n"
      ]
    },
    {
      "cell_type": "code",
      "execution_count": null,
      "metadata": {
        "id": "i8zlU3-U7G0k",
        "vscode": {
          "languageId": "r"
        }
      },
      "outputs": [],
      "source": [
        "significancia <- 0.05\n",
        "confianca <- 1 - significancia"
      ]
    },
    {
      "cell_type": "markdown",
      "metadata": {
        "id": "diEuFs-o7HTY"
      },
      "source": [
        "> O nível de significância é a **probabilidade máxima tolerável** pelo tomador de decisão para cometer o **Erro tipo I**."
      ]
    },
    {
      "cell_type": "code",
      "execution_count": null,
      "metadata": {
        "colab": {
          "base_uri": "https://localhost:8080/",
          "height": 34
        },
        "id": "GdyoBuGC6MA4",
        "outputId": "32bfffa8-1209-4bac-a09c-5de7bddc7e31",
        "vscode": {
          "languageId": "r"
        }
      },
      "outputs": [
        {
          "data": {
            "text/html": [
              "0.975"
            ],
            "text/latex": [
              "0.975"
            ],
            "text/markdown": [
              "0.975"
            ],
            "text/plain": [
              "[1] 0.975"
            ]
          },
          "metadata": {},
          "output_type": "display_data"
        }
      ],
      "source": [
        "probabilidade <- (0.5 + (confianca / 2))\n",
        "probabilidade"
      ]
    },
    {
      "cell_type": "markdown",
      "metadata": {
        "id": "wTBo9Us2ACOp"
      },
      "source": [
        "#### **Obtendo $z_{\\alpha/2}$**"
      ]
    },
    {
      "cell_type": "code",
      "execution_count": null,
      "metadata": {
        "colab": {
          "base_uri": "https://localhost:8080/",
          "height": 34
        },
        "id": "2EBmc2S3_7I4",
        "outputId": "0b104e2f-82f7-4053-d78c-a00da873de3d",
        "vscode": {
          "languageId": "r"
        }
      },
      "outputs": [
        {
          "data": {
            "text/html": [
              "1.95996398454005"
            ],
            "text/latex": [
              "1.95996398454005"
            ],
            "text/markdown": [
              "1.95996398454005"
            ],
            "text/plain": [
              "[1] 1.959964"
            ]
          },
          "metadata": {},
          "output_type": "display_data"
        }
      ],
      "source": [
        "z_alpha_2 <- qnorm(probabilidade)\n",
        "z_alpha_2"
      ]
    },
    {
      "cell_type": "markdown",
      "metadata": {
        "id": "EzmVzstS5RiZ"
      },
      "source": [
        "<img src=\"https://github.com/alura-cursos/estatistica-r-testes-hipoteses/blob/main/imagens/outros/teste_z_bicaudal_5%25.png?raw=true\" alt=\"Distribuição normal (Z) com 5% de significância\" width=\"460\">"
      ]
    },
    {
      "cell_type": "markdown",
      "metadata": {
        "id": "WxWi8bOGGYh4"
      },
      "source": [
        "\n",
        "\n",
        "---\n",
        "\n"
      ]
    },
    {
      "cell_type": "markdown",
      "metadata": {
        "id": "NdwenKBX7GTA"
      },
      "source": [
        "### **Passo 4** - cálculo da estatística-teste e verificação desse valor com as áreas de aceitação e rejeição do teste\n",
        "\n",
        "> ### <font color='green'>Pontos importantes</font>\n",
        "> - Nos testes paramétricos, é a distância relativa entre a estatística amostral e o valor alegado como provável.\n",
        "> - Aqui, são obtidas as estatísticas amostrais necessárias à execução do teste (média, desvio-padrão, graus de liberdade etc.)\n",
        "\n",
        "Para o nosso caso, aplicando um Teste Z:\n",
        "\n",
        "### $$z = \\frac{\\bar{x} - \\mu_0}{\\frac{s}{\\sqrt{n}}}$$\n",
        "\n",
        "onde,\n",
        "* $\\bar{x}$ = media amostral\n",
        "* $\\mu_0$ = média populacional sob $H_0$\n",
        "* $s$ = desvio padrão amostral\n",
        "* $n$ = tamanho da amostra"
      ]
    },
    {
      "cell_type": "code",
      "execution_count": null,
      "metadata": {
        "colab": {
          "base_uri": "https://localhost:8080/",
          "height": 34
        },
        "id": "JtHwW5zXGEqC",
        "outputId": "715c238b-0851-493a-d2f0-ac6cf2ddf882",
        "vscode": {
          "languageId": "r"
        }
      },
      "outputs": [
        {
          "data": {
            "text/html": [
              "5.10955977599187"
            ],
            "text/latex": [
              "5.10955977599187"
            ],
            "text/markdown": [
              "5.10955977599187"
            ],
            "text/plain": [
              "[1] 5.10956"
            ]
          },
          "metadata": {},
          "output_type": "display_data"
        }
      ],
      "source": [
        "z <- (media_amostra - media) / (desvio_padrao_amostra / sqrt(n))\n",
        "z"
      ]
    },
    {
      "cell_type": "markdown",
      "metadata": {
        "id": "E6sV_8ky7NuF"
      },
      "source": [
        "<img src=\"https://github.com/alura-cursos/estatistica-r-testes-hipoteses/blob/main/imagens/outros/teste_z_bicaudal_problema.png?raw=true\" alt=\"Distribuição normal (Z) com 5% de significância e a estatística de teste de z = 5,11\" width=\"460\">"
      ]
    },
    {
      "cell_type": "markdown",
      "metadata": {
        "id": "IAvTWRM4GcNl"
      },
      "source": [
        "\n",
        "\n",
        "---\n",
        "\n"
      ]
    },
    {
      "cell_type": "markdown",
      "metadata": {
        "id": "mVVAqo4EGo3h"
      },
      "source": [
        "### **Passo 5** - Aceitação ou rejeição da hipótese nula\n",
        "\n",
        "> ### <font color='green'>Pontos importantes</font>\n",
        ">\n",
        "> - No caso do intervalo de aceitação conter a estatística-teste, aceita-se $H_0$ como estatisticamente válido e rejeita-se $H_1$ como tal.\n",
        ">\n",
        "> - No caso do intervalo de aceitação **não** conter a estatística-teste, rejeita-se $H_0$ e aceita-se $H_1$ como provavelmente verdadeira.\n",
        ">\n",
        "> - Podemos verificar a aceitação também a partir do p-valor: se menor ou igual que $\\alpha$, rejeita-se $H_0$."
      ]
    },
    {
      "cell_type": "markdown",
      "metadata": {
        "id": "k2tqGvVx7Zjh"
      },
      "source": [
        "<img src=\"https://github.com/alura-cursos/estatistica-r-testes-hipoteses/blob/main/imagens/outros/teste_z.png?raw=true\" alt=\"Tabela do Teste Z com as hipóteses, estatísticas de teste, valor crítico z e p-valor\">"
      ]
    },
    {
      "cell_type": "markdown",
      "metadata": {
        "id": "M7mJsCiHH1l1"
      },
      "source": [
        "### <font color='green'>Critério do valor crítico</font>\n",
        "> ### Teste Z Bicaudal\n",
        ">\n",
        "> ### Rejeitar $H_0$ se $z \\leq -z_{\\alpha/2}$ ou se $z \\geq z_{\\alpha/2}$"
      ]
    },
    {
      "cell_type": "code",
      "execution_count": null,
      "metadata": {
        "colab": {
          "base_uri": "https://localhost:8080/",
          "height": 34
        },
        "id": "msV11Dia7GDw",
        "outputId": "82347f39-7c79-4f61-904e-948efa9a5c3f",
        "vscode": {
          "languageId": "r"
        }
      },
      "outputs": [
        {
          "data": {
            "text/html": [
              "FALSE"
            ],
            "text/latex": [
              "FALSE"
            ],
            "text/markdown": [
              "FALSE"
            ],
            "text/plain": [
              "[1] FALSE"
            ]
          },
          "metadata": {},
          "output_type": "display_data"
        }
      ],
      "source": [
        "z <= -z_alpha_2"
      ]
    },
    {
      "cell_type": "code",
      "execution_count": null,
      "metadata": {
        "colab": {
          "base_uri": "https://localhost:8080/",
          "height": 34
        },
        "id": "pMyvngArITlu",
        "outputId": "31544fbb-19b1-45d8-e50b-80371c9b7dae",
        "vscode": {
          "languageId": "r"
        }
      },
      "outputs": [
        {
          "data": {
            "text/html": [
              "TRUE"
            ],
            "text/latex": [
              "TRUE"
            ],
            "text/markdown": [
              "TRUE"
            ],
            "text/plain": [
              "[1] TRUE"
            ]
          },
          "metadata": {},
          "output_type": "display_data"
        }
      ],
      "source": [
        "z >= z_alpha_2"
      ]
    },
    {
      "cell_type": "code",
      "execution_count": null,
      "metadata": {
        "colab": {
          "base_uri": "https://localhost:8080/",
          "height": 34
        },
        "id": "jZVQw-GnIXOG",
        "outputId": "ee1b6342-aeca-43b9-c22c-33aef75049de",
        "vscode": {
          "languageId": "r"
        }
      },
      "outputs": [
        {
          "data": {
            "text/html": [
              "'Rejeitar H0'"
            ],
            "text/latex": [
              "'Rejeitar H0'"
            ],
            "text/markdown": [
              "'Rejeitar H0'"
            ],
            "text/plain": [
              "[1] \"Rejeitar H0\""
            ]
          },
          "metadata": {},
          "output_type": "display_data"
        }
      ],
      "source": [
        "if(z <= -z_alpha_2 || z >= z_alpha_2){\n",
        "    'Rejeitar H0'\n",
        "}else{\n",
        "    'Aceitar H0'\n",
        "}"
      ]
    },
    {
      "cell_type": "markdown",
      "metadata": {
        "id": "3ca72nU2ImAo"
      },
      "source": [
        "Com base nesses resultados, podemos concluir que:\n",
        "\n",
        "* Como a média amostral $\\bar{x}$ é significativamente maior que 500 ml para um nível de significância de 5%, rejeitamos $H_0$.\n",
        "\n",
        "* Portanto, devem ser tomadas providências para ajustar o maquinário que preenche as embalagens que está produzindo volumes médios significativamente diferentes de 500 ml."
      ]
    },
    {
      "cell_type": "markdown",
      "metadata": {
        "id": "oEUQMHlZJshn"
      },
      "source": [
        "### <font color='green'>Critério do $p_{value}$</font>\n",
        "\n",
        "> ### Teste Z Bicaudal\n",
        ">\n",
        "> ### Rejeitar $H_0$ se o $p_{value} \\leq \\alpha$"
      ]
    },
    {
      "cell_type": "code",
      "execution_count": null,
      "metadata": {
        "colab": {
          "base_uri": "https://localhost:8080/",
          "height": 34
        },
        "id": "nec7KScIJqLI",
        "outputId": "8c777306-9f7a-4879-eef3-e7865aea90b4",
        "vscode": {
          "languageId": "r"
        }
      },
      "outputs": [
        {
          "data": {
            "text/html": [
              "3.22910317152036e-07"
            ],
            "text/latex": [
              "3.22910317152036e-07"
            ],
            "text/markdown": [
              "3.22910317152036e-07"
            ],
            "text/plain": [
              "[1] 3.229103e-07"
            ]
          },
          "metadata": {},
          "output_type": "display_data"
        }
      ],
      "source": [
        "p_valor <- 2 * (1 - pnorm(z))\n",
        "p_valor"
      ]
    },
    {
      "cell_type": "markdown",
      "metadata": {
        "id": "NPA2yW1fQfwd"
      },
      "source": [
        "> o **p-valor** é a probabilidade de obter uma estatística-teste tão extrema (desfavorável) quanto a observada na amostra, sob a suposição de que a $H_0$ seja verdadeira.\n",
        ">\n",
        "> Ele **não** indica a probabilidade de que a hipótese nula seja verdadeira ou falsa, mas sim se há ou não evidências para questionar a $H_0$. Quanto menor o p-valor, há mais evidências para rejeitar a hipótese nula.\n",
        "\n"
      ]
    },
    {
      "cell_type": "code",
      "execution_count": null,
      "metadata": {
        "colab": {
          "base_uri": "https://localhost:8080/",
          "height": 34
        },
        "id": "RcP0SI5_LIv4",
        "outputId": "f5739cc4-264f-4e37-f5f2-25ea3d133d61",
        "vscode": {
          "languageId": "r"
        }
      },
      "outputs": [
        {
          "data": {
            "text/html": [
              "TRUE"
            ],
            "text/latex": [
              "TRUE"
            ],
            "text/markdown": [
              "TRUE"
            ],
            "text/plain": [
              "[1] TRUE"
            ]
          },
          "metadata": {},
          "output_type": "display_data"
        }
      ],
      "source": [
        "p_valor <= significancia"
      ]
    },
    {
      "cell_type": "markdown",
      "metadata": {
        "id": "viKkEgRTLOOu"
      },
      "source": [
        "Conseguimos responder ao nosso problema passando por todas etapas de um teste básico de hipóteses. Nós também calculamos por meio de fórmulas os valores críticos e estatísticas para aceitação ou rejeição da hipótese nula de um teste z bicaudal.\n",
        "\n",
        "Mas que tal trabalharmos com outros testes paramétricos? E, também, será que existem funções no R que facilitam a nossa análise?"
      ]
    },
    {
      "cell_type": "markdown",
      "metadata": {
        "id": "tYqS0qXlQRoh"
      },
      "source": [
        "# **2. Testes paramétricos: bicaudal e unicaudal**\n",
        "\n",
        "---\n",
        "\n"
      ]
    },
    {
      "cell_type": "markdown",
      "metadata": {
        "id": "oq1IlkxtQmta"
      },
      "source": [
        "Os **testes paramétricos** são métodos estatísticos que fazem suposições sobre os parâmetros da população de onde os dados foram extraídos. Esses testes são amplamente utilizados quando os dados seguem uma distribuição conhecida, como a distribuição normal, e quando certas condições, como homogeneidade de variâncias, são atendidas.\n",
        "\n",
        "Aqui vamos trabalhar com alguns deles como:\n",
        "1. **Teste Z**\n",
        "2. **Teste t de Student**\n",
        "3. **Teste Z de uma proporção**\n",
        "\n",
        "Esses testes são de suma importância para a análise de dados e a tomada de decisões baseadas em evidências. Vamos juntos explorar exemplos práticos de cada um deles."
      ]
    },
    {
      "cell_type": "markdown",
      "metadata": {
        "id": "ovBt4ToMQ-O0"
      },
      "source": [
        "## **2.1 Teste t de Student**\n",
        "\n",
        "---\n",
        "\n"
      ]
    },
    {
      "cell_type": "markdown",
      "metadata": {
        "id": "r6BuqFhCJ47W"
      },
      "source": [
        "Aprendemos anteriormente, que o **Teste Z** é utilizado para comparar a média de uma amostra com a média populacional, quando a distribuição é normal, o desvio padrão da população é ou não conhecido e o tamanho da amostra é maior que 30.\n",
        "\n",
        "Vamos ver outro tipo de teste chamado **Teste t**."
      ]
    },
    {
      "cell_type": "markdown",
      "metadata": {
        "id": "CniVNlaGmAwY"
      },
      "source": [
        "### <font color=\"#E23155\" face=\"Verdana\">Demanda 4: Investigando a altura dos funcionários</font>"
      ]
    },
    {
      "cell_type": "markdown",
      "metadata": {
        "id": "1meTZyY9mAwY"
      },
      "source": [
        "Uma empresa coletou as alturas de **25 funcionários** e decidiu investigar se a altura média dos seus colaboradores é diferente da altura média do brasileiro, que é de **167 cm**. A altura é uma variável importante para as normas que visam ergonomia e saúde ocupacional, pois pode influenciar o design de estações de trabalho e a escolha de equipamentos.\n",
        "\n",
        "A partir dos dados coletados, a empresa quer responder à seguinte pergunta:\n",
        "\n",
        "* A altura média dos funcionários é diferente da altura média nacional de 167 cm?\n",
        "\n",
        "> Vamos considerar um **nível de significância de 5%** no problema."
      ]
    },
    {
      "cell_type": "markdown",
      "metadata": {
        "id": "uiLFkOFrmAwY"
      },
      "source": [
        "### <font color=\"#E23155\" face=\"Verdana\">Solução:</font>"
      ]
    },
    {
      "cell_type": "markdown",
      "metadata": {
        "id": "UZkiPmF6K3X8"
      },
      "source": [
        "Para solucionar este problema, precisaremos realizar um novo teste chamado de **Teste t** para comparar a média amostral com um valor de referência (**167 cm**).\n",
        "\n",
        "### **Distribuição t de Student**\n",
        "\n",
        "A **distribuição t de Student** é uma distribuição de probabilidade utilizada para inferência estatística quando o tamanho da amostra é pequeno e a variância populacional é desconhecida.\n",
        "\n",
        "O **teste t** pode ser aplicado em diferentes contextos:\n",
        "\n",
        "* Comparação da média amostral com a populacional para amostras pequenas\n",
        "* Comparação de médias entre grupos independentes (**teste t para amostras independentes**)\n",
        "* Comparação de médias antes e depois de uma intervenção no mesmo grupo (**teste t pareado**).\n",
        "\n",
        "A imagem abaixo apresenta a **Distribuição t de Student** com as áreas de aceitação e rejeição da hipótese nula.\n",
        "\n",
        "<img src=\"https://github.com/alura-cursos/estatistica-r-testes-hipoteses/blob/main/imagens/outros/teste_t_bicaudal.png?raw=true\" alt=\"Distribuição normal (Z) com 5% de significância\" width=\"460\">"
      ]
    },
    {
      "cell_type": "markdown",
      "metadata": {
        "id": "6YIZlHHZK3X9"
      },
      "source": [
        "Antes de aplicar o teste, precisamos verificar alguns de seus pressupostos:\n",
        "\n",
        "> ### <font color='green'>Pressupostos</font>\n",
        ">\n",
        "> 1. A amostra deve seguir uma distribuição normal ou ser aleatoriamente selecionada de uma população normalmente distribuída.\n",
        ">\n",
        "> 2. As observações devem ser independentes entre si.\n",
        "\n",
        "\n"
      ]
    },
    {
      "cell_type": "markdown",
      "metadata": {
        "id": "foj1XfJamAwY"
      },
      "source": [
        "Para solucionar este problema, antes de aplicar o teste de hipóteses, é necessário verificar se os dados seguem uma **distribuição normal**, uma das premissas do teste que iremos aplicar.\n"
      ]
    },
    {
      "cell_type": "markdown",
      "metadata": {
        "id": "sNTMWC6xoLij"
      },
      "source": [
        "### **Passo 1** - Verificação da normalidade dos dados\n",
        "Como aprendemos anteriormente utilizaremos o teste Shapiro-Wilk para testar a normalidade dos dados."
      ]
    },
    {
      "cell_type": "code",
      "execution_count": null,
      "metadata": {
        "id": "SwEXFsAKpAQD",
        "vscode": {
          "languageId": "r"
        }
      },
      "outputs": [],
      "source": [
        "# Dados das alturas dos funcionários (em cm)\n",
        "alturas <- c(165, 168, 170, 166, 167, 169, 171, 164, 167, 168,\n",
        "             166, 169, 170, 165, 167, 168, 169, 166, 167, 170,\n",
        "             165, 168, 167, 166, 169)"
      ]
    },
    {
      "cell_type": "code",
      "execution_count": null,
      "metadata": {
        "colab": {
          "base_uri": "https://localhost:8080/",
          "height": 104
        },
        "id": "Shoj5LLFpEJm",
        "outputId": "a59efae9-12dd-4e7f-b3c0-b168b5c02ec6",
        "vscode": {
          "languageId": "r"
        }
      },
      "outputs": [
        {
          "data": {
            "text/plain": [
              "\n",
              "\tShapiro-Wilk normality test\n",
              "\n",
              "data:  alturas\n",
              "W = 0.96508, p-value = 0.5246\n"
            ]
          },
          "metadata": {},
          "output_type": "display_data"
        }
      ],
      "source": [
        "shapiro.test(alturas)"
      ]
    },
    {
      "cell_type": "markdown",
      "metadata": {
        "id": "8iETLTuFpeFC"
      },
      "source": [
        "Como o p-valor ($p_{value} = 0.5246$) é maior que o nível de significância ($\\alpha = 0.05$), não rejeitamos a hipótese de normalidade. Portanto, os dados seguem uma distribuição normal, e podemos prosseguir com o teste."
      ]
    },
    {
      "cell_type": "markdown",
      "metadata": {
        "id": "nYp-ydLHql-g"
      },
      "source": [
        "\n",
        "\n",
        "---\n",
        "\n"
      ]
    },
    {
      "cell_type": "markdown",
      "metadata": {
        "id": "N2Zs3e_RmAwZ"
      },
      "source": [
        "### **Passo 2** - Formulação das hipóteses $H_0$ e $H_1$;\n",
        "\n",
        "#### <font color='green'>Lembre-se, a hipótese nula **sempre** contém a alegação de igualdade</font>\n",
        "> ### $H_0: \\mu = 167$\n",
        ">\n",
        "> ### $H_1: \\mu \\ne 167$"
      ]
    },
    {
      "cell_type": "markdown",
      "metadata": {
        "id": "XbZFKbTfq4aD"
      },
      "source": [
        "Este é um teste bicaudal, pois estamos interessados em detectar diferenças em ambas as direções (superior ou inferior)."
      ]
    },
    {
      "cell_type": "markdown",
      "metadata": {
        "id": "tO8gbsdgmAwZ"
      },
      "source": [
        "\n",
        "\n",
        "---\n",
        "\n"
      ]
    },
    {
      "cell_type": "markdown",
      "metadata": {
        "id": "k_oLdYXlmAwZ"
      },
      "source": [
        "### **Passo 3** - Escolha da distribuição amostral adequada\n",
        "\n",
        "<img src=\"https://github.com/alura-cursos/estatistica-r-testes-hipoteses/blob/main/imagens/outros/qual_distribuicao_escolher.png?raw=true\" alt=\"Diagrama para escolha da distribuição amostral adequada\">"
      ]
    },
    {
      "cell_type": "markdown",
      "metadata": {
        "id": "A1o6CfE8mAwZ"
      },
      "source": [
        "#### **O tamanho da amostra é maior que 30?**"
      ]
    },
    {
      "cell_type": "markdown",
      "metadata": {
        "id": "iPew-MnamAwa"
      },
      "source": [
        "**Resposta:** Não"
      ]
    },
    {
      "cell_type": "markdown",
      "metadata": {
        "id": "tTDTrsvkrCBC"
      },
      "source": [
        "#### **É possível afirmar que a população se distribui como uma normal?**"
      ]
    },
    {
      "cell_type": "markdown",
      "metadata": {
        "id": "zixy9PLnrB74"
      },
      "source": [
        "**Resposta:** Sim. Fizemos o teste de Shapiro-Wilk para confirmar."
      ]
    },
    {
      "cell_type": "markdown",
      "metadata": {
        "id": "qsQpQInQmAwa"
      },
      "source": [
        "#### **O desvio padrão populacional ($\\sigma$) é conhecido?**"
      ]
    },
    {
      "cell_type": "markdown",
      "metadata": {
        "id": "mpdb71iNmAwa"
      },
      "source": [
        "**Resposta:** Não"
      ]
    },
    {
      "cell_type": "markdown",
      "metadata": {
        "id": "YzZ_dp8cmAwa"
      },
      "source": [
        "### **Passo 4** - Fixação da significância do teste ($\\alpha$)\n"
      ]
    },
    {
      "cell_type": "markdown",
      "metadata": {
        "id": "hh7RLyTMoTBy"
      },
      "source": [
        "Vamos então realizar um teste t bicaudal, que compara a média amostral com o valor de referência (167 cm). O nível de significância adotado é de 5%"
      ]
    },
    {
      "cell_type": "code",
      "execution_count": null,
      "metadata": {
        "id": "mrwVQQYEmAwa",
        "vscode": {
          "languageId": "r"
        }
      },
      "outputs": [],
      "source": [
        "media <- 167\n",
        "n <- 25\n",
        "df <- n - 1\n",
        "significancia <- 0.05\n",
        "confianca <- 1 - significancia"
      ]
    },
    {
      "cell_type": "markdown",
      "metadata": {
        "id": "NJb2ZPilmAwa"
      },
      "source": [
        "#### **Obtendo $t_{\\alpha/2}$**"
      ]
    },
    {
      "cell_type": "code",
      "execution_count": null,
      "metadata": {
        "colab": {
          "base_uri": "https://localhost:8080/",
          "height": 34
        },
        "id": "_QGrfuNjkzsp",
        "outputId": "e616750e-02cc-49d2-8a78-a88e334e901c",
        "vscode": {
          "languageId": "r"
        }
      },
      "outputs": [
        {
          "data": {
            "text/html": [
              "0.975"
            ],
            "text/latex": [
              "0.975"
            ],
            "text/markdown": [
              "0.975"
            ],
            "text/plain": [
              "[1] 0.975"
            ]
          },
          "metadata": {},
          "output_type": "display_data"
        }
      ],
      "source": [
        "probabilidade <- (0.5 + (confianca / 2))\n",
        "probabilidade"
      ]
    },
    {
      "cell_type": "code",
      "execution_count": null,
      "metadata": {
        "colab": {
          "base_uri": "https://localhost:8080/",
          "height": 34
        },
        "id": "F270DFt_mAwa",
        "outputId": "f7153ef2-0b4d-4417-b681-8446a14050fc",
        "vscode": {
          "languageId": "r"
        }
      },
      "outputs": [
        {
          "data": {
            "text/html": [
              "2.06389856162803"
            ],
            "text/latex": [
              "2.06389856162803"
            ],
            "text/markdown": [
              "2.06389856162803"
            ],
            "text/plain": [
              "[1] 2.063899"
            ]
          },
          "metadata": {},
          "output_type": "display_data"
        }
      ],
      "source": [
        "t_alpha_2 <- qt(probabilidade, df)\n",
        "t_alpha_2"
      ]
    },
    {
      "cell_type": "markdown",
      "metadata": {
        "id": "eE0wuF7umAwb"
      },
      "source": [
        "<img src=\"https://github.com/alura-cursos/estatistica-r-testes-hipoteses/blob/main/imagens/outros/teste_t_bicaudal_5%25.png?raw=true\" alt=\"Distribuição normal com as áreas de rejeição e aceitação de H0\" width=\"460\">"
      ]
    },
    {
      "cell_type": "markdown",
      "metadata": {
        "id": "qFJkyEkemAwb"
      },
      "source": [
        "\n",
        "\n",
        "---\n",
        "\n"
      ]
    },
    {
      "cell_type": "markdown",
      "metadata": {
        "id": "K-7JzXDamAwb"
      },
      "source": [
        "### **Passo 4** - cálculo da estatística-teste e verificação desse valor com as áreas de aceitação e rejeição do teste\n",
        "\n",
        "Para o nosso caso, aplicando um Teste t:\n",
        "\n",
        "### $$t = \\frac{\\bar{x} - \\mu_0}{\\frac{s}{\\sqrt{n}}}$$\n",
        "\n",
        "onde,\n",
        "* $\\bar{x}$ = media amostral\n",
        "* $\\mu_0$ = média populacional sob $H_0$\n",
        "* $s$ = desvio padrão amostral\n",
        "* $n$ = tamanho da amostra\n"
      ]
    },
    {
      "cell_type": "markdown",
      "metadata": {
        "id": "pseqHvRqmAwb"
      },
      "source": [
        "> **Documentações:**\n",
        ">\n",
        "> - [**TDist**](https://www.rdocumentation.org/packages/stats/versions/3.6.2/topics/TDist)\n"
      ]
    },
    {
      "cell_type": "code",
      "execution_count": null,
      "metadata": {
        "colab": {
          "base_uri": "https://localhost:8080/",
          "height": 34
        },
        "id": "xDj3nw7wuvs2",
        "outputId": "eacc9219-ff6f-4294-8371-b3fdc65312e7",
        "vscode": {
          "languageId": "r"
        }
      },
      "outputs": [
        {
          "data": {
            "text/html": [
              "167.48"
            ],
            "text/latex": [
              "167.48"
            ],
            "text/markdown": [
              "167.48"
            ],
            "text/plain": [
              "[1] 167.48"
            ]
          },
          "metadata": {},
          "output_type": "display_data"
        }
      ],
      "source": [
        "media_amostral <- mean(alturas)\n",
        "media_amostral"
      ]
    },
    {
      "cell_type": "code",
      "execution_count": null,
      "metadata": {
        "colab": {
          "base_uri": "https://localhost:8080/",
          "height": 34
        },
        "id": "XPWV-vt_4X1f",
        "outputId": "96959a2c-094d-4e5d-80b0-7d35a9d464be",
        "vscode": {
          "languageId": "r"
        }
      },
      "outputs": [
        {
          "data": {
            "text/html": [
              "1.85112578358864"
            ],
            "text/latex": [
              "1.85112578358864"
            ],
            "text/markdown": [
              "1.85112578358864"
            ],
            "text/plain": [
              "[1] 1.851126"
            ]
          },
          "metadata": {},
          "output_type": "display_data"
        }
      ],
      "source": [
        "desvio_padrao_amostral <- sd(alturas)\n",
        "desvio_padrao_amostral"
      ]
    },
    {
      "cell_type": "code",
      "execution_count": null,
      "metadata": {
        "colab": {
          "base_uri": "https://localhost:8080/",
          "height": 34
        },
        "id": "z4DD7yWpmAwb",
        "outputId": "3ee88617-5695-493d-cf1c-a86bd1af5808",
        "vscode": {
          "languageId": "r"
        }
      },
      "outputs": [
        {
          "data": {
            "text/html": [
              "1.29650833091809"
            ],
            "text/latex": [
              "1.29650833091809"
            ],
            "text/markdown": [
              "1.29650833091809"
            ],
            "text/plain": [
              "[1] 1.296508"
            ]
          },
          "metadata": {},
          "output_type": "display_data"
        }
      ],
      "source": [
        "t <- (media_amostral - media) / (desvio_padrao_amostral / sqrt(n))\n",
        "t"
      ]
    },
    {
      "cell_type": "markdown",
      "metadata": {
        "id": "g83NaYpKmAwc"
      },
      "source": [
        "<img src=\"https://github.com/alura-cursos/estatistica-r-testes-hipoteses/blob/main/imagens/outros/teste_t_bicaudal_problema.png?raw=true\" alt=\"Distribuição normal (Z) com 5% de significância e a estatística de teste de z = 5,11\" width=\"460\">"
      ]
    },
    {
      "cell_type": "markdown",
      "metadata": {
        "id": "ZE61UOyzmAwb"
      },
      "source": [
        "\n",
        "\n",
        "---\n",
        "\n"
      ]
    },
    {
      "cell_type": "markdown",
      "metadata": {
        "id": "3rs7KW_UmAwb"
      },
      "source": [
        "### **Passo 5** - Aceitação ou rejeição da hipótese nula"
      ]
    },
    {
      "cell_type": "markdown",
      "metadata": {
        "id": "XuPJZpT-mAwc"
      },
      "source": [
        "<img src=\"https://github.com/alura-cursos/estatistica-r-testes-hipoteses/blob/main/imagens/outros/teste_t.png?raw=true\" alt=\"Tabela do Teste Z com as hipóteses, estatísticas de teste, valor crítico z e p-valor\">"
      ]
    },
    {
      "cell_type": "markdown",
      "metadata": {
        "id": "cmGiqnvHmAwc"
      },
      "source": [
        "### <font color='green'>Critério do valor crítico</font>\n",
        "> ### Teste t Bicaudal\n",
        ">\n",
        "> ### Rejeitar $H_0$ se $t \\leq -t_{\\alpha/2}$ ou se $t \\geq t_{\\alpha/2}$"
      ]
    },
    {
      "cell_type": "code",
      "execution_count": null,
      "metadata": {
        "colab": {
          "base_uri": "https://localhost:8080/",
          "height": 34
        },
        "id": "rN4hTyjfmAwc",
        "outputId": "27ef340a-486b-4077-a20d-54f39440d36d",
        "vscode": {
          "languageId": "r"
        }
      },
      "outputs": [
        {
          "data": {
            "text/html": [
              "FALSE"
            ],
            "text/latex": [
              "FALSE"
            ],
            "text/markdown": [
              "FALSE"
            ],
            "text/plain": [
              "[1] FALSE"
            ]
          },
          "metadata": {},
          "output_type": "display_data"
        }
      ],
      "source": [
        "t <= -t_alpha_2"
      ]
    },
    {
      "cell_type": "code",
      "execution_count": null,
      "metadata": {
        "colab": {
          "base_uri": "https://localhost:8080/",
          "height": 34
        },
        "id": "QGdwSaQtmAwc",
        "outputId": "c3160fd1-5b12-47c3-fa02-a0fbf983ad89",
        "vscode": {
          "languageId": "r"
        }
      },
      "outputs": [
        {
          "data": {
            "text/html": [
              "FALSE"
            ],
            "text/latex": [
              "FALSE"
            ],
            "text/markdown": [
              "FALSE"
            ],
            "text/plain": [
              "[1] FALSE"
            ]
          },
          "metadata": {},
          "output_type": "display_data"
        }
      ],
      "source": [
        "t >= t_alpha_2"
      ]
    },
    {
      "cell_type": "code",
      "execution_count": null,
      "metadata": {
        "colab": {
          "base_uri": "https://localhost:8080/",
          "height": 34
        },
        "id": "PN6hW8g01ZUo",
        "outputId": "75d8a2ee-fb48-4e5f-fb73-3665d9132458",
        "vscode": {
          "languageId": "r"
        }
      },
      "outputs": [
        {
          "data": {
            "text/html": [
              "'Aceitar H0'"
            ],
            "text/latex": [
              "'Aceitar H0'"
            ],
            "text/markdown": [
              "'Aceitar H0'"
            ],
            "text/plain": [
              "[1] \"Aceitar H0\""
            ]
          },
          "metadata": {},
          "output_type": "display_data"
        }
      ],
      "source": [
        "if(t <= -t_alpha_2 || t >= t_alpha_2){\n",
        "    'Rejeitar H0'\n",
        "}else{\n",
        "    'Aceitar H0'\n",
        "}"
      ]
    },
    {
      "cell_type": "markdown",
      "metadata": {
        "id": "kJ8XxB6fmAwc"
      },
      "source": [
        "### <font color='green'>Critério do $p_{value}$</font>\n",
        "\n",
        "> ### Teste t Bicaudal\n",
        ">\n",
        "> ### Rejeitar $H_0$ se o $p_{value} \\leq \\alpha$"
      ]
    },
    {
      "cell_type": "code",
      "execution_count": null,
      "metadata": {
        "colab": {
          "base_uri": "https://localhost:8080/",
          "height": 34
        },
        "id": "BE6aHOrX1sKS",
        "outputId": "f1c95ada-6f75-4fa2-eedf-75820558fe6d",
        "vscode": {
          "languageId": "r"
        }
      },
      "outputs": [
        {
          "data": {
            "text/html": [
              "0.207128614832361"
            ],
            "text/latex": [
              "0.207128614832361"
            ],
            "text/markdown": [
              "0.207128614832361"
            ],
            "text/plain": [
              "[1] 0.2071286"
            ]
          },
          "metadata": {},
          "output_type": "display_data"
        }
      ],
      "source": [
        "p_valor <- 2 * pt(-t, df)\n",
        "p_valor"
      ]
    },
    {
      "cell_type": "code",
      "execution_count": null,
      "metadata": {
        "colab": {
          "base_uri": "https://localhost:8080/",
          "height": 34
        },
        "id": "Yy0zNzmNmAwd",
        "outputId": "1f599a27-e05f-4ef7-90c0-8c0af9ef48e8",
        "vscode": {
          "languageId": "r"
        }
      },
      "outputs": [
        {
          "data": {
            "text/html": [
              "FALSE"
            ],
            "text/latex": [
              "FALSE"
            ],
            "text/markdown": [
              "FALSE"
            ],
            "text/plain": [
              "[1] FALSE"
            ]
          },
          "metadata": {},
          "output_type": "display_data"
        }
      ],
      "source": [
        "p_valor <= significancia"
      ]
    },
    {
      "cell_type": "markdown",
      "metadata": {
        "id": "thPAF1BSmAwd"
      },
      "source": [
        "Com base nesses resultados, podemos concluir que:\n",
        "\n",
        "* Ao aplicar o **Teste t bicaudal**, obtivemos a estatística T ($t(24) = 1.30$) e o p-valor ($p_{value} = 0.207$). Como o p-valor é maior que o nível de significância ($\\alpha = 0,05$), **não rejeitamos a hipótese nula**.\n",
        "\n",
        "* Isso indica que **não há evidências estatísticas** para afirmar que a altura média dos funcionários é diferente da altura média nacional de 167 cm. Portanto, a altura dos colaboradores da empresa pode ser considerada estatisticamente igual à média do brasileiro."
      ]
    },
    {
      "cell_type": "markdown",
      "metadata": {
        "id": "mDDrYg61mAwd"
      },
      "source": [
        "Esse exemplo ilustra como o Teste t Bicaudal pode ser aplicado para comparar a média de uma amostra com um valor de referência. No próximo vídeo, vamos continuar explorando o Teste t, mas para outro tipo de comportamento."
      ]
    },
    {
      "cell_type": "markdown",
      "metadata": {
        "id": "jiHCLBQeRy4x"
      },
      "source": [
        "## **2.2 Teste t de Student unicaudal**\n",
        "\n",
        "---\n",
        "\n"
      ]
    },
    {
      "cell_type": "markdown",
      "metadata": {
        "id": "ZVhtcQj75mcG"
      },
      "source": [
        "### <font color=\"#E23155\" face=\"Verdana\">Demanda 5: Analisando a quantidade de açúcar no produto</font>"
      ]
    },
    {
      "cell_type": "markdown",
      "metadata": {
        "id": "DRRZXee75mcG"
      },
      "source": [
        "Um famoso fabricante de refrigerantes alega que uma lata de 350 ml de seu principal produto contém, **no máximo**, **37 gramas de açúcar**. Essa alegação sugere que a quantidade média de açúcar em uma lata de refrigerante deve ser **igual ou menor que 37 g**.\n",
        "\n",
        "Nós, como consultores, fomos contratados para verificar se essa alegação é válida. Para isso, coletamos uma **amostra de 25 latas** de refrigerante em diversos estabelecimentos e medimos a quantidade de açúcar em cada uma. Assumimos que a população segue uma distribuição aproximadamente normal e utilizaremos **um nível de significância de 5%** para testar a alegação do fabricante.\n",
        "\n",
        "A partir dos dados coletados, queremos responder à seguinte pergunta:\n",
        "* A quantidade média de açúcar nas latas de refrigerante é igual ou menor que 37 g, conforme alega o fabricante?"
      ]
    },
    {
      "cell_type": "markdown",
      "metadata": {
        "id": "2F47HMd85mcG"
      },
      "source": [
        "### <font color=\"#E23155\" face=\"Verdana\">Solução:</font>"
      ]
    },
    {
      "cell_type": "markdown",
      "metadata": {
        "id": "vYYbPuOs5mcH"
      },
      "source": [
        "Para solucionar este problema, realizaremos um **teste t unicaudal**, que nos permitirá avaliar se a média amostral é significativamente maior que o valor alegado pelo fabricante.\n",
        "\n",
        "\n"
      ]
    },
    {
      "cell_type": "markdown",
      "metadata": {
        "id": "AptHHmL7OuWH"
      },
      "source": [
        "> Os **testes unicaudais** verificam as variáveis em relação a um piso ou a um teto e avaliam os valores máximos ou mínimos esperados para os parâmetros em estudo e a chance de as estatísticas amostrais serem inferiores ou superiores a dado limite.\n",
        ">\n",
        "><img src=\"https://github.com/alura-cursos/estatistica-r-testes-hipoteses/blob/main/imagens/outros/teste_unicaudal_sup_inf.png?raw=true\" alt=\"Distribuição normal com as áreas de rejeição e aceitação de H0\" width=\"600\">"
      ]
    },
    {
      "cell_type": "markdown",
      "metadata": {
        "id": "bVv4oy6g5mcH"
      },
      "source": [
        "#### **Dados do problema**"
      ]
    },
    {
      "cell_type": "code",
      "execution_count": null,
      "metadata": {
        "id": "XyY0AegL5mcH",
        "vscode": {
          "languageId": "r"
        }
      },
      "outputs": [],
      "source": [
        "# Dados da amostra (tempos de entrega em minutos)\n",
        "amostra <- c(37.27, 36.42, 34.84, 34.60, 37.49,\n",
        "           36.53, 35.49, 36.90, 34.52, 37.30,\n",
        "           34.99, 36.55, 36.29, 36.06, 37.42,\n",
        "           34.47, 36.70, 35.86, 36.80, 36.92,\n",
        "           37.04, 36.39, 37.32, 36.64, 35.45)"
      ]
    },
    {
      "cell_type": "code",
      "execution_count": null,
      "metadata": {
        "colab": {
          "base_uri": "https://localhost:8080/",
          "height": 34
        },
        "id": "ybNbJoWx9U3m",
        "outputId": "c4caa1b5-2346-4c30-89fc-c7adede9dd3f",
        "vscode": {
          "languageId": "r"
        }
      },
      "outputs": [
        {
          "data": {
            "text/html": [
              "36.2504"
            ],
            "text/latex": [
              "36.2504"
            ],
            "text/markdown": [
              "36.2504"
            ],
            "text/plain": [
              "[1] 36.2504"
            ]
          },
          "metadata": {},
          "output_type": "display_data"
        }
      ],
      "source": [
        "media_amostra <- mean(amostra)\n",
        "media_amostra"
      ]
    },
    {
      "cell_type": "code",
      "execution_count": null,
      "metadata": {
        "colab": {
          "base_uri": "https://localhost:8080/",
          "height": 34
        },
        "id": "tfRay3iQ9Utq",
        "outputId": "518d65de-db00-4edc-8bb0-24b43e08bdb5",
        "vscode": {
          "languageId": "r"
        }
      },
      "outputs": [
        {
          "data": {
            "text/html": [
              "0.966753501846946"
            ],
            "text/latex": [
              "0.966753501846946"
            ],
            "text/markdown": [
              "0.966753501846946"
            ],
            "text/plain": [
              "[1] 0.9667535"
            ]
          },
          "metadata": {},
          "output_type": "display_data"
        }
      ],
      "source": [
        "desvio_padrao_amostra <- sd(amostra)\n",
        "desvio_padrao_amostra"
      ]
    },
    {
      "cell_type": "code",
      "execution_count": null,
      "metadata": {
        "id": "8QdGXX_g5mcH",
        "vscode": {
          "languageId": "r"
        }
      },
      "outputs": [],
      "source": [
        "media <- 37\n",
        "n <- 25\n",
        "df <- n - 1"
      ]
    },
    {
      "cell_type": "markdown",
      "metadata": {
        "id": "D12r5GFc5mcH"
      },
      "source": [
        "### **Passo 1** - Formulação das hipóteses $H_0$ e $H_1$;\n",
        "\n",
        "#### <font color='green'>Lembre-se, a hipótese nula **sempre** contém a alegação de igualdade</font>\n",
        "> ### $H_0: \\mu \\leq 37$\n",
        ">\n",
        "> ### $H_1: \\mu \\gt 37$"
      ]
    },
    {
      "cell_type": "markdown",
      "metadata": {
        "id": "6BWVoSdx5mcI"
      },
      "source": [
        "\n",
        "\n",
        "---\n",
        "\n"
      ]
    },
    {
      "cell_type": "markdown",
      "metadata": {
        "id": "TyqCLEdh5mcI"
      },
      "source": [
        "### **Passo 2** - Escolha da distribuição amostral adequada\n",
        "\n",
        "<img src=\"https://github.com/alura-cursos/estatistica-r-testes-hipoteses/blob/main/imagens/outros/qual_distribuicao_escolher.png?raw=true\" alt=\"Diagrama para escolha da distribuição amostral adequada\">"
      ]
    },
    {
      "cell_type": "markdown",
      "metadata": {
        "id": "YIE1NQ4e91nS"
      },
      "source": [
        "#### **O tamanho da amostra é maior que 30?**"
      ]
    },
    {
      "cell_type": "markdown",
      "metadata": {
        "id": "hq7wVVHJ91nT"
      },
      "source": [
        "**Resposta:** Não"
      ]
    },
    {
      "cell_type": "markdown",
      "metadata": {
        "id": "CuLEcJfb91nT"
      },
      "source": [
        "#### **É possível afirmar que a população se distribui como uma normal?**"
      ]
    },
    {
      "cell_type": "markdown",
      "metadata": {
        "id": "3ErSwXhW91nT"
      },
      "source": [
        "**Resposta:** Sim."
      ]
    },
    {
      "cell_type": "markdown",
      "metadata": {
        "id": "QmDW_hBT91nT"
      },
      "source": [
        "#### **O desvio padrão populacional ($\\sigma$) é conhecido?**"
      ]
    },
    {
      "cell_type": "markdown",
      "metadata": {
        "id": "tQUauI3S91nT"
      },
      "source": [
        "**Resposta:** Não"
      ]
    },
    {
      "cell_type": "markdown",
      "metadata": {
        "id": "0lyvqIt15mcI"
      },
      "source": [
        "### **Passo 3** - Fixação da significância do teste ($\\alpha$)\n"
      ]
    },
    {
      "cell_type": "code",
      "execution_count": null,
      "metadata": {
        "id": "fYc4zPk15mcI",
        "vscode": {
          "languageId": "r"
        }
      },
      "outputs": [],
      "source": [
        "significancia <- 0.05\n",
        "confianca <- 1 - significancia"
      ]
    },
    {
      "cell_type": "markdown",
      "metadata": {
        "id": "1tNSaUaC5mcJ"
      },
      "source": [
        "#### **Obtendo $t_{\\alpha}$**"
      ]
    },
    {
      "cell_type": "code",
      "execution_count": null,
      "metadata": {
        "colab": {
          "base_uri": "https://localhost:8080/",
          "height": 34
        },
        "id": "7X9lYsSl5mcJ",
        "outputId": "c148f9b8-8722-4fc4-92ee-6488fa67d2b1",
        "vscode": {
          "languageId": "r"
        }
      },
      "outputs": [
        {
          "data": {
            "text/html": [
              "1.71088207990943"
            ],
            "text/latex": [
              "1.71088207990943"
            ],
            "text/markdown": [
              "1.71088207990943"
            ],
            "text/plain": [
              "[1] 1.710882"
            ]
          },
          "metadata": {},
          "output_type": "display_data"
        }
      ],
      "source": [
        "t_alpha <- qt(confianca, df)\n",
        "t_alpha"
      ]
    },
    {
      "cell_type": "markdown",
      "metadata": {
        "id": "im5l2KFz5mcJ"
      },
      "source": [
        "<img src=\"https://github.com/alura-cursos/estatistica-r-testes-hipoteses/blob/main/imagens/outros/teste_t_unicaudal_5%25.png?raw=true\" alt=\"Distribuição normal com as áreas de rejeição e aceitação de H0\" width=\"460\">"
      ]
    },
    {
      "cell_type": "markdown",
      "metadata": {
        "id": "Ns9hqGeu5mcK"
      },
      "source": [
        "\n",
        "\n",
        "---\n",
        "\n"
      ]
    },
    {
      "cell_type": "markdown",
      "metadata": {
        "id": "uGI3cl7-5mcK"
      },
      "source": [
        "### **Passo 4** - cálculo da estatística-teste e verificação desse valor com as áreas de aceitação e rejeição do teste\n"
      ]
    },
    {
      "cell_type": "markdown",
      "metadata": {
        "id": "6xHNWwFH5mcL"
      },
      "source": [
        "> **Documentações:**\n",
        ">\n",
        "> - [**t.test**](https://www.rdocumentation.org/packages/stats/versions/3.6.2/topics/t.test)\n"
      ]
    },
    {
      "cell_type": "code",
      "execution_count": null,
      "metadata": {
        "colab": {
          "base_uri": "https://localhost:8080/",
          "height": 208
        },
        "id": "z9C_sXtd5mcL",
        "outputId": "b2af5f5f-62b1-4633-9186-3a823871768e",
        "vscode": {
          "languageId": "r"
        }
      },
      "outputs": [
        {
          "data": {
            "text/plain": [
              "\n",
              "\tOne Sample t-test\n",
              "\n",
              "data:  amostra\n",
              "t = -3.8769, df = 24, p-value = 0.9996\n",
              "alternative hypothesis: true mean is greater than 37\n",
              "95 percent confidence interval:\n",
              " 35.9196     Inf\n",
              "sample estimates:\n",
              "mean of x \n",
              "  36.2504 \n"
            ]
          },
          "metadata": {},
          "output_type": "display_data"
        }
      ],
      "source": [
        "resultado <- t.test(amostra,\n",
        "                    mu = media,\n",
        "                    alternative = \"greater\")\n",
        "resultado"
      ]
    },
    {
      "cell_type": "markdown",
      "metadata": {
        "id": "64-rP6Z85mcL"
      },
      "source": [
        "<img src=\"https://github.com/alura-cursos/estatistica-r-testes-hipoteses/blob/main/imagens/outros/teste_t_unicaudal_problema.png?raw=true\" alt=\"Distribuição normal (Z) com 5% de significância e a estatística de teste de z = 5,11\" width=\"460\">"
      ]
    },
    {
      "cell_type": "markdown",
      "metadata": {
        "id": "NQaSqJKP5mcL"
      },
      "source": [
        "\n",
        "\n",
        "---\n",
        "\n"
      ]
    },
    {
      "cell_type": "markdown",
      "metadata": {
        "id": "GWR0H-c05mcL"
      },
      "source": [
        "### **Passo 5** - Aceitação ou rejeição da hipótese nula"
      ]
    },
    {
      "cell_type": "markdown",
      "metadata": {
        "id": "jpWfh0SB5mcL"
      },
      "source": [
        "<img src=\"https://github.com/alura-cursos/estatistica-r-testes-hipoteses/blob/main/imagens/outros/teste_t_p2.png?raw=true\" alt=\"Tabela do Teste Z com as hipóteses, estatísticas de teste, valor crítico z e p-valor\">"
      ]
    },
    {
      "cell_type": "markdown",
      "metadata": {
        "id": "dss71wHS5mcM"
      },
      "source": [
        "### <font color='green'>Critério do valor crítico</font>\n",
        "> ### Teste t Unicaudal Superior\n",
        ">\n",
        "> ### Rejeitar $H_0$ se $t \\geq t_{\\alpha}$"
      ]
    },
    {
      "cell_type": "code",
      "execution_count": null,
      "metadata": {
        "colab": {
          "base_uri": "https://localhost:8080/",
          "height": 34
        },
        "id": "SBeqBhtG5mcM",
        "outputId": "fbb75367-5915-4023-b3bd-58bbcaca2ed4",
        "vscode": {
          "languageId": "r"
        }
      },
      "outputs": [
        {
          "data": {
            "text/html": [
              "<strong>t:</strong> -3.87689311995208"
            ],
            "text/latex": [
              "\\textbf{t:} -3.87689311995208"
            ],
            "text/markdown": [
              "**t:** -3.87689311995208"
            ],
            "text/plain": [
              "        t \n",
              "-3.876893 "
            ]
          },
          "metadata": {},
          "output_type": "display_data"
        }
      ],
      "source": [
        "t <- resultado$statistic\n",
        "t"
      ]
    },
    {
      "cell_type": "code",
      "execution_count": null,
      "metadata": {
        "colab": {
          "base_uri": "https://localhost:8080/",
          "height": 34
        },
        "id": "GUltDhxD5mcN",
        "outputId": "9af1f150-d599-49da-b804-6bd249c9cf27",
        "vscode": {
          "languageId": "r"
        }
      },
      "outputs": [
        {
          "data": {
            "text/html": [
              "<strong>t:</strong> FALSE"
            ],
            "text/latex": [
              "\\textbf{t:} FALSE"
            ],
            "text/markdown": [
              "**t:** FALSE"
            ],
            "text/plain": [
              "    t \n",
              "FALSE "
            ]
          },
          "metadata": {},
          "output_type": "display_data"
        }
      ],
      "source": [
        "t >= t_alpha"
      ]
    },
    {
      "cell_type": "markdown",
      "metadata": {
        "id": "OfIUEemD5mcN"
      },
      "source": [
        "### <font color='green'>Critério do $p_{value}$</font>\n",
        "\n",
        "> ### Teste t Unicaudal Superior\n",
        ">\n",
        "> ### Rejeitar $H_0$ se o $p_{value} \\leq \\alpha$"
      ]
    },
    {
      "cell_type": "code",
      "execution_count": null,
      "metadata": {
        "colab": {
          "base_uri": "https://localhost:8080/",
          "height": 34
        },
        "id": "uM7F1mjr5mcN",
        "outputId": "93344e34-2bb1-47cd-a648-d3151b32f720",
        "vscode": {
          "languageId": "r"
        }
      },
      "outputs": [
        {
          "data": {
            "text/html": [
              "0.999640617030382"
            ],
            "text/latex": [
              "0.999640617030382"
            ],
            "text/markdown": [
              "0.999640617030382"
            ],
            "text/plain": [
              "[1] 0.9996406"
            ]
          },
          "metadata": {},
          "output_type": "display_data"
        }
      ],
      "source": [
        "p_valor <- resultado$p.value\n",
        "p_valor"
      ]
    },
    {
      "cell_type": "code",
      "execution_count": null,
      "metadata": {
        "colab": {
          "base_uri": "https://localhost:8080/",
          "height": 34
        },
        "id": "U7NCfACr5mcN",
        "outputId": "e006885c-87ce-4b94-f214-22ce23c1cde6",
        "vscode": {
          "languageId": "r"
        }
      },
      "outputs": [
        {
          "data": {
            "text/html": [
              "FALSE"
            ],
            "text/latex": [
              "FALSE"
            ],
            "text/markdown": [
              "FALSE"
            ],
            "text/plain": [
              "[1] FALSE"
            ]
          },
          "metadata": {},
          "output_type": "display_data"
        }
      ],
      "source": [
        "p_valor <= significancia"
      ]
    },
    {
      "cell_type": "markdown",
      "metadata": {
        "id": "BkIC96LF5mcO"
      },
      "source": [
        "Com base nesses resultados, podemos concluir que:\n",
        "\n",
        "* Ao aplicar o **Teste t unicaudal superior**, obtivemos a estatística T ($t(24) = -3.87$) e o p-valor ($p_{value} \\approx 1$). Como o p-valor é maior que o nível de significância ($\\alpha = 0.05$), **não rejeitamos a hipótese nula**.\n",
        "\n",
        "* Portanto, com um nível de confiança de 95% não podemos rejeitar $H_0$, ou seja, a alegação do fabricante é verdadeira."
      ]
    },
    {
      "cell_type": "markdown",
      "metadata": {
        "id": "8wPUq1ZE5mcO"
      },
      "source": [
        "Esse exemplo ilustra como o teste t unicaudal pode ser aplicado para verificar alegações sobre médias populacionais. Na sequência, exploraremos um outro teste de hipóteses para comparar proporções."
      ]
    },
    {
      "cell_type": "markdown",
      "metadata": {
        "id": "2dNWTHzpQ_6n"
      },
      "source": [
        "## **2.3 Teste Z de uma proporção**\n",
        "\n",
        "---\n",
        "\n"
      ]
    },
    {
      "cell_type": "markdown",
      "metadata": {
        "id": "S6qeFDtz8bJ8"
      },
      "source": [
        "### <font color=\"#E23155\" face=\"Verdana\">Demanda 6: Analisando a qualidade de entrega dos produtos</font>"
      ]
    },
    {
      "cell_type": "markdown",
      "metadata": {
        "id": "61k_gqkQ8bJ8"
      },
      "source": [
        "Uma empresa fornece equipamentos para uma grande indústria e afirma que **menos de 10%** dos itens fornecidos estão fora das especificações técnicas. Essa alegação é importante para garantir a qualidade do produto e a satisfação do cliente.\n",
        "\n",
        "Para verificar essa afirmação, uma amostra de **200 itens** foi selecionada aleatoriamente. Desses, **18 itens** estavam fora das especificações. Agora, precisamos determinar se os dados coletados fornecem evidências suficientes para apoiar a afirmação da empresa, ao **nível de significância de 1%**.\n",
        "\n",
        "A partir dos dados coletados, queremos responder à seguinte pergunta:\n",
        "* Os dados mostram evidências para apoiar a afirmação da empresa de que menos de 10% dos equipamentos estão fora das especificações?\n"
      ]
    },
    {
      "cell_type": "markdown",
      "metadata": {
        "id": "kX2r5OIC8bJ8"
      },
      "source": [
        "### <font color=\"#E23155\" face=\"Verdana\">Solução:</font>"
      ]
    },
    {
      "cell_type": "markdown",
      "metadata": {
        "id": "DawnFJti8bJ8"
      },
      "source": [
        "Para solucionar este problema, precisaremos realizar um **Teste Z de uma proporção**, que nos permitirá comparar a proporção amostral com o valor alegado pela empresa.\n",
        "\n",
        "#### **Dados do problema**\n",
        "\n",
        "> ### <font color='green'>Pressupostos</font>\n",
        ">\n",
        "> - Teste de hipótese que tenta fazer uma afirmação a respeito da proporção da população para um certo atributo desta.\n",
        ">\n",
        "> - A variável de interesse deve assumir apenas dois valores possíveis (sucesso/fracasso, verdadeiro/falso, etc).\n",
        ">\n",
        "> - A distribuição da proporção amostral deve ser aproximadamente normal, caso não utilizar a **Distribuição Binomial**. Isso é garantido quando **o tamanho da amostra ($n$)** é grande o suficiente para satisfazer as condições:\n",
        ">     - $n \\times p_0 \\geq 10$\n",
        ">     - $n \\times (1 - p_0) \\geq 10$\n",
        ">     - sendo $p_0$ a proporção populacional sob a hipótese nula ($H_0$)\n",
        "\n"
      ]
    },
    {
      "cell_type": "code",
      "execution_count": null,
      "metadata": {
        "id": "v3Q8V7v4K6sr",
        "vscode": {
          "languageId": "r"
        }
      },
      "outputs": [],
      "source": [
        "n <- 200\n",
        "itens <- 18\n",
        "p_hat <- itens / n\n",
        "p_0 <- 0.10"
      ]
    },
    {
      "cell_type": "code",
      "execution_count": null,
      "metadata": {
        "colab": {
          "base_uri": "https://localhost:8080/",
          "height": 52
        },
        "id": "LUft6MamMGRX",
        "outputId": "5537eaa4-176a-4e39-f285-8f06e23a56dd",
        "vscode": {
          "languageId": "r"
        }
      },
      "outputs": [
        {
          "data": {
            "text/html": [
              "TRUE"
            ],
            "text/latex": [
              "TRUE"
            ],
            "text/markdown": [
              "TRUE"
            ],
            "text/plain": [
              "[1] TRUE"
            ]
          },
          "metadata": {},
          "output_type": "display_data"
        },
        {
          "data": {
            "text/html": [
              "TRUE"
            ],
            "text/latex": [
              "TRUE"
            ],
            "text/markdown": [
              "TRUE"
            ],
            "text/plain": [
              "[1] TRUE"
            ]
          },
          "metadata": {},
          "output_type": "display_data"
        }
      ],
      "source": [
        "# Testando se é aplicável o teste Z de uma proporção\n",
        "n * p_0 >= 10\n",
        "n * (1 - p_0) >= 10"
      ]
    },
    {
      "cell_type": "markdown",
      "metadata": {
        "id": "UVX7Xv3T8bJ-"
      },
      "source": [
        "### **Passo 1** - Formulação das hipóteses $H_0$ e $H_1$;\n",
        "\n",
        "#### <font color='green'>Lembre-se, a hipótese nula **sempre** contém a alegação de igualdade</font>\n",
        "> ### $H_0: p \\geq 0.1$\n",
        ">\n",
        "> ### $H_1: p \\lt 0.1$"
      ]
    },
    {
      "cell_type": "markdown",
      "metadata": {
        "id": "e9U-ZRWgC_Gh"
      },
      "source": [
        "O teste que faremos aqui é unicaudal inferior, pois estamos interessados em detectar se **a proporção é menor que o valor alegado**.\n",
        "\n",
        "<img src=\"https://github.com/alura-cursos/estatistica-r-testes-hipoteses/blob/main/imagens/outros/teste_z_unicaudal_inf.png?raw=true\" alt=\"Distribuição normal com as áreas de rejeição e aceitação de H0\" width=\"460\">"
      ]
    },
    {
      "cell_type": "markdown",
      "metadata": {
        "id": "Y9xhIlEX8bJ_"
      },
      "source": [
        "\n",
        "\n",
        "---\n",
        "\n"
      ]
    },
    {
      "cell_type": "markdown",
      "metadata": {
        "id": "qtgDizJK8bKA"
      },
      "source": [
        "### **Passo 2** - Fixação da significância do teste ($\\alpha$)"
      ]
    },
    {
      "cell_type": "markdown",
      "metadata": {
        "id": "o3sOgCsl8bKA"
      },
      "source": [
        "> **Documentações:**\n",
        ">\n",
        "> - [**Normal**](https://www.rdocumentation.org/packages/stats/versions/3.6.2/topics/Normal)\n"
      ]
    },
    {
      "cell_type": "code",
      "execution_count": null,
      "metadata": {
        "id": "qHcA5oJk8bKA",
        "vscode": {
          "languageId": "r"
        }
      },
      "outputs": [],
      "source": [
        "significancia <- 0.01\n",
        "confianca <- 1 - significancia"
      ]
    },
    {
      "cell_type": "markdown",
      "metadata": {
        "id": "Ei0wJctc8bKC"
      },
      "source": [
        "#### **Obtendo $z_{\\alpha}$**"
      ]
    },
    {
      "cell_type": "code",
      "execution_count": null,
      "metadata": {
        "colab": {
          "base_uri": "https://localhost:8080/",
          "height": 34
        },
        "id": "iB9E8aKY8bKD",
        "outputId": "7d82eff8-709c-4e6b-af56-f2a660c3acd2",
        "vscode": {
          "languageId": "r"
        }
      },
      "outputs": [
        {
          "data": {
            "text/html": [
              "2.32634787404084"
            ],
            "text/latex": [
              "2.32634787404084"
            ],
            "text/markdown": [
              "2.32634787404084"
            ],
            "text/plain": [
              "[1] 2.326348"
            ]
          },
          "metadata": {},
          "output_type": "display_data"
        }
      ],
      "source": [
        "z_alpha <- qnorm(confianca)\n",
        "z_alpha"
      ]
    },
    {
      "cell_type": "markdown",
      "metadata": {
        "id": "1p3mEt9e8bKD"
      },
      "source": [
        "<img src=\"https://github.com/alura-cursos/estatistica-r-testes-hipoteses/blob/main/imagens/outros/teste_z_unicaudal_inf_1%25.png?raw=true\" alt=\"Distribuição normal (Z) com 5% de significância\" width=\"460\">"
      ]
    },
    {
      "cell_type": "markdown",
      "metadata": {
        "id": "oLPFmmsT8bKD"
      },
      "source": [
        "\n",
        "\n",
        "---\n",
        "\n"
      ]
    },
    {
      "cell_type": "markdown",
      "metadata": {
        "id": "jp7MAGlh8bKD"
      },
      "source": [
        "### **Passo 3** - cálculo da estatística-teste e verificação desse valor com as áreas de aceitação e rejeição do teste\n",
        "\n",
        "Para o nosso caso, aplicando um Teste Z de uma proporção:\n",
        "\n",
        "### $$z = \\frac{\\hat{p} - p_0}{\\sqrt{\\frac{p_0(1- p_0)}{n}}}$$\n",
        "\n",
        "onde,\n",
        "* $\\hat{p}$ = proporção da amostra\n",
        "* $p_0$ = proporção sob $H_0$\n",
        "* $n$ = tamanho da amostra"
      ]
    },
    {
      "cell_type": "code",
      "execution_count": null,
      "metadata": {
        "id": "k33iEmXaJ4-_",
        "vscode": {
          "languageId": "r"
        }
      },
      "outputs": [],
      "source": [
        "dif_prop <- p_hat - p_0\n",
        "erro_padrao <- sqrt((p_0 * (1 - p_0)) / n)"
      ]
    },
    {
      "cell_type": "code",
      "execution_count": null,
      "metadata": {
        "colab": {
          "base_uri": "https://localhost:8080/",
          "height": 34
        },
        "id": "YPg2kdBr8bKD",
        "outputId": "b70ac5c7-c26a-4d3c-ca6a-aa1e1eabc0b0",
        "vscode": {
          "languageId": "r"
        }
      },
      "outputs": [
        {
          "data": {
            "text/html": [
              "-0.471404520791032"
            ],
            "text/latex": [
              "-0.471404520791032"
            ],
            "text/markdown": [
              "-0.471404520791032"
            ],
            "text/plain": [
              "[1] -0.4714045"
            ]
          },
          "metadata": {},
          "output_type": "display_data"
        }
      ],
      "source": [
        "z <- dif_prop / erro_padrao\n",
        "z"
      ]
    },
    {
      "cell_type": "markdown",
      "metadata": {
        "id": "cIryGUGs8bKE"
      },
      "source": [
        "<img src=\"https://github.com/alura-cursos/estatistica-r-testes-hipoteses/blob/main/imagens/outros/teste_z_unicaudal_inf_problema.png?raw=true\" alt=\"Distribuição normal (Z) com 5% de significância e a estatística de teste de z = 5,11\" width=\"460\">"
      ]
    },
    {
      "cell_type": "markdown",
      "metadata": {
        "id": "VJd3pequ8bKE"
      },
      "source": [
        "\n",
        "\n",
        "---\n",
        "\n"
      ]
    },
    {
      "cell_type": "markdown",
      "metadata": {
        "id": "cHe_Wu9G8bKE"
      },
      "source": [
        "### **Passo 4** - Aceitação ou rejeição da hipótese nula"
      ]
    },
    {
      "cell_type": "markdown",
      "metadata": {
        "id": "LWsUKBbD8bKF"
      },
      "source": [
        "### <font color='green'>Critério do valor crítico</font>\n",
        "> ### Teste Z Unicaudal Inferior\n",
        ">\n",
        "> ### Rejeitar $H_0$ se $z \\leq - z_{\\alpha}$"
      ]
    },
    {
      "cell_type": "code",
      "execution_count": null,
      "metadata": {
        "colab": {
          "base_uri": "https://localhost:8080/",
          "height": 34
        },
        "id": "fyGf540m8bKF",
        "outputId": "463812a6-4145-4ccd-d3e7-a902032a7f74",
        "vscode": {
          "languageId": "r"
        }
      },
      "outputs": [
        {
          "data": {
            "text/html": [
              "FALSE"
            ],
            "text/latex": [
              "FALSE"
            ],
            "text/markdown": [
              "FALSE"
            ],
            "text/plain": [
              "[1] FALSE"
            ]
          },
          "metadata": {},
          "output_type": "display_data"
        }
      ],
      "source": [
        "z <= -z_alpha"
      ]
    },
    {
      "cell_type": "markdown",
      "metadata": {
        "id": "Rl1RinvO8bKG"
      },
      "source": [
        "### <font color='green'>Critério do $p_{value}$</font>\n",
        "\n",
        "> ### Teste Z Unicaudal Inferior\n",
        ">\n",
        "> ### Rejeitar $H_0$ se o $p_{value} \\leq \\alpha$"
      ]
    },
    {
      "cell_type": "code",
      "execution_count": null,
      "metadata": {
        "colab": {
          "base_uri": "https://localhost:8080/",
          "height": 34
        },
        "id": "08mkj-bX8bKG",
        "outputId": "78498489-2eed-4f52-b7b1-d9b2b14ae2fe",
        "vscode": {
          "languageId": "r"
        }
      },
      "outputs": [
        {
          "data": {
            "text/html": [
              "0.318675944116968"
            ],
            "text/latex": [
              "0.318675944116968"
            ],
            "text/markdown": [
              "0.318675944116968"
            ],
            "text/plain": [
              "[1] 0.3186759"
            ]
          },
          "metadata": {},
          "output_type": "display_data"
        }
      ],
      "source": [
        "p_valor <- pnorm(z)\n",
        "p_valor"
      ]
    },
    {
      "cell_type": "code",
      "execution_count": null,
      "metadata": {
        "colab": {
          "base_uri": "https://localhost:8080/",
          "height": 34
        },
        "id": "AjrzlYSaEHpW",
        "outputId": "da8ac954-7b35-44ce-e4ca-4ba8620e5ac4",
        "vscode": {
          "languageId": "r"
        }
      },
      "outputs": [
        {
          "data": {
            "text/html": [
              "FALSE"
            ],
            "text/latex": [
              "FALSE"
            ],
            "text/markdown": [
              "FALSE"
            ],
            "text/plain": [
              "[1] FALSE"
            ]
          },
          "metadata": {},
          "output_type": "display_data"
        }
      ],
      "source": [
        "p_valor <= significancia"
      ]
    },
    {
      "cell_type": "markdown",
      "metadata": {
        "id": "7n9JrqOV8bKG"
      },
      "source": [
        "Com base nesses resultados, podemos concluir que:\n",
        "\n",
        "* Ao aplicar o **Teste Z de uma proporção**, obtivemos a estatística Z ($z = -0.471$) e o p-valor ($p_{value} = 0.319$). Como o p-valor é maior que o nível de significância ($\\alpha = 0.05$), **não rejeitamos a hipótese nula**.\n",
        "\n",
        "* Isso indica que **não há evidências estatísticas** para apoiar a afirmação da empresa de que menos de 10% dos equipamentos estão fora das especificações. Portanto, a alegação da empresa **não é validada** ao nível de significância de 1%."
      ]
    },
    {
      "cell_type": "markdown",
      "metadata": {
        "id": "1Ge7v7utHOKe"
      },
      "source": [
        "A título de curiosidade, é possível fazer este mesmo cálculo utilizando a função [`prop.test()`](https://www.rdocumentation.org/packages/stats/versions/3.6.2/topics/prop.test) do pacote `stats`do R"
      ]
    },
    {
      "cell_type": "code",
      "execution_count": null,
      "metadata": {
        "colab": {
          "base_uri": "https://localhost:8080/",
          "height": 208
        },
        "id": "qFbgxQm-HNi3",
        "outputId": "fb850506-5884-4c15-ff2a-c741e7d6b999",
        "vscode": {
          "languageId": "r"
        }
      },
      "outputs": [
        {
          "data": {
            "text/plain": [
              "\n",
              "\t1-sample proportions test without continuity correction\n",
              "\n",
              "data:  itens out of n, null probability p_0\n",
              "X-squared = 0.22222, df = 1, p-value = 0.3187\n",
              "alternative hypothesis: true p is less than 0.1\n",
              "99 percent confidence interval:\n",
              " 0.0000000 0.1484935\n",
              "sample estimates:\n",
              "   p \n",
              "0.09 \n"
            ]
          },
          "metadata": {},
          "output_type": "display_data"
        }
      ],
      "source": [
        "prop.test(itens, n, p_0, alternative = \"less\", conf.level = 0.99, correct = F)"
      ]
    },
    {
      "cell_type": "markdown",
      "metadata": {
        "id": "Dn5BTYiD8bKH"
      },
      "source": [
        "Conseguimos responder ao nosso problema que ilustra como o teste Z de uma proporção pode ser aplicado para verificar alegações sobre proporções populacionais. Calculamos por meio de fórmulas os valores críticos e estatísticas para aceitação ou rejeição da hipótese nula.\n",
        "\n",
        "Na sequência, vamos subir mais um degrau nas nossas análises, agora aplicando testes de hipóteses para duas ou mais amostras ao mesmo tempo."
      ]
    },
    {
      "cell_type": "markdown",
      "metadata": {
        "id": "QduKMauRSRkU"
      },
      "source": [
        "# **3. Testes para duas ou mais amostras**\n",
        "\n",
        "---\n",
        "\n"
      ]
    },
    {
      "cell_type": "markdown",
      "metadata": {
        "id": "gJTPkTlmSRkU"
      },
      "source": [
        "## **3.1 Teste para duas amostras independentes**\n",
        "\n",
        "---\n",
        "\n"
      ]
    },
    {
      "cell_type": "markdown",
      "metadata": {
        "id": "2mG0QNLSoCRi"
      },
      "source": [
        "### <font color=\"#E23155\" face=\"Verdana\">Demanda 7: Analisando salários entre profissionais do sexo masculino e feminino</font>"
      ]
    },
    {
      "cell_type": "markdown",
      "metadata": {
        "id": "NS_tmy6NoCRi"
      },
      "source": [
        "Uma empresa de e-commerce está preocupada com a possível desigualdade de remuneração entre profissionais do sexo biológico masculino e feminino. Para investigar essa questão, a empresa coletou duas amostras aleatórias: uma com **200 pessoas do sexo masculino** e outra com **200 pessoas do sexo feminino**, contendo os salários mensais de cada grupo.\n",
        "\n",
        "Nós, como consultores, fomos contratados para testar se há diferença significativa entre as médias salariais dos dois grupos. O **nível de significância adotado é de 5%**.\n",
        "\n",
        "A partir dos dados coletados, queremos responder à seguinte pergunta:\n",
        "* Há desigualdade de remuneração entre pessoas do sexo biológico masculino e feminino na empresa, com os homens ganhando significativamente mais que as mulheres?\n"
      ]
    },
    {
      "cell_type": "markdown",
      "metadata": {
        "id": "nTtnWkXzoCRj"
      },
      "source": [
        "### <font color=\"#E23155\" face=\"Verdana\">Solução:</font>"
      ]
    },
    {
      "cell_type": "markdown",
      "metadata": {
        "id": "a5rz39aLoCRj"
      },
      "source": [
        "Para solucionar este problema, precisaremos realizar um novo tipo de teste de hipóteses, desta vez para comparar duas diferentes amostras. Neste tipo de teste desejamos decidir se uma amostra é diferente da outra.\n",
        "\n",
        "> ### <font color='green'>Pressupostos</font>\n",
        ">\n",
        "> **Teste Z de duas amostras independentes**\n",
        "> 1. As duas amostras devem ser coletadas de forma aleatória e independente.\n",
        "> 2. Ambas as populações devem seguir uma distribuição normal.\n",
        "> 3. As variâncias das duas populações devem ser conhecidas.\n",
        "> 4. A variável independente é qualitativa (masculino/feminino) e a variável dependente é quantitativa (remunerações)\n",
        ">\n",
        "> **Teste t de duas amostras independentes**\n",
        "> 1. As duas amostras devem ser coletadas de forma aleatória e independente.\n",
        "> 2. Ambas as populações devem seguir uma distribuição normal (pode ser necessário usar o teste de Shapiro-Wilk ).\n",
        "> 3. Em testes que envolvam duas amostras com o emprego da tabela $t$ de Student, o número de graus de liberdade será sempre igual a $n_1 + n_2 - 2$\n",
        "> 4. A variável independente é qualitativa e a variável dependente é quantitativa"
      ]
    },
    {
      "cell_type": "markdown",
      "metadata": {
        "id": "ECiQWcpdsW9J"
      },
      "source": [
        "#### **Dados do problema**\n"
      ]
    },
    {
      "cell_type": "code",
      "execution_count": null,
      "metadata": {
        "id": "oz0M5cw7sY42",
        "vscode": {
          "languageId": "r"
        }
      },
      "outputs": [],
      "source": [
        "masculino <- matrix(c(6629, 7107, 5914, 4400, 4891, 4290, 4130, 3364, 3263, 4980, 5117, 7080, 5149, 3385, 4191, 5558, 3306, 6622, 4370, 16872,\n",
        "                      2640, 3898, 3478, 4054, 7154, 5516, 4426, 4150, 3479, 3863, 3133, 4466, 4491, 5325, 3027, 8041, 3305, 5638, 4629, 7105, 3239, 4152,\n",
        "                      3383, 4376, 4948, 5306, 4335, 5696, 4314, 3655, 2891, 4754, 7625, 6253, 6286, 3452, 2962, 3212, 2926, 4808, 4849, 6904, 5509, 4410,\n",
        "                      3312, 3943, 4108, 3068, 5137, 4065, 3071, 4198, 4797, 6631, 3555, 4724, 2776, 3741, 4747, 4523, 10144, 4008, 5164, 7207, 2916,\n",
        "                      10226, 4620, 4423, 3618, 7269, 17336, 5381, 3889, 3220, 2717, 4525, 3339, 6624, 5133, 2528, 3491, 6390, 3442, 5325, 2847, 7405,\n",
        "                      12696, 3302, 2368, 2900, 3351, 3345, 3283, 4744, 3885, 7048, 3036, 3141, 5194, 4341, 4298, 2744, 7592, 3467, 4389, 3839, 3648,\n",
        "                      5076, 3816, 3530, 4520, 4492, 6237, 5469, 3805, 4361, 3148, 3589, 6265, 3795, 4871, 4630, 9853, 3390, 4226, 3539, 5135, 3719, 2672,\n",
        "                      3857, 3523, 4995, 3168, 3191, 5471, 3983, 5872, 3587, 6363, 3543, 5334, 3168, 2857, 3576, 7729, 4963, 3578, 3249, 3321, 10738,\n",
        "                      4430, 2970, 4175, 4250, 2904, 10220, 5921, 3490, 4738, 6364, 5619, 5376, 4131, 3004, 2274, 3258, 3010, 3590, 3044, 4010, 3754,\n",
        "                      4354, 4883, 4013, 3762, 3406, 4065, 3286, 4158, 6819))\n",
        "feminino <- matrix(c(4438, 3107, 3988, 4744, 2705, 2894, 4182, 3267, 5198, 8819, 2875, 9603, 10454, 3168, 4829, 5480, 3249, 3450, 2937, 3216,\n",
        "                    3191, 3479, 4795, 2856, 2539, 4367, 4037, 4437, 6973, 6498, 5225, 3893, 3914, 2954, 3125, 6329, 4294, 4064, 3717, 3647, 4288, 5401,\n",
        "                    2966, 5554, 4244, 4071, 12664, 3749, 5322, 3695, 4846, 3266, 4336, 3987, 5175, 3671, 2781, 3547, 4098, 4662, 3214, 3123, 2818,\n",
        "                    2810, 2879, 3111, 2760, 3074, 3319, 4538, 5779, 8861, 2378, 4529, 4198, 2326, 9299, 6305, 3150, 6559, 7215, 3627, 3894, 2860, 3787,\n",
        "                    6523, 6276, 3730, 4404, 3308, 4936, 3177, 2830, 3026, 3431, 2990, 2799, 2050, 2776, 5864, 9625, 4739, 6321, 6275, 6879, 4514, 3182,\n",
        "                    6475, 3236, 4562, 3497, 4222, 3643, 2812, 3365, 4038, 6568, 5690, 4635, 3588, 6348, 3421, 2180, 2965, 4596, 3683, 4141, 3571, 2927,\n",
        "                    4320, 3336, 3006, 4289, 5029, 3178, 6460, 6484, 4296, 3930, 3060, 5936, 3181, 5229, 2841, 4181, 3516, 3323, 7404, 4106, 3504, 3725,\n",
        "                    5747, 3854, 2759, 4537, 4553, 3461, 4080, 4269, 2823, 4095, 9612, 2464, 4865, 7021, 2472, 6271, 4746, 4942, 6566, 2742, 3826, 2378,\n",
        "                    3056, 2850, 8319, 7050, 4490, 4846, 4124, 7771, 2687, 3459, 3511, 6445, 3918, 3664, 5434, 3998, 5678, 4307, 2463, 2298, 4932, 2137,\n",
        "                    3724, 3313, 3787, 3011, 3353))"
      ]
    },
    {
      "cell_type": "code",
      "execution_count": null,
      "metadata": {
        "colab": {
          "base_uri": "https://localhost:8080/",
          "height": 34
        },
        "id": "C4kjyn-ktIfv",
        "outputId": "4a249a77-af80-4b46-a1a0-5bd1b1e15fe6",
        "vscode": {
          "languageId": "r"
        }
      },
      "outputs": [
        {
          "data": {
            "text/html": [
              "4701.785"
            ],
            "text/latex": [
              "4701.785"
            ],
            "text/markdown": [
              "4701.785"
            ],
            "text/plain": [
              "[1] 4701.785"
            ]
          },
          "metadata": {},
          "output_type": "display_data"
        }
      ],
      "source": [
        "media_amostra_M <- mean(masculino)\n",
        "media_amostra_M"
      ]
    },
    {
      "cell_type": "code",
      "execution_count": null,
      "metadata": {
        "colab": {
          "base_uri": "https://localhost:8080/",
          "height": 34
        },
        "id": "fuhJmegqtNqm",
        "outputId": "bc39837f-5560-473b-c899-48f6b2a7fe57",
        "vscode": {
          "languageId": "r"
        }
      },
      "outputs": [
        {
          "data": {
            "text/html": [
              "2071.12749590567"
            ],
            "text/latex": [
              "2071.12749590567"
            ],
            "text/markdown": [
              "2071.12749590567"
            ],
            "text/plain": [
              "[1] 2071.127"
            ]
          },
          "metadata": {},
          "output_type": "display_data"
        }
      ],
      "source": [
        "desvio_padrao_amostra_M <- sd(masculino)\n",
        "desvio_padrao_amostra_M"
      ]
    },
    {
      "cell_type": "code",
      "execution_count": null,
      "metadata": {
        "colab": {
          "base_uri": "https://localhost:8080/",
          "height": 34
        },
        "id": "WAbTpdeZtTrH",
        "outputId": "19c17839-cc34-4e08-bf27-b975e5460145",
        "vscode": {
          "languageId": "r"
        }
      },
      "outputs": [
        {
          "data": {
            "text/html": [
              "4362.665"
            ],
            "text/latex": [
              "4362.665"
            ],
            "text/markdown": [
              "4362.665"
            ],
            "text/plain": [
              "[1] 4362.665"
            ]
          },
          "metadata": {},
          "output_type": "display_data"
        }
      ],
      "source": [
        "media_amostra_F <- mean(feminino)\n",
        "media_amostra_F"
      ]
    },
    {
      "cell_type": "code",
      "execution_count": null,
      "metadata": {
        "colab": {
          "base_uri": "https://localhost:8080/",
          "height": 34
        },
        "id": "_K9XyfxLtYod",
        "outputId": "0c7add15-e01c-4ad3-aa01-77e04b4615c4",
        "vscode": {
          "languageId": "r"
        }
      },
      "outputs": [
        {
          "data": {
            "text/html": [
              "1712.44766571538"
            ],
            "text/latex": [
              "1712.44766571538"
            ],
            "text/markdown": [
              "1712.44766571538"
            ],
            "text/plain": [
              "[1] 1712.448"
            ]
          },
          "metadata": {},
          "output_type": "display_data"
        }
      ],
      "source": [
        "desvio_padrao_amostra_F <- sd(feminino)\n",
        "desvio_padrao_amostra_F"
      ]
    },
    {
      "cell_type": "code",
      "execution_count": null,
      "metadata": {
        "id": "jhiW_hRVoCRj",
        "vscode": {
          "languageId": "r"
        }
      },
      "outputs": [],
      "source": [
        "n_M <- 200\n",
        "n_F <- 200\n",
        "D_0 <- 0"
      ]
    },
    {
      "cell_type": "markdown",
      "metadata": {
        "id": "Vrb-b_aboCRj"
      },
      "source": [
        "### **Passo 1** - Formulação das hipóteses $H_0$ e $H_1$;\n",
        "\n",
        "#### <font color='green'>Lembre-se, a hipótese nula **sempre** contém a alegação de igualdade</font>\n",
        "### $\\mu_1 \\Rightarrow$ Média das remunerações das pessoas do sexo masculino\n",
        "### $\\mu_2 \\Rightarrow$ Média das remunerações das pessoas sexo feminino\n",
        "\n",
        "### $\n",
        "\\begin{cases}\n",
        "H_0: \\mu_1 \\leq \\mu_2\\\\\n",
        "H_1: \\mu_1 > \\mu_2\n",
        "\\end{cases}\n",
        "$\n",
        "\n",
        "### ou\n",
        "\n",
        "### $\n",
        "\\begin{cases}\n",
        "H_0: \\mu_1 -\\mu_2 \\leq 0\\\\\n",
        "H_1: \\mu_1 -\\mu_2 > 0\n",
        "\\end{cases}\n",
        "$"
      ]
    },
    {
      "cell_type": "markdown",
      "metadata": {
        "id": "ZUiNetRDoCRj"
      },
      "source": [
        "Este é um teste **unicaudal superior**, pois estamos interessados em detectar se a **média dos homens é maior que a das mulheres**."
      ]
    },
    {
      "cell_type": "markdown",
      "metadata": {
        "id": "9TRiwgXGoCRk"
      },
      "source": [
        "\n",
        "\n",
        "---\n",
        "\n"
      ]
    },
    {
      "cell_type": "markdown",
      "metadata": {
        "id": "L-fFVX6dyKmg"
      },
      "source": [
        "### **Passo 2** - Escolha da distribuição amostral adequada\n",
        "\n",
        "<img src=\"https://github.com/alura-cursos/estatistica-r-testes-hipoteses/blob/main/imagens/outros/qual_distribuicao_escolher.png?raw=true\" alt=\"Diagrama para escolha da distribuição amostral adequada\">"
      ]
    },
    {
      "cell_type": "markdown",
      "metadata": {
        "id": "DXQCnFUYyKmg"
      },
      "source": [
        "#### **O tamanho da amostra é maior que 30?**"
      ]
    },
    {
      "cell_type": "markdown",
      "metadata": {
        "id": "g4L4YT0byKmg"
      },
      "source": [
        "**Resposta:** Sim"
      ]
    },
    {
      "cell_type": "markdown",
      "metadata": {
        "id": "Dcir_gyUyKmg"
      },
      "source": [
        "#### **O desvio padrão populacional ($\\sigma$) é conhecido?**"
      ]
    },
    {
      "cell_type": "markdown",
      "metadata": {
        "id": "9cTHgiJpyKmh"
      },
      "source": [
        "**Resposta:** Não. Inclusive, calculamos o desvio padrão amostral para nosso problema ($S$)"
      ]
    },
    {
      "cell_type": "markdown",
      "metadata": {
        "id": "QfEClxYeoCRk"
      },
      "source": [
        "### **Passo 3** - Fixação da significância do teste ($\\alpha$)"
      ]
    },
    {
      "cell_type": "markdown",
      "metadata": {
        "id": "rm3dDxrIoCRk"
      },
      "source": [
        "> **Documentações:**\n",
        ">\n",
        "> - [**Normal**](https://www.rdocumentation.org/packages/stats/versions/3.6.2/topics/Normal)\n"
      ]
    },
    {
      "cell_type": "code",
      "execution_count": null,
      "metadata": {
        "id": "BrpSvb11oCRk",
        "vscode": {
          "languageId": "r"
        }
      },
      "outputs": [],
      "source": [
        "significancia <- 0.05\n",
        "confianca <- 1 - significancia"
      ]
    },
    {
      "cell_type": "markdown",
      "metadata": {
        "id": "2dvHPo1hoCRk"
      },
      "source": [
        "#### **Obtendo $z_{\\alpha}$**"
      ]
    },
    {
      "cell_type": "code",
      "execution_count": null,
      "metadata": {
        "colab": {
          "base_uri": "https://localhost:8080/",
          "height": 34
        },
        "id": "sydSf5v7oCRk",
        "outputId": "07930c40-18da-47a7-ac38-4cbd6b58e745",
        "vscode": {
          "languageId": "r"
        }
      },
      "outputs": [
        {
          "data": {
            "text/html": [
              "1.64485362695147"
            ],
            "text/latex": [
              "1.64485362695147"
            ],
            "text/markdown": [
              "1.64485362695147"
            ],
            "text/plain": [
              "[1] 1.644854"
            ]
          },
          "metadata": {},
          "output_type": "display_data"
        }
      ],
      "source": [
        "z_alpha <- qnorm(confianca)\n",
        "z_alpha"
      ]
    },
    {
      "cell_type": "markdown",
      "metadata": {
        "id": "1ebNvv9XoCRl"
      },
      "source": [
        "<img src=\"https://github.com/alura-cursos/estatistica-r-testes-hipoteses/blob/main/imagens/outros/teste_z_unicaudal.png?raw=true\" alt=\"Distribuição normal (Z) com 5% de significância\" width=\"460\">"
      ]
    },
    {
      "cell_type": "markdown",
      "metadata": {
        "id": "9XIQkPa4oCRl"
      },
      "source": [
        "\n",
        "\n",
        "---\n",
        "\n"
      ]
    },
    {
      "cell_type": "markdown",
      "metadata": {
        "id": "D-ULjYTwoCRl"
      },
      "source": [
        "### **Passo 4** - cálculo da estatística-teste e verificação desse valor com as áreas de aceitação e rejeição do teste\n",
        "\n",
        "Para o nosso caso, aplicando um Teste Z de duas amostras independentes:\n",
        "\n",
        "### $$z = \\frac{(\\bar{x_1} - \\bar{x_2})-D_0}{\\sqrt{\\frac{s_1^2}{n_1} + \\frac{s_2^2}{n_2}}}$$\n",
        "\n",
        "onde,\n",
        "* $\\bar{x_1}$ e $\\bar{x_2}$ = são as médias de cada amostra\n",
        "* $D_0$ = diferença da média populacional hipotética\n",
        "* ${s_1^2}$ e ${s_2^2}$ = são as variâncias de cada amostra\n",
        "* $n_1$ e $n_2$ = tamanho de cada amostra"
      ]
    },
    {
      "cell_type": "code",
      "execution_count": null,
      "metadata": {
        "id": "GqRwoJTpoCRl",
        "vscode": {
          "languageId": "r"
        }
      },
      "outputs": [],
      "source": [
        "numerador <- (media_amostra_M - media_amostra_F) - D_0\n",
        "\n",
        "denominador <- sqrt((desvio_padrao_amostra_M ** 2 / n_M) + (desvio_padrao_amostra_F ** 2 / n_F))"
      ]
    },
    {
      "cell_type": "code",
      "execution_count": null,
      "metadata": {
        "colab": {
          "base_uri": "https://localhost:8080/",
          "height": 34
        },
        "id": "MYm2AJBaoCRl",
        "outputId": "e4193f7d-c6b5-4b55-90a2-ef11d39fc10d",
        "vscode": {
          "languageId": "r"
        }
      },
      "outputs": [
        {
          "data": {
            "text/html": [
              "1.78458925131482"
            ],
            "text/latex": [
              "1.78458925131482"
            ],
            "text/markdown": [
              "1.78458925131482"
            ],
            "text/plain": [
              "[1] 1.784589"
            ]
          },
          "metadata": {},
          "output_type": "display_data"
        }
      ],
      "source": [
        "z <- numerador / denominador\n",
        "z"
      ]
    },
    {
      "cell_type": "markdown",
      "metadata": {
        "id": "W0u37JZtoCRm"
      },
      "source": [
        "<img src=\"https://github.com/alura-cursos/estatistica-r-testes-hipoteses/blob/main/imagens/outros/teste_z_unicaudal_duas_amostras_problema.png?raw=true\" alt=\"Distribuição normal (Z) com 5% de significância e a estatística de teste de z = 5,11\" width=\"460\">"
      ]
    },
    {
      "cell_type": "markdown",
      "metadata": {
        "id": "2ca_KnlmoCRm"
      },
      "source": [
        "\n",
        "\n",
        "---\n",
        "\n"
      ]
    },
    {
      "cell_type": "markdown",
      "metadata": {
        "id": "NaspdzDhoCRm"
      },
      "source": [
        "### **Passo 4** - Aceitação ou rejeição da hipótese nula"
      ]
    },
    {
      "cell_type": "markdown",
      "metadata": {
        "id": "8Xh-ebxg18Dg"
      },
      "source": [
        "<img src=\"https://github.com/alura-cursos/estatistica-r-testes-hipoteses/blob/main/imagens/outros/teste_z_t_duas_amostras.png?raw=true\" alt=\"Tabela do Teste Z com as hipóteses, estatísticas de teste, valor crítico z e p-valor\">"
      ]
    },
    {
      "cell_type": "markdown",
      "metadata": {
        "id": "xa2zzBBuoCRm"
      },
      "source": [
        "### <font color='green'>Critério do valor crítico</font>\n",
        "> ### Teste Z Unicaudal Superior\n",
        ">\n",
        "> ### Rejeitar $H_0$ se $z \\geq z_{\\alpha}$"
      ]
    },
    {
      "cell_type": "code",
      "execution_count": null,
      "metadata": {
        "colab": {
          "base_uri": "https://localhost:8080/",
          "height": 34
        },
        "id": "pdqLYg5MoCRm",
        "outputId": "44ee475b-cdab-449a-a815-de99c8c3897d",
        "vscode": {
          "languageId": "r"
        }
      },
      "outputs": [
        {
          "data": {
            "text/html": [
              "TRUE"
            ],
            "text/latex": [
              "TRUE"
            ],
            "text/markdown": [
              "TRUE"
            ],
            "text/plain": [
              "[1] TRUE"
            ]
          },
          "metadata": {},
          "output_type": "display_data"
        }
      ],
      "source": [
        "z >= z_alpha"
      ]
    },
    {
      "cell_type": "markdown",
      "metadata": {
        "id": "cVMMs6iBoCRm"
      },
      "source": [
        "### <font color='green'>Critério do $p_{value}$</font>\n",
        "\n",
        "> ### Teste Z Unicaudal Superior\n",
        ">\n",
        "> ### Rejeitar $H_0$ se o $p_{value} \\leq \\alpha$"
      ]
    },
    {
      "cell_type": "code",
      "execution_count": null,
      "metadata": {
        "colab": {
          "base_uri": "https://localhost:8080/",
          "height": 34
        },
        "id": "2tlKnjQnoCRn",
        "outputId": "218655c6-1b13-4b5e-9464-a57765487af8",
        "vscode": {
          "languageId": "r"
        }
      },
      "outputs": [
        {
          "data": {
            "text/html": [
              "0.0371639830822153"
            ],
            "text/latex": [
              "0.0371639830822153"
            ],
            "text/markdown": [
              "0.0371639830822153"
            ],
            "text/plain": [
              "[1] 0.03716398"
            ]
          },
          "metadata": {},
          "output_type": "display_data"
        }
      ],
      "source": [
        "p_valor <- pnorm(z, lower.tail = F)\n",
        "p_valor"
      ]
    },
    {
      "cell_type": "code",
      "execution_count": null,
      "metadata": {
        "colab": {
          "base_uri": "https://localhost:8080/",
          "height": 34
        },
        "id": "gGWd5CCYoCRn",
        "outputId": "5399d3f3-bd43-4364-cc21-f0f780f68883",
        "vscode": {
          "languageId": "r"
        }
      },
      "outputs": [
        {
          "data": {
            "text/html": [
              "TRUE"
            ],
            "text/latex": [
              "TRUE"
            ],
            "text/markdown": [
              "TRUE"
            ],
            "text/plain": [
              "[1] TRUE"
            ]
          },
          "metadata": {},
          "output_type": "display_data"
        }
      ],
      "source": [
        "p_valor <= significancia"
      ]
    },
    {
      "cell_type": "markdown",
      "metadata": {
        "id": "Xl6ZgENCoCRo"
      },
      "source": [
        "Com base nesses resultados, podemos concluir que:\n",
        "\n",
        "* Ao aplicar o **Teste Z para duas amostras independentes**, obtivemos a estatística Z ($z = 1.785$) e o p-valor ($p_{value} = 0.037$). Como o p-valor é menor que o nível de significância ($\\alpha = 0.05$), **rejeitamos a hipótese nula**.\n",
        "\n",
        "* Com um **nível de confiança de 95%** rejeitamos $H_0$, isto é, concluímos que a média das remunerações das pessoas do sexo masculino é maior que a média das pessoas do sexo feminino nesta empresa. Confirmando a alegação de desigualdade de remuneração entre os sexos."
      ]
    },
    {
      "cell_type": "markdown",
      "metadata": {
        "id": "nso_MbtZ53BO"
      },
      "source": [
        "> **Documentações:**\n",
        ">\n",
        "> - [**z.test**](https://www.rdocumentation.org/packages/BSDA/versions/1.2.1/topics/z.test)\n"
      ]
    },
    {
      "cell_type": "code",
      "execution_count": null,
      "metadata": {
        "colab": {
          "base_uri": "https://localhost:8080/",
          "height": 208
        },
        "id": "Sp7tIoBx53BQ",
        "outputId": "d9d00146-9352-4b5e-aa55-45c587e808ed",
        "vscode": {
          "languageId": "r"
        }
      },
      "outputs": [
        {
          "data": {
            "text/plain": [
              "\n",
              "\tTwo-sample z-Test\n",
              "\n",
              "data:  masculino and feminino\n",
              "z = 1.7846, p-value = 0.03716\n",
              "alternative hypothesis: true difference in means is greater than 0\n",
              "95 percent confidence interval:\n",
              " 26.55353       NA\n",
              "sample estimates:\n",
              "mean of x mean of y \n",
              " 4701.785  4362.665 \n"
            ]
          },
          "metadata": {},
          "output_type": "display_data"
        }
      ],
      "source": [
        "resultado_teste <- z.test(masculino,\n",
        "                          feminino,\n",
        "                          sigma.x = desvio_padrao_amostra_M,\n",
        "                          sigma.y = desvio_padrao_amostra_F,\n",
        "                          alternative = \"greater\")\n",
        "resultado_teste"
      ]
    },
    {
      "cell_type": "markdown",
      "metadata": {
        "id": "X9GjxR69oCRo"
      },
      "source": [
        "Conseguimos responder ao nosso problema que ilustra como o teste Z para duas amostras independentes pode ser aplicado para comparar médias de grupos distintos.\n",
        "\n",
        "Na sequência, vamos responder a uma nova demanda, desta vez utilizando duas amostras dependentes."
      ]
    },
    {
      "cell_type": "markdown",
      "metadata": {
        "id": "6DohFzdTSRkV"
      },
      "source": [
        "## **3.2 Teste para duas amostras dependentes**\n",
        "\n",
        "---\n",
        "\n"
      ]
    },
    {
      "cell_type": "markdown",
      "metadata": {
        "id": "Z6miJi1Qa7BN"
      },
      "source": [
        "### <font color=\"#E23155\" face=\"Verdana\">Demanda 8: Analisando salários entre profissionais do sexo masculino e feminino</font>"
      ]
    },
    {
      "cell_type": "markdown",
      "metadata": {
        "id": "MHaqF3F9a7BO"
      },
      "source": [
        "Uma empresa de tecnologia implementou um programa de treinamento para melhorar as habilidades técnicas de seus funcionários. Para avaliar a eficácia do treinamento, a empresa coletou as notas de desempenho de **15 funcionários** antes e depois do treinamento.\n",
        "\n",
        "O objetivo é determinar se o treinamento teve um impacto significativo no desempenho dos funcionários. Para isso, utilizaremos um teste de hipóteses para comparar as médias das notas antes e depois do treinamento. O **nível de significância adotado é de 5%**.\n",
        "\n",
        "A partir dos dados coletados, queremos responder às seguintes perguntas:\n",
        "* O treinamento teve um impacto significativo no desempenho dos funcionários?\n",
        "* Se sim, houve melhora no desempenho?\n",
        "\n"
      ]
    },
    {
      "cell_type": "markdown",
      "metadata": {
        "id": "kv5a2gTHa7BO"
      },
      "source": [
        "### <font color=\"#E23155\" face=\"Verdana\">Solução:</font>"
      ]
    },
    {
      "cell_type": "markdown",
      "metadata": {
        "id": "Mep9zn9ya7BO"
      },
      "source": [
        "Para solucionar este problema, precisaremos realizar um **teste t para duas amostras dependentes**, que visa comparar as médias das notas antes e depois do treinamento.\n",
        "\n",
        "Antes de aplicar o teste, precisamos verificar alguns de seus pressupostos\n",
        "\n",
        "> ### <font color='green'>Pressupostos</font>\n",
        ">\n",
        "> **Teste t de duas amostras dependentes**\n",
        "> 1. As observações das duas amostras devem estar pareadas (medidas no mesmo indivíduo/grupo em dois momentos diferentes).\n",
        ">\n",
        "> 2. As diferenças entre os pares devem seguir uma distribuição normal.\n",
        ">\n",
        "> 3. Os dados devem ser numéricos e medidos em escala intervalar ou racional.\n",
        ">\n",
        "> 4. As observações são independentes uma da outra.\n"
      ]
    },
    {
      "cell_type": "markdown",
      "metadata": {
        "id": "G0c8TVGNfvHz"
      },
      "source": [
        "### **Passo 1** - Verificação da normalidade dos dados\n",
        "Como aprendemos anteriormente utilizaremos o teste Shapiro-Wilk para testar a normalidade dos dados."
      ]
    },
    {
      "cell_type": "code",
      "execution_count": null,
      "metadata": {
        "id": "IwAWp3UTfvH1",
        "vscode": {
          "languageId": "r"
        }
      },
      "outputs": [],
      "source": [
        "# Dados das notas antes e depois do treinamento\n",
        "antes <- c(71, 65, 80, 75, 85, 60, 72, 68, 77, 82, 74, 69, 78, 71, 76)\n",
        "depois <- c(75, 70, 85, 80, 88, 65, 78, 72, 80, 85, 79, 75, 82, 76, 80)\n",
        "dados <- data.frame(notas_antes = antes, notas_depois = depois)"
      ]
    },
    {
      "cell_type": "code",
      "execution_count": null,
      "metadata": {
        "id": "lfuWQbrHf7fL",
        "vscode": {
          "languageId": "r"
        }
      },
      "outputs": [],
      "source": [
        "# Diferenças entre as notas\n",
        "dados$diferencas <- dados$notas_depois - dados$notas_antes"
      ]
    },
    {
      "cell_type": "code",
      "execution_count": null,
      "metadata": {
        "colab": {
          "base_uri": "https://localhost:8080/",
          "height": 104
        },
        "id": "crg88T72fvH2",
        "outputId": "7912b2da-1462-4833-a582-c5c1d9fd3505",
        "vscode": {
          "languageId": "r"
        }
      },
      "outputs": [
        {
          "data": {
            "text/plain": [
              "\n",
              "\tShapiro-Wilk normality test\n",
              "\n",
              "data:  dados$diferencas\n",
              "W = 0.8872, p-value = 0.06084\n"
            ]
          },
          "metadata": {},
          "output_type": "display_data"
        }
      ],
      "source": [
        "shapiro.test(dados$diferencas)"
      ]
    },
    {
      "cell_type": "markdown",
      "metadata": {
        "id": "Kwt8RhPkfvH3"
      },
      "source": [
        "Como o p-valor ($p_{value} = 0.06$) é maior que o nível de significância ($\\alpha = 0.05$), não rejeitamos a hipótese de normalidade. Portanto, os dados seguem uma distribuição normal, e podemos prosseguir com o teste."
      ]
    },
    {
      "cell_type": "markdown",
      "metadata": {
        "id": "fqvGfPEsfvH3"
      },
      "source": [
        "\n",
        "\n",
        "---\n",
        "\n"
      ]
    },
    {
      "cell_type": "markdown",
      "metadata": {
        "id": "22PgwF3da7BP"
      },
      "source": [
        "### **Passo 2** - Formulação das hipóteses $H_0$ e $H_1$;\n",
        "\n",
        "#### <font color='green'>Lembre-se, a hipótese nula **sempre** contém a alegação de igualdade</font>\n",
        "\n",
        "> ### $H_0: \\mu_d = 0$\n",
        ">\n",
        "> ### $H_1: \\mu_d \\ne 0$\n",
        "\n",
        "Sendo, $\\mu_d$ a média das diferenças"
      ]
    },
    {
      "cell_type": "markdown",
      "metadata": {
        "id": "5qoxu4jda7BQ"
      },
      "source": [
        "\n",
        "\n",
        "---\n",
        "\n"
      ]
    },
    {
      "cell_type": "markdown",
      "metadata": {
        "id": "-NHTJePsa7BQ"
      },
      "source": [
        "### **Passo 3** - Fixação da significância do teste ($\\alpha$)"
      ]
    },
    {
      "cell_type": "markdown",
      "metadata": {
        "id": "TAQJWEYGa7BQ"
      },
      "source": [
        "> **Documentações:**\n",
        ">\n",
        "> - [**TDist**](https://www.rdocumentation.org/packages/stats/versions/3.6.2/topics/TDist)\n"
      ]
    },
    {
      "cell_type": "code",
      "execution_count": null,
      "metadata": {
        "id": "Iow2rSOXa7BR",
        "vscode": {
          "languageId": "r"
        }
      },
      "outputs": [],
      "source": [
        "significancia <- 0.05\n",
        "confianca <- 1 - significancia"
      ]
    },
    {
      "cell_type": "code",
      "execution_count": null,
      "metadata": {
        "colab": {
          "base_uri": "https://localhost:8080/",
          "height": 34
        },
        "id": "cvA1ihLDkApA",
        "outputId": "1ed8296b-072e-4910-d8f4-83d223473868",
        "vscode": {
          "languageId": "r"
        }
      },
      "outputs": [
        {
          "data": {
            "text/html": [
              "0.975"
            ],
            "text/latex": [
              "0.975"
            ],
            "text/markdown": [
              "0.975"
            ],
            "text/plain": [
              "[1] 0.975"
            ]
          },
          "metadata": {},
          "output_type": "display_data"
        }
      ],
      "source": [
        "probabilidade <- (0.5 + confianca/2)\n",
        "probabilidade"
      ]
    },
    {
      "cell_type": "markdown",
      "metadata": {
        "id": "NMuNELuaa7BR"
      },
      "source": [
        "#### **Obtendo $t_{\\alpha/2}$**"
      ]
    },
    {
      "cell_type": "code",
      "execution_count": null,
      "metadata": {
        "colab": {
          "base_uri": "https://localhost:8080/",
          "height": 34
        },
        "id": "heXvUTAta7BR",
        "outputId": "63c8fbbc-4af3-437b-9cd1-ed53ef27e2c7",
        "vscode": {
          "languageId": "r"
        }
      },
      "outputs": [
        {
          "data": {
            "text/html": [
              "2.1447866879178"
            ],
            "text/latex": [
              "2.1447866879178"
            ],
            "text/markdown": [
              "2.1447866879178"
            ],
            "text/plain": [
              "[1] 2.144787"
            ]
          },
          "metadata": {},
          "output_type": "display_data"
        }
      ],
      "source": [
        "t_alpha_2 <- qt(probabilidade, 14)\n",
        "t_alpha_2"
      ]
    },
    {
      "cell_type": "markdown",
      "metadata": {
        "id": "MXxd7NcWa7BR"
      },
      "source": [
        "<img src=\"https://github.com/alura-cursos/estatistica-r-testes-hipoteses/blob/main/imagens/outros/teste_t_bicaudal_df14_5%25.png?raw=true\" alt=\"Distribuição normal (Z) com 5% de significância\" width=\"460\">"
      ]
    },
    {
      "cell_type": "markdown",
      "metadata": {
        "id": "gkfIDucMa7BR"
      },
      "source": [
        "\n",
        "\n",
        "---\n",
        "\n"
      ]
    },
    {
      "cell_type": "markdown",
      "metadata": {
        "id": "CvDSYucda7BR"
      },
      "source": [
        "### **Passo 4** - cálculo da estatística-teste e verificação desse valor com as áreas de aceitação e rejeição do teste\n",
        "\n",
        "Para o nosso caso, aplicando um Teste t de duas amostras dependentes:\n",
        "\n",
        "### $$t = \\frac{\\bar{\\mu_d} - d_0}{\\frac{s_d}{\\sqrt{n}}}$$\n",
        "\n",
        "onde,\n",
        "* $\\bar{\\mu_d}$ = média das diferenças amostrais\n",
        "* $d_0$ = diferença da média populacional hipotética\n",
        "* ${s_d}$ = desvio padrão das diferenças amostrais\n",
        "* $n$ = tamanho da amostra\n",
        "\n",
        "Para grau de liberdade ($df = n -1$)"
      ]
    },
    {
      "cell_type": "code",
      "execution_count": null,
      "metadata": {
        "id": "RS8T9t_amKhG",
        "vscode": {
          "languageId": "r"
        }
      },
      "outputs": [],
      "source": [
        "media_diferencas <- mean(dados$diferencas)\n",
        "desvio_padrao_diferencas <- sd(dados$diferencas)\n",
        "n <- 15\n",
        "df <- n -1"
      ]
    },
    {
      "cell_type": "code",
      "execution_count": null,
      "metadata": {
        "colab": {
          "base_uri": "https://localhost:8080/",
          "height": 34
        },
        "id": "70OsxzIda7BR",
        "outputId": "2a452dc6-9ebb-4234-d5c2-9b464700f7cc",
        "vscode": {
          "languageId": "r"
        }
      },
      "outputs": [
        {
          "data": {
            "text/html": [
              "17.4664727378745"
            ],
            "text/latex": [
              "17.4664727378745"
            ],
            "text/markdown": [
              "17.4664727378745"
            ],
            "text/plain": [
              "[1] 17.46647"
            ]
          },
          "metadata": {},
          "output_type": "display_data"
        }
      ],
      "source": [
        "t <- (media_diferencas - 0) / (desvio_padrao_diferencas / sqrt(n))\n",
        "t"
      ]
    },
    {
      "cell_type": "markdown",
      "metadata": {
        "id": "sex0kb0Xa7BS"
      },
      "source": [
        "\n",
        "\n",
        "---\n",
        "\n"
      ]
    },
    {
      "cell_type": "markdown",
      "metadata": {
        "id": "UoXAV8Eja7BS"
      },
      "source": [
        "### **Passo 5** - Aceitação ou rejeição da hipótese nula"
      ]
    },
    {
      "cell_type": "markdown",
      "metadata": {
        "id": "0vn-vdFknoYr"
      },
      "source": [
        "### <font color='green'>Critério do valor crítico</font>\n",
        "> ### Teste t Bicaudal\n",
        ">\n",
        "> ### Rejeitar $H_0$ se $t \\leq -t_{\\alpha/2}$ ou se $t \\geq t_{\\alpha/2}$"
      ]
    },
    {
      "cell_type": "code",
      "execution_count": null,
      "metadata": {
        "colab": {
          "base_uri": "https://localhost:8080/",
          "height": 34
        },
        "id": "SD18jrp2noYr",
        "outputId": "19f1e0cf-5b69-481e-eee0-9fb9a44276b1",
        "vscode": {
          "languageId": "r"
        }
      },
      "outputs": [
        {
          "data": {
            "text/html": [
              "FALSE"
            ],
            "text/latex": [
              "FALSE"
            ],
            "text/markdown": [
              "FALSE"
            ],
            "text/plain": [
              "[1] FALSE"
            ]
          },
          "metadata": {},
          "output_type": "display_data"
        }
      ],
      "source": [
        "t <= -t_alpha_2"
      ]
    },
    {
      "cell_type": "code",
      "execution_count": null,
      "metadata": {
        "colab": {
          "base_uri": "https://localhost:8080/",
          "height": 34
        },
        "id": "BVAxg3BZnoYs",
        "outputId": "b9111085-17be-4a90-f55f-e4aa5f1fbcb5",
        "vscode": {
          "languageId": "r"
        }
      },
      "outputs": [
        {
          "data": {
            "text/html": [
              "TRUE"
            ],
            "text/latex": [
              "TRUE"
            ],
            "text/markdown": [
              "TRUE"
            ],
            "text/plain": [
              "[1] TRUE"
            ]
          },
          "metadata": {},
          "output_type": "display_data"
        }
      ],
      "source": [
        "t >= t_alpha_2"
      ]
    },
    {
      "cell_type": "code",
      "execution_count": null,
      "metadata": {
        "colab": {
          "base_uri": "https://localhost:8080/",
          "height": 34
        },
        "id": "Se85UaGCnoYs",
        "outputId": "d3c4e98c-9226-49a7-d82d-9f0a831a6a72",
        "vscode": {
          "languageId": "r"
        }
      },
      "outputs": [
        {
          "data": {
            "text/html": [
              "'Rejeitar H0'"
            ],
            "text/latex": [
              "'Rejeitar H0'"
            ],
            "text/markdown": [
              "'Rejeitar H0'"
            ],
            "text/plain": [
              "[1] \"Rejeitar H0\""
            ]
          },
          "metadata": {},
          "output_type": "display_data"
        }
      ],
      "source": [
        "if(t <= -t_alpha_2 || t >= t_alpha_2){\n",
        "    'Rejeitar H0'\n",
        "}else{\n",
        "    'Aceitar H0'\n",
        "}"
      ]
    },
    {
      "cell_type": "markdown",
      "metadata": {
        "id": "_aFIiprpnoYs"
      },
      "source": [
        "### <font color='green'>Critério do $p_{value}$</font>\n",
        "\n",
        "> ### Teste t Bicaudal\n",
        ">\n",
        "> ### Rejeitar $H_0$ se o $p_{value} \\leq \\alpha$"
      ]
    },
    {
      "cell_type": "code",
      "execution_count": null,
      "metadata": {
        "colab": {
          "base_uri": "https://localhost:8080/",
          "height": 34
        },
        "id": "V64dz9irnoYs",
        "outputId": "1e41793c-2936-480e-cd95-6028396a6919",
        "vscode": {
          "languageId": "r"
        }
      },
      "outputs": [
        {
          "data": {
            "text/html": [
              "6.68734530218303e-11"
            ],
            "text/latex": [
              "6.68734530218303e-11"
            ],
            "text/markdown": [
              "6.68734530218303e-11"
            ],
            "text/plain": [
              "[1] 6.687345e-11"
            ]
          },
          "metadata": {},
          "output_type": "display_data"
        }
      ],
      "source": [
        "p_valor <- 2 * pt(-t, df)\n",
        "p_valor"
      ]
    },
    {
      "cell_type": "code",
      "execution_count": null,
      "metadata": {
        "colab": {
          "base_uri": "https://localhost:8080/",
          "height": 34
        },
        "id": "CJ-eLfC3noYs",
        "outputId": "27636635-2147-4197-d453-87ab821a15f3",
        "vscode": {
          "languageId": "r"
        }
      },
      "outputs": [
        {
          "data": {
            "text/html": [
              "TRUE"
            ],
            "text/latex": [
              "TRUE"
            ],
            "text/markdown": [
              "TRUE"
            ],
            "text/plain": [
              "[1] TRUE"
            ]
          },
          "metadata": {},
          "output_type": "display_data"
        }
      ],
      "source": [
        "p_valor <= significancia"
      ]
    },
    {
      "cell_type": "markdown",
      "metadata": {
        "id": "UooTi9O3a7BT"
      },
      "source": [
        "> **Documentações:**\n",
        ">\n",
        "> - [**t.test**](https://www.rdocumentation.org/packages/stats/versions/3.6.2/topics/t.test)\n"
      ]
    },
    {
      "cell_type": "code",
      "execution_count": null,
      "metadata": {
        "colab": {
          "base_uri": "https://localhost:8080/",
          "height": 208
        },
        "id": "t1dqBQGvHYdS",
        "outputId": "443b2ebe-ef28-45d0-8459-219aa30f5993",
        "vscode": {
          "languageId": "r"
        }
      },
      "outputs": [
        {
          "data": {
            "text/plain": [
              "\n",
              "\tPaired t-test\n",
              "\n",
              "data:  dados$notas_depois and dados$notas_antes\n",
              "t = 17.466, df = 14, p-value = 6.687e-11\n",
              "alternative hypothesis: true mean difference is not equal to 0\n",
              "95 percent confidence interval:\n",
              " 3.918185 5.015149\n",
              "sample estimates:\n",
              "mean difference \n",
              "       4.466667 \n"
            ]
          },
          "metadata": {},
          "output_type": "display_data"
        }
      ],
      "source": [
        "resultado_teste <- t.test(dados$notas_depois, dados$notas_antes, paired = TRUE)\n",
        "resultado_teste"
      ]
    },
    {
      "cell_type": "code",
      "execution_count": null,
      "metadata": {
        "colab": {
          "base_uri": "https://localhost:8080/",
          "height": 139
        },
        "id": "nOGh6bzrpei3",
        "outputId": "f4cba921-999b-4bb4-d2bf-09e19185fd50",
        "vscode": {
          "languageId": "r"
        }
      },
      "outputs": [
        {
          "data": {
            "text/plain": [
              "  notas_antes     notas_depois   diferencas   \n",
              " Min.   :60.00   Min.   :65    Min.   :3.000  \n",
              " 1st Qu.:70.00   1st Qu.:75    1st Qu.:4.000  \n",
              " Median :74.00   Median :79    Median :5.000  \n",
              " Mean   :73.53   Mean   :78    Mean   :4.467  \n",
              " 3rd Qu.:77.50   3rd Qu.:81    3rd Qu.:5.000  \n",
              " Max.   :85.00   Max.   :88    Max.   :6.000  "
            ]
          },
          "metadata": {},
          "output_type": "display_data"
        }
      ],
      "source": [
        "summary(dados)"
      ]
    },
    {
      "cell_type": "markdown",
      "metadata": {
        "id": "pa3y6Y2bnoYs"
      },
      "source": [
        "Com base nesses resultados, podemos concluir que:\n",
        "\n",
        "* Ao aplicar o **Teste t para duas amostras dependentes**, obtivemos a estatística T ($t(14) = 17.47$), o p-valor ($p_{value} < 0.001$). Como o p-valor é menor que o nível de significância ($\\alpha = 0.05$), **rejeitamos a hipótese nula**.\n",
        "\n",
        "* Isso indica que **há evidências estatísticas** para afirmar que o programa de treinamento resultou em uma melhoria significativa nas pontuações dos funcionários dado que a média de diferenças ($u_d$) é positiva ($u_2 \\gt u_1$). Portanto, o treinamento foi eficaz ao nível de significância de 5%."
      ]
    },
    {
      "cell_type": "markdown",
      "metadata": {
        "id": "j69_vh8Na7BT"
      },
      "source": [
        "Conseguimos responder ao nosso problema que ilustra como o teste t para duas amostras dependentes pode ser aplicado para avaliar a eficácia entre duas diferentes etapas de um processo.\n",
        "\n",
        "Na sequência, vamos responder para mais uma demanda, desta vez utilizando uma nova distribuição chamada de **F de Fisher-Snedecor** amplamente utilizada nos testes de análise de variância (**ANOVA**)."
      ]
    },
    {
      "cell_type": "markdown",
      "metadata": {
        "id": "RXkfGYIDSRkV"
      },
      "source": [
        "## **3.3 Teste F**\n",
        "\n",
        "---\n",
        "\n"
      ]
    },
    {
      "cell_type": "markdown",
      "metadata": {
        "id": "D9t1wn3SGXuE"
      },
      "source": [
        "### <font color=\"#E23155\" face=\"Verdana\">Demanda 8: Analisando diferenças salariais entre os funcionários</font>"
      ]
    },
    {
      "cell_type": "markdown",
      "metadata": {
        "id": "Er1hRTQAGXuG"
      },
      "source": [
        "A equipe de RH e financeiro de uma empresa de e-commerce recebeu feedbacks sobre uma possível falta de padrão entre os salários dos cargos de **Inteligência Comercial** e **Consultor(a) de Vendas**. Para investigar essa questão, foram coletadas amostras salariais de funcionários de cada cargo.\n",
        "\n",
        "A partir dos dados coletados, queremos responder à seguinte pergunta:\n",
        "* Há diferença significativa na variabilidade salarial entre os dois cargos? Utilize um **nível de significância de 5%**."
      ]
    },
    {
      "cell_type": "markdown",
      "metadata": {
        "id": "nCHCHh09GXuJ"
      },
      "source": [
        "### <font color=\"#E23155\" face=\"Verdana\">Solução:</font>"
      ]
    },
    {
      "cell_type": "markdown",
      "metadata": {
        "id": "0JGKRq8AGXuK"
      },
      "source": [
        "Para solucionar este problema, precisaremos realizar um novo teste chamado de **Teste F** para comparar as variâncias salariais dos dois grupos.\n",
        "\n",
        "### **Distribuição F**\n",
        "\n",
        "Também conhecido como **teste da razão de variâncias**, seu nome se deve ao fato de utilizar uma variável estatística padronizada, representada pela letra **F de Fisher**.\n",
        "\n",
        "O teste F testa a hipótese nula de que duas populações possuem variâncias iguais, comparando a razão entre as variâncias amostrais de dois grupos. Esse teste é comumente utilizado em análises de variância (**ANOVA**) e regressões.\n",
        "\n",
        "A imagem abaixo apresenta a **Distribuição F de Fisher-Snedecor** com as áreas de aceitação e rejeição da hipótese nula.\n",
        "\n",
        "<img src=\"https://github.com/alura-cursos/estatistica-r-testes-hipoteses/blob/main/imagens/outros/teste_F_dist.png?raw=true\" alt=\"Distribuição normal (Z) com 5% de significância\" width=\"460\">"
      ]
    },
    {
      "cell_type": "markdown",
      "metadata": {
        "id": "CYQ31X6UI8YY"
      },
      "source": [
        "Antes de aplicar o teste, precisamos verificar alguns de seus pressupostos:\n",
        "\n",
        "> ### <font color='green'>Pressupostos</font>\n",
        ">\n",
        "> 1. As amostras devem vir de populações normalmente distribuídas.\n",
        ">\n",
        "> 2. As observações dentro de cada grupo devem ser independentes entre si.\n",
        ">\n",
        "> 3. Para ANOVA, as variâncias dos grupos devem ser aproximadamente iguais.\n",
        ">\n",
        "> 4. A maior variância é posicionada no numerador, e a menor variância no denominador"
      ]
    },
    {
      "cell_type": "markdown",
      "metadata": {
        "id": "QU_Zspi3GXuM"
      },
      "source": [
        "### **Passo 1** - Verificação da normalidade dos dados\n",
        "Como aprendemos anteriormente utilizaremos o teste Shapiro-Wilk para testar a normalidade dos dados."
      ]
    },
    {
      "cell_type": "code",
      "execution_count": null,
      "metadata": {
        "id": "90FEzc-8GXuN",
        "vscode": {
          "languageId": "r"
        }
      },
      "outputs": [],
      "source": [
        "# Dados das amostras salariais\n",
        "salario_consultoria <- c(11080, 9110, 10080, 10650, 9110, 10910, 11430, 11450, 9110,\n",
        "                         10720, 8540, 9460, 9320, 10710, 9350, 11860, 10350, 11680, 10640,\n",
        "                         9450, 11990, 10420, 8840, 12170, 9050, 10390, 10050, 10510, 10360,\n",
        "                         9380, 10550, 11470, 9130, 9720, 10930, 9250, 11300, 9660, 11430,\n",
        "                         10130, 11410, 10530, 11740, 9680, 11280, 11420, 9710, 8290, 8030,\n",
        "                         9790, 9510, 11410, 10590, 11820, 9060, 11950, 10040, 8780, 8940,\n",
        "                         11050, 8460, 9420, 10490, 8570, 9910, 10740, 10560, 10310, 8650,\n",
        "                         10180, 10750, 10690, 9380)\n",
        "\n",
        "salario_inteligencia <- c(10090, 10930, 10650, 12520, 10760, 11370, 7850, 11840, 9180,\n",
        "                          9540, 11910, 9180, 8900, 8930, 8930, 10350, 10510, 10880, 11220,\n",
        "                          10550, 9140, 11690, 11050, 9930, 10380, 12010, 11750, 9400, 8860,\n",
        "                          10450, 12770, 10010, 10590, 11760, 10230, 11410, 9130, 10960,\n",
        "                          9300, 10300, 11770, 10230, 9390, 8580, 11730, 10910, 9690, 10300,\n",
        "                          9110, 10180, 11000, 12500, 8970, 9850, 8900, 9690, 9220, 12080,\n",
        "                          9600, 10710, 9300, 8520, 11610, 9400, 10250, 10740, 10440, 10350,\n",
        "                          8590, 10540, 10270, 8850, 10230, 11610, 11220, 9710, 8310, 10510,\n",
        "                          9850, 10180)"
      ]
    },
    {
      "cell_type": "code",
      "execution_count": null,
      "metadata": {
        "id": "SFynA0-RGXuO",
        "vscode": {
          "languageId": "r"
        }
      },
      "outputs": [],
      "source": [
        "shapiro_consultoria <- shapiro.test(salario_consultoria)\n",
        "shapiro_inteligencia <- shapiro.test(salario_inteligencia)"
      ]
    },
    {
      "cell_type": "code",
      "execution_count": null,
      "metadata": {
        "colab": {
          "base_uri": "https://localhost:8080/",
          "height": 104
        },
        "id": "betaYI_PGXuS",
        "outputId": "52ba2c97-7417-45ce-ae34-2f216ae04be5",
        "vscode": {
          "languageId": "r"
        }
      },
      "outputs": [
        {
          "data": {
            "text/plain": [
              "\n",
              "\tShapiro-Wilk normality test\n",
              "\n",
              "data:  salario_consultoria\n",
              "W = 0.97481, p-value = 0.1514\n"
            ]
          },
          "metadata": {},
          "output_type": "display_data"
        }
      ],
      "source": [
        "shapiro_consultoria"
      ]
    },
    {
      "cell_type": "code",
      "execution_count": null,
      "metadata": {
        "colab": {
          "base_uri": "https://localhost:8080/",
          "height": 104
        },
        "id": "2XGU4m5mQbI2",
        "outputId": "5d5af2a8-e1a6-4fd6-bb82-f6396cf16f3c",
        "vscode": {
          "languageId": "r"
        }
      },
      "outputs": [
        {
          "data": {
            "text/plain": [
              "\n",
              "\tShapiro-Wilk normality test\n",
              "\n",
              "data:  salario_inteligencia\n",
              "W = 0.9834, p-value = 0.3877\n"
            ]
          },
          "metadata": {},
          "output_type": "display_data"
        }
      ],
      "source": [
        "shapiro_inteligencia"
      ]
    },
    {
      "cell_type": "markdown",
      "metadata": {
        "id": "TzRt7TX8GXuc"
      },
      "source": [
        "Como os p-valores das duas amostras são maiores que o nível de significância ($p_{value_A} > 0.05$ e  $p_{value_B} > 0.05$), não rejeitamos a hipótese de normalidade. Portanto, os dados seguem uma distribuição normal, e podemos prosseguir com o teste.\n",
        "\n",
        "Agora vamos testar qual variação é a maior e qual a menor para preparar os dados para o teste."
      ]
    },
    {
      "cell_type": "code",
      "execution_count": null,
      "metadata": {
        "colab": {
          "base_uri": "https://localhost:8080/",
          "height": 52
        },
        "id": "rFnk_svdRJZs",
        "outputId": "de135d60-b1a8-4407-8e07-39d91a7de16f",
        "vscode": {
          "languageId": "r"
        }
      },
      "outputs": [
        {
          "data": {
            "text/html": [
              "1076265.63926941"
            ],
            "text/latex": [
              "1076265.63926941"
            ],
            "text/markdown": [
              "1076265.63926941"
            ],
            "text/plain": [
              "[1] 1076266"
            ]
          },
          "metadata": {},
          "output_type": "display_data"
        },
        {
          "data": {
            "text/html": [
              "1217122.46835443"
            ],
            "text/latex": [
              "1217122.46835443"
            ],
            "text/markdown": [
              "1217122.46835443"
            ],
            "text/plain": [
              "[1] 1217122"
            ]
          },
          "metadata": {},
          "output_type": "display_data"
        }
      ],
      "source": [
        "var(salario_consultoria)\n",
        "var(salario_inteligencia)"
      ]
    },
    {
      "cell_type": "markdown",
      "metadata": {
        "id": "NYebKXrQGXu2"
      },
      "source": [
        "\n",
        "\n",
        "---\n",
        "\n"
      ]
    },
    {
      "cell_type": "markdown",
      "metadata": {
        "id": "qwdJmjRuGXu4"
      },
      "source": [
        "### **Passo 2** - Formulação das hipóteses $H_0$ e $H_1$;\n",
        "\n",
        "#### <font color='green'>Lembre-se, a hipótese nula **sempre** contém a alegação de igualdade</font>\n",
        "\n",
        "### $\\sigma^2_1 \\Rightarrow$ Variância salarial do cargo de Inteligência comercial\n",
        "### $\\sigma^2_2 \\Rightarrow$ Variância salarial do cargo de Consultor(a) de vendas\n",
        "> ### $H_0: \\sigma^2_1 = \\sigma^2_2$\n",
        ">\n",
        "> ### $H_1: \\sigma^2_1 \\ne \\sigma^2_2$"
      ]
    },
    {
      "cell_type": "markdown",
      "metadata": {
        "id": "Q-uFLvrtGXu-"
      },
      "source": [
        "\n",
        "\n",
        "---\n",
        "\n"
      ]
    },
    {
      "cell_type": "markdown",
      "metadata": {
        "id": "RpdwbDTqGXu-"
      },
      "source": [
        "### **Passo 3** - Fixação da significância do teste ($\\alpha$)"
      ]
    },
    {
      "cell_type": "markdown",
      "metadata": {
        "id": "JZcNvf50GXu_"
      },
      "source": [
        "> **Documentações:**\n",
        ">\n",
        "> - [**FDist**](https://www.rdocumentation.org/packages/stats/versions/3.6.2/topics/FDist)\n"
      ]
    },
    {
      "cell_type": "code",
      "execution_count": null,
      "metadata": {
        "id": "mBQoz2knGXvA",
        "vscode": {
          "languageId": "r"
        }
      },
      "outputs": [],
      "source": [
        "significancia <- 0.05\n",
        "confianca <- 1 - significancia\n",
        "df_1 <- length(salario_inteligencia) - 1\n",
        "df_2 <- length(salario_consultoria) - 1"
      ]
    },
    {
      "cell_type": "markdown",
      "metadata": {
        "id": "OW8kYF12GXvC"
      },
      "source": [
        "#### **Obtendo $F_{\\alpha}$**"
      ]
    },
    {
      "cell_type": "code",
      "execution_count": null,
      "metadata": {
        "colab": {
          "base_uri": "https://localhost:8080/",
          "height": 34
        },
        "id": "p8oI-6R1GXvE",
        "outputId": "5f810812-adee-4d55-f1e0-2620ba6d7646",
        "vscode": {
          "languageId": "r"
        }
      },
      "outputs": [
        {
          "data": {
            "text/html": [
              "1.46721915410664"
            ],
            "text/latex": [
              "1.46721915410664"
            ],
            "text/markdown": [
              "1.46721915410664"
            ],
            "text/plain": [
              "[1] 1.467219"
            ]
          },
          "metadata": {},
          "output_type": "display_data"
        }
      ],
      "source": [
        "F_alpha <- qf(confianca, df_1, df_2)\n",
        "F_alpha"
      ]
    },
    {
      "cell_type": "markdown",
      "metadata": {
        "id": "pTClNFgMGXvF"
      },
      "source": [
        "<img src=\"https://github.com/alura-cursos/estatistica-r-testes-hipoteses/blob/main/imagens/outros/teste_F_dist_5%25.png?raw=true\" alt=\"Distribuição normal (Z) com 5% de significância\" width=\"460\">"
      ]
    },
    {
      "cell_type": "markdown",
      "metadata": {
        "id": "KmnZ4ywhGXvG"
      },
      "source": [
        "\n",
        "\n",
        "---\n",
        "\n"
      ]
    },
    {
      "cell_type": "markdown",
      "metadata": {
        "id": "g3Bz0m5MGXvG"
      },
      "source": [
        "### **Passo 4** - cálculo da estatística-teste e verificação desse valor com as áreas de aceitação e rejeição do teste\n",
        "\n",
        "Para o nosso caso, aplicando um Teste F:\n",
        "\n",
        "### $$F = \\frac{s^2_1}{s^2_2}$$\n",
        "\n",
        "onde,\n",
        "* $s^2_1$ = variância da primeira amostra (Inteligência comercial)\n",
        "* $s^2_2$ = variância da segunda amostra (Consultor(a) de vendas)\n",
        "\n",
        "Para grau de liberdade ($df_{numerador} = n_1 - 1$ e $df_{denominador} = n_2 - 1$)"
      ]
    },
    {
      "cell_type": "code",
      "execution_count": null,
      "metadata": {
        "colab": {
          "base_uri": "https://localhost:8080/",
          "height": 34
        },
        "id": "RowLBJEnGXvI",
        "outputId": "0a69a895-6fe7-4c89-fa94-4b1c4c3a3001",
        "vscode": {
          "languageId": "r"
        }
      },
      "outputs": [
        {
          "data": {
            "text/html": [
              "1.13087552361203"
            ],
            "text/latex": [
              "1.13087552361203"
            ],
            "text/markdown": [
              "1.13087552361203"
            ],
            "text/plain": [
              "[1] 1.130876"
            ]
          },
          "metadata": {},
          "output_type": "display_data"
        }
      ],
      "source": [
        "F_calculado <- var(salario_inteligencia) / var(salario_consultoria)\n",
        "F_calculado"
      ]
    },
    {
      "cell_type": "markdown",
      "metadata": {
        "id": "LnoHc9AYVhTY"
      },
      "source": [
        "<img src=\"https://github.com/alura-cursos/estatistica-r-testes-hipoteses/blob/main/imagens/outros/teste_F_dist_problema.png?raw=true\" alt=\"Distribuição normal (Z) com 5% de significância\" width=\"460\">"
      ]
    },
    {
      "cell_type": "markdown",
      "metadata": {
        "id": "99YtZBMhGXvJ"
      },
      "source": [
        "\n",
        "\n",
        "---\n",
        "\n"
      ]
    },
    {
      "cell_type": "markdown",
      "metadata": {
        "id": "9zc0j_TOGXvK"
      },
      "source": [
        "### **Passo 5** - Aceitação ou rejeição da hipótese nula"
      ]
    },
    {
      "cell_type": "markdown",
      "metadata": {
        "id": "sOyrS_6BVxfX"
      },
      "source": [
        "<img src=\"https://github.com/alura-cursos/estatistica-r-testes-hipoteses/blob/main/imagens/outros/teste_F.png?raw=true\" alt=\"Tabela do Teste Z com as hipóteses, estatísticas de teste, valor crítico z e p-valor\">"
      ]
    },
    {
      "cell_type": "markdown",
      "metadata": {
        "id": "3cibPZyKGXvL"
      },
      "source": [
        "### <font color='green'>Critério do valor crítico</font>\n",
        "> ### Teste F\n",
        ">\n",
        "> ### Rejeitar $H_0$ se $F \\gt F_{\\alpha}$"
      ]
    },
    {
      "cell_type": "code",
      "execution_count": null,
      "metadata": {
        "colab": {
          "base_uri": "https://localhost:8080/",
          "height": 34
        },
        "id": "u5eMfOJmGXvL",
        "outputId": "758f87be-fbd3-4e7e-e2ab-27a42597460d",
        "vscode": {
          "languageId": "r"
        }
      },
      "outputs": [
        {
          "data": {
            "text/html": [
              "FALSE"
            ],
            "text/latex": [
              "FALSE"
            ],
            "text/markdown": [
              "FALSE"
            ],
            "text/plain": [
              "[1] FALSE"
            ]
          },
          "metadata": {},
          "output_type": "display_data"
        }
      ],
      "source": [
        "F_calculado > F_alpha"
      ]
    },
    {
      "cell_type": "markdown",
      "metadata": {
        "id": "7RPgRY0iGXvP"
      },
      "source": [
        "### <font color='green'>Critério do $p_{value}$</font>\n",
        "\n",
        "> ### Teste F\n",
        ">\n",
        "> ### Rejeitar $H_0$ se o $p_{value} \\lt \\alpha$"
      ]
    },
    {
      "cell_type": "markdown",
      "metadata": {
        "id": "aZ7RiqFKGXvS"
      },
      "source": [
        "> **Documentações:**\n",
        ">\n",
        "> - [**var.test**](https://www.rdocumentation.org/packages/stats/versions/3.6.2/topics/var.test)\n"
      ]
    },
    {
      "cell_type": "code",
      "execution_count": null,
      "metadata": {
        "colab": {
          "base_uri": "https://localhost:8080/",
          "height": 208
        },
        "id": "gMyY4Dy2W1TZ",
        "outputId": "152d0de2-b876-4da5-f09a-94f114580248",
        "vscode": {
          "languageId": "r"
        }
      },
      "outputs": [
        {
          "data": {
            "text/plain": [
              "\n",
              "\tF test to compare two variances\n",
              "\n",
              "data:  salario_inteligencia and salario_consultoria\n",
              "F = 1.1309, num df = 79, denom df = 72, p-value = 0.5977\n",
              "alternative hypothesis: true ratio of variances is not equal to 1\n",
              "95 percent confidence interval:\n",
              " 0.7156997 1.7782393\n",
              "sample estimates:\n",
              "ratio of variances \n",
              "          1.130876 \n"
            ]
          },
          "metadata": {},
          "output_type": "display_data"
        }
      ],
      "source": [
        "resultado_teste <- var.test(salario_inteligencia, salario_consultoria)\n",
        "resultado_teste"
      ]
    },
    {
      "cell_type": "markdown",
      "metadata": {
        "id": "gJv4PRPKGXvW"
      },
      "source": [
        "Com base nesses resultados, podemos concluir que:\n",
        "\n",
        "* Ao aplicar o **Teste F**, obtivemos a estatística F ($F(79,72) = 1.13$) e o p-valor ($p_{value} = 0.598$). Como o p-valor é maior que o nível de significância ($\\alpha = 0.05$), **não rejeitamos a hipótese nula**.\n",
        "\n",
        "* Isso indica que **não há evidências estatísticas** para afirmar que as variâncias salariais dos cargos de **Inteligência Comercial** e **Consultor(a) de Vendas** são diferentes. Portanto, a variabilidade salarial entre os dois cargos é estatisticamente igual ao nível de significância de 5%."
      ]
    },
    {
      "cell_type": "markdown",
      "metadata": {
        "id": "QiT4nNYeGXvX"
      },
      "source": [
        "Conseguimos responder ao nosso problema que ilustra como o teste F pode ser aplicado para comparar variâncias de duas amostras e aprendemos uma nova distribuição (F de Fisher-Snedecor).\n",
        "\n",
        "Ela será de suma importância para um teste chamado **ANOVA** que é largamente utilizado em modelos estatísticos e de aprendizado de máquina e que vamos aprender na sequência aplicando a mais um case."
      ]
    },
    {
      "cell_type": "markdown",
      "metadata": {
        "id": "16LfHvDvSRkV"
      },
      "source": [
        "## **3.4 Teste F (ANOVA) de uma via**\n",
        "\n",
        "---\n",
        "\n"
      ]
    },
    {
      "cell_type": "markdown",
      "metadata": {
        "id": "vcP5qJtvnm6u"
      },
      "source": [
        "### <font color=\"#E23155\" face=\"Verdana\">Demanda 9: Analisando as vendas de diferentes lojas</font>"
      ]
    },
    {
      "cell_type": "markdown",
      "metadata": {
        "id": "5hEVaadunm6u"
      },
      "source": [
        "Uma rede de varejo possui três lojas (A, B e C) e deseja avaliar **se há diferença significativa entre as vendas de um determinado produto nessas lojas**. Para isso, foram coletadas algumas observações das quantidades de vendas do produto de forma aleatória.  \n",
        "\n",
        "Queremos responder à seguinte pergunta:\n",
        "\n",
        "* Há diferença significativa entre as médias de vendas das três lojas ao nível de significância de 5%?\n"
      ]
    },
    {
      "cell_type": "markdown",
      "metadata": {
        "id": "1WraZS16nm6v"
      },
      "source": [
        "### <font color=\"#E23155\" face=\"Verdana\">Solução:</font>"
      ]
    },
    {
      "cell_type": "markdown",
      "metadata": {
        "id": "zgwaIeT7nm6v"
      },
      "source": [
        "Para solucionar este problema, precisaremos realizar um teste chamado de **ANOVA**, que compara as médias de três ou mais grupos independentes. Como temos um único fator (loja) e queremos comparar três grupos, utilizaremos um teste **ANOVA de uma via**.\n",
        "\n",
        "Vamos então ler os dados para resolver essa demanda\n",
        "\n",
        "### **Dados do problema**\n",
        "\n",
        "Os dados estão organizados na tabela `vendas_por_loja`, que contém as colunas:\n",
        "\n",
        "* vendas: ID da observação (de 1 a 31)\n",
        "* loja: Nome da loja (A, B ou C)\n",
        "* qtd_vendas: Quantidade de vendas na observação"
      ]
    },
    {
      "cell_type": "code",
      "execution_count": null,
      "metadata": {
        "colab": {
          "base_uri": "https://localhost:8080/",
          "height": 443
        },
        "id": "ZLFTVatGnSG9",
        "outputId": "a18acac4-f9cb-4f89-975f-9034d080aba0",
        "vscode": {
          "languageId": "r"
        }
      },
      "outputs": [
        {
          "data": {
            "text/html": [
              "<table class=\"dataframe\">\n",
              "<caption>A data.frame: 31 × 3</caption>\n",
              "<thead>\n",
              "\t<tr><th scope=col>vendas</th><th scope=col>loja</th><th scope=col>qtd_vendas</th></tr>\n",
              "\t<tr><th scope=col>&lt;int&gt;</th><th scope=col>&lt;fct&gt;</th><th scope=col>&lt;int&gt;</th></tr>\n",
              "</thead>\n",
              "<tbody>\n",
              "\t<tr><td>1</td><td>B</td><td>17133</td></tr>\n",
              "\t<tr><td>2</td><td>B</td><td>16467</td></tr>\n",
              "\t<tr><td>3</td><td>B</td><td>16000</td></tr>\n",
              "\t<tr><td>4</td><td>B</td><td>13933</td></tr>\n",
              "\t<tr><td>5</td><td>B</td><td>16567</td></tr>\n",
              "\t<tr><td>⋮</td><td>⋮</td><td>⋮</td></tr>\n",
              "\t<tr><td>27</td><td>A</td><td>16366</td></tr>\n",
              "\t<tr><td>28</td><td>A</td><td>19267</td></tr>\n",
              "\t<tr><td>29</td><td>C</td><td>20033</td></tr>\n",
              "\t<tr><td>30</td><td>A</td><td>15800</td></tr>\n",
              "\t<tr><td>31</td><td>A</td><td>17167</td></tr>\n",
              "</tbody>\n",
              "</table>\n"
            ],
            "text/latex": [
              "A data.frame: 31 × 3\n",
              "\\begin{tabular}{lll}\n",
              " vendas & loja & qtd\\_vendas\\\\\n",
              " <int> & <fct> & <int>\\\\\n",
              "\\hline\n",
              "\t 1 & B & 17133\\\\\n",
              "\t 2 & B & 16467\\\\\n",
              "\t 3 & B & 16000\\\\\n",
              "\t 4 & B & 13933\\\\\n",
              "\t 5 & B & 16567\\\\\n",
              "\t ⋮ & ⋮ & ⋮\\\\\n",
              "\t 27 & A & 16366\\\\\n",
              "\t 28 & A & 19267\\\\\n",
              "\t 29 & C & 20033\\\\\n",
              "\t 30 & A & 15800\\\\\n",
              "\t 31 & A & 17167\\\\\n",
              "\\end{tabular}\n"
            ],
            "text/markdown": [
              "\n",
              "A data.frame: 31 × 3\n",
              "\n",
              "| vendas &lt;int&gt; | loja &lt;fct&gt; | qtd_vendas &lt;int&gt; |\n",
              "|---|---|---|\n",
              "| 1 | B | 17133 |\n",
              "| 2 | B | 16467 |\n",
              "| 3 | B | 16000 |\n",
              "| 4 | B | 13933 |\n",
              "| 5 | B | 16567 |\n",
              "| ⋮ | ⋮ | ⋮ |\n",
              "| 27 | A | 16366 |\n",
              "| 28 | A | 19267 |\n",
              "| 29 | C | 20033 |\n",
              "| 30 | A | 15800 |\n",
              "| 31 | A | 17167 |\n",
              "\n"
            ],
            "text/plain": [
              "   vendas loja qtd_vendas\n",
              "1  1      B    17133     \n",
              "2  2      B    16467     \n",
              "3  3      B    16000     \n",
              "4  4      B    13933     \n",
              "5  5      B    16567     \n",
              "⋮  ⋮      ⋮    ⋮         \n",
              "27 27     A    16366     \n",
              "28 28     A    19267     \n",
              "29 29     C    20033     \n",
              "30 30     A    15800     \n",
              "31 31     A    17167     "
            ]
          },
          "metadata": {},
          "output_type": "display_data"
        }
      ],
      "source": [
        "vendas_por_loja <- read.csv(\"https://raw.githubusercontent.com/alura-cursos/estatistica-r-testes-hipoteses/refs/heads/main/dados/vendas_por_loja.csv\", stringsAsFactors = T)\n",
        "vendas_por_loja"
      ]
    },
    {
      "cell_type": "markdown",
      "metadata": {
        "id": "pJRCQzb0nm6v"
      },
      "source": [
        "Antes de aplicar o teste, precisamos verificar alguns de seus pressupostos:\n",
        "\n",
        "> ### <font color='green'>Pressupostos</font>\n",
        ">\n",
        "> 1. As amostras devem seguir uma distribuição normal.\n",
        ">\n",
        "> 2. As observações dentro de cada grupo devem ser independentes entre si.\n",
        ">\n",
        "> 3. As variâncias dos grupos devem ser aproximadamente iguais.\n",
        ">\n",
        "> 4. Os dados não podem ter outliers extremos.\n"
      ]
    },
    {
      "cell_type": "markdown",
      "metadata": {
        "id": "UcWTFv-snm6v"
      },
      "source": [
        "### **Passo 1** - Verificação da normalidade dos dados\n",
        "Como aprendemos anteriormente utilizaremos o teste Shapiro-Wilk para testar a normalidade dos dados. Como os dados vem separados, precisamos agrupar cada grupo separadamente e testar a normalidade para cada um."
      ]
    },
    {
      "cell_type": "code",
      "execution_count": null,
      "metadata": {
        "colab": {
          "base_uri": "https://localhost:8080/",
          "height": 192
        },
        "id": "J-ycb8XMnm6v",
        "outputId": "50f68f57-a0e2-4424-dd88-e9a251a7821d",
        "vscode": {
          "languageId": "r"
        }
      },
      "outputs": [
        {
          "data": {
            "text/html": [
              "<table class=\"dataframe\">\n",
              "<caption>A tibble: 3 × 4</caption>\n",
              "<thead>\n",
              "\t<tr><th scope=col>loja</th><th scope=col>variable</th><th scope=col>statistic</th><th scope=col>p.value</th></tr>\n",
              "\t<tr><th scope=col>&lt;fct&gt;</th><th scope=col>&lt;chr&gt;</th><th scope=col>&lt;dbl&gt;</th><th scope=col>&lt;dbl&gt;</th></tr>\n",
              "</thead>\n",
              "<tbody>\n",
              "\t<tr><td>A</td><td>qtd_vendas</td><td>0.9426539</td><td>0.5331988</td></tr>\n",
              "\t<tr><td>B</td><td>qtd_vendas</td><td>0.9052701</td><td>0.2841584</td></tr>\n",
              "\t<tr><td>C</td><td>qtd_vendas</td><td>0.9545846</td><td>0.7228009</td></tr>\n",
              "</tbody>\n",
              "</table>\n"
            ],
            "text/latex": [
              "A tibble: 3 × 4\n",
              "\\begin{tabular}{llll}\n",
              " loja & variable & statistic & p.value\\\\\n",
              " <fct> & <chr> & <dbl> & <dbl>\\\\\n",
              "\\hline\n",
              "\t A & qtd\\_vendas & 0.9426539 & 0.5331988\\\\\n",
              "\t B & qtd\\_vendas & 0.9052701 & 0.2841584\\\\\n",
              "\t C & qtd\\_vendas & 0.9545846 & 0.7228009\\\\\n",
              "\\end{tabular}\n"
            ],
            "text/markdown": [
              "\n",
              "A tibble: 3 × 4\n",
              "\n",
              "| loja &lt;fct&gt; | variable &lt;chr&gt; | statistic &lt;dbl&gt; | p.value &lt;dbl&gt; |\n",
              "|---|---|---|---|\n",
              "| A | qtd_vendas | 0.9426539 | 0.5331988 |\n",
              "| B | qtd_vendas | 0.9052701 | 0.2841584 |\n",
              "| C | qtd_vendas | 0.9545846 | 0.7228009 |\n",
              "\n"
            ],
            "text/plain": [
              "  loja variable   statistic p.value  \n",
              "1 A    qtd_vendas 0.9426539 0.5331988\n",
              "2 B    qtd_vendas 0.9052701 0.2841584\n",
              "3 C    qtd_vendas 0.9545846 0.7228009"
            ]
          },
          "metadata": {},
          "output_type": "display_data"
        }
      ],
      "source": [
        "# Teste de Shapiro-Wilk para cada loja\n",
        "vendas_por_loja %>%\n",
        "  group_by(loja) %>%\n",
        "  summarise(shapiro_test(qtd_vendas))"
      ]
    },
    {
      "cell_type": "markdown",
      "metadata": {
        "id": "PlAqWoTjnm6w"
      },
      "source": [
        "Como os p-valores das três amostras são maiores que o nível de significância ($\\alpha = 0.05$), não rejeitamos a hipótese de normalidade. Portanto, os dados seguem uma distribuição normal, e podemos prosseguir com o teste.\n"
      ]
    },
    {
      "cell_type": "markdown",
      "metadata": {
        "id": "8t2WzJRewP-1"
      },
      "source": [
        "\n",
        "\n",
        "---\n",
        "\n"
      ]
    },
    {
      "cell_type": "markdown",
      "metadata": {
        "id": "lIKGTMrNvTEm"
      },
      "source": [
        "### **Passo 2** - Teste de Homogeneidade das variâncias (Levene)\n",
        "\n",
        "A ANOVA pressupõe que as variâncias dos grupos sejam homogêneas. Para testar essa suposição, usamos o **teste de Levene**. Se o $p_{value} > 0.05$, assumimos homogeneidade das variâncias.\n",
        "\n",
        "> **Documentações:**\n",
        ">\n",
        "> - [**leveneTest**](https://www.rdocumentation.org/packages/car/versions/3.1-2/topics/leveneTest)\n"
      ]
    },
    {
      "cell_type": "code",
      "execution_count": null,
      "metadata": {
        "colab": {
          "base_uri": "https://localhost:8080/",
          "height": 161
        },
        "id": "A4rfwKS5nm6w",
        "outputId": "e5f03072-def6-40e6-fc3c-79e67329aebf",
        "vscode": {
          "languageId": "r"
        }
      },
      "outputs": [
        {
          "data": {
            "text/html": [
              "<table class=\"dataframe\">\n",
              "<caption>A anova: 2 × 3</caption>\n",
              "<thead>\n",
              "\t<tr><th></th><th scope=col>Df</th><th scope=col>F value</th><th scope=col>Pr(&gt;F)</th></tr>\n",
              "\t<tr><th></th><th scope=col>&lt;int&gt;</th><th scope=col>&lt;dbl&gt;</th><th scope=col>&lt;dbl&gt;</th></tr>\n",
              "</thead>\n",
              "<tbody>\n",
              "\t<tr><th scope=row>group</th><td> 2</td><td>0.5149507</td><td>0.6030795</td></tr>\n",
              "\t<tr><th scope=row> </th><td>28</td><td>       NA</td><td>       NA</td></tr>\n",
              "</tbody>\n",
              "</table>\n"
            ],
            "text/latex": [
              "A anova: 2 × 3\n",
              "\\begin{tabular}{r|lll}\n",
              "  & Df & F value & Pr(>F)\\\\\n",
              "  & <int> & <dbl> & <dbl>\\\\\n",
              "\\hline\n",
              "\tgroup &  2 & 0.5149507 & 0.6030795\\\\\n",
              "\t  & 28 &        NA &        NA\\\\\n",
              "\\end{tabular}\n"
            ],
            "text/markdown": [
              "\n",
              "A anova: 2 × 3\n",
              "\n",
              "| <!--/--> | Df &lt;int&gt; | F value &lt;dbl&gt; | Pr(&gt;F) &lt;dbl&gt; |\n",
              "|---|---|---|---|\n",
              "| group |  2 | 0.5149507 | 0.6030795 |\n",
              "| <!----> | 28 |        NA |        NA |\n",
              "\n"
            ],
            "text/plain": [
              "      Df F value   Pr(>F)   \n",
              "group  2 0.5149507 0.6030795\n",
              "      28        NA        NA"
            ]
          },
          "metadata": {},
          "output_type": "display_data"
        }
      ],
      "source": [
        "library(car, warn.conflicts = F)\n",
        "leveneTest(qtd_vendas ~ loja, data = vendas_por_loja)"
      ]
    },
    {
      "cell_type": "markdown",
      "metadata": {
        "id": "iKRWpcIJnm6w"
      },
      "source": [
        "\n",
        "\n",
        "---\n",
        "\n"
      ]
    },
    {
      "cell_type": "markdown",
      "metadata": {
        "id": "7c_WBmprwSd0"
      },
      "source": [
        "### **Passo 3** - Verificação de Outliers\n",
        "\n",
        "O teste de ANOVA não é adequado se houver muitos outliers extremos. Neste caso, pode ser necessário revisar os dados. Para verificar a presença de outliers, utilizaremos o método **IQR (Intervalo Interquartil)** usando a função `identify_outliers()` do pacote `rstatix`.\n",
        "\n",
        "> **Documentações:**\n",
        ">\n",
        "> - [**identify_outliers**](https://www.rdocumentation.org/packages/rstatix/versions/0.7.2/topics/identify_outliers)"
      ]
    },
    {
      "cell_type": "code",
      "execution_count": null,
      "metadata": {
        "colab": {
          "base_uri": "https://localhost:8080/",
          "height": 224
        },
        "id": "0U-UtGNIwSd1",
        "outputId": "2a3ebd2e-b54d-43fd-eda3-6a1338c7e959",
        "vscode": {
          "languageId": "r"
        }
      },
      "outputs": [
        {
          "data": {
            "text/html": [
              "<table class=\"dataframe\">\n",
              "<caption>A tibble: 4 × 5</caption>\n",
              "<thead>\n",
              "\t<tr><th scope=col>loja</th><th scope=col>vendas</th><th scope=col>qtd_vendas</th><th scope=col>is.outlier</th><th scope=col>is.extreme</th></tr>\n",
              "\t<tr><th scope=col>&lt;fct&gt;</th><th scope=col>&lt;int&gt;</th><th scope=col>&lt;int&gt;</th><th scope=col>&lt;lgl&gt;</th><th scope=col>&lt;lgl&gt;</th></tr>\n",
              "</thead>\n",
              "<tbody>\n",
              "\t<tr><td>A</td><td>24</td><td>22933</td><td>TRUE</td><td>FALSE</td></tr>\n",
              "\t<tr><td>B</td><td> 4</td><td>13933</td><td>TRUE</td><td>FALSE</td></tr>\n",
              "\t<tr><td>C</td><td> 9</td><td>12900</td><td>TRUE</td><td>FALSE</td></tr>\n",
              "\t<tr><td>C</td><td>29</td><td>20033</td><td>TRUE</td><td>FALSE</td></tr>\n",
              "</tbody>\n",
              "</table>\n"
            ],
            "text/latex": [
              "A tibble: 4 × 5\n",
              "\\begin{tabular}{lllll}\n",
              " loja & vendas & qtd\\_vendas & is.outlier & is.extreme\\\\\n",
              " <fct> & <int> & <int> & <lgl> & <lgl>\\\\\n",
              "\\hline\n",
              "\t A & 24 & 22933 & TRUE & FALSE\\\\\n",
              "\t B &  4 & 13933 & TRUE & FALSE\\\\\n",
              "\t C &  9 & 12900 & TRUE & FALSE\\\\\n",
              "\t C & 29 & 20033 & TRUE & FALSE\\\\\n",
              "\\end{tabular}\n"
            ],
            "text/markdown": [
              "\n",
              "A tibble: 4 × 5\n",
              "\n",
              "| loja &lt;fct&gt; | vendas &lt;int&gt; | qtd_vendas &lt;int&gt; | is.outlier &lt;lgl&gt; | is.extreme &lt;lgl&gt; |\n",
              "|---|---|---|---|---|\n",
              "| A | 24 | 22933 | TRUE | FALSE |\n",
              "| B |  4 | 13933 | TRUE | FALSE |\n",
              "| C |  9 | 12900 | TRUE | FALSE |\n",
              "| C | 29 | 20033 | TRUE | FALSE |\n",
              "\n"
            ],
            "text/plain": [
              "  loja vendas qtd_vendas is.outlier is.extreme\n",
              "1 A    24     22933      TRUE       FALSE     \n",
              "2 B     4     13933      TRUE       FALSE     \n",
              "3 C     9     12900      TRUE       FALSE     \n",
              "4 C    29     20033      TRUE       FALSE     "
            ]
          },
          "metadata": {},
          "output_type": "display_data"
        }
      ],
      "source": [
        "vendas_por_loja %>%\n",
        "  group_by(loja) %>%\n",
        "  identify_outliers(qtd_vendas)"
      ]
    },
    {
      "cell_type": "markdown",
      "metadata": {
        "id": "Y_odXUHswTWO"
      },
      "source": [
        "\n",
        "\n",
        "---\n",
        "\n"
      ]
    },
    {
      "cell_type": "markdown",
      "metadata": {
        "id": "N2HB9aZ9nm6w"
      },
      "source": [
        "### **Passo 4** - Formulação das hipóteses $H_0$ e $H_1$;\n",
        "\n",
        "#### <font color='green'>Lembre-se, a hipótese nula **sempre** contém a alegação de igualdade</font>\n",
        "\n",
        "> ### $H_0:$ As médias de vendas das três lojas são iguais ($\\mu_A = \\mu_B = \\mu_C$)\n",
        ">\n",
        "> ### $H_1: $ Pelo menos uma das lojas tem média de vendas diferente das demais."
      ]
    },
    {
      "cell_type": "markdown",
      "metadata": {
        "id": "N7pbP6OWnm6w"
      },
      "source": [
        "\n",
        "\n",
        "---\n",
        "\n"
      ]
    },
    {
      "cell_type": "markdown",
      "metadata": {
        "id": "5aG3GE_1nm6w"
      },
      "source": [
        "### **Passo 5** - Fixação da significância do teste ($\\alpha$)"
      ]
    },
    {
      "cell_type": "markdown",
      "metadata": {
        "id": "TX94atQmnm6w"
      },
      "source": [
        "> **Documentações:**\n",
        ">\n",
        "> - [**FDist**](https://www.rdocumentation.org/packages/stats/versions/3.6.2/topics/FDist)\n",
        "\n",
        "Para grau de liberdade ($df_1 = k - 1 $ e $df_2 = n - k$), onde:\n",
        "* $k$ = quantidade de grupos\n",
        "* $n$ = quantidade de amostras"
      ]
    },
    {
      "cell_type": "code",
      "execution_count": null,
      "metadata": {
        "id": "IhjOVcjPnm6x",
        "vscode": {
          "languageId": "r"
        }
      },
      "outputs": [],
      "source": [
        "significancia <- 0.05\n",
        "confianca <- 1 - significancia\n",
        "k <- 3\n",
        "n <- 31\n",
        "df_1 <- k - 1\n",
        "df_2 <- n - k"
      ]
    },
    {
      "cell_type": "markdown",
      "metadata": {
        "id": "1cPsshoTnm6x"
      },
      "source": [
        "#### **Obtendo $F_{\\alpha}$**"
      ]
    },
    {
      "cell_type": "code",
      "execution_count": null,
      "metadata": {
        "colab": {
          "base_uri": "https://localhost:8080/",
          "height": 34
        },
        "id": "pPhTChFxnm6x",
        "outputId": "1982a4fb-09eb-4c28-f018-e86c6ddf5b48",
        "vscode": {
          "languageId": "r"
        }
      },
      "outputs": [
        {
          "data": {
            "text/html": [
              "3.34038555823776"
            ],
            "text/latex": [
              "3.34038555823776"
            ],
            "text/markdown": [
              "3.34038555823776"
            ],
            "text/plain": [
              "[1] 3.340386"
            ]
          },
          "metadata": {},
          "output_type": "display_data"
        }
      ],
      "source": [
        "F_alpha <- qf(confianca, df_1, df_2)\n",
        "F_alpha"
      ]
    },
    {
      "cell_type": "markdown",
      "metadata": {
        "id": "DpImDKlDnm6x"
      },
      "source": [
        "<img src=\"https://github.com/alura-cursos/estatistica-r-testes-hipoteses/blob/main/imagens/outros/teste_F_dist_5%25_anova.png?raw=true\" alt=\"Distribuição normal (Z) com 5% de significância\" width=\"460\">\n",
        "\n"
      ]
    },
    {
      "cell_type": "markdown",
      "metadata": {
        "id": "jYZWPWE3nm6x"
      },
      "source": [
        "\n",
        "\n",
        "---\n",
        "\n"
      ]
    },
    {
      "cell_type": "markdown",
      "metadata": {
        "id": "jwI7685onm6x"
      },
      "source": [
        "### **Passo 6** - cálculo da estatística-teste e verificação desse valor com as áreas de aceitação e rejeição do teste\n",
        "\n"
      ]
    },
    {
      "cell_type": "markdown",
      "metadata": {
        "id": "PP_CKubM1p7R"
      },
      "source": [
        "<img src=\"https://github.com/alura-cursos/estatistica-r-testes-hipoteses/blob/main/imagens/outros/ANOVA.png?raw=true\" alt=\"Distribuição normal (Z) com 5% de significância\">"
      ]
    },
    {
      "cell_type": "markdown",
      "metadata": {
        "id": "DGRHmrVZRUnt"
      },
      "source": [
        "> **Documentações:**\n",
        ">\n",
        "> - [**aov**](https://www.rdocumentation.org/packages/stats/versions/3.6.2/topics/aov)\n",
        "> - [**summary**](https://www.rdocumentation.org/packages/base/versions/3.6.2/topics/summary)"
      ]
    },
    {
      "cell_type": "code",
      "execution_count": null,
      "metadata": {
        "colab": {
          "base_uri": "https://localhost:8080/",
          "height": 104
        },
        "id": "LgUadEnenm6x",
        "outputId": "2a757419-e502-4aa9-c509-1b5e001c7ea4",
        "vscode": {
          "languageId": "r"
        }
      },
      "outputs": [
        {
          "data": {
            "text/plain": [
              "            Df   Sum Sq  Mean Sq F value  Pr(>F)   \n",
              "loja         2 36310236 18155118    5.52 0.00953 **\n",
              "Residuals   28 92087333  3288833                   \n",
              "---\n",
              "Signif. codes:  0 ‘***’ 0.001 ‘**’ 0.01 ‘*’ 0.05 ‘.’ 0.1 ‘ ’ 1"
            ]
          },
          "metadata": {},
          "output_type": "display_data"
        }
      ],
      "source": [
        "resultado_anova <- aov(qtd_vendas ~ loja, data = vendas_por_loja)\n",
        "summary(resultado_anova)"
      ]
    },
    {
      "cell_type": "markdown",
      "metadata": {
        "id": "xZbfHtZJnm6y"
      },
      "source": [
        "\n",
        "\n",
        "---\n",
        "\n"
      ]
    },
    {
      "cell_type": "markdown",
      "metadata": {
        "id": "zqgpFKD2nm6y"
      },
      "source": [
        "### **Passo 7** - Aceitação ou rejeição da hipótese nula"
      ]
    },
    {
      "cell_type": "markdown",
      "metadata": {
        "id": "1ZQbDdjonm6y"
      },
      "source": [
        "<img src=\"https://github.com/alura-cursos/estatistica-r-testes-hipoteses/blob/main/imagens/outros/teste_F.png?raw=true\" alt=\"Tabela do Teste Z com as hipóteses, estatísticas de teste, valor crítico z e p-valor\">"
      ]
    },
    {
      "cell_type": "markdown",
      "metadata": {
        "id": "qsW2EE92nm6y"
      },
      "source": [
        "### <font color='green'>Critério do valor crítico</font>\n",
        "> ### Teste F\n",
        ">\n",
        "> ### Rejeitar $H_0$ se $F \\gt F_{\\alpha}$"
      ]
    },
    {
      "cell_type": "code",
      "execution_count": null,
      "metadata": {
        "colab": {
          "base_uri": "https://localhost:8080/",
          "height": 34
        },
        "id": "90xFLf-5OGBg",
        "outputId": "77f8736e-109c-442b-aa46-32ae4d0e20d2",
        "vscode": {
          "languageId": "r"
        }
      },
      "outputs": [
        {
          "data": {
            "text/html": [
              "5.52023052962832"
            ],
            "text/latex": [
              "5.52023052962832"
            ],
            "text/markdown": [
              "5.52023052962832"
            ],
            "text/plain": [
              "[1] 5.520231"
            ]
          },
          "metadata": {},
          "output_type": "display_data"
        }
      ],
      "source": [
        "F_calculado <- unlist(summary(resultado_anova))[[\"F value1\"]]\n",
        "F_calculado"
      ]
    },
    {
      "cell_type": "code",
      "execution_count": null,
      "metadata": {
        "colab": {
          "base_uri": "https://localhost:8080/",
          "height": 34
        },
        "id": "q0tKPeaJnm6y",
        "outputId": "6e6e184a-4c55-4777-f3b6-455bd88b355f",
        "vscode": {
          "languageId": "r"
        }
      },
      "outputs": [
        {
          "data": {
            "text/html": [
              "TRUE"
            ],
            "text/latex": [
              "TRUE"
            ],
            "text/markdown": [
              "TRUE"
            ],
            "text/plain": [
              "[1] TRUE"
            ]
          },
          "metadata": {},
          "output_type": "display_data"
        }
      ],
      "source": [
        "F_calculado > F_alpha"
      ]
    },
    {
      "cell_type": "markdown",
      "metadata": {
        "id": "WW-Zcs0qnm6y"
      },
      "source": [
        "### <font color='green'>Critério do $p_{value}$</font>\n",
        "\n",
        "> ### Teste F\n",
        ">\n",
        "> ### Rejeitar $H_0$ se o $p_{value} \\lt \\alpha$"
      ]
    },
    {
      "cell_type": "code",
      "execution_count": null,
      "metadata": {
        "colab": {
          "base_uri": "https://localhost:8080/",
          "height": 34
        },
        "id": "2YoojxQbnm6y",
        "outputId": "f14760db-a68e-467f-fd65-d714de48717a",
        "vscode": {
          "languageId": "r"
        }
      },
      "outputs": [
        {
          "data": {
            "text/html": [
              "0.00952803420421936"
            ],
            "text/latex": [
              "0.00952803420421936"
            ],
            "text/markdown": [
              "0.00952803420421936"
            ],
            "text/plain": [
              "[1] 0.009528034"
            ]
          },
          "metadata": {},
          "output_type": "display_data"
        }
      ],
      "source": [
        "p_valor <- unlist(summary(resultado_anova))[[\"Pr(>F)1\"]]\n",
        "p_valor"
      ]
    },
    {
      "cell_type": "code",
      "execution_count": null,
      "metadata": {
        "colab": {
          "base_uri": "https://localhost:8080/",
          "height": 34
        },
        "id": "9aQeegkESW9a",
        "outputId": "2dfb180a-3fd6-441e-d30c-b4b8882bf5b6",
        "vscode": {
          "languageId": "r"
        }
      },
      "outputs": [
        {
          "data": {
            "text/html": [
              "TRUE"
            ],
            "text/latex": [
              "TRUE"
            ],
            "text/markdown": [
              "TRUE"
            ],
            "text/plain": [
              "[1] TRUE"
            ]
          },
          "metadata": {},
          "output_type": "display_data"
        }
      ],
      "source": [
        "p_valor < significancia"
      ]
    },
    {
      "cell_type": "markdown",
      "metadata": {
        "id": "Gc1-g7J3nm6z"
      },
      "source": [
        "Com base nesses resultados, podemos concluir que:\n",
        "\n",
        "* Ao aplicar o **Teste ANOVA de uma via**, obtivemos a estatística F ($F(2,28) = 5.52$) e o p-valor ($p_{value} = 0.0095$). Como o p-valor é menor que o nível de significância ($\\alpha = 0.05$), **rejeitamos a hipótese nula**.\n",
        "\n",
        "* Isso indica que **há diferença significativa** nas médias de vendas entre pelo menos duas das três lojas. Portanto, o desempenho de vendas não é igual entre as lojas ao nível de significância de 5%. Cabendo investigação de qual ou quais influenciam nesse resultado."
      ]
    },
    {
      "cell_type": "markdown",
      "metadata": {
        "id": "jCmCrvzZnm6z"
      },
      "source": [
        "Conseguimos responder ao nosso problema que ilustra como o teste ANOVA de uma via pode ser aplicado para comparar médias de múltiplos grupos para um fator em comum (tipo de loja).\n",
        "\n",
        "Na sequência aprenderemos também como trabalhar com o **Teste ANOVA para duas vias** que também é largamente utilizado em modelos estatísticos e de aprendizado de máquina e que vamos aprender na sequência aplicando a mais um case."
      ]
    },
    {
      "cell_type": "markdown",
      "metadata": {
        "id": "lTF-7RHuS1FP"
      },
      "source": [
        "## **3.5 Teste F (ANOVA) de duas vias**\n",
        "\n",
        "---\n",
        "\n"
      ]
    },
    {
      "cell_type": "markdown",
      "metadata": {
        "id": "goO1WmadiTv2"
      },
      "source": [
        "### <font color=\"#E23155\" face=\"Verdana\">Demanda 10: Analisando a produção em diferentes contextos</font>"
      ]
    },
    {
      "cell_type": "markdown",
      "metadata": {
        "id": "1GJ0zP-6iTv2"
      },
      "source": [
        "Uma indústria deseja avaliar se o **tempo de produção de lotes** é influenciado pelo **tipo de máquina** (A, B ou C) e pelo **turno de produção** (Diurno ou Noturno). Para isso, foram coletados dados de tempo de produção (em minutos) para diferentes combinações de máquinas e turnos.\n",
        "\n",
        "O objetivo é determinar se há diferença significativa no tempo de produção devido ao tipo de máquina, ao turno ou à interação entre esses fatores. **O nível de significância adotado é de 5%.**\n",
        "\n",
        "A partir dos dados coletados, queremos responder às seguintes perguntas:\n",
        "\n",
        "1. O tipo de máquina afeta o tempo de produção?\n",
        "2. O turno de produção afeta o tempo de produção?\n",
        "3. Há interação entre o tipo de máquina e o turno de produção?"
      ]
    },
    {
      "cell_type": "markdown",
      "metadata": {
        "id": "xsWHDz3xiTv2"
      },
      "source": [
        "### <font color=\"#E23155\" face=\"Verdana\">Solução:</font>"
      ]
    },
    {
      "cell_type": "markdown",
      "metadata": {
        "id": "KFxXXu6MiTv2"
      },
      "source": [
        "Para solucionar este problema, precisaremos realizar um teste **ANOVA de duas vias**, que permite avaliar os efeitos de dois fatores e sua interação.\n",
        "\n",
        "Vamos então ler os dados para resolver essa demanda\n",
        "\n",
        "### **Dados do problema**\n",
        "\n",
        "Os dados estão organizados na tabela `producao`, que contém as colunas:\n",
        "\n",
        "* turno: turno de produção (Diurno ou Noturno)\n",
        "* tipo_maquina: tipo de máquina (A, B ou C)\n",
        "* tempo_prod_lote: tempo de produção (em minutos)"
      ]
    },
    {
      "cell_type": "code",
      "execution_count": null,
      "metadata": {
        "colab": {
          "base_uri": "https://localhost:8080/",
          "height": 443
        },
        "id": "nC-NTzdjjSQm",
        "outputId": "4b0d420d-fe62-491f-9170-143e8b3a11b4",
        "vscode": {
          "languageId": "r"
        }
      },
      "outputs": [
        {
          "data": {
            "text/html": [
              "<table class=\"dataframe\">\n",
              "<caption>A data.frame: 48 × 3</caption>\n",
              "<thead>\n",
              "\t<tr><th scope=col>turno</th><th scope=col>tipo_maquina</th><th scope=col>tempo_prod_lote</th></tr>\n",
              "\t<tr><th scope=col>&lt;fct&gt;</th><th scope=col>&lt;fct&gt;</th><th scope=col>&lt;int&gt;</th></tr>\n",
              "</thead>\n",
              "<tbody>\n",
              "\t<tr><td>Diurno </td><td>A</td><td>20</td></tr>\n",
              "\t<tr><td>Noturno</td><td>A</td><td>50</td></tr>\n",
              "\t<tr><td>Noturno</td><td>A</td><td>55</td></tr>\n",
              "\t<tr><td>Diurno </td><td>A</td><td>30</td></tr>\n",
              "\t<tr><td>Diurno </td><td>A</td><td>30</td></tr>\n",
              "\t<tr><td>⋮</td><td>⋮</td><td>⋮</td></tr>\n",
              "\t<tr><td>Diurno </td><td>C</td><td>65</td></tr>\n",
              "\t<tr><td>Diurno </td><td>C</td><td>55</td></tr>\n",
              "\t<tr><td>Noturno</td><td>C</td><td>55</td></tr>\n",
              "\t<tr><td>Noturno</td><td>C</td><td>65</td></tr>\n",
              "\t<tr><td>Noturno</td><td>C</td><td>60</td></tr>\n",
              "</tbody>\n",
              "</table>\n"
            ],
            "text/latex": [
              "A data.frame: 48 × 3\n",
              "\\begin{tabular}{lll}\n",
              " turno & tipo\\_maquina & tempo\\_prod\\_lote\\\\\n",
              " <fct> & <fct> & <int>\\\\\n",
              "\\hline\n",
              "\t Diurno  & A & 20\\\\\n",
              "\t Noturno & A & 50\\\\\n",
              "\t Noturno & A & 55\\\\\n",
              "\t Diurno  & A & 30\\\\\n",
              "\t Diurno  & A & 30\\\\\n",
              "\t ⋮ & ⋮ & ⋮\\\\\n",
              "\t Diurno  & C & 65\\\\\n",
              "\t Diurno  & C & 55\\\\\n",
              "\t Noturno & C & 55\\\\\n",
              "\t Noturno & C & 65\\\\\n",
              "\t Noturno & C & 60\\\\\n",
              "\\end{tabular}\n"
            ],
            "text/markdown": [
              "\n",
              "A data.frame: 48 × 3\n",
              "\n",
              "| turno &lt;fct&gt; | tipo_maquina &lt;fct&gt; | tempo_prod_lote &lt;int&gt; |\n",
              "|---|---|---|\n",
              "| Diurno  | A | 20 |\n",
              "| Noturno | A | 50 |\n",
              "| Noturno | A | 55 |\n",
              "| Diurno  | A | 30 |\n",
              "| Diurno  | A | 30 |\n",
              "| ⋮ | ⋮ | ⋮ |\n",
              "| Diurno  | C | 65 |\n",
              "| Diurno  | C | 55 |\n",
              "| Noturno | C | 55 |\n",
              "| Noturno | C | 65 |\n",
              "| Noturno | C | 60 |\n",
              "\n"
            ],
            "text/plain": [
              "   turno   tipo_maquina tempo_prod_lote\n",
              "1  Diurno  A            20             \n",
              "2  Noturno A            50             \n",
              "3  Noturno A            55             \n",
              "4  Diurno  A            30             \n",
              "5  Diurno  A            30             \n",
              "⋮  ⋮       ⋮            ⋮              \n",
              "44 Diurno  C            65             \n",
              "45 Diurno  C            55             \n",
              "46 Noturno C            55             \n",
              "47 Noturno C            65             \n",
              "48 Noturno C            60             "
            ]
          },
          "metadata": {},
          "output_type": "display_data"
        }
      ],
      "source": [
        "producao <- read.csv(\"https://raw.githubusercontent.com/alura-cursos/estatistica-r-testes-hipoteses/refs/heads/main/dados/producao.csv\", stringsAsFactors = T)\n",
        "producao"
      ]
    },
    {
      "cell_type": "markdown",
      "metadata": {
        "id": "DBGT777qiTv3"
      },
      "source": [
        "Antes de aplicar o teste, precisamos verificar alguns de seus pressupostos:\n",
        "\n",
        "> ### <font color='green'>Pressupostos</font>\n",
        ">\n",
        "> 1. As amostras devem seguir uma distribuição normal.\n",
        ">\n",
        "> 2. As observações dentro de cada grupo devem ser independentes entre si.\n",
        ">\n",
        "> 3. As variâncias dos grupos devem ser aproximadamente iguais.\n",
        ">\n",
        "> 4. Os dados não podem ter outliers extremos.\n"
      ]
    },
    {
      "cell_type": "markdown",
      "metadata": {
        "id": "PaV-I3ExiTv3"
      },
      "source": [
        "### **Passo 1** - Verificação da normalidade dos dados\n",
        "\n",
        "Antes de aplicar o teste ANOVA, precisamos verificar se os tempos de produção seguem uma distribuição normal para cada combinação de tipo de máquina e turno. Para isso, utilizaremos o teste de Shapiro-Wilk."
      ]
    },
    {
      "cell_type": "code",
      "execution_count": null,
      "metadata": {
        "colab": {
          "base_uri": "https://localhost:8080/",
          "height": 286
        },
        "id": "urjXA3NWiTv3",
        "outputId": "e1f2b785-1004-4ab5-b884-606035efecf8",
        "vscode": {
          "languageId": "r"
        }
      },
      "outputs": [
        {
          "data": {
            "text/html": [
              "<table class=\"dataframe\">\n",
              "<caption>A tibble: 6 × 5</caption>\n",
              "<thead>\n",
              "\t<tr><th scope=col>turno</th><th scope=col>tipo_maquina</th><th scope=col>variable</th><th scope=col>statistic</th><th scope=col>p</th></tr>\n",
              "\t<tr><th scope=col>&lt;fct&gt;</th><th scope=col>&lt;fct&gt;</th><th scope=col>&lt;chr&gt;</th><th scope=col>&lt;dbl&gt;</th><th scope=col>&lt;dbl&gt;</th></tr>\n",
              "</thead>\n",
              "<tbody>\n",
              "\t<tr><td>Diurno </td><td>A</td><td>tempo_prod_lote</td><td>0.9508657</td><td>0.7199577</td></tr>\n",
              "\t<tr><td>Noturno</td><td>A</td><td>tempo_prod_lote</td><td>0.8972707</td><td>0.2729917</td></tr>\n",
              "\t<tr><td>Diurno </td><td>B</td><td>tempo_prod_lote</td><td>0.9666411</td><td>0.8704264</td></tr>\n",
              "\t<tr><td>Noturno</td><td>B</td><td>tempo_prod_lote</td><td>0.8989639</td><td>0.2828089</td></tr>\n",
              "\t<tr><td>Diurno </td><td>C</td><td>tempo_prod_lote</td><td>0.9410603</td><td>0.6215419</td></tr>\n",
              "\t<tr><td>Noturno</td><td>C</td><td>tempo_prod_lote</td><td>0.8715152</td><td>0.1559521</td></tr>\n",
              "</tbody>\n",
              "</table>\n"
            ],
            "text/latex": [
              "A tibble: 6 × 5\n",
              "\\begin{tabular}{lllll}\n",
              " turno & tipo\\_maquina & variable & statistic & p\\\\\n",
              " <fct> & <fct> & <chr> & <dbl> & <dbl>\\\\\n",
              "\\hline\n",
              "\t Diurno  & A & tempo\\_prod\\_lote & 0.9508657 & 0.7199577\\\\\n",
              "\t Noturno & A & tempo\\_prod\\_lote & 0.8972707 & 0.2729917\\\\\n",
              "\t Diurno  & B & tempo\\_prod\\_lote & 0.9666411 & 0.8704264\\\\\n",
              "\t Noturno & B & tempo\\_prod\\_lote & 0.8989639 & 0.2828089\\\\\n",
              "\t Diurno  & C & tempo\\_prod\\_lote & 0.9410603 & 0.6215419\\\\\n",
              "\t Noturno & C & tempo\\_prod\\_lote & 0.8715152 & 0.1559521\\\\\n",
              "\\end{tabular}\n"
            ],
            "text/markdown": [
              "\n",
              "A tibble: 6 × 5\n",
              "\n",
              "| turno &lt;fct&gt; | tipo_maquina &lt;fct&gt; | variable &lt;chr&gt; | statistic &lt;dbl&gt; | p &lt;dbl&gt; |\n",
              "|---|---|---|---|---|\n",
              "| Diurno  | A | tempo_prod_lote | 0.9508657 | 0.7199577 |\n",
              "| Noturno | A | tempo_prod_lote | 0.8972707 | 0.2729917 |\n",
              "| Diurno  | B | tempo_prod_lote | 0.9666411 | 0.8704264 |\n",
              "| Noturno | B | tempo_prod_lote | 0.8989639 | 0.2828089 |\n",
              "| Diurno  | C | tempo_prod_lote | 0.9410603 | 0.6215419 |\n",
              "| Noturno | C | tempo_prod_lote | 0.8715152 | 0.1559521 |\n",
              "\n"
            ],
            "text/plain": [
              "  turno   tipo_maquina variable        statistic p        \n",
              "1 Diurno  A            tempo_prod_lote 0.9508657 0.7199577\n",
              "2 Noturno A            tempo_prod_lote 0.8972707 0.2729917\n",
              "3 Diurno  B            tempo_prod_lote 0.9666411 0.8704264\n",
              "4 Noturno B            tempo_prod_lote 0.8989639 0.2828089\n",
              "5 Diurno  C            tempo_prod_lote 0.9410603 0.6215419\n",
              "6 Noturno C            tempo_prod_lote 0.8715152 0.1559521"
            ]
          },
          "metadata": {},
          "output_type": "display_data"
        }
      ],
      "source": [
        "producao %>%\n",
        "  group_by(tipo_maquina, turno) %>%\n",
        "  shapiro_test(tempo_prod_lote)"
      ]
    },
    {
      "cell_type": "markdown",
      "metadata": {
        "id": "RlsbX5JmiTv3"
      },
      "source": [
        "Todas as combinações de tipo de máquina e turno apresentam p-valor > 0.05, indicando que os dados seguem uma distribuição normal e que podemos prosseguir com o teste sem ajustes necessários.\n"
      ]
    },
    {
      "cell_type": "markdown",
      "metadata": {
        "id": "bTGlTn9SiTv3"
      },
      "source": [
        "\n",
        "\n",
        "---\n",
        "\n"
      ]
    },
    {
      "cell_type": "markdown",
      "metadata": {
        "id": "xikWz2FSiTv3"
      },
      "source": [
        "### **Passo 2** - Teste de Homogeneidade das variâncias (Levene)\n",
        "\n",
        "A **ANOVA de duas vias** pressupõe que as variâncias sejam homogêneas entre os grupos. Para testar essa suposição utilizaremos o **teste de Levene**. Se o $p_{value} > 0.05$, assumimos homogeneidade das variâncias.\n",
        "\n",
        "> **Documentações:**\n",
        ">\n",
        "> - [**leveneTest**](https://www.rdocumentation.org/packages/car/versions/3.1-2/topics/leveneTest)\n"
      ]
    },
    {
      "cell_type": "code",
      "execution_count": null,
      "metadata": {
        "colab": {
          "base_uri": "https://localhost:8080/",
          "height": 161
        },
        "id": "kDZJEqzCiTv3",
        "outputId": "c4d8f93f-7464-4b39-e31e-db4e6b3f22f1",
        "vscode": {
          "languageId": "r"
        }
      },
      "outputs": [
        {
          "data": {
            "text/html": [
              "<table class=\"dataframe\">\n",
              "<caption>A anova: 2 × 3</caption>\n",
              "<thead>\n",
              "\t<tr><th></th><th scope=col>Df</th><th scope=col>F value</th><th scope=col>Pr(&gt;F)</th></tr>\n",
              "\t<tr><th></th><th scope=col>&lt;int&gt;</th><th scope=col>&lt;dbl&gt;</th><th scope=col>&lt;dbl&gt;</th></tr>\n",
              "</thead>\n",
              "<tbody>\n",
              "\t<tr><th scope=row>group</th><td> 5</td><td>1.425225</td><td>0.2350678</td></tr>\n",
              "\t<tr><th scope=row> </th><td>42</td><td>      NA</td><td>       NA</td></tr>\n",
              "</tbody>\n",
              "</table>\n"
            ],
            "text/latex": [
              "A anova: 2 × 3\n",
              "\\begin{tabular}{r|lll}\n",
              "  & Df & F value & Pr(>F)\\\\\n",
              "  & <int> & <dbl> & <dbl>\\\\\n",
              "\\hline\n",
              "\tgroup &  5 & 1.425225 & 0.2350678\\\\\n",
              "\t  & 42 &       NA &        NA\\\\\n",
              "\\end{tabular}\n"
            ],
            "text/markdown": [
              "\n",
              "A anova: 2 × 3\n",
              "\n",
              "| <!--/--> | Df &lt;int&gt; | F value &lt;dbl&gt; | Pr(&gt;F) &lt;dbl&gt; |\n",
              "|---|---|---|---|\n",
              "| group |  5 | 1.425225 | 0.2350678 |\n",
              "| <!----> | 42 |       NA |        NA |\n",
              "\n"
            ],
            "text/plain": [
              "      Df F value  Pr(>F)   \n",
              "group  5 1.425225 0.2350678\n",
              "      42       NA        NA"
            ]
          },
          "metadata": {},
          "output_type": "display_data"
        }
      ],
      "source": [
        "library(car, warn.conflicts = F)\n",
        "leveneTest(tempo_prod_lote ~ tipo_maquina * turno, data = producao)"
      ]
    },
    {
      "cell_type": "markdown",
      "metadata": {
        "id": "60dS_jw4r2JF"
      },
      "source": [
        "Como o p-valor ($p_{value} = 0.23$) é maior que $\\alpha = 0.05$, **não rejeitamos a hipótese** de homogeneidade das variâncias."
      ]
    },
    {
      "cell_type": "markdown",
      "metadata": {
        "id": "1iQULpA9iTv4"
      },
      "source": [
        "\n",
        "\n",
        "---\n",
        "\n"
      ]
    },
    {
      "cell_type": "markdown",
      "metadata": {
        "id": "T1ACBlMAiTv4"
      },
      "source": [
        "### **Passo 3** - Verificação de Outliers\n",
        "\n",
        "O teste de ANOVA não é adequando se houver muitos outliers extremos. Neste caso, pode ser necessário revisar os dados. Para verificar a presença de outliers, utilizaremos o método **IQR (Intervalo Interquartil)** usando a função `identify_outliers()` do pacote `rstatix`.\n",
        "\n",
        "> **Documentações:**\n",
        ">\n",
        "> - [**identify_outliers**](https://www.rdocumentation.org/packages/rstatix/versions/0.7.2/topics/identify_outliers)"
      ]
    },
    {
      "cell_type": "code",
      "execution_count": null,
      "metadata": {
        "colab": {
          "base_uri": "https://localhost:8080/",
          "height": 161
        },
        "id": "0oZR_tZuiTv4",
        "outputId": "71d1ce69-f843-42cd-8ddb-055d8e0e0d19",
        "vscode": {
          "languageId": "r"
        }
      },
      "outputs": [
        {
          "data": {
            "text/html": [
              "<table class=\"dataframe\">\n",
              "<caption>A tibble: 2 × 5</caption>\n",
              "<thead>\n",
              "\t<tr><th scope=col>turno</th><th scope=col>tipo_maquina</th><th scope=col>tempo_prod_lote</th><th scope=col>is.outlier</th><th scope=col>is.extreme</th></tr>\n",
              "\t<tr><th scope=col>&lt;fct&gt;</th><th scope=col>&lt;fct&gt;</th><th scope=col>&lt;int&gt;</th><th scope=col>&lt;lgl&gt;</th><th scope=col>&lt;lgl&gt;</th></tr>\n",
              "</thead>\n",
              "<tbody>\n",
              "\t<tr><td>Noturno</td><td>B</td><td>50</td><td>TRUE</td><td>FALSE</td></tr>\n",
              "\t<tr><td>Noturno</td><td>C</td><td>70</td><td>TRUE</td><td> TRUE</td></tr>\n",
              "</tbody>\n",
              "</table>\n"
            ],
            "text/latex": [
              "A tibble: 2 × 5\n",
              "\\begin{tabular}{lllll}\n",
              " turno & tipo\\_maquina & tempo\\_prod\\_lote & is.outlier & is.extreme\\\\\n",
              " <fct> & <fct> & <int> & <lgl> & <lgl>\\\\\n",
              "\\hline\n",
              "\t Noturno & B & 50 & TRUE & FALSE\\\\\n",
              "\t Noturno & C & 70 & TRUE &  TRUE\\\\\n",
              "\\end{tabular}\n"
            ],
            "text/markdown": [
              "\n",
              "A tibble: 2 × 5\n",
              "\n",
              "| turno &lt;fct&gt; | tipo_maquina &lt;fct&gt; | tempo_prod_lote &lt;int&gt; | is.outlier &lt;lgl&gt; | is.extreme &lt;lgl&gt; |\n",
              "|---|---|---|---|---|\n",
              "| Noturno | B | 50 | TRUE | FALSE |\n",
              "| Noturno | C | 70 | TRUE |  TRUE |\n",
              "\n"
            ],
            "text/plain": [
              "  turno   tipo_maquina tempo_prod_lote is.outlier is.extreme\n",
              "1 Noturno B            50              TRUE       FALSE     \n",
              "2 Noturno C            70              TRUE        TRUE     "
            ]
          },
          "metadata": {},
          "output_type": "display_data"
        }
      ],
      "source": [
        "producao %>%\n",
        "  group_by(tipo_maquina, turno) %>%\n",
        "  identify_outliers(tempo_prod_lote)"
      ]
    },
    {
      "cell_type": "markdown",
      "metadata": {
        "id": "OTGH_8maiTv4"
      },
      "source": [
        "\n",
        "\n",
        "---\n",
        "\n"
      ]
    },
    {
      "cell_type": "markdown",
      "metadata": {
        "id": "Z5mUR6QdiTv4"
      },
      "source": [
        "### **Passo 4** - Formulação das hipóteses $H_0$ e $H_1$;\n",
        "\n",
        "#### <font color='green'>Lembre-se, a hipótese nula **sempre** contém a alegação de igualdade</font>\n",
        "\n",
        "> ### $H_0:$\n",
        "> - Não há diferença no tempo de produção devido ao tipo de máquina.\n",
        "> - Não há diferença no tempo de produção devido ao turno.\n",
        "> - Não há interação entre o tipo de máquina e o turno.\n",
        ">\n",
        "> ### $H_1:$\n",
        "> - O tipo de máquina afeta o tempo de produção.\n",
        "> - O turno afeta o tempo de produção.\n",
        "> - Há interação entre o tipo de máquina e o turno."
      ]
    },
    {
      "cell_type": "markdown",
      "metadata": {
        "id": "iqEu9sg-iTv4"
      },
      "source": [
        "\n",
        "\n",
        "---\n",
        "\n"
      ]
    },
    {
      "cell_type": "markdown",
      "metadata": {
        "id": "QI7CY7xHiTv5"
      },
      "source": [
        "### **Passo 5** - cálculo da estatística-teste e verificação desse valor com as áreas de aceitação e rejeição do teste\n",
        "\n"
      ]
    },
    {
      "cell_type": "markdown",
      "metadata": {
        "id": "DpizWNsK7fO_"
      },
      "source": [
        "A **ANOVA de duas vias** compara as médias dos grupos usando a estatística F, considerando os efeitos principais e a interação."
      ]
    },
    {
      "cell_type": "markdown",
      "metadata": {
        "id": "q7R4XNa7iTv5"
      },
      "source": [
        "> **Documentações:**\n",
        ">\n",
        "> - [**anova_test**](https://www.rdocumentation.org/packages/rstatix/versions/0.7.2/topics/anova_test)"
      ]
    },
    {
      "cell_type": "code",
      "execution_count": null,
      "metadata": {
        "colab": {
          "base_uri": "https://localhost:8080/",
          "height": 192
        },
        "id": "mDJtI02wjqPz",
        "outputId": "6c7dead1-5120-41cf-bbe9-1f9920e843af",
        "vscode": {
          "languageId": "r"
        }
      },
      "outputs": [
        {
          "data": {
            "text/html": [
              "<table class=\"dataframe\">\n",
              "<caption>A anova_test: 3 × 7</caption>\n",
              "<thead>\n",
              "\t<tr><th></th><th scope=col>Effect</th><th scope=col>DFn</th><th scope=col>DFd</th><th scope=col>F</th><th scope=col>p</th><th scope=col>p&lt;.05</th><th scope=col>ges</th></tr>\n",
              "\t<tr><th></th><th scope=col>&lt;chr&gt;</th><th scope=col>&lt;dbl&gt;</th><th scope=col>&lt;dbl&gt;</th><th scope=col>&lt;dbl&gt;</th><th scope=col>&lt;dbl&gt;</th><th scope=col>&lt;chr&gt;</th><th scope=col>&lt;dbl&gt;</th></tr>\n",
              "</thead>\n",
              "<tbody>\n",
              "\t<tr><th scope=row>1</th><td>turno             </td><td>1</td><td>42</td><td> 2.032</td><td>1.61e-01</td><td> </td><td>0.046</td></tr>\n",
              "\t<tr><th scope=row>2</th><td>tipo_maquina      </td><td>2</td><td>42</td><td>20.065</td><td>7.65e-07</td><td>*</td><td>0.489</td></tr>\n",
              "\t<tr><th scope=row>3</th><td>turno:tipo_maquina</td><td>2</td><td>42</td><td>11.911</td><td>7.99e-05</td><td>*</td><td>0.362</td></tr>\n",
              "</tbody>\n",
              "</table>\n"
            ],
            "text/latex": [
              "A anova\\_test: 3 × 7\n",
              "\\begin{tabular}{r|lllllll}\n",
              "  & Effect & DFn & DFd & F & p & p<.05 & ges\\\\\n",
              "  & <chr> & <dbl> & <dbl> & <dbl> & <dbl> & <chr> & <dbl>\\\\\n",
              "\\hline\n",
              "\t1 & turno              & 1 & 42 &  2.032 & 1.61e-01 &   & 0.046\\\\\n",
              "\t2 & tipo\\_maquina       & 2 & 42 & 20.065 & 7.65e-07 & * & 0.489\\\\\n",
              "\t3 & turno:tipo\\_maquina & 2 & 42 & 11.911 & 7.99e-05 & * & 0.362\\\\\n",
              "\\end{tabular}\n"
            ],
            "text/markdown": [
              "\n",
              "A anova_test: 3 × 7\n",
              "\n",
              "| <!--/--> | Effect &lt;chr&gt; | DFn &lt;dbl&gt; | DFd &lt;dbl&gt; | F &lt;dbl&gt; | p &lt;dbl&gt; | p&lt;.05 &lt;chr&gt; | ges &lt;dbl&gt; |\n",
              "|---|---|---|---|---|---|---|---|\n",
              "| 1 | turno              | 1 | 42 |  2.032 | 1.61e-01 | <!----> | 0.046 |\n",
              "| 2 | tipo_maquina       | 2 | 42 | 20.065 | 7.65e-07 | * | 0.489 |\n",
              "| 3 | turno:tipo_maquina | 2 | 42 | 11.911 | 7.99e-05 | * | 0.362 |\n",
              "\n"
            ],
            "text/plain": [
              "  Effect             DFn DFd F      p        p<.05 ges  \n",
              "1 turno              1   42   2.032 1.61e-01       0.046\n",
              "2 tipo_maquina       2   42  20.065 7.65e-07 *     0.489\n",
              "3 turno:tipo_maquina 2   42  11.911 7.99e-05 *     0.362"
            ]
          },
          "metadata": {},
          "output_type": "display_data"
        }
      ],
      "source": [
        "resultado_anova <- producao %>%\n",
        "  anova_test(tempo_prod_lote ~ turno * tipo_maquina)\n",
        "resultado_anova"
      ]
    },
    {
      "cell_type": "markdown",
      "metadata": {
        "id": "4YDBnmJciTv6"
      },
      "source": [
        "\n",
        "\n",
        "---\n",
        "\n"
      ]
    },
    {
      "cell_type": "markdown",
      "metadata": {
        "id": "cwDJ9HmgiTv6"
      },
      "source": [
        "### **Passo 6** - Aceitação ou rejeição da hipótese nula"
      ]
    },
    {
      "cell_type": "markdown",
      "metadata": {
        "id": "XCxkLrhJiTv6"
      },
      "source": [
        "### <font color='green'>Critério do $p_{value}$</font>\n",
        "\n",
        "> ### Teste F\n",
        ">\n",
        "> ### Rejeitar $H_0$ se o $p_{value} \\lt \\alpha$"
      ]
    },
    {
      "cell_type": "code",
      "execution_count": null,
      "metadata": {
        "id": "-Uq1QNrp8-Q2",
        "vscode": {
          "languageId": "r"
        }
      },
      "outputs": [],
      "source": [
        "significancia <- 0.05"
      ]
    },
    {
      "cell_type": "code",
      "execution_count": null,
      "metadata": {
        "id": "99ZWqqXxAz7T",
        "vscode": {
          "languageId": "r"
        }
      },
      "outputs": [],
      "source": [
        "p_valor_turno <- resultado_anova$p[1]\n",
        "p_valor_maquina <- resultado_anova$p[2]\n",
        "p_valor_turno_maquina <- resultado_anova$p[3]"
      ]
    },
    {
      "cell_type": "code",
      "execution_count": null,
      "metadata": {
        "colab": {
          "base_uri": "https://localhost:8080/",
          "height": 69
        },
        "id": "gkWUWo01iTv7",
        "outputId": "b3224908-17c7-4ddc-ed03-dbb996912f44",
        "vscode": {
          "languageId": "r"
        }
      },
      "outputs": [
        {
          "data": {
            "text/html": [
              "FALSE"
            ],
            "text/latex": [
              "FALSE"
            ],
            "text/markdown": [
              "FALSE"
            ],
            "text/plain": [
              "[1] FALSE"
            ]
          },
          "metadata": {},
          "output_type": "display_data"
        },
        {
          "data": {
            "text/html": [
              "TRUE"
            ],
            "text/latex": [
              "TRUE"
            ],
            "text/markdown": [
              "TRUE"
            ],
            "text/plain": [
              "[1] TRUE"
            ]
          },
          "metadata": {},
          "output_type": "display_data"
        },
        {
          "data": {
            "text/html": [
              "TRUE"
            ],
            "text/latex": [
              "TRUE"
            ],
            "text/markdown": [
              "TRUE"
            ],
            "text/plain": [
              "[1] TRUE"
            ]
          },
          "metadata": {},
          "output_type": "display_data"
        }
      ],
      "source": [
        "p_valor_turno < significancia\n",
        "p_valor_maquina < significancia\n",
        "p_valor_turno_maquina < significancia"
      ]
    },
    {
      "cell_type": "markdown",
      "metadata": {
        "id": "BnIT0sGYiTv7"
      },
      "source": [
        "Com base nesses resultados, podemos concluir que:\n",
        "\n",
        "* Ao aplicar o **Teste ANOVA de duas vias**, obtivemos as estatísticas para o nível de significância ($\\alpha = 0.05$):\n",
        "  * **Turno**: $p_{value} > 0.05$ (aceitamos $H_0$).\n",
        "  * **Tipo de máquina**: $p_{value} < 0.05$ (rejeitamos $H_0$).  \n",
        "  * **Interação tipo de máquina x turno**: $p_{value} < 0.05$ (rejeitamos $H_0$).\n",
        "\n",
        "* Isso indica que:\n",
        "\n",
        "  * O **turno não** afeta o tempo de produção.\n",
        "  * O **tipo de máquina** afeta o tempo de produção.\n",
        "  * Há **interação** entre o tipo de máquina e o turno afetando o tempo de produção."
      ]
    },
    {
      "cell_type": "markdown",
      "metadata": {
        "id": "Y-B7ihFpiTv7"
      },
      "source": [
        "Conseguimos responder ao nosso problema que ilustra como o teste **ANOVA de duas vias** pode ser aplicado para avaliar múltiplos fatores e suas interações. Tanto separadamente (estatística F), quanto conjuntamente.\n",
        "\n",
        "Na sequência, vamos resolver problemas que precisarão ser aplicados para testes **não paramétricos**."
      ]
    },
    {
      "cell_type": "markdown",
      "metadata": {
        "id": "xOqZDgelTJb3"
      },
      "source": [
        "# **4. Testes não paramétricos para dados categóricos**\n",
        "\n",
        "---\n",
        "\n"
      ]
    },
    {
      "cell_type": "markdown",
      "metadata": {
        "id": "C2KISC05ZInL"
      },
      "source": [
        "O trabalho com pequenas amostras pode levar a não aceitação da validade do teorema central do limite e também na impossibilidade de fazer suposições sobre a distribuição da variável avaliada. Neste caso, torna-se necessária a aplicação de **testes não paramétricos**, em que não precisamos fazer suposições sobre os parâmetros da população ou a distribuição dos dados.\n",
        "\n",
        "São úteis quando os dados não seguem uma distribuição normal, quando as amostras são pequenas ou quando as condições para **testes paramétricos** não são atendidas, sendo mais flexíveis e aplicados a uma variedade maior de situações.\n",
        "\n",
        "Aqui vamos dividir os **testes não paramétricos** em duas categorias principais:\n",
        "1. **Testes para dados categóricos:**  \n",
        "   - **Teste Qui-Quadrado:** Utilizado para verificar a associação entre variáveis categóricas.  \n",
        "   - **Teste Exato de Fisher:** Uma alternativa ao Qui-Quadrado para amostras pequenas.  \n",
        "\n",
        "2. **Testes para dados numéricos:**  \n",
        "   - **Teste de Wilcoxon:** Compara duas amostras relacionadas (dados pareados).  \n",
        "   - **Teste de Mann-Whitney:** Compara duas amostras independentes.  \n",
        "\n",
        "Esses testes são essenciais para a análise de dados quando as premissas dos testes paramétricos não são válidas. Vamos juntos explorar exemplos práticos de cada um deles e entender como aplicá-los em diferentes contextos."
      ]
    },
    {
      "cell_type": "markdown",
      "metadata": {
        "id": "bencZpfp5S29"
      },
      "source": [
        "## **4.1 Teste Qui-Quadrado de aderência**\n",
        "\n",
        "---\n",
        "\n"
      ]
    },
    {
      "cell_type": "markdown",
      "metadata": {
        "id": "tMfv1AtcVAY3"
      },
      "source": [
        "### <font color=\"#E23155\" face=\"Verdana\">Demanda 11: Analisando a satisfação do novo sistema</font>"
      ]
    },
    {
      "cell_type": "markdown",
      "metadata": {
        "id": "9nMFbCbCVAY4"
      },
      "source": [
        "Uma empresa realizou uma pesquisa interna para avaliar a satisfação dos funcionários com um novo sistema de gestão. Uma das perguntas dizia o seguinte: ***Você está satisfeito com o novo sistema?*** (Sim ou Não). A empresa esperava que **70%** dos funcionários respondessem **Sim** e **30%** respondessem **Não**.\n",
        "\n",
        "Após coletar as respostas de 50 funcionários, a empresa obteve os seguintes resultados:\n",
        "\n",
        "||SIM|NÃO|\n",
        "|-|-|-|\n",
        "|Observado|31|19|\n",
        "|Esperado|35|15|\n",
        "\n",
        "A partir dos dados coletados, queremos responder à seguinte pergunta:\n",
        "* A distribuição das respostas observadas está de acordo com a distribuição esperada pela empresa para um **nível de significância de 5%**?"
      ]
    },
    {
      "cell_type": "markdown",
      "metadata": {
        "id": "BfAA1ShDVAY4"
      },
      "source": [
        "### <font color=\"#E23155\" face=\"Verdana\">Solução:</font>"
      ]
    },
    {
      "cell_type": "markdown",
      "metadata": {
        "id": "mPluGXkqVAY4"
      },
      "source": [
        "Para solucionar este problema, precisaremos realizar um novo teste chamado de **Teste Qui-Quadrado de aderência** , que compara as frequências observadas com as frequências esperadas.\n",
        "\n",
        "O objetivo é determinar se a distribuição das respostas observadas está de acordo com a distribuição esperada para um nível de significância adotado é de 5%.\n",
        "\n",
        "\n",
        "### **Distribuição Qui-Quadrado**\n",
        "\n",
        "Também conhecido como **teste de adequação ao ajustamento**, seu nome se deve ao fato de utilizar uma variável estatística padronizada, representada pela letra grega *qui* ( $\\chi$ ) elevada ao quadrado.\n",
        "\n",
        "O teste do $\\chi^2$ testa a **hipótese nula de não haver diferença** entre as frequências observadas de um determinado evento e as frequências que são realmente esperadas para este evento.\n",
        "\n",
        "Os passos de aplicação do teste são bem parecidos aos vistos para os testes paramétricos.\n",
        "\n",
        "A imagem abaixo apresenta a **Distribuição Qui-Quadrado** com as áreas de aceitação e rejeição da hipótese nula.\n",
        "\n",
        "<img src=\"https://github.com/alura-cursos/estatistica-r-testes-hipoteses/blob/main/imagens/outros/teste_qui_quadrado_dist.png?raw=true\" alt=\"Distribuição normal (Z) com 5% de significância\" width=\"460\">"
      ]
    },
    {
      "cell_type": "markdown",
      "metadata": {
        "id": "jMGCPdlQVAY4"
      },
      "source": [
        "Antes de aplicar o teste, precisamos verificar alguns de seus pressupostos:\n",
        "\n",
        "> ### <font color='green'>Pressupostos</font>\n",
        ">\n",
        "> 1. As variáveis devem ser categóricas que podem ser divididas em grupos.\n",
        ">\n",
        "> 2. As variáveis devem ser mutuamente exclusivas.\n",
        ">\n",
        "> 3. As observações dentro de cada grupo devem ser independentes entre si.\n",
        ">\n",
        "> 4. O tamanho da amostra deve ser grande o suficiente para garantir resultados confiáveis, com todas as frequências esperadas maiores que 5."
      ]
    },
    {
      "cell_type": "markdown",
      "metadata": {
        "id": "WpEsUGJpVAY4"
      },
      "source": [
        "### **Dados do problema**\n"
      ]
    },
    {
      "cell_type": "code",
      "execution_count": null,
      "metadata": {
        "id": "frxckyNMVAY6",
        "vscode": {
          "languageId": "r"
        }
      },
      "outputs": [],
      "source": [
        "F_obs <- \n",
        "F_esp <- \n",
        "k <-  # Número de eventos possíveis\n",
        "df <- k - 1"
      ]
    },
    {
      "cell_type": "markdown",
      "metadata": {
        "id": "-XXYVs3bh7QV"
      },
      "source": [
        "> Note que este teste **não depende dos parâmetros populacionais**, como média, desvio padrão, variância, e também suas respectivas estimativas amostrais."
      ]
    },
    {
      "cell_type": "markdown",
      "metadata": {
        "id": "N2tk9vNGVAY6"
      },
      "source": [
        "\n",
        "\n",
        "---\n",
        "\n"
      ]
    },
    {
      "cell_type": "markdown",
      "metadata": {
        "id": "EIt26WXkVAY7"
      },
      "source": [
        "### **Passo 1** - Formulação das hipóteses $H_0$ e $H_1$;\n",
        "\n",
        "#### <font color='green'>Lembre-se, a hipótese nula **sempre** contém a alegação de igualdade</font>\n",
        "\n",
        "> ### $H_0: F_{obs} = F_{esp}$\n",
        ">\n",
        "> ### $H_1: F_{obs} \\ne F_{esp}$\n"
      ]
    },
    {
      "cell_type": "markdown",
      "metadata": {
        "id": "LioaXNs3VAY7"
      },
      "source": [
        "\n",
        "\n",
        "---\n",
        "\n"
      ]
    },
    {
      "cell_type": "markdown",
      "metadata": {
        "id": "b41qPgcGVAY7"
      },
      "source": [
        "### **Passo 2** - Fixação da significância do teste ($\\alpha$)"
      ]
    },
    {
      "cell_type": "markdown",
      "metadata": {
        "id": "IBtdfucxVAY8"
      },
      "source": [
        "> **Documentações:**\n",
        ">\n",
        "> - [**Chisquare**](https://www.rdocumentation.org/packages/stats/versions/3.6.2/topics/Chisquare)\n"
      ]
    },
    {
      "cell_type": "code",
      "execution_count": null,
      "metadata": {
        "id": "G3wmxe8NVAY8",
        "vscode": {
          "languageId": "r"
        }
      },
      "outputs": [],
      "source": [
        "significancia <- 0.05\n",
        "confianca <- 1 - significancia"
      ]
    },
    {
      "cell_type": "markdown",
      "metadata": {
        "id": "0p5trNleVAY8"
      },
      "source": [
        "#### **Obtendo $\\chi^2_{\\alpha}$**"
      ]
    },
    {
      "cell_type": "code",
      "execution_count": null,
      "metadata": {
        "colab": {
          "base_uri": "https://localhost:8080/",
          "height": 34
        },
        "id": "c33VoZSgVAY9",
        "outputId": "bf276d96-e36d-49df-940b-b02159cbaea2",
        "vscode": {
          "languageId": "r"
        }
      },
      "outputs": [],
      "source": [
        "chi_alpha_2 <- \n",
        "chi_alpha_2"
      ]
    },
    {
      "cell_type": "markdown",
      "metadata": {
        "id": "KNll_YOVVAY9"
      },
      "source": [
        "<img src=\"https://github.com/alura-cursos/estatistica-r-testes-hipoteses/blob/main/imagens/outros/teste_qui_quadrado_5%25.png?raw=true\" alt=\"Distribuição normal (Z) com 5% de significância\" width=\"460\">"
      ]
    },
    {
      "cell_type": "markdown",
      "metadata": {
        "id": "BMF8pdrlVAY9"
      },
      "source": [
        "\n",
        "\n",
        "---\n",
        "\n"
      ]
    },
    {
      "cell_type": "markdown",
      "metadata": {
        "id": "6Z0jR_80VAY9"
      },
      "source": [
        "### **Passo 3** - cálculo da estatística-teste e verificação desse valor com as áreas de aceitação e rejeição do teste\n",
        "\n",
        "Para o nosso caso, aplicando um Teste Qui-Quadrado:\n",
        "\n",
        "### $$\\chi^2 = \\sum_{i=1}^{k}{\\frac{(F_{i}^{Obs} - F_{i}^{Esp})^2}{F_{i}^{Esp}}}$$\n",
        "\n",
        "onde,\n",
        "* $F_{i}^{Obs}$ = frequência observada para o evento $i$\n",
        "\n",
        "* $F_{i}^{Esp}$ = frequência esperada para o evento $i$\n",
        "\n",
        "* $k$ = total de eventos possíveis\n",
        "\n",
        "Para grau de liberdade $df = (n_{linhas} - 1) * (n_{colunas} - 1$)"
      ]
    },
    {
      "cell_type": "code",
      "execution_count": null,
      "metadata": {
        "colab": {
          "base_uri": "https://localhost:8080/",
          "height": 34
        },
        "id": "J9PUSxCU1IDK",
        "outputId": "c776bb06-b3c8-4164-a933-dc49234e8b2e",
        "vscode": {
          "languageId": "r"
        }
      },
      "outputs": [],
      "source": [
        "chi_2 <- \n",
        "chi_2"
      ]
    },
    {
      "cell_type": "markdown",
      "metadata": {
        "id": "3SKivh5kVAY-"
      },
      "source": [
        "<img src=\"https://github.com/alura-cursos/estatistica-r-testes-hipoteses/blob/main/imagens/outros/teste_qui_quadrado_problema.png?raw=true\" alt=\"Distribuição normal (Z) com 5% de significância\" width=\"460\">"
      ]
    },
    {
      "cell_type": "markdown",
      "metadata": {
        "id": "EPIWRkZ_VAY-"
      },
      "source": [
        "\n",
        "\n",
        "---\n",
        "\n"
      ]
    },
    {
      "cell_type": "markdown",
      "metadata": {
        "id": "lhML8L52VAY-"
      },
      "source": [
        "### **Passo 4** - Aceitação ou rejeição da hipótese nula"
      ]
    },
    {
      "cell_type": "markdown",
      "metadata": {
        "id": "EGB20PSLVAY-"
      },
      "source": [
        "<img src=\"https://github.com/alura-cursos/estatistica-r-testes-hipoteses/blob/main/imagens/outros/teste_qui_quadrado.png?raw=true\" alt=\"Tabela do Teste Z com as hipóteses, estatísticas de teste, valor crítico z e p-valor\">"
      ]
    },
    {
      "cell_type": "markdown",
      "metadata": {
        "id": "AN5vmSRKVAY-"
      },
      "source": [
        "### <font color='green'>Critério do valor crítico</font>\n",
        "> ### Teste Qui-Quadrado\n",
        ">\n",
        "> ### Rejeitar $H_0$ se $\\chi^2_{teste} \\gt \\chi^2_{\\alpha}$"
      ]
    },
    {
      "cell_type": "code",
      "execution_count": null,
      "metadata": {
        "colab": {
          "base_uri": "https://localhost:8080/",
          "height": 34
        },
        "id": "WAtY6AWPVAY-",
        "outputId": "d9b530e2-061a-4e22-9110-e526037be043",
        "vscode": {
          "languageId": "r"
        }
      },
      "outputs": [],
      "source": [
        "chi_2 > chi_alpha_2"
      ]
    },
    {
      "cell_type": "markdown",
      "metadata": {
        "id": "KRr0wrxtVAY-"
      },
      "source": [
        "### <font color='green'>Critério do $p_{value}$</font>\n",
        "\n",
        "> ### Teste F\n",
        ">\n",
        "> ### Rejeitar $H_0$ se o $p_{value} \\lt \\alpha$"
      ]
    },
    {
      "cell_type": "markdown",
      "metadata": {
        "id": "unHB55JhVAY-"
      },
      "source": [
        "> **Documentações:**\n",
        ">\n",
        "> - [**chisq.test**](https://www.rdocumentation.org/packages/stats/versions/3.6.2/topics/chisq.test)\n"
      ]
    },
    {
      "cell_type": "code",
      "execution_count": null,
      "metadata": {
        "colab": {
          "base_uri": "https://localhost:8080/",
          "height": 104
        },
        "id": "4RzlI5t51WFe",
        "outputId": "d70625c9-f85a-4b2d-95e8-1105c7ba8054",
        "vscode": {
          "languageId": "r"
        }
      },
      "outputs": [],
      "source": [
        "resultado <- \n",
        "resultado"
      ]
    },
    {
      "cell_type": "code",
      "execution_count": null,
      "metadata": {
        "colab": {
          "base_uri": "https://localhost:8080/",
          "height": 34
        },
        "id": "wAKi-lGGVAY_",
        "outputId": "6aa8dc41-1947-4ca5-c700-f6e02f0793db",
        "vscode": {
          "languageId": "r"
        }
      },
      "outputs": [],
      "source": [
        "resultado$p.value <= significancia"
      ]
    },
    {
      "cell_type": "code",
      "execution_count": null,
      "metadata": {
        "colab": {
          "base_uri": "https://localhost:8080/",
          "height": 34
        },
        "id": "GH1NRISJ7xUk",
        "outputId": "d242a90b-b6c5-45cc-c639-985cbd64ce41",
        "vscode": {
          "languageId": "r"
        }
      },
      "outputs": [],
      "source": []
    },
    {
      "cell_type": "code",
      "execution_count": null,
      "metadata": {
        "colab": {
          "base_uri": "https://localhost:8080/",
          "height": 34
        },
        "id": "Dhnhowkp70Wy",
        "outputId": "e67dc19a-0d8a-4783-fd80-6691dbc697eb",
        "vscode": {
          "languageId": "r"
        }
      },
      "outputs": [],
      "source": []
    },
    {
      "cell_type": "markdown",
      "metadata": {
        "id": "Lj0qTzmQVAY_"
      },
      "source": [
        "Com base nesses resultados, podemos concluir que:\n",
        "\n",
        "* Ao aplicar o **Teste Qui-Quadrado**, obtivemos a estatística qui ($\\chi^2(1) = 1.52$) e o p-valor ($p_{value} = 0.217$). Como o p-valor é maior que o nível de significância ($\\alpha = 0.05$), **não rejeitamos a hipótese nula**.\n",
        "\n",
        "* Isso indica que **não há evidências estatísticas** para afirmar que que a distribuição das respostas observadas difere da distribuição esperada. Portanto, **a distribuição das respostas está de acordo com o esperado pela empresa** ao nível de significância de 5%."
      ]
    },
    {
      "cell_type": "markdown",
      "metadata": {
        "id": "qNrMHZvGVAY_"
      },
      "source": [
        "Conseguimos responder ao nosso problema que ilustra como o teste **Qui-quadrado de aderência** pode ser aplicado para comparar dados observados com dados esperados para variáveis categóricas por meio de suas frequências. Além disso, conhecemos uma nova distribuição (Qui -quadrado).\n",
        "\n",
        "No próximo vídeo, exploraremos outros teste não paramétrico de Qui-quadrado, desta vez analisando a influência de uma variável categórica sobre outra."
      ]
    },
    {
      "cell_type": "markdown",
      "metadata": {
        "id": "mLd5PHIjTJb3"
      },
      "source": [
        "## **4.2 Teste Qui-Quadrado de independência**\n",
        "\n",
        "---\n",
        "\n"
      ]
    },
    {
      "cell_type": "markdown",
      "metadata": {
        "id": "CgDdzJ0zNzah"
      },
      "source": [
        "### <font color=\"#E23155\" face=\"Verdana\">Demanda 12: Investigando a participação do público no programa de cashback</font>"
      ]
    },
    {
      "cell_type": "markdown",
      "metadata": {
        "id": "Z9tJ4TAENzah"
      },
      "source": [
        "Uma empresa de e-commerce deseja avaliar se existe uma **associação entre a faixa etária dos clientes e a participação no programa de cashback**. Para isso, foram coletados aleatoriamente dados de clientes categorizados em três faixas etárias: **Até 30 anos**, **Entre 30 e 50 anos** e **Mais de 50 anos**. A tabela de contingência abaixo resume os dados coletados:\n",
        "\n",
        "||Até 30 anos|Entre 30 e 50 anos|Mais de 50 anos|\n",
        "|-|:-:|:-:|:-:|\n",
        "|Sim|33|90|10|\n",
        "|Não|27|30|70|\n",
        "\n",
        "A partir dos dados coletados, queremos responder à seguinte pergunta:\n",
        "* Existe uma associação entre a faixa etária dos clientes e a participação no programa de cashback para um **nível de significância de 5%**?"
      ]
    },
    {
      "cell_type": "markdown",
      "metadata": {
        "id": "HAFuCfLTNzai"
      },
      "source": [
        "### <font color=\"#E23155\" face=\"Verdana\">Solução:</font>"
      ]
    },
    {
      "cell_type": "markdown",
      "metadata": {
        "id": "y8tnX8pONzai"
      },
      "source": [
        "Para solucionar este problema, precisaremos realizar um novo teste chamado de **teste Qui-Quadrado de independência**, que avalia a relação entre duas variáveis categóricas.\n",
        "\n",
        "O objetivo é determinar se há independência entre a faixa etária e a participação no programa de cashback. O nível de significância adotado é de 5%.\n",
        "\n",
        "<img src=\"https://github.com/alura-cursos/estatistica-r-testes-hipoteses/blob/main/imagens/outros/teste_qui_quadrado_5%25.png?raw=true\" alt=\"Distribuição normal (Z) com 5% de significância\" width=\"460\">"
      ]
    },
    {
      "cell_type": "markdown",
      "metadata": {
        "id": "7rsRBxtGNzai"
      },
      "source": [
        "Antes de aplicar o teste, precisamos verificar alguns de seus pressupostos:\n",
        "\n",
        "> ### <font color='green'>Pressupostos</font>\n",
        ">\n",
        "> 1. As variáveis devem ser categóricas que podem ser divididas em grupos.\n",
        ">\n",
        "> 2. As variáveis devem ser mutuamente exclusivas.\n",
        ">\n",
        "> 3. As observações dentro de cada grupo devem ser independentes entre si.\n",
        ">\n",
        "> 4. O tamanho da amostra deve ser grande o suficiente para garantir resultados confiáveis, com todas as frequências esperadas maiores que 5."
      ]
    },
    {
      "cell_type": "markdown",
      "metadata": {
        "id": "5t7QrFjNNzai"
      },
      "source": [
        "### **Dados do problema**\n"
      ]
    },
    {
      "cell_type": "code",
      "execution_count": null,
      "metadata": {
        "colab": {
          "base_uri": "https://localhost:8080/",
          "height": 443
        },
        "id": "QR2zXFCzNzai",
        "outputId": "88a0fb0c-2226-42d6-99ee-7f476c7dd4e2",
        "vscode": {
          "languageId": "r"
        }
      },
      "outputs": [],
      "source": [
        "pesquisa_cashback  <- read.csv(\"https://raw.githubusercontent.com/alura-cursos/estatistica-r-testes-hipoteses/refs/heads/main/dados/pesquisa_cashback.csv\",\n",
        "                                stringsAsFactors = T)\n",
        "pesquisa_cashback"
      ]
    },
    {
      "cell_type": "code",
      "execution_count": null,
      "metadata": {
        "colab": {
          "base_uri": "https://localhost:8080/",
          "height": 86
        },
        "id": "m_2Voz09QGab",
        "outputId": "72d1064a-b5f6-419a-fcea-8b0b8e0a191f",
        "vscode": {
          "languageId": "r"
        }
      },
      "outputs": [],
      "source": [
        "dados <- \n",
        "dados"
      ]
    },
    {
      "cell_type": "markdown",
      "metadata": {
        "id": "xZwN00VEulbV"
      },
      "source": [
        "> **Obs:** Uma coisa interessante no teste de Qui-Quadrado é que analisamos as frequências relativas as proporções esperadas, portanto os tamanhos das amostras podem ser diferentes. Em nosso caso, $n_{col1} \\ne n_{col 2} \\ne n_{col3}$"
      ]
    },
    {
      "cell_type": "markdown",
      "metadata": {
        "id": "6YQK8GYwNzai"
      },
      "source": [
        "\n",
        "\n",
        "---\n",
        "\n"
      ]
    },
    {
      "cell_type": "markdown",
      "metadata": {
        "id": "l8eKalxlNzai"
      },
      "source": [
        "### **Passo 1** - Formulação das hipóteses $H_0$ e $H_1$;\n",
        "\n",
        "#### <font color='green'>Lembre-se, a hipótese nula **sempre** contém a alegação de igualdade</font>\n",
        "\n",
        "> ### $H_0: $ A faixa etária e a participação no programa de cashback são independentes.\n",
        ">\n",
        "> ### $H_1:$ A faixa etária e a participação no programa de cashback não são independentes.\n"
      ]
    },
    {
      "cell_type": "markdown",
      "metadata": {
        "id": "xgGlYUPVNzaj"
      },
      "source": [
        "\n",
        "\n",
        "---\n",
        "\n"
      ]
    },
    {
      "cell_type": "markdown",
      "metadata": {
        "id": "mULMwwk8Nzak"
      },
      "source": [
        "### **Passo 2** - cálculo da estatística-teste e aceitação ou rejeição da hipótese nula\n"
      ]
    },
    {
      "cell_type": "markdown",
      "metadata": {
        "id": "czgOs19nNzak"
      },
      "source": [
        "<img src=\"https://github.com/alura-cursos/estatistica-r-testes-hipoteses/blob/main/imagens/outros/teste_qui_quadrado_p2.png?raw=true\" alt=\"Tabela do Teste Z com as hipóteses, estatísticas de teste, valor crítico z e p-valor\">"
      ]
    },
    {
      "cell_type": "markdown",
      "metadata": {
        "id": "PP-4yS12Nzal"
      },
      "source": [
        "> **Documentações:**\n",
        ">\n",
        "> - [**chisq.test**](https://www.rdocumentation.org/packages/stats/versions/3.6.2/topics/chisq.test)\n"
      ]
    },
    {
      "cell_type": "code",
      "execution_count": null,
      "metadata": {
        "colab": {
          "base_uri": "https://localhost:8080/",
          "height": 104
        },
        "id": "fbsuvmfvNzak",
        "outputId": "c0b6cdb7-c2fc-4655-fbae-9b162c789331",
        "vscode": {
          "languageId": "r"
        }
      },
      "outputs": [],
      "source": [
        "qui_2 <- \n",
        "qui_2"
      ]
    },
    {
      "cell_type": "code",
      "execution_count": null,
      "metadata": {
        "colab": {
          "base_uri": "https://localhost:8080/",
          "height": 34
        },
        "id": "nYDtWfjEQoHC",
        "outputId": "d31d9c88-f3bb-49e0-9b83-11e251349a5c",
        "vscode": {
          "languageId": "r"
        }
      },
      "outputs": [],
      "source": []
    },
    {
      "cell_type": "markdown",
      "metadata": {
        "id": "KHuLjxugNzal"
      },
      "source": [
        "### <font color='green'>Critério do $p_{value}$</font>\n",
        "\n",
        "> ### Teste F\n",
        ">\n",
        "> ### Rejeitar $H_0$ se o $p_{value} \\lt \\alpha$"
      ]
    },
    {
      "cell_type": "code",
      "execution_count": null,
      "metadata": {
        "id": "KjkC8GY8vrwk",
        "vscode": {
          "languageId": "r"
        }
      },
      "outputs": [],
      "source": [
        "significancia <- 0.05"
      ]
    },
    {
      "cell_type": "code",
      "execution_count": null,
      "metadata": {
        "colab": {
          "base_uri": "https://localhost:8080/",
          "height": 34
        },
        "id": "mkH1x3noNzam",
        "outputId": "e1194806-c8f7-49e2-cc78-1583a04c871a",
        "vscode": {
          "languageId": "r"
        }
      },
      "outputs": [],
      "source": [
        "qui_2$p.value <= significancia"
      ]
    },
    {
      "cell_type": "markdown",
      "metadata": {
        "id": "OTFSZddNTPN9"
      },
      "source": [
        "### **Passo 3** - Verificação das frequências esperadas"
      ]
    },
    {
      "cell_type": "markdown",
      "metadata": {
        "id": "w9HX6XNcTu0l"
      },
      "source": [
        "Para garantir que o teste Qui-quadrado é válido, verificamos se todas as frequências esperadas **são maiores que 5**."
      ]
    },
    {
      "cell_type": "code",
      "execution_count": null,
      "metadata": {
        "colab": {
          "base_uri": "https://localhost:8080/",
          "height": 129
        },
        "id": "OG7Uv5wbNzam",
        "outputId": "4a1ed854-24f4-4d45-a771-081d4243f177",
        "vscode": {
          "languageId": "r"
        }
      },
      "outputs": [],
      "source": [
        "dados_esperados <- \n",
        "dados_esperados"
      ]
    },
    {
      "cell_type": "markdown",
      "metadata": {
        "id": "NFviZSzXUja5"
      },
      "source": [
        "Todas as frequências esperadas são maiores que 5, atendendo ao pressuposto do teste."
      ]
    },
    {
      "cell_type": "markdown",
      "metadata": {
        "id": "qX01Nf0OUn2C"
      },
      "source": [
        "### **Passo 4** - Análise dos resíduos padronizados ajustados"
      ]
    },
    {
      "cell_type": "markdown",
      "metadata": {
        "id": "XkI_-wOJUn2C"
      },
      "source": [
        "Os resíduos padronizados ajustados indicam quais células contribuem significativamente para a rejeição de $H_0$. Valores absolutos maiores que 1.96 ou menores que -1.96 são estatisticamente significativos."
      ]
    },
    {
      "cell_type": "code",
      "execution_count": null,
      "metadata": {
        "colab": {
          "base_uri": "https://localhost:8080/",
          "height": 199
        },
        "id": "d_batCs3VSM8",
        "outputId": "bb211f17-7c1b-4278-9124-c9a9280555da",
        "vscode": {
          "languageId": "r"
        }
      },
      "outputs": [],
      "source": []
    },
    {
      "cell_type": "code",
      "execution_count": null,
      "metadata": {
        "colab": {
          "base_uri": "https://localhost:8080/",
          "height": 86
        },
        "id": "_YmJZ0MoUn2D",
        "outputId": "20fbb7c5-3465-467f-a417-f1fbe3abf5ef",
        "vscode": {
          "languageId": "r"
        }
      },
      "outputs": [],
      "source": []
    },
    {
      "cell_type": "markdown",
      "metadata": {
        "id": "-f8IBAtuVzqy"
      },
      "source": [
        "### **Passo 5** - Visualização dos resíduos ajustados"
      ]
    },
    {
      "cell_type": "markdown",
      "metadata": {
        "id": "QXxBwlRqUn2D"
      },
      "source": [
        "Utilizaremos um `corrplot` para visualizar os resíduos ajustados."
      ]
    },
    {
      "cell_type": "code",
      "execution_count": null,
      "metadata": {
        "colab": {
          "base_uri": "https://localhost:8080/",
          "height": 497
        },
        "id": "fG0VDi6oWBCc",
        "outputId": "0060b964-c86f-4ef1-e931-61b4d1d4ce07",
        "vscode": {
          "languageId": "r"
        }
      },
      "outputs": [],
      "source": [
        "library(corrplot)\n",
        "\n",
        "# Plotar resíduos ajustados\n",
        "corrplot(qui_2$stdres, is.cor = FALSE, method = \"color\",\n",
        "         tl.col = \"black\", tl.srt = 0, tl.cex = 1.5)"
      ]
    },
    {
      "cell_type": "markdown",
      "metadata": {
        "id": "vibhJzBANzam"
      },
      "source": [
        "Com base nesses resultados, podemos concluir que:\n",
        "\n",
        "* Ao aplicar o **Teste Qui-Quadrado**, obtivemos a estatística qui ($\\chi^2(2) = 75.5$) e o p-valor ($p_{value} < 2.2e-16$). Como o p-valor é menor que o nível de significância ($\\alpha = 0.05$), **rejeitamos a hipótese nula**.\n",
        "\n",
        "* Isso indica que **há uma associação significativa** entre a faixa etária dos clientes e a participação no programa de cashback ao **nível de significância de 5%**.\n",
        "\n",
        "* Além disso, a análise dos resíduos padronizados ajustados mostrou que as células **Mais de 50 anos** e **Entre 30 e 50 anos** contribuíram significativamente para a rejeição de $H_0$."
      ]
    },
    {
      "cell_type": "markdown",
      "metadata": {
        "id": "84i7riwNNzam"
      },
      "source": [
        "Conseguimos responder ao nosso problema que ilustra como o teste **Qui-quadrado de independência** pode ser aplicado para avaliar a associação entre variáveis categóricas por meio de suas frequências.\n",
        "\n",
        "No próximo vídeo, exploraremos outro teste não paramétrico similar ao Qui-quadrado, aplicado para quando pelo menos uma das frequências é menor ou igual a 5."
      ]
    },
    {
      "cell_type": "markdown",
      "metadata": {
        "id": "WNwHiKcITnht"
      },
      "source": [
        "## **4.3 Teste Exato de Fisher**\n",
        "\n",
        "---\n",
        "\n"
      ]
    },
    {
      "cell_type": "markdown",
      "metadata": {
        "id": "0_IG3CHqHSBe"
      },
      "source": [
        "### <font color=\"#E23155\" face=\"Verdana\">Demanda 13: Testando dois tipos de anúncio</font>"
      ]
    },
    {
      "cell_type": "markdown",
      "metadata": {
        "id": "BlmQMS4EHSBe"
      },
      "source": [
        "Uma empresa de marketing digital está testando dois tipos de anúncios: **Imagem** e **Vídeo**, para promover um produto. O objetivo é determinar se o **tipo de anúncio influencia a taxa de cliques** (CTR) no link de compra. Para isso, foram coletados dados de cliques (Sim ou Não) para cada tipo de anúncio.\n",
        "\n",
        "A tabela de contingência abaixo resume os dados coletados:\n",
        "\n",
        "||Clique (SIM)|Clique (NÃO)|\n",
        "|-|:-:|:-:|\n",
        "|Imagem|13|5|\n",
        "|Vídeo|7|15|\n",
        "\n",
        "A partir dos dados coletados, queremos responder à seguinte pergunta:\n",
        "* Existe uma associação entre o tipo de anúncio (Imagem ou Vídeo) e o clique no link de compra para um **nível de significância de 5%**?\n",
        "* Se sim, qual tipo seria melhor?"
      ]
    },
    {
      "cell_type": "markdown",
      "metadata": {
        "id": "v7xs-6RuHSBe"
      },
      "source": [
        "### <font color=\"#E23155\" face=\"Verdana\">Solução:</font>"
      ]
    },
    {
      "cell_type": "markdown",
      "metadata": {
        "id": "Udq6k3DdHSBe"
      },
      "source": [
        "Para solucionar este problema, precisaremos realizar um teste, alternativo ao Qui-Quadrado, chamado de  **teste Exato de Fisher**. Ele é ideal para tabelas 2x2 com amostras pequenas.\n",
        "\n",
        "Ele leva esse nome, porque conseguimos calcular os valores de probabilidade do teste diretamente a partir dos dados, ou seja, os p-valores que o teste fornece são exatos.\n",
        "\n",
        "Antes de aplicar o teste, precisamos verificar alguns de seus pressupostos:\n",
        "\n",
        "> ### <font color='green'>Pressupostos</font>\n",
        ">\n",
        "> 1. Ambas as variáveis devem ser categóricas e binárias permitindo o preenchimento de uma tabela de contingência 2 x 2.\n",
        "> 2. Dados devem ser selecionados aleatoriamente a partir de amostras independentes e as observações não podem pertencer a mais de uma categoria simultaneamente.\n",
        "> 3. Um ou mais valores das células na tabela de contingência devem ser pequenos (menores ou iguais a 5). Quando todos os valores são maiores que 5, recomenda-se realizar o teste qui-quadrado."
      ]
    },
    {
      "cell_type": "markdown",
      "metadata": {
        "id": "U580mG93HSBf"
      },
      "source": [
        "### **Dados do problema**\n"
      ]
    },
    {
      "cell_type": "code",
      "execution_count": null,
      "metadata": {
        "colab": {
          "base_uri": "https://localhost:8080/",
          "height": 147
        },
        "id": "7X1uIqVFHSBf",
        "outputId": "f5949611-bbbc-4ed5-feda-7c2f07d5c235",
        "vscode": {
          "languageId": "r"
        }
      },
      "outputs": [],
      "source": [
        "# Criar a matriz de contingência\n",
        "dados_anuncios <- matrix(c(13, 5, 7, 15), nrow = 2,\n",
        "                         dimnames = list(A = c(\"Imagem\", \"Vídeo\"),\n",
        "                                         B = c(\"Sim\", \"Não\")))\n",
        "\n",
        "dados_anuncios"
      ]
    },
    {
      "cell_type": "markdown",
      "metadata": {
        "id": "iHCXkVppHSBj"
      },
      "source": [
        "\n",
        "\n",
        "---\n",
        "\n"
      ]
    },
    {
      "cell_type": "markdown",
      "metadata": {
        "id": "fhqRCHG_HSBk"
      },
      "source": [
        "### **Passo 1** - Formulação das hipóteses $H_0$ e $H_1$;\n",
        "\n",
        "#### <font color='green'>Lembre-se, a hipótese nula **sempre** contém a alegação de igualdade</font>\n",
        "\n",
        "> ### $H_0: $ Não existe associação entre as duas variáveis (O tipo de anúncio **não** influencia no clique no link de compra)\n",
        ">\n",
        "> ### $H_1:$ Existe associação entre as duas variáveis em qualquer direção (O tipo de anúncio influencia no clique no link de compra)\n"
      ]
    },
    {
      "cell_type": "markdown",
      "metadata": {
        "id": "2UzKJE6nHSBk"
      },
      "source": [
        "\n",
        "\n",
        "---\n",
        "\n"
      ]
    },
    {
      "cell_type": "markdown",
      "metadata": {
        "id": "98S9B0DWHSBk"
      },
      "source": [
        "### **Passo 2** - cálculo da estatística-teste e aceitação ou rejeição da hipótese nula\n"
      ]
    },
    {
      "cell_type": "markdown",
      "metadata": {
        "id": "AH9dyFEWHSBl"
      },
      "source": [
        "<img src=\"https://github.com/alura-cursos/estatistica-r-testes-hipoteses/blob/main/imagens/outros/teste_exato_fisher.png?raw=true\" alt=\"Tabela do Teste Z com as hipóteses, estatísticas de teste, valor crítico z e p-valor\">\n",
        "\n",
        "> **Obs:** Embora o teste exato de Fisher seja teoricamente válido para amostras grandes, ele é computacionalmente intensivo e, portanto, geralmente usado apenas para amostras pequenas."
      ]
    },
    {
      "cell_type": "markdown",
      "metadata": {
        "id": "C0CXH8E-HSBl"
      },
      "source": [
        "> **Documentações:**\n",
        ">\n",
        "> - [**fisher.test**](https://www.rdocumentation.org/packages/stats/versions/3.6.2/topics/fisher.test)\n"
      ]
    },
    {
      "cell_type": "code",
      "execution_count": null,
      "metadata": {
        "colab": {
          "base_uri": "https://localhost:8080/",
          "height": 208
        },
        "id": "R-dmgMStHSBl",
        "outputId": "6e6c2d3a-86ee-4259-88e1-5d02cdfba47f",
        "vscode": {
          "languageId": "r"
        }
      },
      "outputs": [],
      "source": [
        "resultado_fisher  <- \n",
        "resultado_fisher"
      ]
    },
    {
      "cell_type": "markdown",
      "metadata": {
        "id": "7hs11QjrHSBl"
      },
      "source": [
        "### <font color='green'>Critério do $p_{value}$</font>\n",
        "\n",
        "> ### Teste Exato de Fisher\n",
        ">\n",
        "> ### Rejeitar $H_0$ se o $p_{value} \\leq \\alpha$"
      ]
    },
    {
      "cell_type": "code",
      "execution_count": null,
      "metadata": {
        "id": "h9z9nU9xHSBg",
        "vscode": {
          "languageId": "r"
        }
      },
      "outputs": [],
      "source": [
        "significancia <- 0.05"
      ]
    },
    {
      "cell_type": "code",
      "execution_count": null,
      "metadata": {
        "colab": {
          "base_uri": "https://localhost:8080/",
          "height": 34
        },
        "id": "bI7JvMrEHSBl",
        "outputId": "a8f53b86-2820-4044-feba-db009348f676",
        "vscode": {
          "languageId": "r"
        }
      },
      "outputs": [],
      "source": [
        "resultado_fisher$p.value <= significancia"
      ]
    },
    {
      "cell_type": "markdown",
      "metadata": {
        "id": "8AmDWapKHSBl"
      },
      "source": [
        "### **Passo 3** - Resumo gráfico das probabilidades"
      ]
    },
    {
      "cell_type": "markdown",
      "metadata": {
        "id": "kPasJnUbHSBl"
      },
      "source": [
        "Vamos criar um gráfico que mostra as probabilidades de cada caso para o teste bicaudal, destacando as barras que contribuem para o cálculo do p-valor."
      ]
    },
    {
      "cell_type": "markdown",
      "metadata": {
        "id": "Mi9N4GpHKqf8"
      },
      "source": [
        "> **Documentações:**\n",
        ">\n",
        "> - [**colSums**](https://www.rdocumentation.org/packages/base/versions/3.6.2/topics/colSums)\n",
        "> - [**sapply**](https://www.rdocumentation.org/packages/base/versions/3.6.2/topics/lapply)\n"
      ]
    },
    {
      "cell_type": "code",
      "execution_count": null,
      "metadata": {
        "colab": {
          "base_uri": "https://localhost:8080/",
          "height": 497
        },
        "id": "o8hmcHcbHSBl",
        "outputId": "dc71ca1c-54dc-4fde-d909-1c1249feec70",
        "vscode": {
          "languageId": "r"
        }
      },
      "outputs": [],
      "source": [
        "# Soma dos valores marginais\n",
        "n_imagem <- rowSums(dados_anuncios)[1]\n",
        "n_video <- rowSums(dados_anuncios)[2]\n",
        "n_sim <- colSums(dados_anuncios)[1]\n",
        "n_nao<- colSums(dados_anuncios)[2]\n",
        "total <- sum(dados_anuncios)\n",
        "\n",
        "# Função para calcular a probabilidade hipergeométrica\n",
        "prob_hipergeometrica <- function(x) {\n",
        "  choose(n_sim, x) * choose(n_nao, n_imagem - x) / choose(total, n_imagem) }\n",
        "\n",
        "# Valor observado na célula (1,1) = 13\n",
        "x_obs <- dados_anuncios[1, 1]\n",
        "\n",
        "# Calcular todas as probabilidades possíveis\n",
        "probabilidades <- sapply(0:n_imagem, prob_hipergeometrica)\n",
        "\n",
        "# Calcular o valores de p\n",
        "p_value <- probabilidades[probabilidades <= prob_hipergeometrica(x_obs)]\n",
        "\n",
        "# Criar um data frame para visualização\n",
        "df <- data.frame(\n",
        "  frequencia = 0:n_imagem,\n",
        "  probabilidade = probabilidades,\n",
        "  destaque = probabilidades %in% p_value\n",
        ")\n",
        "\n",
        "# Criar o gráfico\n",
        "ggplot(df, aes(x = frequencia, y = probabilidade, fill = destaque)) +\n",
        "  geom_col() +\n",
        "  scale_fill_manual(values = c(\"grey\", \"darkblue\")) +\n",
        "  labs(title = \"Teste Bicaudal - Exato de Fisher\", x = \"Frequência Imagem/Sim\", y = \"Probabilidade\") +\n",
        "  tema"
      ]
    },
    {
      "cell_type": "markdown",
      "metadata": {
        "id": "coBbZARbHSBm"
      },
      "source": [
        "O gráfico mostra os p-valores escolhidos em azul escuro. A soma destes resulta no p-valor que calculamos."
      ]
    },
    {
      "cell_type": "code",
      "execution_count": null,
      "metadata": {
        "colab": {
          "base_uri": "https://localhost:8080/",
          "height": 34
        },
        "id": "dzDPs5NsaAio",
        "outputId": "b9e3abcf-ac1d-47f4-9812-e4c1760f1154",
        "vscode": {
          "languageId": "r"
        }
      },
      "outputs": [],
      "source": []
    },
    {
      "cell_type": "markdown",
      "metadata": {
        "id": "bcahoHUiHSBm"
      },
      "source": [
        "### **Passo 4** - Cálculo da taxa de conversão (CTR)"
      ]
    },
    {
      "cell_type": "markdown",
      "metadata": {
        "id": "wcSwFXPgHSBm"
      },
      "source": [
        "Vamos calcular a taxa de conversão (CTR) para cada tipo de anúncio, que é a proporção de cliques em relação ao total de exibições."
      ]
    },
    {
      "cell_type": "code",
      "execution_count": null,
      "metadata": {
        "id": "E8o5mXicHSBm",
        "vscode": {
          "languageId": "r"
        }
      },
      "outputs": [],
      "source": [
        "# Calcular o CTR\n",
        "ctr_imagem <- dados_anuncios[1, 1] / n_imagem  # Cliques Sim / Total de Imagens\n",
        "ctr_video <- dados_anuncios[2, 1] / n_video     # Cliques Sim / Total de Vídeos"
      ]
    },
    {
      "cell_type": "code",
      "execution_count": null,
      "metadata": {
        "colab": {
          "base_uri": "https://localhost:8080/"
        },
        "id": "kx6-tBLaHSBm",
        "outputId": "84866fb4-b1f5-49fd-a015-7fb22ed97da0",
        "vscode": {
          "languageId": "r"
        }
      },
      "outputs": [],
      "source": [
        "cat(paste0(\"CTR Imagem: \", 100 * ctr_imagem, \"%\\n\"))\n",
        "cat(paste0(\"CTR Vídeo: \", 100 * ctr_video, \"%\"))"
      ]
    },
    {
      "cell_type": "markdown",
      "metadata": {
        "id": "chQCilzWHSBn"
      },
      "source": [
        "Com base nesses resultados, podemos concluir que:\n",
        "\n",
        "* Ao aplicar o **Exato de Fisher**, obtivemos um p-valor ($p_{value} = 0.024$). Como o p-valor é menor que o nível de significância ($\\alpha = 0.05$), **rejeitamos a hipótese nula**.\n",
        "\n",
        "* Isso indica que **há uma associação significativa** entre o tipo de anúncio e o clique no link de compra ao **nível de significância de 5%**.\n",
        "\n",
        "* Além disso, a análise da **taxa de cliques** mostrou que anúncios do tipo **Imagem** têm uma taxa de conversão significativamente maior (65%) em comparação com anúncios do tipo **Vídeo** (25%). Portanto, a empresa pode considerar priorizar anúncios de imagem para maximizar a taxa de cliques."
      ]
    },
    {
      "cell_type": "markdown",
      "metadata": {
        "id": "wn5LDHGKHSBn"
      },
      "source": [
        "Conseguimos responder ao nosso problema que ilustra como o teste **Exato de Fisher** pode ser aplicado para avaliar a associação entre variáveis categóricas em amostras pequenas. Além disso, verificamos graficamente o resultado e calculamos qual dos métodos seria o mais adequado.\n",
        "\n",
        "Vimos bastante sobre os testes não-paramétricos de variáveis categóricas. Agora, exploraremos outros tipos de testes não paramétricos voltados às variáveis quantitativas."
      ]
    },
    {
      "cell_type": "markdown",
      "metadata": {
        "id": "3qToHwgRTxPD"
      },
      "source": [
        "# **5. Testes não paramétricos para dados numéricos**\n",
        "\n",
        "---\n",
        "\n"
      ]
    },
    {
      "cell_type": "markdown",
      "metadata": {
        "id": "lPLivPcFTxPD"
      },
      "source": [
        "## **5.1 Teste de Wilcoxon**\n",
        "\n",
        "---\n",
        "\n"
      ]
    },
    {
      "cell_type": "markdown",
      "metadata": {
        "id": "K4PDc1ic2wyU"
      },
      "source": [
        "### <font color=\"#E23155\" face=\"Verdana\">Demanda 14: Investigando tempo de entrega pós implementação do sistema</font>"
      ]
    },
    {
      "cell_type": "markdown",
      "metadata": {
        "id": "ZYMr5pDq2wyU"
      },
      "source": [
        "Uma empresa de logística implementou um novo sistema de roteirização com o objetivo de reduzir o tempo de entrega dos pedidos. Para avaliar a eficácia do sistema, foram coletados dados do tempo de entrega (em dias) de **100 pedidos** para os mesmos endereços antes e depois da implementação.\n",
        "\n",
        "O objetivo é determinar se houve uma **redução significativa no tempo de entrega** após a implementação do novo sistema. O nível de significância adotado é de 3%, ou seja, um critério mais rigoroso.\n",
        "\n",
        "A partir dos dados coletados, queremos responder à seguinte pergunta:\n",
        "* Houve uma redução significativa no tempo de entrega após a implementação do novo sistema de roteirização ao **nível de significância de 3%**?"
      ]
    },
    {
      "cell_type": "markdown",
      "metadata": {
        "id": "u5JL-3X02wyU"
      },
      "source": [
        "### <font color=\"#E23155\" face=\"Verdana\">Solução:</font>"
      ]
    },
    {
      "cell_type": "markdown",
      "metadata": {
        "id": "BjHe2CKy2wyU"
      },
      "source": [
        "Para solucionar este problema, precisaremos realizar um novo teste chamado de **teste de Wilcoxon**, que é empregado quando se deseja comparar duas amostras relacionadas (pareadas), quando essas não necessariamente seguem uma distribuição normal.\n",
        "\n",
        "O objetivo é testar a diferença de duas condições, isto é, quando um mesmo elemento é submetido a duas medidas. O nível de significância adotado é de 3%.\n"
      ]
    },
    {
      "cell_type": "markdown",
      "metadata": {
        "id": "gZeUkue-2wyU"
      },
      "source": [
        "Antes de aplicar o teste, precisamos verificar alguns de seus pressupostos:\n",
        "\n",
        "> ### <font color='green'>Pressupostos</font>\n",
        ">\n",
        "> 1. A variável dependente deve ser numérica ou categórica ordinal.\n",
        ">\n",
        "> 2. A variável independente deve ser composta por dois grupos dependentes (pareados)\n",
        ">\n",
        "> 3. As observações dentro de cada grupo devem ser independentes entre si.\n",
        ">\n",
        "> 4. A mediana e o intervalo interquartil (IQR) representam melhor os dados que a média e o desvio padrão"
      ]
    },
    {
      "cell_type": "markdown",
      "metadata": {
        "id": "OetE9uZD2wyU"
      },
      "source": [
        "### **Dados do problema**\n"
      ]
    },
    {
      "cell_type": "code",
      "execution_count": null,
      "metadata": {
        "colab": {
          "base_uri": "https://localhost:8080/"
        },
        "id": "OnRIPy5O2wyV",
        "outputId": "f1dec4c8-3215-48fe-bd0a-3d67501d6313",
        "vscode": {
          "languageId": "r"
        }
      },
      "outputs": [],
      "source": [
        "antes <- c(3, 4, 3, 7, 1, 4, 3, 1, 6, 1, 1, 10, 1, 4, 4, 1, 1, 2, 7, 2, 2, 0, 5, 4, 3, 2, 10, 13, 2, 2, 1, 4, 5, 2, 1, 1, 10, 2, 2, 2,\n",
        "           16, 5, 1, 5, 3, 3, 2, 10, 2, 5, 9, 4, 3, 1, 10, 3, 4, 4, 6, 7, 1, 3, 3, 3, 2, 13, 18, 0, 10, 5, 7, 7, 19, 31, 3, 7, 47, 2, 5,\n",
        "           4, 0, 2, 4, 1, 7, 3, 2, 5, 5, 5, 1, 4, 2, 2, 1, 8, 1, 2, 3, 0)\n",
        "\n",
        "depois <- c(3, 5, 1, 7, 3, 1, 6, 1, 4, 0, 4, 8, 3, 1, 8, 1, 1, 6, 4, 1, 3, 1, 4, 2, 2, 9, 3, 9, 5, 3, 2, 4, 8, 2, 1, 1, 3, 1, 1, 1, 12,\n",
        "            4, 1, 4, 2, 2, 1, 5, 7, 10, 5, 3, 3, 2, 3, 2, 3, 2, 3, 3, 1, 2, 5, 9, 4, 7, 13, 0, 6, 4, 5, 5, 4, 22, 3, 5, 22, 1, 3, 5, 1,\n",
        "            2, 2, 1, 19, 1, 1, 3, 2, 5, 2, 2, 2, 2, 1, 8, 0, 7, 3, 1)\n",
        "dados <- data.frame(Antes = antes, Depois = depois)\n",
        "dados"
      ]
    },
    {
      "cell_type": "code",
      "execution_count": null,
      "metadata": {
        "colab": {
          "base_uri": "https://localhost:8080/"
        },
        "id": "E2alyQSD2wyV",
        "outputId": "4fc6ce81-4c58-47d1-9a2d-4f4fdce5fef8",
        "vscode": {
          "languageId": "r"
        }
      },
      "outputs": [],
      "source": [
        "n <- nrow(dados)\n",
        "n"
      ]
    },
    {
      "cell_type": "markdown",
      "metadata": {
        "id": "Pz-cPEsp2wyW"
      },
      "source": [
        "\n",
        "\n",
        "---\n",
        "\n"
      ]
    },
    {
      "cell_type": "markdown",
      "metadata": {
        "id": "nD5b6Kgk2wyW"
      },
      "source": [
        "### **Passo 1** - Formulação das hipóteses $H_0$ e $H_1$;\n",
        "\n",
        "#### <font color='green'>Lembre-se, a hipótese nula **sempre** contém a alegação de igualdade</font>\n",
        "\n",
        "> ### $H_0:$ **Não** há diferenças entre os grupos\n",
        ">\n",
        "> ### $H_1:$ Há diferenças entre os grupos"
      ]
    },
    {
      "cell_type": "markdown",
      "metadata": {
        "id": "6-SSn-G62wyW"
      },
      "source": [
        "\n",
        "\n",
        "---\n",
        "\n"
      ]
    },
    {
      "cell_type": "markdown",
      "metadata": {
        "id": "oP4Tb4bbG5-p"
      },
      "source": [
        "### **Passo 2** - cálculo da estatística-teste e verificação desse valor com as áreas de aceitação e rejeição do teste\n",
        "\n"
      ]
    },
    {
      "cell_type": "markdown",
      "metadata": {
        "id": "992ohQtcG5-p"
      },
      "source": [
        "<img src=\"https://github.com/alura-cursos/estatistica-r-testes-hipoteses/blob/main/imagens/outros/teste_wilcoxon.png?raw=true\" alt=\"Distribuição normal (Z) com 5% de significância\">"
      ]
    },
    {
      "cell_type": "markdown",
      "metadata": {
        "id": "V6HTt66AG5-p"
      },
      "source": [
        "> **Documentações:**\n",
        ">\n",
        "> - [**wilcox.test**](https://www.rdocumentation.org/packages/stats/versions/3.6.2/topics/wilcox.test)\n",
        "> - [**get_summary_stats**](https://www.rdocumentation.org/packages/rstatix/versions/0.7.2/topics/get_summary_stats)"
      ]
    },
    {
      "cell_type": "code",
      "execution_count": null,
      "metadata": {
        "colab": {
          "base_uri": "https://localhost:8080/"
        },
        "id": "mWfzTx36G5-p",
        "outputId": "9419dfb5-d6ad-4dcc-9c72-abf61275dfcd",
        "vscode": {
          "languageId": "r"
        }
      },
      "outputs": [],
      "source": [
        "resultado_wilcoxon <- \n",
        "resultado_wilcoxon"
      ]
    },
    {
      "cell_type": "markdown",
      "metadata": {
        "id": "uJomaKDMG5-q"
      },
      "source": [
        "\n",
        "\n",
        "---\n",
        "\n"
      ]
    },
    {
      "cell_type": "markdown",
      "metadata": {
        "id": "YgQVcrTcG5-q"
      },
      "source": [
        "### **Passo 3** - Aceitação ou rejeição da hipótese nula"
      ]
    },
    {
      "cell_type": "markdown",
      "metadata": {
        "id": "ngFrbD8RHQOJ"
      },
      "source": [
        "### <font color='green'>Critério do $p_{value}$</font>\n",
        "\n",
        "> ### Rejeitar $H_0$ se o $p_{value} \\leq \\alpha$"
      ]
    },
    {
      "cell_type": "code",
      "execution_count": null,
      "metadata": {
        "id": "fc-fmr8_PbAW",
        "vscode": {
          "languageId": "r"
        }
      },
      "outputs": [],
      "source": [
        "significancia <- 0.03"
      ]
    },
    {
      "cell_type": "code",
      "execution_count": null,
      "metadata": {
        "colab": {
          "base_uri": "https://localhost:8080/"
        },
        "id": "sO8z4rxRHQOJ",
        "outputId": "dbf6c979-7348-403d-84cd-78b33c344d28",
        "vscode": {
          "languageId": "r"
        }
      },
      "outputs": [],
      "source": [
        "resultado_wilcoxon$p.value <= significancia"
      ]
    },
    {
      "cell_type": "markdown",
      "metadata": {
        "id": "fkceAu2dSH3D"
      },
      "source": [
        "\n",
        "\n",
        "---\n",
        "\n"
      ]
    },
    {
      "cell_type": "markdown",
      "metadata": {
        "id": "mm0enm7E2wyX"
      },
      "source": [
        "### **Passo 4** - Análise descritiva dos dados"
      ]
    },
    {
      "cell_type": "markdown",
      "metadata": {
        "id": "c7h98MlM2wyX"
      },
      "source": [
        "Vamos calcular as medianas e o intervalo interquartil (IQR) dos tempos de entrega antes, depois e da diferença entre eles."
      ]
    },
    {
      "cell_type": "code",
      "execution_count": null,
      "metadata": {
        "id": "s9hawCqiRDT1",
        "vscode": {
          "languageId": "r"
        }
      },
      "outputs": [],
      "source": [
        "dados$Dif <- "
      ]
    },
    {
      "cell_type": "code",
      "execution_count": null,
      "metadata": {
        "colab": {
          "base_uri": "https://localhost:8080/"
        },
        "id": "APOZo5zs2wyX",
        "outputId": "b09f7388-53cd-447d-cfd7-060888d8e0cc",
        "vscode": {
          "languageId": "r"
        }
      },
      "outputs": [],
      "source": [
        "dados %>%"
      ]
    },
    {
      "cell_type": "markdown",
      "metadata": {
        "id": "STPbqxGT2wyX"
      },
      "source": [
        "O **teste de Wilcoxon** tem como base a **mediana das diferenças**. Em nosso caso ela é **positiva**, ou seja, temos uma evidência de **melhora nos tempos de entrega** visto que a diferença é calculado por $Antes - Depois$.\n",
        "\n"
      ]
    },
    {
      "cell_type": "markdown",
      "metadata": {
        "id": "AuY79_zrSEGk"
      },
      "source": [
        "---"
      ]
    },
    {
      "cell_type": "markdown",
      "metadata": {
        "id": "oOgc7Xvz2wyZ"
      },
      "source": [
        "Com base nesses resultados, podemos concluir que:\n",
        "\n",
        "* Ao aplicar o **Teste Wilcoxon**, obtivemos a estatística V ($V = 2026$) e o p-valor ($p_{value} = 0.015$). Como o p-valor é menor que o nível de significância ($\\alpha = 0.03$), **rejeitamos a hipótese nula**.\n",
        "\n",
        "* Isso indica que **houve uma redução significativa** no tempo de entrega após a implementação do novo sistema de roteirização ao **nível de significância de 3%**.\n",
        "\n",
        "* Além disso, a análise descritiva mostrou que a mediana das diferenças das entregas foi de 1 dia, confirmando a eficácia do sistema."
      ]
    },
    {
      "cell_type": "markdown",
      "metadata": {
        "id": "9Q_Bgd382wyZ"
      },
      "source": [
        "Conseguimos responder ao nosso problema que ilustra como o **teste de Wilcoxon** pode ser aplicado para comparar amostras pareadas e avaliar mudanças significativas.\n",
        "\n",
        "No próximo vídeo, exploraremos outro teste não-paramétrico, desta vez para amostras não paredas: **Teste U Mann-Whitney**."
      ]
    },
    {
      "cell_type": "markdown",
      "metadata": {
        "id": "kvgSEiySTxPE"
      },
      "source": [
        "## **5.2 Teste U de Mann-Whitney**\n",
        "\n",
        "---\n",
        "\n"
      ]
    },
    {
      "cell_type": "markdown",
      "metadata": {
        "id": "byAizROzTj6U"
      },
      "source": [
        "### <font color=\"#E23155\" face=\"Verdana\">Demanda 15: Investigando a produção de leite de propriedades</font>"
      ]
    },
    {
      "cell_type": "markdown",
      "metadata": {
        "id": "rq69lG2UTj6V"
      },
      "source": [
        "Uma empresa de laticínios está investigando a produção de leite em duas propriedades: uma que utiliza métodos **convencionais** e outra que adota práticas **orgânicas**. Foram coletados dados sobre o **nível de proteína** (em gramas por 100 gramas de leite) e a **quantidade de leite produzido** (em litros por dia) em ambas as propriedades.\n",
        "\n",
        "\n",
        "A partir dos dados coletados, queremos responder à seguinte pergunta:\n",
        "* Há diferença no nível de proteína do leite entre as propriedades convencionais e orgânicas?\n",
        "\n",
        "* Há diferença na quantidade de leite produzido entre as propriedades convencionais e orgânicas?"
      ]
    },
    {
      "cell_type": "markdown",
      "metadata": {
        "id": "Q7oTqUY9Tj6V"
      },
      "source": [
        "### <font color=\"#E23155\" face=\"Verdana\">Solução:</font>"
      ]
    },
    {
      "cell_type": "markdown",
      "metadata": {
        "id": "AOIbCtUsTj6V"
      },
      "source": [
        "Para solucionar este problema, precisaremos realizar um novo teste chamado de **teste U de Mann-Whitney**, que é ideal para comparar duas amostras independentes quando os dados não seguem uma distribuição normal.\n",
        "\n",
        "O **Teste U de Mann-Whitney**, também conhecido como Teste da soma dos postos de Wilcoxon (*Wilcoxon rank-sum test*) é útil quando os dados não seguem uma distribuição normal e serve como alternativa ao **teste t para amostras independentes**. O teste classifica os valores das duas amostras e verifica se uma tende a ter valores maiores ou menores que a outra, analisando diferenças na mediana.\n",
        "\n",
        "O objetivo é determinar se **há diferença significativa** no nível de proteína e na quantidade de leite produzido entre os dois tipos de produção. O **nível de significância adotado é de 5%**.\n"
      ]
    },
    {
      "cell_type": "markdown",
      "metadata": {
        "id": "fGD0WGjxTj6V"
      },
      "source": [
        "Antes de aplicar o teste, precisamos verificar alguns de seus pressupostos:\n",
        "\n",
        "> ### <font color='green'>Pressupostos</font>\n",
        ">\n",
        "> 1. A variável dependente deve ser numérica ou categórica ordinal.\n",
        ">\n",
        "> 2. A variável independente deve ser composta por dois grupos independentes.\n",
        ">\n",
        "> 3. As observações dentro de cada grupo devem ser independentes entre si.\n",
        ">\n",
        "> 4. A mediana e o intervalo interquartil (IQR) representam melhor os dados que a média e o desvio padrão"
      ]
    },
    {
      "cell_type": "markdown",
      "metadata": {
        "id": "nxrcDRajTj6V"
      },
      "source": [
        "### **Dados do problema**\n"
      ]
    },
    {
      "cell_type": "markdown",
      "metadata": {
        "id": "J_7D18lR4kO1"
      },
      "source": [
        "A base de dados contém informações sobre o tipo de produção (convencional ou orgânica), o nível de proteína e a quantidade de leite produzido."
      ]
    },
    {
      "cell_type": "code",
      "execution_count": null,
      "metadata": {
        "colab": {
          "base_uri": "https://localhost:8080/"
        },
        "id": "R--7PLCATj6V",
        "outputId": "a364eeb7-e202-402d-be4c-8552ca36f5b4",
        "vscode": {
          "languageId": "r"
        }
      },
      "outputs": [],
      "source": [
        "dados_leite <- read.csv(\"https://raw.githubusercontent.com/alura-cursos/estatistica-r-testes-hipoteses/refs/heads/main/dados/dados_leite.csv\")\n",
        "dados_leite"
      ]
    },
    {
      "cell_type": "code",
      "execution_count": null,
      "metadata": {
        "colab": {
          "base_uri": "https://localhost:8080/"
        },
        "id": "D7sUPMHiTj6V",
        "outputId": "cc7e7598-4d24-4592-cff1-789e5916a4f7",
        "vscode": {
          "languageId": "r"
        }
      },
      "outputs": [],
      "source": [
        "dados_leite %>%\n",
        "  group_by(tipo) %>%\n",
        "  count()"
      ]
    },
    {
      "cell_type": "markdown",
      "metadata": {
        "id": "vIyfnpQBTj6W"
      },
      "source": [
        "\n",
        "\n",
        "---\n",
        "\n"
      ]
    },
    {
      "cell_type": "markdown",
      "metadata": {
        "id": "SIHfqu7dTj6W"
      },
      "source": [
        "### **Passo 1** - Formulação das hipóteses $H_0$ e $H_1$;\n",
        "\n",
        "##### <font color='green'>Lembre-se, a hipótese nula **sempre** contém a alegação de igualdade</font>\n",
        "\n",
        "#### **Para o nível de proteína:**\n",
        "\n",
        "> ### $H_0:$ **Não** há diferença no nível de proteína entre as propriedades. ($M_{d_{con}} = M_{d_{org}}$)\n",
        ">\n",
        "> ### $H_1:$ Há diferença no nível de proteína entre as propriedades. ($M_{d_{con}} \\ne M_{d_{org}}$)\n",
        "\n",
        "#### **Para a quantidade de leite:**\n",
        "\n",
        "> ### $H_0:$ **Não** há diferença na quantidade de leite produzido entre as propriedades. ($M_{d_{con}} = M_{d_{org}}$)\n",
        ">\n",
        "> ### $H_1:$ Há diferença na quantidade de leite produzido entre as propriedades. ($M_{d_{con}} \\ne M_{d_{org}}$)"
      ]
    },
    {
      "cell_type": "markdown",
      "metadata": {
        "id": "8wJwhSUvTj6W"
      },
      "source": [
        "\n",
        "\n",
        "---\n",
        "\n"
      ]
    },
    {
      "cell_type": "markdown",
      "metadata": {
        "id": "bcNakD50Tj6W"
      },
      "source": [
        "### **Passo 2** - cálculo da estatística-teste e verificação desse valor com as áreas de aceitação e rejeição do teste\n",
        "\n"
      ]
    },
    {
      "cell_type": "markdown",
      "metadata": {
        "id": "v8gNdu2lTj6W"
      },
      "source": [
        "<img src=\"https://github.com/alura-cursos/estatistica-r-testes-hipoteses/blob/main/imagens/outros/teste_mann_whitney.png?raw=true\" alt=\"Distribuição normal (Z) com 5% de significância\">"
      ]
    },
    {
      "cell_type": "markdown",
      "metadata": {
        "id": "wtZgGMJeTj6W"
      },
      "source": [
        "> **Documentações:**\n",
        ">\n",
        "> - [**wilcox.test**](https://www.rdocumentation.org/packages/stats/versions/3.6.2/topics/wilcox.test)"
      ]
    },
    {
      "cell_type": "code",
      "execution_count": null,
      "metadata": {
        "colab": {
          "base_uri": "https://localhost:8080/"
        },
        "id": "iCX4LZGJTj6X",
        "outputId": "67439019-0dee-4272-8b44-53a8d757d0b4",
        "vscode": {
          "languageId": "r"
        }
      },
      "outputs": [],
      "source": [
        "res_mann_whitney_proteina <- \n",
        "res_mann_whitney_proteina"
      ]
    },
    {
      "cell_type": "code",
      "execution_count": null,
      "metadata": {
        "colab": {
          "base_uri": "https://localhost:8080/"
        },
        "id": "GI-06bD_9PkA",
        "outputId": "e5ffcb7f-807e-4ac8-ab46-022a841a23e6",
        "vscode": {
          "languageId": "r"
        }
      },
      "outputs": [],
      "source": [
        "res_mann_whitney_qtd_leite <- \n",
        "res_mann_whitney_qtd_leite"
      ]
    },
    {
      "cell_type": "markdown",
      "metadata": {
        "id": "0LOtKwWDTj6X"
      },
      "source": [
        "\n",
        "\n",
        "---\n",
        "\n"
      ]
    },
    {
      "cell_type": "markdown",
      "metadata": {
        "id": "NXI_eRjLTj6X"
      },
      "source": [
        "### **Passo 3** - Aceitação ou rejeição da hipótese nula"
      ]
    },
    {
      "cell_type": "markdown",
      "metadata": {
        "id": "_Pyby8G-Tj6X"
      },
      "source": [
        "### <font color='green'>Critério do $p_{value}$</font>\n",
        "\n",
        "> ### Rejeitar $H_0$ se o $p_{value} \\leq \\alpha$"
      ]
    },
    {
      "cell_type": "code",
      "execution_count": null,
      "metadata": {
        "id": "3sWl2JpoTj6W",
        "vscode": {
          "languageId": "r"
        }
      },
      "outputs": [],
      "source": [
        "significancia <- 0.05"
      ]
    },
    {
      "cell_type": "code",
      "execution_count": null,
      "metadata": {
        "colab": {
          "base_uri": "https://localhost:8080/"
        },
        "id": "CXG3FzrbTj6X",
        "outputId": "e0264fb8-ff51-4691-e407-1a28024ec775",
        "vscode": {
          "languageId": "r"
        }
      },
      "outputs": [],
      "source": [
        "res_mann_whitney_proteina$p <= significancia"
      ]
    },
    {
      "cell_type": "code",
      "execution_count": null,
      "metadata": {
        "colab": {
          "base_uri": "https://localhost:8080/"
        },
        "id": "A7WpmzvV-cSb",
        "outputId": "86ee429d-dbeb-42f4-fc53-5db49655b443",
        "vscode": {
          "languageId": "r"
        }
      },
      "outputs": [],
      "source": [
        "res_mann_whitney_qtd_leite$p <= significancia"
      ]
    },
    {
      "cell_type": "markdown",
      "metadata": {
        "id": "X6aD-1IeTj6Y"
      },
      "source": [
        "\n",
        "\n",
        "---\n",
        "\n"
      ]
    },
    {
      "cell_type": "markdown",
      "metadata": {
        "id": "iCNzl3DnTj6Y"
      },
      "source": [
        "### **Passo 4** - Análise descritiva dos dados"
      ]
    },
    {
      "cell_type": "markdown",
      "metadata": {
        "id": "e8aWYEj4Tj6Y"
      },
      "source": [
        "Vamos calcular as medianas e o MAD (desvio da mediana absoluta) do nível de proteína e da quantidade de leite para cada tipo de produção."
      ]
    },
    {
      "cell_type": "code",
      "execution_count": null,
      "metadata": {
        "colab": {
          "base_uri": "https://localhost:8080/"
        },
        "id": "6M4SsvLkTj6Y",
        "outputId": "0f718f32-f442-4989-e845-8cc3de7cc895",
        "vscode": {
          "languageId": "r"
        }
      },
      "outputs": [],
      "source": [
        "dados_leite %>%\n"
      ]
    },
    {
      "cell_type": "markdown",
      "metadata": {
        "id": "79Oue2hLTj6Y"
      },
      "source": [
        "O **teste de Mann-Whitney**, por ser um teste não paramétrico, responde melhor a comparação entre as **medianas dos grupos**. Conseguimos notar, por exemplo, uma **mediana** maior em proteína para leite produzidos em uma propriedade que adota práticas orgânicas.\n",
        "\n"
      ]
    },
    {
      "cell_type": "markdown",
      "metadata": {
        "id": "MkIPeNpnTj6Y"
      },
      "source": [
        "---"
      ]
    },
    {
      "cell_type": "markdown",
      "metadata": {
        "id": "FOWHh4YRTj6Y"
      },
      "source": [
        "Com base nesses resultados, podemos concluir que:\n",
        "\n",
        "#### **Para quantidade de proteína**\n",
        "\n",
        "* Ao aplicar o **Teste U de Mann-Whitney**, obtivemos a estatística W ($W = 28$) e o p-valor ($p_{value} < 0.001$), ou seja, **rejeitamos a hipótese nula** para um nível de significância de 5% ($\\alpha = 0.05$).\n",
        "\n",
        "* Isso indica que **há diferenças significativas** do nível de proteína do leite de acordo com o método adotado, onde temos para as medianas: convencional (**3.40g/100g**) e orgânico (**4.05g/100g**).\n",
        "\n",
        "* Além disso, a análise descritiva mostrou que **o desvio absoluto da mediana (MAD) é baixo** para ambos os casos, reforçando a proximidade dos valores medidos e a mediana da proteína do leite.\n",
        "\n",
        "#### **Para litros de leite**\n",
        "\n",
        "* Ao aplicar o **Teste U de Mann-Whitney**, obtivemos a estatística W ($W = 154.5$) e o p-valor ($p_{value} = 0.316$), ou seja, **não rejeitamos a hipótese nula** para um nível de significância de 5% ($\\alpha = 0.05$).\n",
        "\n",
        "* Isso indica que **não há diferenças significativas** da quantidade de litros produzidos com o método adotado, embora a mediana seja maior no caso do método convencional (**540 litros**) do que no orgânico (**490 litros**).\n",
        "\n",
        "* Isso se deve a uma **alta variação no desvio absoluto da mediana (MAD)** para ambos os casos: convencional (**385 litros**) e orgânico (**178 litros**). O que contribui para não rejeição da hipótese nula, utilizando o teste.\n"
      ]
    },
    {
      "cell_type": "markdown",
      "metadata": {
        "id": "8-eF9SFFTj6Z"
      },
      "source": [
        "Conseguimos responder ao nosso problema que ilustra como o **teste U de Mann-Whitney** pode ser aplicado para comparar amostras independentes e avaliar suas diferenças por meio dos parâmetros de teste e estatísticas descritivas."
      ]
    },
    {
      "cell_type": "markdown",
      "metadata": {
        "id": "PcyH6d5GTxPE"
      },
      "source": [
        "# **Qual teste escolher?**\n",
        "\n",
        "---\n",
        "\n"
      ]
    },
    {
      "cell_type": "markdown",
      "metadata": {
        "id": "ThQkg_KrWO4p"
      },
      "source": [
        "Ufa! Nossa experiência foi bem bacana não é mesmo?\n",
        "\n",
        "Trouxe este fluxograma no final do documento para te auxiliar na escolha do teste estatístico adequado com base no tipo de dado e na estrutura da análise que você deseja em seus projetos.\n",
        "\n",
        "Ele segue um caminho lógico a partir do tipo de variável (contínua, numérica/ordinal ou nominal) e se os dados são pareados ou não."
      ]
    },
    {
      "cell_type": "markdown",
      "metadata": {
        "id": "gArLWHXvsp5B"
      },
      "source": [
        "<img src=\"https://github.com/alura-cursos/estatistica-r-testes-hipoteses/blob/main/imagens/outros/qual_teste_escolher.PNG?raw=true\" alt=\"Diagrama de qual teste de hipóteses escolher\">"
      ]
    },
    {
      "cell_type": "markdown",
      "metadata": {
        "id": "7Cqon1esW8Kc"
      },
      "source": [
        "São eles:\n",
        "\n",
        "- **Contínuo (Parâmetro é importante?)**  \n",
        "  - **Teste t e Z** - Para analisar as médias de uma amostra\n",
        "  - **Teste t pareado** – Para dados pareados e distribuição normal.  \n",
        "  - **Teste t não pareado** – Para comparação entre dois grupos independentes com distribuição normal.  \n",
        "  - **Teste Z de proporção** – Para proporções em dados independentes.  \n",
        "  - **ANOVA para medidas repetidas** – Para mais de dois grupos com medidas repetidas.  \n",
        "  - **ANOVA 1 ou 2 vias** – Para comparação de mais de dois grupos independentes.  \n",
        "\n",
        "- **Numérico/Ordinal (Não paramétrico)**  \n",
        "  - **Wilcoxon** – Alternativa ao Teste t para dados pareados.  \n",
        "  - **Friedman** – Para mais de dois grupos pareados.  \n",
        "  - **U de Mann-Whitney** – Alternativa ao Teste t para dados não pareados.  \n",
        "  - **Kruskal-Wallis** – Para mais de dois grupos independentes.  \n",
        "\n",
        "- **Nominal (Categórico)**  \n",
        "  - **McNemar** – Para dados pareados categóricos.  \n",
        "  - **Qui-quadrado** – Para tabelas de contingência, dados não pareados.  \n",
        "  - **Exato de Fisher** – Para tabelas pequenas, quando os valores são menores ou iguais que 5.  \n",
        "\n",
        "Espero que este fluxograma seja útil para determinar o teste adequado ao seu conjunto de dados, garantindo análises estatísticas corretas e voltadas ao comportamento dos dados."
      ]
    }
  ],
  "metadata": {
    "colab": {
      "collapsed_sections": [
        "ovBt4ToMQ-O0",
        "jiHCLBQeRy4x",
        "2dNWTHzpQ_6n"
      ],
      "provenance": []
    },
    "kernelspec": {
      "display_name": "R",
      "language": "R",
      "name": "ir"
    },
    "language_info": {
      "name": "R"
    }
  },
  "nbformat": 4,
  "nbformat_minor": 0
}
