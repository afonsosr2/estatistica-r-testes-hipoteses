{
 "cells": [
  {
   "cell_type": "code",
   "execution_count": 1,
   "metadata": {
    "vscode": {
     "languageId": "r"
    }
   },
   "outputs": [
    {
     "name": "stdout",
     "output_type": "stream",
     "text": [
      "Pasta 'library' criada!\n"
     ]
    }
   ],
   "source": [
    "# Definir o nome da pasta \"library\"\n",
    "library_path <- \"library\"\n",
    "\n",
    "# Criar a pasta \"library\" (se não existir)\n",
    "if (!dir.exists(library_path)) {\n",
    "  dir.create(library_path)\n",
    "  cat(\"Pasta 'library' criada!\\n\")\n",
    "} else {\n",
    "  cat(\"A pasta 'library' já existe!\\n\")\n",
    "}\n",
    "\n",
    "# Instalar os pacotes na pasta \"library\"\n",
    "urls <- c(\"https://cran.r-project.org/src/contrib/car_3.1-3.tar.gz\",\n",
    "          \"https://cran.r-project.org/src/contrib/rstatix_0.7.2.tar.gz\",\n",
    "          \"https://cran.r-project.org/src/contrib/BSDA_1.2.2.tar.gz\")\n",
    "install.packages(urls, lib = library_path, repos = NULL, type = \"source\")\n",
    "\n",
    "# Compactar a pasta \"library\" em um arquivo .tar.gz\n",
    "tar_file <- \"library.tar.gz\"\n",
    "tar(tar_file, files = library_path, compression = \"gzip\")"
   ]
  },
  {
   "cell_type": "code",
   "execution_count": 2,
   "metadata": {
    "vscode": {
     "languageId": "r"
    }
   },
   "outputs": [
    {
     "name": "stderr",
     "output_type": "stream",
     "text": [
      "Warning message:\n",
      "\"pacote 'car' foi compilado no R versão 4.4.2\"\n",
      "Carregando pacotes exigidos: carData\n",
      "\n",
      "Warning message:\n",
      "\"pacote 'carData' foi compilado no R versão 4.4.2\"\n",
      "Warning message:\n",
      "\"pacote 'rstatix' foi compilado no R versão 4.4.2\"\n",
      "\n",
      "Anexando pacote: 'rstatix'\n",
      "\n",
      "\n",
      "O seguinte objeto é mascarado por 'package:stats':\n",
      "\n",
      "    filter\n",
      "\n",
      "\n",
      "Carregando pacotes exigidos: e1071\n",
      "\n",
      "Carregando pacotes exigidos: lattice\n",
      "\n",
      "\n",
      "Anexando pacote: 'BSDA'\n",
      "\n",
      "\n",
      "Os seguintes objetos são mascarados por 'package:carData':\n",
      "\n",
      "    Vocab, Wool\n",
      "\n",
      "\n",
      "O seguinte objeto é mascarado por 'package:datasets':\n",
      "\n",
      "    Orange\n",
      "\n",
      "\n"
     ]
    }
   ],
   "source": [
    "# Testando se a importação teve sucesso\n",
    "library(car)\n",
    "library(rstatix)\n",
    "library(BSDA)"
   ]
  }
 ],
 "metadata": {
  "kernelspec": {
   "display_name": "R",
   "language": "R",
   "name": "ir"
  },
  "language_info": {
   "codemirror_mode": "r",
   "file_extension": ".r",
   "mimetype": "text/x-r-source",
   "name": "R",
   "pygments_lexer": "r",
   "version": "4.4.1"
  }
 },
 "nbformat": 4,
 "nbformat_minor": 2
}
