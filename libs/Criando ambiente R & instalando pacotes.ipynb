{
  "cells": [
    {
      "cell_type": "code",
      "execution_count": 1,
      "metadata": {
        "id": "1mL0LTG8e9dn"
      },
      "outputs": [],
      "source": [
        "# criando uma pasta chamada \"library\"\n",
        "system(\"mkdir library\")\n",
        "\n",
        "# configurando o caminha padrão do R  para a pasta \"library\"\n",
        ".libPaths(\"library\")"
      ]
    },
    {
      "cell_type": "code",
      "execution_count": 2,
      "metadata": {
        "colab": {
          "base_uri": "https://localhost:8080/"
        },
        "id": "JTWueeFvfSiJ",
        "outputId": "e2c45f11-5180-4420-8671-d464b183cdc4"
      },
      "outputs": [
        {
          "output_type": "stream",
          "name": "stderr",
          "text": [
            "Installing package into ‘/content/library’\n",
            "(as ‘lib’ is unspecified)\n",
            "\n",
            "Installing package into ‘/content/library’\n",
            "(as ‘lib’ is unspecified)\n",
            "\n",
            "Installing package into ‘/content/library’\n",
            "(as ‘lib’ is unspecified)\n",
            "\n",
            "also installing the dependencies ‘rbibutils’, ‘cowplot’, ‘Deriv’, ‘microbenchmark’, ‘Rdpack’, ‘numDeriv’, ‘doBy’, ‘SparseM’, ‘MatrixModels’, ‘minqa’, ‘nloptr’, ‘reformulas’, ‘RcppEigen’, ‘carData’, ‘abind’, ‘Formula’, ‘pbkrtest’, ‘quantreg’, ‘lme4’, ‘corrplot’, ‘car’\n",
            "\n",
            "\n",
            "Installing package into ‘/content/library’\n",
            "(as ‘lib’ is unspecified)\n",
            "\n",
            "also installing the dependencies ‘proxy’, ‘e1071’\n",
            "\n",
            "\n"
          ]
        }
      ],
      "source": [
        "install.packages(\"dplyr\")\n",
        "install.packages(\"ggplot2\")\n",
        "install.packages(\"rstatix\")\n",
        "install.packages(\"BSDA\")"
      ]
    },
    {
      "cell_type": "code",
      "source": [
        "library(dplyr)\n",
        "library(ggplot2)\n",
        "library(rstatix)\n",
        "library(BSDA)"
      ],
      "metadata": {
        "id": "4ai5chB4A4rm"
      },
      "execution_count": 4,
      "outputs": []
    },
    {
      "cell_type": "code",
      "source": [
        "sessionInfo()"
      ],
      "metadata": {
        "colab": {
          "base_uri": "https://localhost:8080/",
          "height": 659
        },
        "id": "h7_gGEfBMyc1",
        "outputId": "927efef1-113d-43a7-a39c-713fa241ccb7"
      },
      "execution_count": 5,
      "outputs": [
        {
          "output_type": "display_data",
          "data": {
            "text/plain": [
              "R version 4.4.2 (2024-10-31)\n",
              "Platform: x86_64-pc-linux-gnu\n",
              "Running under: Ubuntu 22.04.4 LTS\n",
              "\n",
              "Matrix products: default\n",
              "BLAS:   /usr/lib/x86_64-linux-gnu/openblas-pthread/libblas.so.3 \n",
              "LAPACK: /usr/lib/x86_64-linux-gnu/openblas-pthread/libopenblasp-r0.3.20.so;  LAPACK version 3.10.0\n",
              "\n",
              "locale:\n",
              " [1] LC_CTYPE=en_US.UTF-8       LC_NUMERIC=C              \n",
              " [3] LC_TIME=en_US.UTF-8        LC_COLLATE=en_US.UTF-8    \n",
              " [5] LC_MONETARY=en_US.UTF-8    LC_MESSAGES=en_US.UTF-8   \n",
              " [7] LC_PAPER=en_US.UTF-8       LC_NAME=C                 \n",
              " [9] LC_ADDRESS=C               LC_TELEPHONE=C            \n",
              "[11] LC_MEASUREMENT=en_US.UTF-8 LC_IDENTIFICATION=C       \n",
              "\n",
              "time zone: Etc/UTC\n",
              "tzcode source: system (glibc)\n",
              "\n",
              "attached base packages:\n",
              "[1] stats     graphics  grDevices utils     datasets  methods   base     \n",
              "\n",
              "other attached packages:\n",
              "[1] BSDA_1.2.2     lattice_0.22-6 rstatix_0.7.2  ggplot2_3.5.1  dplyr_1.1.4   \n",
              "\n",
              "loaded via a namespace (and not attached):\n",
              " [1] gtable_0.3.6      jsonlite_1.8.9    compiler_4.4.2    crayon_1.5.3     \n",
              " [5] tidyselect_1.2.1  IRdisplay_1.1     tidyr_1.3.1       scales_1.3.0     \n",
              " [9] uuid_1.2-1        fastmap_1.2.0     IRkernel_1.3.2    R6_2.5.1         \n",
              "[13] generics_0.1.3    Formula_1.2-5     backports_1.5.0   tibble_3.2.1     \n",
              "[17] car_3.1-3         munsell_0.5.1     pillar_1.10.1     rlang_1.1.5      \n",
              "[21] broom_1.0.7       repr_1.1.7        cli_3.6.3         withr_3.0.2      \n",
              "[25] magrittr_2.0.3    class_7.3-23      digest_0.6.37     grid_4.4.2       \n",
              "[29] base64enc_0.1-3   pbdZMQ_0.3-13     lifecycle_1.0.4   vctrs_0.6.5      \n",
              "[33] proxy_0.4-27      evaluate_1.0.3    glue_1.8.0        abind_1.4-8      \n",
              "[37] e1071_1.7-16      carData_3.0-5     colorspace_2.1-1  purrr_1.0.2      \n",
              "[41] tools_4.4.2       pkgconfig_2.0.3   htmltools_0.5.8.1"
            ]
          },
          "metadata": {}
        }
      ]
    },
    {
      "cell_type": "code",
      "execution_count": 6,
      "metadata": {
        "id": "O1zm3hXkfSfb"
      },
      "outputs": [],
      "source": [
        "tar('library.tar.gz', \"library\")"
      ]
    }
  ],
  "metadata": {
    "colab": {
      "provenance": []
    },
    "kernelspec": {
      "display_name": "R",
      "name": "ir"
    },
    "language_info": {
      "name": "R"
    }
  },
  "nbformat": 4,
  "nbformat_minor": 0
}