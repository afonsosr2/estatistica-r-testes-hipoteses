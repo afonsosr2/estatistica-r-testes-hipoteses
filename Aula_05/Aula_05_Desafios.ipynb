{
  "cells": [
    {
      "cell_type": "markdown",
      "metadata": {
        "id": "qxah03ikONCD"
      },
      "source": [
        "# **Sobre o notebook**\n",
        "\n",
        "Aproveite esse espaço para as atividades do curso de **Estatística com R: aplicando testes de hipóteses** da Alura. Aqui você pode escrever e testar os códigos dos diversos exercícios do **Mão na Massa** envolvendo os aprendizados de cada aula.\n",
        "\n",
        "Este notebook foi construído com espaços para adicionar as células dos desafios propostos no curso, com eles você tem espaço para construir e executar suas soluções.\n",
        "\n",
        "> O código abaixo deve ser rodado para quando utilizar funções específicas de cada pacote\n"
      ]
    },
    {
      "cell_type": "markdown",
      "metadata": {
        "id": "3Yz8Ansn1Fdz"
      },
      "source": [
        "#### **Importando os pacotes e configurando o ambiente**"
      ]
    },
    {
      "cell_type": "code",
      "execution_count": null,
      "metadata": {
        "id": "iuaDpq-p1Fd0",
        "vscode": {
          "languageId": "r"
        }
      },
      "outputs": [],
      "source": [
        "# Baixando o arquivo de ambiente do R\n",
        "R_environment_file <- \"https://github.com/alura-cursos/estatistica-r-testes-hipoteses/raw/refs/heads/main/libs/library.tar.gz\"\n",
        "\n",
        "download.file(R_environment_file, destfile=\"./library.tar.gz\")\n",
        "\n",
        "# unzip do arquivo library do R: 'library.tar.gz' para a pasta library do R\n",
        "untar(\"library.tar.gz\", \"library\")\n",
        "\n",
        "# Mudando a pasta das libs do R para './library'\n",
        ".libPaths(\"library\")"
      ]
    },
    {
      "cell_type": "code",
      "execution_count": 21,
      "metadata": {
        "colab": {
          "base_uri": "https://localhost:8080/"
        },
        "id": "GefZWr0T1MA9",
        "outputId": "217313d2-ba8a-4505-caef-7a843913d519",
        "vscode": {
          "languageId": "r"
        }
      },
      "outputs": [
        {
          "name": "stderr",
          "output_type": "stream",
          "text": [
            "Loading required package: lattice\n",
            "\n",
            "Loading required package: carData\n",
            "\n",
            "\n",
            "Attaching package: ‘carData’\n",
            "\n",
            "\n",
            "The following objects are masked from ‘package:BSDA’:\n",
            "\n",
            "    Vocab, Wool\n",
            "\n",
            "\n"
          ]
        }
      ],
      "source": [
        "# Importando os pacotes do projeto\n",
        "library(dplyr, warn.conflicts = F)\n",
        "library(ggplot2, warn.conflicts = F)\n",
        "library(rstatix, warn.conflicts = F)\n",
        "library(BSDA, warn.conflicts = F)\n",
        "library(car, warn.conflicts = F)\n",
        "options(repr.matrix.max.rows = 10)"
      ]
    },
    {
      "cell_type": "markdown",
      "metadata": {
        "id": "IA3M1eso_L2Z"
      },
      "source": [
        "## **Aula 01 - Teste de normalidade e etapas de um teste de hipóteses**"
      ]
    },
    {
      "cell_type": "markdown",
      "metadata": {
        "id": "AmpR_VE4CImQ"
      },
      "source": [
        "### **Mão na Massa - Consultoria para uma indústria de cereais**\n",
        "\n",
        "\n"
      ]
    },
    {
      "cell_type": "markdown",
      "metadata": {
        "id": "k2YfI6iDYmo4"
      },
      "source": [
        "Você está atuando como consultor em uma indústria que produz cereais. A empresa gostaria de analisar se a produção de arroz está seguindo os padrões de qualidade e, por isso, você utilizará os conceitos de testes de hipóteses para realizar essa investigação.\n"
      ]
    },
    {
      "cell_type": "markdown",
      "metadata": {
        "id": "QDUU7jVGiMiZ"
      },
      "source": [
        "#### Case 1: Verificando a normalidade dos dados\n",
        "\n",
        "A indústria coletou dados sobre o peso das embalagens de arroz de 5 kg. Eles suspeitam que o processo de enchimento das embalagens pode estar variando além do esperado. Para garantir a qualidade do produto, é necessário verificar se os pesos das embalagens seguem uma distribuição normal antes de prosseguir para o teste de hipóteses.\n",
        "\n",
        "* Dada a amostra de **45 embalagens** coletadas abaixo, com o peso em kg dos pacotes de arroz, verifique se os pesos das embalagens seguem uma distribuição normal utilizando o Teste de Shapiro-Wilk.\n"
      ]
    },
    {
      "cell_type": "code",
      "execution_count": 1,
      "metadata": {
        "id": "ZruvypSoO6oP",
        "vscode": {
          "languageId": "r"
        }
      },
      "outputs": [],
      "source": [
        "# Dados dos pesos das embalagens de arroz (em kg)\n",
        "pesos_arroz <- c(4.78, 5.16, 5.10, 4.94, 5.05, 5.21, 4.89, 5.10, 4.99, 5.16, 5.05,\n",
        "                 4.94, 5.10, 4.99, 5.05, 5.16, 4.89, 5.10, 4.94, 5.05, 5.21, 4.99,\n",
        "                 5.10, 4.94, 5.05, 5.16, 4.89, 5.10, 4.99, 5.05, 5.16, 4.94, 5.10,\n",
        "                 4.99, 5.05, 5.21, 4.89, 5.10, 4.94, 5.05, 5.16, 4.99, 5.10, 4.94,\n",
        "                 5.05)"
      ]
    },
    {
      "cell_type": "code",
      "execution_count": 2,
      "metadata": {
        "id": "CmHiMnNo2rMj",
        "vscode": {
          "languageId": "r"
        }
      },
      "outputs": [],
      "source": [
        "significancia <- 0.05"
      ]
    },
    {
      "cell_type": "code",
      "execution_count": 3,
      "metadata": {
        "colab": {
          "base_uri": "https://localhost:8080/",
          "height": 104
        },
        "id": "tJD2u7_rLf_O",
        "outputId": "858b2d17-079d-4b96-beef-af6920e8f422",
        "vscode": {
          "languageId": "r"
        }
      },
      "outputs": [
        {
          "data": {
            "text/plain": [
              "\n",
              "\tShapiro-Wilk normality test\n",
              "\n",
              "data:  pesos_arroz\n",
              "W = 0.95704, p-value = 0.09418\n"
            ]
          },
          "metadata": {},
          "output_type": "display_data"
        }
      ],
      "source": [
        "resultado <- shapiro.test(pesos_arroz)\n",
        "resultado"
      ]
    },
    {
      "cell_type": "code",
      "execution_count": 4,
      "metadata": {
        "id": "Vp5ZN5jv2fRz",
        "vscode": {
          "languageId": "r"
        }
      },
      "outputs": [],
      "source": [
        "p_valor <- resultado$p.value"
      ]
    },
    {
      "cell_type": "code",
      "execution_count": 5,
      "metadata": {
        "colab": {
          "base_uri": "https://localhost:8080/",
          "height": 34
        },
        "id": "HCvBijgI2p6X",
        "outputId": "651fee02-05d9-4c2b-eb8a-99e6967aa3e1",
        "vscode": {
          "languageId": "r"
        }
      },
      "outputs": [
        {
          "data": {
            "text/html": [
              "FALSE"
            ],
            "text/latex": [
              "FALSE"
            ],
            "text/markdown": [
              "FALSE"
            ],
            "text/plain": [
              "[1] FALSE"
            ]
          },
          "metadata": {},
          "output_type": "display_data"
        }
      ],
      "source": [
        "p_valor <= significancia"
      ]
    },
    {
      "cell_type": "markdown",
      "metadata": {
        "id": "6CkwE0vl2ImK"
      },
      "source": [
        "##### **Conclusão**\n",
        "\n",
        "> Como o p-valor ($p_{value} = 0.094$) é maior que o nível de significância ($\\alpha$ = 0,05), **não rejeitamos a hipótese nula**. Portanto, os pesos das embalagens seguem uma distribuição normal."
      ]
    },
    {
      "cell_type": "markdown",
      "metadata": {
        "id": "22pbEbEZiTMC"
      },
      "source": [
        "#### Case 2: Testando a afirmação da indústria\n",
        "A indústria afirma que a quantidade média de arroz nas embalagens é exatamente **5 kg**. No entanto, a amostra de **45 embalagens** que utilizamos no case anterior apresentou um peso médio de **5,04 kg**. Sabendo que o desvio padrão populacional é de **100 g** e que os dados seguem uma distribuição normal, precisamos testar se há evidências estatísticas para questionar a afirmação da empresa.\n",
        "\n",
        "Considerando um nível de significância igual a 5%, responda às seguintes questões:\n",
        "1. Quais as hipóteses a serem testadas?\n",
        "2. Qual o valor crítico dado o nível de significância?\n",
        "3. Qual o valor da estatística de teste? E o p-valor?\n",
        "4. Qual a conclusão do teste?\n"
      ]
    },
    {
      "cell_type": "markdown",
      "metadata": {
        "id": "s1pM2Mbf4f1B"
      },
      "source": [
        "##### **Dados do problema**"
      ]
    },
    {
      "cell_type": "code",
      "execution_count": 11,
      "metadata": {
        "id": "pehyZKCq4jjY",
        "vscode": {
          "languageId": "r"
        }
      },
      "outputs": [],
      "source": [
        "media <- 5\n",
        "media_amostra <- mean(pesos_arroz)\n",
        "desvio_padrao_pop <- 0.1\n",
        "n <- 45"
      ]
    },
    {
      "cell_type": "markdown",
      "metadata": {
        "id": "cdEGMWkr3pwp"
      },
      "source": [
        "##### 1. Quais as hipóteses a serem testadas?\n",
        "\n",
        "$H_0:$ A média dos pesos das embalagens é igual a 5 kg\n",
        "\n",
        "$H_1:$ A média dos pesos das embalagens é diferente de 5 kg"
      ]
    },
    {
      "cell_type": "markdown",
      "metadata": {
        "id": "-NrsERLv4IuR"
      },
      "source": [
        "##### 2. Qual o valor crítico dado o nível de significância?"
      ]
    },
    {
      "cell_type": "code",
      "execution_count": 6,
      "metadata": {
        "id": "psrMl5Q94Qqy",
        "vscode": {
          "languageId": "r"
        }
      },
      "outputs": [],
      "source": [
        "significancia <- 0.05\n",
        "confianca <- 1 - significancia"
      ]
    },
    {
      "cell_type": "code",
      "execution_count": 7,
      "metadata": {
        "colab": {
          "base_uri": "https://localhost:8080/",
          "height": 34
        },
        "id": "4qZSncx34Qng",
        "outputId": "8c12697a-3596-408a-b906-e4e230157ca1",
        "vscode": {
          "languageId": "r"
        }
      },
      "outputs": [
        {
          "data": {
            "text/html": [
              "0.975"
            ],
            "text/latex": [
              "0.975"
            ],
            "text/markdown": [
              "0.975"
            ],
            "text/plain": [
              "[1] 0.975"
            ]
          },
          "metadata": {},
          "output_type": "display_data"
        }
      ],
      "source": [
        "probabilidade <- (0.5 + (confianca / 2))\n",
        "probabilidade"
      ]
    },
    {
      "cell_type": "code",
      "execution_count": 8,
      "metadata": {
        "colab": {
          "base_uri": "https://localhost:8080/",
          "height": 34
        },
        "id": "YKEMmIc0WACb",
        "outputId": "75958e05-218f-4be5-87b7-60c9bdda2cea",
        "vscode": {
          "languageId": "r"
        }
      },
      "outputs": [
        {
          "data": {
            "text/html": [
              "1.95996398454005"
            ],
            "text/latex": [
              "1.95996398454005"
            ],
            "text/markdown": [
              "1.95996398454005"
            ],
            "text/plain": [
              "[1] 1.959964"
            ]
          },
          "metadata": {},
          "output_type": "display_data"
        }
      ],
      "source": [
        "z_alpha_2 <- qnorm(probabilidade)\n",
        "z_alpha_2"
      ]
    },
    {
      "cell_type": "markdown",
      "metadata": {
        "id": "V7UIW9du4Zgx"
      },
      "source": [
        "##### 3. Qual o valor da estatística de teste? E o p-valor?\n",
        "\n",
        "Para o nosso caso, aplicando um Teste Z:\n",
        "\n",
        "# $$z = \\frac{\\bar{x} - \\mu_0}{\\frac{\\sigma}{\\sqrt{n}}}$$\n",
        "\n",
        "onde,\n",
        "* $\\bar{x}$ = media amostral\n",
        "* $\\mu_0$ = média populacional sob $H_0$\n",
        "* $\\sigma$ = desvio padrão populacional\n",
        "* $n$ = tamanho da amostra"
      ]
    },
    {
      "cell_type": "code",
      "execution_count": 12,
      "metadata": {
        "colab": {
          "base_uri": "https://localhost:8080/",
          "height": 34
        },
        "id": "a4WICfZp41Xg",
        "outputId": "d7001182-72b0-4aca-a095-39323486833b",
        "vscode": {
          "languageId": "r"
        }
      },
      "outputs": [
        {
          "data": {
            "text/html": [
              "2.68328157299975"
            ],
            "text/latex": [
              "2.68328157299975"
            ],
            "text/markdown": [
              "2.68328157299975"
            ],
            "text/plain": [
              "[1] 2.683282"
            ]
          },
          "metadata": {},
          "output_type": "display_data"
        }
      ],
      "source": [
        "z <- (media_amostra - media) / (desvio_padrao_pop  / sqrt(n))\n",
        "z"
      ]
    },
    {
      "cell_type": "markdown",
      "metadata": {
        "id": "5YdcBMUD5otI"
      },
      "source": [
        "###### $p_{valor}$ ?"
      ]
    },
    {
      "cell_type": "code",
      "execution_count": 13,
      "metadata": {
        "colab": {
          "base_uri": "https://localhost:8080/",
          "height": 34
        },
        "id": "-Q3WYlu45n5g",
        "outputId": "2965ca18-7ef4-4b55-8a1f-5d5f1e3a564d",
        "vscode": {
          "languageId": "r"
        }
      },
      "outputs": [
        {
          "data": {
            "text/html": [
              "0.00729035809153555"
            ],
            "text/latex": [
              "0.00729035809153555"
            ],
            "text/markdown": [
              "0.00729035809153555"
            ],
            "text/plain": [
              "[1] 0.007290358"
            ]
          },
          "metadata": {},
          "output_type": "display_data"
        }
      ],
      "source": [
        "p_valor <- 2 * (1 - pnorm(z))\n",
        "p_valor"
      ]
    },
    {
      "cell_type": "markdown",
      "metadata": {
        "id": "PizkS6HS5hIx"
      },
      "source": [
        "##### 4. Qual a conclusão do teste?"
      ]
    },
    {
      "cell_type": "code",
      "execution_count": 14,
      "metadata": {
        "colab": {
          "base_uri": "https://localhost:8080/",
          "height": 34
        },
        "id": "DODKFtIn5cnA",
        "outputId": "436980aa-0fb4-4e2c-9089-93a7bd50a312",
        "vscode": {
          "languageId": "r"
        }
      },
      "outputs": [
        {
          "data": {
            "text/html": [
              "'Rejeitar H0'"
            ],
            "text/latex": [
              "'Rejeitar H0'"
            ],
            "text/markdown": [
              "'Rejeitar H0'"
            ],
            "text/plain": [
              "[1] \"Rejeitar H0\""
            ]
          },
          "metadata": {},
          "output_type": "display_data"
        }
      ],
      "source": [
        "if (z <= -z_alpha_2 || z >= z_alpha_2) {\n",
        "    'Rejeitar H0'\n",
        "} else {\n",
        "    'Aceitar H0'\n",
        "}"
      ]
    },
    {
      "cell_type": "code",
      "execution_count": 16,
      "metadata": {
        "colab": {
          "base_uri": "https://localhost:8080/",
          "height": 34
        },
        "id": "CPLqezZl5k7B",
        "outputId": "3506393e-b6c5-4302-d37c-744b065453c0",
        "vscode": {
          "languageId": "r"
        }
      },
      "outputs": [
        {
          "data": {
            "text/html": [
              "TRUE"
            ],
            "text/latex": [
              "TRUE"
            ],
            "text/markdown": [
              "TRUE"
            ],
            "text/plain": [
              "[1] TRUE"
            ]
          },
          "metadata": {},
          "output_type": "display_data"
        }
      ],
      "source": [
        "p_valor <= significancia"
      ]
    },
    {
      "cell_type": "markdown",
      "metadata": {
        "id": "qVL5ysZH6Hoi"
      },
      "source": [
        "##### **Conclusão**\n",
        "\n",
        "> Como o p-valor ($p_{value} = 0.007$) é menor que o nível de significância ($\\alpha$ = 0.05), **rejeitamos a hipótese nula**.\n",
        ">\n",
        "> Portanto, há evidências estatísticas para afirmar que a média dos pesos das embalagens é significativamente diferente de 5 kg ao nível de significância de 5%.\n",
        ">\n",
        "> Esses resultados sugerem que a indústria pode precisar revisar seu processo de enchimento para garantir que as embalagens estejam dentro do peso especificado."
      ]
    },
    {
      "cell_type": "markdown",
      "metadata": {
        "id": "ix1N_JAH_T1C"
      },
      "source": [
        "## **Aula 02 - Testes paramétricos: bicaudal e unicaudal**"
      ]
    },
    {
      "cell_type": "markdown",
      "metadata": {
        "id": "J_4eNIp7i6Rh"
      },
      "source": [
        "### **Mão na Massa - Consultoria em uma empresa de saneamento**"
      ]
    },
    {
      "cell_type": "markdown",
      "metadata": {
        "id": "0rBGP9HaAQJj"
      },
      "source": [
        "Você foi contratado como consultor por uma empresa de saneamento que realiza tratamento de esgoto e de água. A empresa enfrenta dois problemas que precisam ser resolvidos com base em análises estatísticas."
      ]
    },
    {
      "cell_type": "markdown",
      "metadata": {
        "id": "TOv2WJHri6Rh"
      },
      "source": [
        "#### Case 1: Verificação do Nível de Impurezas\n",
        "\n",
        "A empresa afirma que consegue tratar o esgoto e obter, no máximo, **150g de impurezas** para cada mil litros de esgoto tratado. No entanto, **20 amostras** de mil litros de esgoto apresentou uma média de **210g de impurezas**, com um **desvio padrão amostral de 80g**. Assumindo que os dados seguem uma distribuição normal e um **nível de significância de 5%**, precisamos verificar se há evidências para discordar da afirmação da empresa.\n",
        "\n",
        "* Com base nos dados fornecidos, realize um teste para verificar se a média de impurezas é **significativamente maior que 150g**.\n",
        "\n"
      ]
    },
    {
      "cell_type": "code",
      "execution_count": 18,
      "metadata": {
        "id": "PW8LEjhDBM50",
        "vscode": {
          "languageId": "r"
        }
      },
      "outputs": [],
      "source": [
        "media <- 150\n",
        "media_amostra <- 210\n",
        "desvio_padrao_amostra <- 80\n",
        "n <- 20\n",
        "df <- n - 1"
      ]
    },
    {
      "cell_type": "markdown",
      "metadata": {
        "id": "BUP6JXOvC-gA"
      },
      "source": [
        "##### 1. Quais as hipóteses a serem testadas?\n",
        "\n",
        "$H_0:$ A média de impurezas é menor ou igual a 150g (μ ≤ 150)\n",
        "\n",
        "$H_1:$ A média de impurezas é maior que 150g (μ > 150)"
      ]
    },
    {
      "cell_type": "markdown",
      "metadata": {
        "id": "JNubcDlyC-gA"
      },
      "source": [
        "##### 2. Qual o valor crítico dado o nível de significância?"
      ]
    },
    {
      "cell_type": "code",
      "execution_count": 19,
      "metadata": {
        "id": "Xs6CLlEMC-gA",
        "vscode": {
          "languageId": "r"
        }
      },
      "outputs": [],
      "source": [
        "significancia <- 0.05\n",
        "confianca <- 1 - significancia"
      ]
    },
    {
      "cell_type": "code",
      "execution_count": 20,
      "metadata": {
        "colab": {
          "base_uri": "https://localhost:8080/",
          "height": 34
        },
        "id": "JQFWOGmPC-gB",
        "outputId": "ec54f415-5f59-44d3-fc59-c07218b2dd8e",
        "vscode": {
          "languageId": "r"
        }
      },
      "outputs": [
        {
          "data": {
            "text/html": [
              "1.72913281152137"
            ],
            "text/latex": [
              "1.72913281152137"
            ],
            "text/markdown": [
              "1.72913281152137"
            ],
            "text/plain": [
              "[1] 1.729133"
            ]
          },
          "metadata": {},
          "output_type": "display_data"
        }
      ],
      "source": [
        "t_alpha <- qt(confianca, df)\n",
        "t_alpha"
      ]
    },
    {
      "cell_type": "markdown",
      "metadata": {
        "id": "nSfOvSM8C-gB"
      },
      "source": [
        "##### 3. Qual o valor da estatística de teste? E o p-valor?\n",
        "\n",
        "Para o nosso caso, aplicando um Teste t:\n",
        "\n",
        "# $$t = \\frac{\\bar{x} - \\mu_0}{\\frac{s}{\\sqrt{n}}}$$\n",
        "\n",
        "onde,\n",
        "* $\\bar{x}$ = media amostral\n",
        "* $\\mu_0$ = média populacional sob $H_0$\n",
        "* $\\sigma$ = desvio padrão populacional\n",
        "* $n$ = tamanho da amostra"
      ]
    },
    {
      "cell_type": "code",
      "execution_count": 21,
      "metadata": {
        "colab": {
          "base_uri": "https://localhost:8080/",
          "height": 34
        },
        "id": "5PvZFojCC-gB",
        "outputId": "a08399e8-52dd-4aa7-bc83-bd10697221f0",
        "vscode": {
          "languageId": "r"
        }
      },
      "outputs": [
        {
          "data": {
            "text/html": [
              "3.35410196624968"
            ],
            "text/latex": [
              "3.35410196624968"
            ],
            "text/markdown": [
              "3.35410196624968"
            ],
            "text/plain": [
              "[1] 3.354102"
            ]
          },
          "metadata": {},
          "output_type": "display_data"
        }
      ],
      "source": [
        "t <- (media_amostra - media) / (desvio_padrao_amostra / sqrt(n))\n",
        "t"
      ]
    },
    {
      "cell_type": "markdown",
      "metadata": {
        "id": "h_svzSaeC-gB"
      },
      "source": [
        "###### $p_{valor}$ ?"
      ]
    },
    {
      "cell_type": "code",
      "execution_count": 11,
      "metadata": {
        "colab": {
          "base_uri": "https://localhost:8080/",
          "height": 34
        },
        "id": "FJ3rrvFyC-gB",
        "outputId": "42745a8d-6a11-41b8-ff18-bd5d8868809a",
        "vscode": {
          "languageId": "r"
        }
      },
      "outputs": [
        {
          "data": {
            "text/html": [
              "0.00166641911970328"
            ],
            "text/latex": [
              "0.00166641911970328"
            ],
            "text/markdown": [
              "0.00166641911970328"
            ],
            "text/plain": [
              "[1] 0.001666419"
            ]
          },
          "metadata": {},
          "output_type": "display_data"
        }
      ],
      "source": [
        "p_valor <- pt(t, df, lower.tail = F)\n",
        "p_valor"
      ]
    },
    {
      "cell_type": "markdown",
      "metadata": {
        "id": "XSzHXzojC-gB"
      },
      "source": [
        "##### 4. Qual a conclusão do teste?"
      ]
    },
    {
      "cell_type": "code",
      "execution_count": 12,
      "metadata": {
        "colab": {
          "base_uri": "https://localhost:8080/",
          "height": 34
        },
        "id": "d59F3KTOC-gC",
        "outputId": "ddf8559e-95ba-4fd6-ec94-20c6f475e92f",
        "vscode": {
          "languageId": "r"
        }
      },
      "outputs": [
        {
          "data": {
            "text/html": [
              "TRUE"
            ],
            "text/latex": [
              "TRUE"
            ],
            "text/markdown": [
              "TRUE"
            ],
            "text/plain": [
              "[1] TRUE"
            ]
          },
          "metadata": {},
          "output_type": "display_data"
        }
      ],
      "source": [
        "t >= t_alpha"
      ]
    },
    {
      "cell_type": "code",
      "execution_count": 13,
      "metadata": {
        "colab": {
          "base_uri": "https://localhost:8080/",
          "height": 34
        },
        "id": "b0EV2Vh-C-gC",
        "outputId": "d30e6f8a-4c11-4d82-f7ce-85aaf6fc3e36",
        "vscode": {
          "languageId": "r"
        }
      },
      "outputs": [
        {
          "data": {
            "text/html": [
              "TRUE"
            ],
            "text/latex": [
              "TRUE"
            ],
            "text/markdown": [
              "TRUE"
            ],
            "text/plain": [
              "[1] TRUE"
            ]
          },
          "metadata": {},
          "output_type": "display_data"
        }
      ],
      "source": [
        "p_valor <= significancia"
      ]
    },
    {
      "cell_type": "markdown",
      "metadata": {
        "id": "kTw4aCQlAgLH"
      },
      "source": [
        "##### **Conclusão**\n",
        "\n",
        "> Como o p-valor ($p_{value} = 0.002$) é menor que o nível de significância ($\\alpha$ = 0,05), **rejeitamos a hipótese nula**. Portanto, há evidências estatísticas para **discordar** da afirmação da empresa ao nível de significância de 5%.\n",
        ">\n",
        "> Ou seja, a empresa não está cumprindo a meta de no máximo 150g de impurezas por mil litros de esgoto tratado."
      ]
    },
    {
      "cell_type": "markdown",
      "metadata": {
        "id": "JGoT_dqUi6Rj"
      },
      "source": [
        "#### Case 2: Testando a afirmação da indústria\n",
        "\n",
        "A empresa também afirma que em **no máximo 10%** das amostras de água tratada, a concentração de flúor excede 1 mg/L. Em uma pesquisa com **150 amostras**, **20 amostras** apresentaram concentração de flúor acima de 1 mg/L. Com um nível de significância de 5%, precisamos verificar se há evidências para discordar da afirmação da empresa.\n",
        "\n",
        "* Com base nos dados fornecidos, realize um **teste Z de uma proporção unicaudal superior** para verificar se a proporção de amostras com flúor acima de 1 mg/L é significativamente maior que 10%.\n"
      ]
    },
    {
      "cell_type": "markdown",
      "metadata": {
        "id": "h_ngJLvkFWLt"
      },
      "source": [
        "##### **Dados do problema**"
      ]
    },
    {
      "cell_type": "code",
      "execution_count": 22,
      "metadata": {
        "id": "Tc49bgO_FS7b",
        "vscode": {
          "languageId": "r"
        }
      },
      "outputs": [],
      "source": [
        "n <- 150\n",
        "itens <- 20\n",
        "p_hat <- itens / n\n",
        "p_0 <- 0.10"
      ]
    },
    {
      "cell_type": "code",
      "execution_count": 23,
      "metadata": {
        "colab": {
          "base_uri": "https://localhost:8080/",
          "height": 52
        },
        "id": "FdDWanD_GDeX",
        "outputId": "a89e0a83-1867-49f7-9e9e-dac10643e86f",
        "vscode": {
          "languageId": "r"
        }
      },
      "outputs": [
        {
          "data": {
            "text/html": [
              "TRUE"
            ],
            "text/latex": [
              "TRUE"
            ],
            "text/markdown": [
              "TRUE"
            ],
            "text/plain": [
              "[1] TRUE"
            ]
          },
          "metadata": {},
          "output_type": "display_data"
        },
        {
          "data": {
            "text/html": [
              "TRUE"
            ],
            "text/latex": [
              "TRUE"
            ],
            "text/markdown": [
              "TRUE"
            ],
            "text/plain": [
              "[1] TRUE"
            ]
          },
          "metadata": {},
          "output_type": "display_data"
        }
      ],
      "source": [
        "# Testando se é aplicável o teste Z de uma proporção\n",
        "n * p_0 >= 10\n",
        "n * (1 - p_0) >= 10"
      ]
    },
    {
      "cell_type": "markdown",
      "metadata": {
        "id": "CWJT8YgpAnzj"
      },
      "source": [
        "##### 1. Quais as hipóteses a serem testadas?\n",
        "\n",
        "$H_0:$ A proporção de amostras com flúor acima de 1 mg/L é menor ou igual a 10% (p ≤ 0.10)\n",
        "\n",
        "$H_1:$ A proporção de amostras com flúor acima de 1 mg/L é maior que 10% (p> 10)"
      ]
    },
    {
      "cell_type": "markdown",
      "metadata": {
        "id": "_gtUaPF1Anzj"
      },
      "source": [
        "##### 2. Qual o valor crítico dado o nível de significância?"
      ]
    },
    {
      "cell_type": "code",
      "execution_count": 26,
      "metadata": {
        "id": "5m9jeiBYAnzj",
        "vscode": {
          "languageId": "r"
        }
      },
      "outputs": [],
      "source": [
        "significancia <- 0.05\n",
        "confianca <- 1 - significancia"
      ]
    },
    {
      "cell_type": "code",
      "execution_count": 28,
      "metadata": {
        "colab": {
          "base_uri": "https://localhost:8080/",
          "height": 34
        },
        "id": "TSPchmnFAnzj",
        "outputId": "59c1797d-730e-4a36-d171-9526bf93cf3a",
        "vscode": {
          "languageId": "r"
        }
      },
      "outputs": [
        {
          "data": {
            "text/html": [
              "1.64485362695147"
            ],
            "text/latex": [
              "1.64485362695147"
            ],
            "text/markdown": [
              "1.64485362695147"
            ],
            "text/plain": [
              "[1] 1.644854"
            ]
          },
          "metadata": {},
          "output_type": "display_data"
        }
      ],
      "source": [
        "z_alpha <- qnorm(confianca)\n",
        "z_alpha"
      ]
    },
    {
      "cell_type": "markdown",
      "metadata": {
        "id": "wuG4A6nLAnzk"
      },
      "source": [
        "##### 3. Qual o valor da estatística de teste? E o p-valor?\n",
        "\n",
        "Para o nosso caso, aplicando um Teste Z de uma proporção:\n",
        "\n",
        "# $$z = \\frac{\\hat{p} - p_0}{\\sqrt{\\frac{p_0(1- p_0)}{n}}}$$\n",
        "\n",
        "onde,\n",
        "* $\\hat{p}$ = proporção da amostra\n",
        "* $p_0$ = proporção sob $H_0$\n",
        "* $n$ = tamanho da amostra"
      ]
    },
    {
      "cell_type": "code",
      "execution_count": 29,
      "metadata": {
        "id": "7xWHbjIeHLgG",
        "vscode": {
          "languageId": "r"
        }
      },
      "outputs": [],
      "source": [
        "dif_prop <- p_hat - p_0\n",
        "erro_padrao <- sqrt((p_0 * (1 - p_0)) / n)"
      ]
    },
    {
      "cell_type": "code",
      "execution_count": 30,
      "metadata": {
        "colab": {
          "base_uri": "https://localhost:8080/",
          "height": 34
        },
        "id": "KhEq1SlwAnzk",
        "outputId": "3d5c5b93-0697-4d77-c96f-d023cf671566",
        "vscode": {
          "languageId": "r"
        }
      },
      "outputs": [
        {
          "data": {
            "text/html": [
              "1.36082763487954"
            ],
            "text/latex": [
              "1.36082763487954"
            ],
            "text/markdown": [
              "1.36082763487954"
            ],
            "text/plain": [
              "[1] 1.360828"
            ]
          },
          "metadata": {},
          "output_type": "display_data"
        }
      ],
      "source": [
        "z <- dif_prop / erro_padrao\n",
        "z"
      ]
    },
    {
      "cell_type": "markdown",
      "metadata": {
        "id": "HaTG29RYAnzk"
      },
      "source": [
        "###### $p_{valor}$ ?"
      ]
    },
    {
      "cell_type": "code",
      "execution_count": 31,
      "metadata": {
        "colab": {
          "base_uri": "https://localhost:8080/",
          "height": 34
        },
        "id": "-AFtWOA3Anzk",
        "outputId": "bc8c301f-4978-419e-ccec-890fdd679cbd",
        "vscode": {
          "languageId": "r"
        }
      },
      "outputs": [
        {
          "data": {
            "text/html": [
              "0.0867840832779608"
            ],
            "text/latex": [
              "0.0867840832779608"
            ],
            "text/markdown": [
              "0.0867840832779608"
            ],
            "text/plain": [
              "[1] 0.08678408"
            ]
          },
          "metadata": {},
          "output_type": "display_data"
        }
      ],
      "source": [
        "p_valor <- pnorm(z, lower.tail = F)\n",
        "p_valor"
      ]
    },
    {
      "cell_type": "markdown",
      "metadata": {
        "id": "mK-4a3Y4Anzk"
      },
      "source": [
        "##### 4. Qual a conclusão do teste?"
      ]
    },
    {
      "cell_type": "code",
      "execution_count": 32,
      "metadata": {
        "colab": {
          "base_uri": "https://localhost:8080/",
          "height": 34
        },
        "id": "vBmsDALyAnzk",
        "outputId": "c3cc4418-c85e-4957-df92-ae64af63d4d9",
        "vscode": {
          "languageId": "r"
        }
      },
      "outputs": [
        {
          "data": {
            "text/html": [
              "FALSE"
            ],
            "text/latex": [
              "FALSE"
            ],
            "text/markdown": [
              "FALSE"
            ],
            "text/plain": [
              "[1] FALSE"
            ]
          },
          "metadata": {},
          "output_type": "display_data"
        }
      ],
      "source": [
        "z <= -z_alpha"
      ]
    },
    {
      "cell_type": "code",
      "execution_count": 33,
      "metadata": {
        "colab": {
          "base_uri": "https://localhost:8080/",
          "height": 34
        },
        "id": "RYML54N_Anzk",
        "outputId": "854eb293-8ce1-41ad-95b7-6bbccd1d355a",
        "vscode": {
          "languageId": "r"
        }
      },
      "outputs": [
        {
          "data": {
            "text/html": [
              "FALSE"
            ],
            "text/latex": [
              "FALSE"
            ],
            "text/markdown": [
              "FALSE"
            ],
            "text/plain": [
              "[1] FALSE"
            ]
          },
          "metadata": {},
          "output_type": "display_data"
        }
      ],
      "source": [
        "p_valor <= significancia"
      ]
    },
    {
      "cell_type": "markdown",
      "metadata": {
        "id": "ME1iqsrtAnzk"
      },
      "source": [
        "##### **Conclusão**\n",
        "\n",
        "> Como o p-valor ($p_{value} = 0.087$) é maior que o nível de significância ($\\alpha$ = 0.05), **não rejeitamos a hipótese nula**.\n",
        ">\n",
        "> Portanto, não há evidências estatísticas para discordar da afirmação da empresa ao nível de significância de 5%.\n",
        ">\n",
        "> Ou seja, a empresa está cumprindo a meta de no máximo 10% das amostras com flúor acima de 1 mg/L."
      ]
    },
    {
      "cell_type": "markdown",
      "metadata": {
        "id": "1uTAdILB_T6m"
      },
      "source": [
        "## **Aula 03 - Testes paramétricos para duas ou mais amostras**"
      ]
    },
    {
      "cell_type": "markdown",
      "metadata": {
        "id": "vJ0a5l-Di79U"
      },
      "source": [
        "### **Mão na Massa - Consultoria na rede de supermercados**"
      ]
    },
    {
      "cell_type": "markdown",
      "metadata": {
        "id": "PMLKZccBh7GT"
      },
      "source": [
        "Você foi contratado como consultor por uma rede de supermercados que deseja melhorar seu desempenho operacional. A empresa enfrenta dois problemas que precisam ser resolvidos com base em análises estatísticas."
      ]
    },
    {
      "cell_type": "markdown",
      "metadata": {
        "id": "dQWS5w_yi79V"
      },
      "source": [
        "#### Case 1: Analisando o layout das prateleiras\n",
        "A rede de supermercados implementou uma nova estratégia de layout nas prateleiras para aumentar as vendas de um produto específico. Foram coletados dados das médias de vendas diárias do produto **antes** e **depois** da mudança em 20 lojas.\n",
        "\n",
        "* Com base nos dados fornecidos, realize um teste t para duas amostras pareadas para verificar se a mudança no layout aumentou significativamente as vendas para um **nível de significância de 5%**.\n"
      ]
    },
    {
      "cell_type": "markdown",
      "metadata": {
        "id": "AgXoXx-UsTZk"
      },
      "source": [
        "##### **Dados do problema**"
      ]
    },
    {
      "cell_type": "code",
      "execution_count": 1,
      "metadata": {
        "colab": {
          "base_uri": "https://localhost:8080/",
          "height": 286
        },
        "id": "E1xN1yg0sTZk",
        "outputId": "a49501b9-c62b-4b24-9d40-fade0d262a69",
        "vscode": {
          "languageId": "r"
        }
      },
      "outputs": [
        {
          "data": {
            "text/html": [
              "<table class=\"dataframe\">\n",
              "<caption>A data.frame: 6 × 3</caption>\n",
              "<thead>\n",
              "\t<tr><th></th><th scope=col>Loja</th><th scope=col>Antes</th><th scope=col>Depois</th></tr>\n",
              "\t<tr><th></th><th scope=col>&lt;int&gt;</th><th scope=col>&lt;dbl&gt;</th><th scope=col>&lt;dbl&gt;</th></tr>\n",
              "</thead>\n",
              "<tbody>\n",
              "\t<tr><th scope=row>1</th><td>1</td><td>109</td><td>115</td></tr>\n",
              "\t<tr><th scope=row>2</th><td>2</td><td>101</td><td>135</td></tr>\n",
              "\t<tr><th scope=row>3</th><td>3</td><td>112</td><td>177</td></tr>\n",
              "\t<tr><th scope=row>4</th><td>4</td><td>119</td><td>133</td></tr>\n",
              "\t<tr><th scope=row>5</th><td>5</td><td>106</td><td>118</td></tr>\n",
              "\t<tr><th scope=row>6</th><td>6</td><td> 98</td><td> 94</td></tr>\n",
              "</tbody>\n",
              "</table>\n"
            ],
            "text/latex": [
              "A data.frame: 6 × 3\n",
              "\\begin{tabular}{r|lll}\n",
              "  & Loja & Antes & Depois\\\\\n",
              "  & <int> & <dbl> & <dbl>\\\\\n",
              "\\hline\n",
              "\t1 & 1 & 109 & 115\\\\\n",
              "\t2 & 2 & 101 & 135\\\\\n",
              "\t3 & 3 & 112 & 177\\\\\n",
              "\t4 & 4 & 119 & 133\\\\\n",
              "\t5 & 5 & 106 & 118\\\\\n",
              "\t6 & 6 &  98 &  94\\\\\n",
              "\\end{tabular}\n"
            ],
            "text/markdown": [
              "\n",
              "A data.frame: 6 × 3\n",
              "\n",
              "| <!--/--> | Loja &lt;int&gt; | Antes &lt;dbl&gt; | Depois &lt;dbl&gt; |\n",
              "|---|---|---|---|\n",
              "| 1 | 1 | 109 | 115 |\n",
              "| 2 | 2 | 101 | 135 |\n",
              "| 3 | 3 | 112 | 177 |\n",
              "| 4 | 4 | 119 | 133 |\n",
              "| 5 | 5 | 106 | 118 |\n",
              "| 6 | 6 |  98 |  94 |\n",
              "\n"
            ],
            "text/plain": [
              "  Loja Antes Depois\n",
              "1 1    109   115   \n",
              "2 2    101   135   \n",
              "3 3    112   177   \n",
              "4 4    119   133   \n",
              "5 5    106   118   \n",
              "6 6     98    94   "
            ]
          },
          "metadata": {},
          "output_type": "display_data"
        }
      ],
      "source": [
        "# Gerar dados de vendas antes e depois\n",
        "antes <- c(109, 101, 112, 119, 106, 98, 106, 99, 95, 111,\n",
        "           94, 74, 94, 111, 116, 97, 99, 106, 80, 136)\n",
        "depois <- c(115, 135, 177, 133, 118, 94, 102, 121, 112, 134,\n",
        "            99, 156, 95, 132, 107, 95, 126, 90, 138, 139)\n",
        "\n",
        "dados <- data.frame(Loja = 1:20, Antes = antes, Depois = depois)\n",
        "head(dados)"
      ]
    },
    {
      "cell_type": "markdown",
      "metadata": {
        "id": "ZpdcV0yEsTZl"
      },
      "source": [
        "##### 1. Quais as hipóteses a serem testadas?\n",
        "\n",
        "$H_0:$ A média das diferenças entre as vendas do produto antes e depois é igual a zero\n",
        "\n",
        "$H_1:$ A média das diferenças entre as vendas do produto antes e depois é diferente de zero"
      ]
    },
    {
      "cell_type": "markdown",
      "metadata": {
        "id": "qq1lNX72sTZl"
      },
      "source": [
        "##### 2. Qual o valor crítico dado o nível de significância?"
      ]
    },
    {
      "cell_type": "code",
      "execution_count": 2,
      "metadata": {
        "id": "O_5X2agdsTZl",
        "vscode": {
          "languageId": "r"
        }
      },
      "outputs": [],
      "source": [
        "significancia <- 0.05\n",
        "confianca <- 1 - significancia"
      ]
    },
    {
      "cell_type": "code",
      "execution_count": 3,
      "metadata": {
        "colab": {
          "base_uri": "https://localhost:8080/",
          "height": 34
        },
        "id": "5TejABAnvbkW",
        "outputId": "6caa9fdf-eadf-4f44-a1d5-d36b0e4cf501",
        "vscode": {
          "languageId": "r"
        }
      },
      "outputs": [
        {
          "data": {
            "text/html": [
              "0.975"
            ],
            "text/latex": [
              "0.975"
            ],
            "text/markdown": [
              "0.975"
            ],
            "text/plain": [
              "[1] 0.975"
            ]
          },
          "metadata": {},
          "output_type": "display_data"
        }
      ],
      "source": [
        "probabilidade <- (0.5 + confianca/2)\n",
        "probabilidade"
      ]
    },
    {
      "cell_type": "code",
      "execution_count": 4,
      "metadata": {
        "colab": {
          "base_uri": "https://localhost:8080/",
          "height": 34
        },
        "id": "4zqvr1knsTZm",
        "outputId": "1b1f1743-eb65-48de-80c4-4e16793c7e06",
        "vscode": {
          "languageId": "r"
        }
      },
      "outputs": [
        {
          "data": {
            "text/html": [
              "2.08596344726586"
            ],
            "text/latex": [
              "2.08596344726586"
            ],
            "text/markdown": [
              "2.08596344726586"
            ],
            "text/plain": [
              "[1] 2.085963"
            ]
          },
          "metadata": {},
          "output_type": "display_data"
        }
      ],
      "source": [
        "t_alpha_2 <- qt(probabilidade, nrow(dados))\n",
        "t_alpha_2"
      ]
    },
    {
      "cell_type": "markdown",
      "metadata": {
        "id": "ZogDSrWvsTZm"
      },
      "source": [
        "##### 3. Qual o valor da estatística de teste? E o p-valor?"
      ]
    },
    {
      "cell_type": "code",
      "execution_count": 5,
      "metadata": {
        "colab": {
          "base_uri": "https://localhost:8080/",
          "height": 208
        },
        "id": "B-DBoMKzsTZm",
        "outputId": "f26e20bb-ff88-4b96-f8b3-1b0cd6211046",
        "vscode": {
          "languageId": "r"
        }
      },
      "outputs": [
        {
          "data": {
            "text/plain": [
              "\n",
              "\tPaired t-test\n",
              "\n",
              "data:  dados$Antes and dados$Depois\n",
              "t = -3.1043, df = 19, p-value = 0.005839\n",
              "alternative hypothesis: true mean difference is not equal to 0\n",
              "95 percent confidence interval:\n",
              " -29.717647  -5.782353\n",
              "sample estimates:\n",
              "mean difference \n",
              "         -17.75 \n"
            ]
          },
          "metadata": {},
          "output_type": "display_data"
        }
      ],
      "source": [
        "resultado_teste <- t.test(dados$Antes, dados$Depois, paired = TRUE)\n",
        "resultado_teste"
      ]
    },
    {
      "cell_type": "code",
      "execution_count": 6,
      "metadata": {
        "colab": {
          "base_uri": "https://localhost:8080/",
          "height": 34
        },
        "id": "fAoEd2khv714",
        "outputId": "48a6e814-e8b0-467d-b2e5-5fde930a1257",
        "vscode": {
          "languageId": "r"
        }
      },
      "outputs": [
        {
          "data": {
            "text/html": [
              "<strong>t:</strong> -3.10430085059472"
            ],
            "text/latex": [
              "\\textbf{t:} -3.10430085059472"
            ],
            "text/markdown": [
              "**t:** -3.10430085059472"
            ],
            "text/plain": [
              "        t \n",
              "-3.104301 "
            ]
          },
          "metadata": {},
          "output_type": "display_data"
        }
      ],
      "source": [
        "t <- resultado_teste$statistic\n",
        "t"
      ]
    },
    {
      "cell_type": "markdown",
      "metadata": {
        "id": "UL8PkK8CsTZm"
      },
      "source": [
        "###### $p_{valor}$ ?"
      ]
    },
    {
      "cell_type": "code",
      "execution_count": 8,
      "metadata": {
        "colab": {
          "base_uri": "https://localhost:8080/",
          "height": 34
        },
        "id": "lod28DgtsTZn",
        "outputId": "81bafa1b-7270-4b09-f6ce-87b43b5768cb",
        "vscode": {
          "languageId": "r"
        }
      },
      "outputs": [
        {
          "data": {
            "text/html": [
              "0.00583887160235303"
            ],
            "text/latex": [
              "0.00583887160235303"
            ],
            "text/markdown": [
              "0.00583887160235303"
            ],
            "text/plain": [
              "[1] 0.005838872"
            ]
          },
          "metadata": {},
          "output_type": "display_data"
        }
      ],
      "source": [
        "p_valor <- resultado_teste$p.value\n",
        "p_valor"
      ]
    },
    {
      "cell_type": "markdown",
      "metadata": {
        "id": "AkJ62JZqsTZn"
      },
      "source": [
        "##### 4. Qual a conclusão do teste?"
      ]
    },
    {
      "cell_type": "code",
      "execution_count": 9,
      "metadata": {
        "colab": {
          "base_uri": "https://localhost:8080/",
          "height": 34
        },
        "id": "WE-V_3uusTZn",
        "outputId": "ecca22bf-613d-4191-bbc5-196d2370ab84",
        "vscode": {
          "languageId": "r"
        }
      },
      "outputs": [
        {
          "data": {
            "text/html": [
              "'Rejeitar H0'"
            ],
            "text/latex": [
              "'Rejeitar H0'"
            ],
            "text/markdown": [
              "'Rejeitar H0'"
            ],
            "text/plain": [
              "[1] \"Rejeitar H0\""
            ]
          },
          "metadata": {},
          "output_type": "display_data"
        }
      ],
      "source": [
        "if(t <= -t_alpha_2 || t >= t_alpha_2){\n",
        "    'Rejeitar H0'\n",
        "}else{\n",
        "    'Aceitar H0'\n",
        "}"
      ]
    },
    {
      "cell_type": "code",
      "execution_count": 10,
      "metadata": {
        "colab": {
          "base_uri": "https://localhost:8080/",
          "height": 34
        },
        "id": "0XiRhVXfsTZn",
        "outputId": "dc1e51f0-d535-4cfa-b658-409f0a3774c0",
        "vscode": {
          "languageId": "r"
        }
      },
      "outputs": [
        {
          "data": {
            "text/html": [
              "TRUE"
            ],
            "text/latex": [
              "TRUE"
            ],
            "text/markdown": [
              "TRUE"
            ],
            "text/plain": [
              "[1] TRUE"
            ]
          },
          "metadata": {},
          "output_type": "display_data"
        }
      ],
      "source": [
        "p_valor <= significancia"
      ]
    },
    {
      "cell_type": "markdown",
      "metadata": {
        "id": "PLOrpHmxwWHB"
      },
      "source": [
        "##### 5.Houve melhora ou piora?"
      ]
    },
    {
      "cell_type": "code",
      "execution_count": 11,
      "metadata": {
        "colab": {
          "base_uri": "https://localhost:8080/",
          "height": 139
        },
        "id": "A6kKHyPxwXHp",
        "outputId": "9559aa62-3030-4e98-d695-46d55fd93e34",
        "vscode": {
          "languageId": "r"
        }
      },
      "outputs": [
        {
          "data": {
            "text/plain": [
              "      Loja           Antes           Depois     \n",
              " Min.   : 1.00   Min.   : 74.0   Min.   : 90.0  \n",
              " 1st Qu.: 5.75   1st Qu.: 96.5   1st Qu.:101.2  \n",
              " Median :10.50   Median :103.5   Median :119.5  \n",
              " Mean   :10.50   Mean   :103.2   Mean   :120.9  \n",
              " 3rd Qu.:15.25   3rd Qu.:111.0   3rd Qu.:134.2  \n",
              " Max.   :20.00   Max.   :136.0   Max.   :177.0  "
            ]
          },
          "metadata": {},
          "output_type": "display_data"
        }
      ],
      "source": [
        "summary(dados)"
      ]
    },
    {
      "cell_type": "markdown",
      "metadata": {
        "id": "-8D5TnjVsTZn"
      },
      "source": [
        "##### **Conclusão**\n",
        "\n",
        "> Como o p-valor ($p_{value} = 0.006$) é menor que o nível de significância ($\\alpha$ = 0.05), **rejeitamos a hipótese nula**.\n",
        ">\n",
        "> Portanto, há evidências estatísticas de que a mudança no layout **afetou significativamente** as vendas do produto.\n",
        ">\n",
        "> Esse efeito foi **positivo**, dado que a média das vendas nas lojas depois da alteração (u2 = 120.9) é maior que a média antes da alteração (u1 = 103.2). Portanto, a mudança do layout foi eficaz ao nível de significância de 5%."
      ]
    },
    {
      "cell_type": "markdown",
      "metadata": {
        "id": "lAUEwmAzi79W"
      },
      "source": [
        "#### Case 2: Analisando efeitos nas vendas\n",
        "A rede de supermercados deseja avaliar o impacto de dois fatores nas vendas de um produto:\n",
        "* **Tipo de Promoção:** Promoção A, Promoção B ou Sem Promoção.\n",
        "* **Dia da Semana:** Fim de semana (Sábado e Domingo) ou Dia útil (Segunda a Sexta).\n",
        "\n",
        "Foram coletados dados das vendas diárias em 30 lojas, considerando todas as combinações dos fatores.\n",
        "\n",
        "* Com base nos dados fornecidos, realize um teste ANOVA de duas vias para verificar se há efeitos significativos do tipo de promoção, do dia da semana e da interação entre eles nas vendas a um **nível de significância de 5%**"
      ]
    },
    {
      "cell_type": "markdown",
      "metadata": {
        "id": "2S951jc1SEHV"
      },
      "source": [
        "> Lembre-se de rodar os códigos na aba **Importando os pacotes e configurando o ambiente** localizado no início deste documento, pois será preciso utilizar alguns dos pacotes aqui."
      ]
    },
    {
      "cell_type": "markdown",
      "metadata": {
        "id": "p-8wO3AaSBmg"
      },
      "source": [
        "##### **Dados do problema**"
      ]
    },
    {
      "cell_type": "code",
      "execution_count": 10,
      "metadata": {
        "colab": {
          "base_uri": "https://localhost:8080/",
          "height": 286
        },
        "id": "6NjgxLDLSBmg",
        "outputId": "e8026643-808a-4072-e141-6a0c13d2cb1d",
        "vscode": {
          "languageId": "r"
        }
      },
      "outputs": [
        {
          "data": {
            "text/html": [
              "<table class=\"dataframe\">\n",
              "<caption>A data.frame: 6 × 3</caption>\n",
              "<thead>\n",
              "\t<tr><th></th><th scope=col>Promocao</th><th scope=col>Dia</th><th scope=col>Vendas</th></tr>\n",
              "\t<tr><th></th><th scope=col>&lt;chr&gt;</th><th scope=col>&lt;chr&gt;</th><th scope=col>&lt;dbl&gt;</th></tr>\n",
              "</thead>\n",
              "<tbody>\n",
              "\t<tr><th scope=row>1</th><td>A</td><td>Fim</td><td>165</td></tr>\n",
              "\t<tr><th scope=row>2</th><td>A</td><td>Fim</td><td>155</td></tr>\n",
              "\t<tr><th scope=row>3</th><td>A</td><td>Fim</td><td>165</td></tr>\n",
              "\t<tr><th scope=row>4</th><td>A</td><td>Fim</td><td>175</td></tr>\n",
              "\t<tr><th scope=row>5</th><td>A</td><td>Fim</td><td>157</td></tr>\n",
              "\t<tr><th scope=row>6</th><td>A</td><td>Fim</td><td>147</td></tr>\n",
              "</tbody>\n",
              "</table>\n"
            ],
            "text/latex": [
              "A data.frame: 6 × 3\n",
              "\\begin{tabular}{r|lll}\n",
              "  & Promocao & Dia & Vendas\\\\\n",
              "  & <chr> & <chr> & <dbl>\\\\\n",
              "\\hline\n",
              "\t1 & A & Fim & 165\\\\\n",
              "\t2 & A & Fim & 155\\\\\n",
              "\t3 & A & Fim & 165\\\\\n",
              "\t4 & A & Fim & 175\\\\\n",
              "\t5 & A & Fim & 157\\\\\n",
              "\t6 & A & Fim & 147\\\\\n",
              "\\end{tabular}\n"
            ],
            "text/markdown": [
              "\n",
              "A data.frame: 6 × 3\n",
              "\n",
              "| <!--/--> | Promocao &lt;chr&gt; | Dia &lt;chr&gt; | Vendas &lt;dbl&gt; |\n",
              "|---|---|---|---|\n",
              "| 1 | A | Fim | 165 |\n",
              "| 2 | A | Fim | 155 |\n",
              "| 3 | A | Fim | 165 |\n",
              "| 4 | A | Fim | 175 |\n",
              "| 5 | A | Fim | 157 |\n",
              "| 6 | A | Fim | 147 |\n",
              "\n"
            ],
            "text/plain": [
              "  Promocao Dia Vendas\n",
              "1 A        Fim 165   \n",
              "2 A        Fim 155   \n",
              "3 A        Fim 165   \n",
              "4 A        Fim 175   \n",
              "5 A        Fim 157   \n",
              "6 A        Fim 147   "
            ]
          },
          "metadata": {},
          "output_type": "display_data"
        }
      ],
      "source": [
        "promocao <- c(\"A\", \"A\", \"A\", \"A\", \"A\", \"A\", \"A\", \"A\", \"A\", \"A\", \"A\", \"A\", \"A\",\n",
        "              \"A\", \"A\", \"A\", \"A\", \"A\", \"A\", \"A\", \"B\", \"B\", \"B\", \"B\", \"B\", \"B\",\n",
        "              \"B\", \"B\", \"B\", \"B\", \"B\", \"B\", \"B\", \"B\", \"B\", \"B\", \"B\", \"B\", \"B\",\n",
        "              \"B\", \"Sem\", \"Sem\", \"Sem\", \"Sem\", \"Sem\", \"Sem\", \"Sem\", \"Sem\", \"Sem\",\n",
        "              \"Sem\", \"Sem\", \"Sem\", \"Sem\", \"Sem\", \"Sem\", \"Sem\", \"Sem\", \"Sem\", \"Sem\", \"Sem\")\n",
        "dia = c(\"Fim\", \"Fim\", \"Fim\", \"Fim\", \"Fim\", \"Fim\", \"Fim\", \"Fim\", \"Fim\", \"Fim\",\n",
        "        \"Útil\", \"Útil\", \"Útil\", \"Útil\", \"Útil\", \"Útil\", \"Útil\", \"Útil\", \"Útil\",\n",
        "        \"Útil\", \"Fim\", \"Fim\", \"Fim\", \"Fim\", \"Fim\", \"Fim\", \"Fim\", \"Fim\", \"Fim\",\n",
        "        \"Fim\", \"Útil\", \"Útil\", \"Útil\", \"Útil\", \"Útil\", \"Útil\", \"Útil\", \"Útil\",\n",
        "        \"Útil\", \"Útil\", \"Fim\", \"Fim\", \"Fim\", \"Fim\", \"Fim\", \"Fim\", \"Fim\", \"Fim\",\n",
        "        \"Fim\", \"Fim\", \"Útil\", \"Útil\", \"Útil\", \"Útil\", \"Útil\", \"Útil\", \"Útil\",\n",
        "        \"Útil\", \"Útil\", \"Útil\")\n",
        "vendas = c(165, 155, 165, 175, 157, 147, 158, 148, 143, 164, 124, 104, 124, 141,\n",
        "           146, 127, 129, 136, 110, 166, 136, 153, 191, 152, 138, 117, 123, 141,\n",
        "           133, 153, 108, 142, 115, 127, 115, 105, 123, 102, 131, 132, 113, 115,\n",
        "           94, 96, 85, 111, 96, 101, 109, 105, 93, 80, 89, 99, 93, 99, 95, 83, 84, 90)\n",
        "\n",
        "# Gerar data.frame de vendas\n",
        "dados <- data.frame(Promocao = promocao, Dia = dia,  Vendas = vendas)\n",
        "head(dados)"
      ]
    },
    {
      "cell_type": "markdown",
      "metadata": {
        "id": "Ys7I6PgmU8Mi"
      },
      "source": [
        "##### 1. Verificação dos Pressupostos"
      ]
    },
    {
      "cell_type": "markdown",
      "metadata": {
        "id": "akHHmvgbVDcL"
      },
      "source": [
        "**Teste de normalidade de Shapiro-Wilk**"
      ]
    },
    {
      "cell_type": "code",
      "execution_count": 11,
      "metadata": {
        "colab": {
          "base_uri": "https://localhost:8080/",
          "height": 286
        },
        "id": "iwNGIMgIVPlh",
        "outputId": "2e7a91dc-1884-4af3-bc4d-1b7bd9b4d8b0",
        "vscode": {
          "languageId": "r"
        }
      },
      "outputs": [
        {
          "data": {
            "text/html": [
              "<table class=\"dataframe\">\n",
              "<caption>A tibble: 6 × 5</caption>\n",
              "<thead>\n",
              "\t<tr><th scope=col>Promocao</th><th scope=col>Dia</th><th scope=col>variable</th><th scope=col>statistic</th><th scope=col>p</th></tr>\n",
              "\t<tr><th scope=col>&lt;chr&gt;</th><th scope=col>&lt;chr&gt;</th><th scope=col>&lt;chr&gt;</th><th scope=col>&lt;dbl&gt;</th><th scope=col>&lt;dbl&gt;</th></tr>\n",
              "</thead>\n",
              "<tbody>\n",
              "\t<tr><td>A  </td><td>Fim </td><td>Vendas</td><td>0.9623437</td><td>0.8122321</td></tr>\n",
              "\t<tr><td>A  </td><td>Útil</td><td>Vendas</td><td>0.9670870</td><td>0.8626010</td></tr>\n",
              "\t<tr><td>B  </td><td>Fim </td><td>Vendas</td><td>0.8985700</td><td>0.2113009</td></tr>\n",
              "\t<tr><td>B  </td><td>Útil</td><td>Vendas</td><td>0.9590247</td><td>0.7746968</td></tr>\n",
              "\t<tr><td>Sem</td><td>Fim </td><td>Vendas</td><td>0.9483608</td><td>0.6491473</td></tr>\n",
              "\t<tr><td>Sem</td><td>Útil</td><td>Vendas</td><td>0.9423057</td><td>0.5789435</td></tr>\n",
              "</tbody>\n",
              "</table>\n"
            ],
            "text/latex": [
              "A tibble: 6 × 5\n",
              "\\begin{tabular}{lllll}\n",
              " Promocao & Dia & variable & statistic & p\\\\\n",
              " <chr> & <chr> & <chr> & <dbl> & <dbl>\\\\\n",
              "\\hline\n",
              "\t A   & Fim  & Vendas & 0.9623437 & 0.8122321\\\\\n",
              "\t A   & Útil & Vendas & 0.9670870 & 0.8626010\\\\\n",
              "\t B   & Fim  & Vendas & 0.8985700 & 0.2113009\\\\\n",
              "\t B   & Útil & Vendas & 0.9590247 & 0.7746968\\\\\n",
              "\t Sem & Fim  & Vendas & 0.9483608 & 0.6491473\\\\\n",
              "\t Sem & Útil & Vendas & 0.9423057 & 0.5789435\\\\\n",
              "\\end{tabular}\n"
            ],
            "text/markdown": [
              "\n",
              "A tibble: 6 × 5\n",
              "\n",
              "| Promocao &lt;chr&gt; | Dia &lt;chr&gt; | variable &lt;chr&gt; | statistic &lt;dbl&gt; | p &lt;dbl&gt; |\n",
              "|---|---|---|---|---|\n",
              "| A   | Fim  | Vendas | 0.9623437 | 0.8122321 |\n",
              "| A   | Útil | Vendas | 0.9670870 | 0.8626010 |\n",
              "| B   | Fim  | Vendas | 0.8985700 | 0.2113009 |\n",
              "| B   | Útil | Vendas | 0.9590247 | 0.7746968 |\n",
              "| Sem | Fim  | Vendas | 0.9483608 | 0.6491473 |\n",
              "| Sem | Útil | Vendas | 0.9423057 | 0.5789435 |\n",
              "\n"
            ],
            "text/plain": [
              "  Promocao Dia  variable statistic p        \n",
              "1 A        Fim  Vendas   0.9623437 0.8122321\n",
              "2 A        Útil Vendas   0.9670870 0.8626010\n",
              "3 B        Fim  Vendas   0.8985700 0.2113009\n",
              "4 B        Útil Vendas   0.9590247 0.7746968\n",
              "5 Sem      Fim  Vendas   0.9483608 0.6491473\n",
              "6 Sem      Útil Vendas   0.9423057 0.5789435"
            ]
          },
          "metadata": {},
          "output_type": "display_data"
        }
      ],
      "source": [
        "dados %>%\n",
        "  group_by(Promocao, Dia) %>%\n",
        "  shapiro_test(Vendas)"
      ]
    },
    {
      "cell_type": "markdown",
      "metadata": {
        "id": "jt10X2AOVQVC"
      },
      "source": [
        "**Teste de homogeneidade das variâncias (Levene)**"
      ]
    },
    {
      "cell_type": "code",
      "execution_count": 12,
      "metadata": {
        "colab": {
          "base_uri": "https://localhost:8080/",
          "height": 161
        },
        "id": "LYp_hy-qVbmD",
        "outputId": "8ccab724-6475-4d0e-a745-198305aa07e0",
        "vscode": {
          "languageId": "r"
        }
      },
      "outputs": [
        {
          "data": {
            "text/html": [
              "<table class=\"dataframe\">\n",
              "<caption>A anova: 2 × 3</caption>\n",
              "<thead>\n",
              "\t<tr><th></th><th scope=col>Df</th><th scope=col>F value</th><th scope=col>Pr(&gt;F)</th></tr>\n",
              "\t<tr><th></th><th scope=col>&lt;int&gt;</th><th scope=col>&lt;dbl&gt;</th><th scope=col>&lt;dbl&gt;</th></tr>\n",
              "</thead>\n",
              "<tbody>\n",
              "\t<tr><th scope=row>group</th><td> 5</td><td>1.51633</td><td>0.2001314</td></tr>\n",
              "\t<tr><th scope=row> </th><td>54</td><td>     NA</td><td>       NA</td></tr>\n",
              "</tbody>\n",
              "</table>\n"
            ],
            "text/latex": [
              "A anova: 2 × 3\n",
              "\\begin{tabular}{r|lll}\n",
              "  & Df & F value & Pr(>F)\\\\\n",
              "  & <int> & <dbl> & <dbl>\\\\\n",
              "\\hline\n",
              "\tgroup &  5 & 1.51633 & 0.2001314\\\\\n",
              "\t  & 54 &      NA &        NA\\\\\n",
              "\\end{tabular}\n"
            ],
            "text/markdown": [
              "\n",
              "A anova: 2 × 3\n",
              "\n",
              "| <!--/--> | Df &lt;int&gt; | F value &lt;dbl&gt; | Pr(&gt;F) &lt;dbl&gt; |\n",
              "|---|---|---|---|\n",
              "| group |  5 | 1.51633 | 0.2001314 |\n",
              "| <!----> | 54 |      NA |        NA |\n",
              "\n"
            ],
            "text/plain": [
              "      Df F value Pr(>F)   \n",
              "group  5 1.51633 0.2001314\n",
              "      54      NA        NA"
            ]
          },
          "metadata": {},
          "output_type": "display_data"
        }
      ],
      "source": [
        "leveneTest(Vendas ~ Promocao * Dia, data = dados)"
      ]
    },
    {
      "cell_type": "markdown",
      "metadata": {
        "id": "ul_B8hxyVb6i"
      },
      "source": [
        "**Verificação dos outliers**"
      ]
    },
    {
      "cell_type": "code",
      "execution_count": 13,
      "metadata": {
        "colab": {
          "base_uri": "https://localhost:8080/",
          "height": 161
        },
        "id": "AKOkAlhoVgUS",
        "outputId": "d3ce29c3-74fa-4101-83ff-426d5be2abad",
        "vscode": {
          "languageId": "r"
        }
      },
      "outputs": [
        {
          "data": {
            "text/html": [
              "<table class=\"dataframe\">\n",
              "<caption>A tibble: 2 × 5</caption>\n",
              "<thead>\n",
              "\t<tr><th scope=col>Promocao</th><th scope=col>Dia</th><th scope=col>Vendas</th><th scope=col>is.outlier</th><th scope=col>is.extreme</th></tr>\n",
              "\t<tr><th scope=col>&lt;chr&gt;</th><th scope=col>&lt;chr&gt;</th><th scope=col>&lt;dbl&gt;</th><th scope=col>&lt;lgl&gt;</th><th scope=col>&lt;lgl&gt;</th></tr>\n",
              "</thead>\n",
              "<tbody>\n",
              "\t<tr><td>A</td><td>Útil</td><td>166</td><td>TRUE</td><td>FALSE</td></tr>\n",
              "\t<tr><td>B</td><td>Fim </td><td>191</td><td>TRUE</td><td>FALSE</td></tr>\n",
              "</tbody>\n",
              "</table>\n"
            ],
            "text/latex": [
              "A tibble: 2 × 5\n",
              "\\begin{tabular}{lllll}\n",
              " Promocao & Dia & Vendas & is.outlier & is.extreme\\\\\n",
              " <chr> & <chr> & <dbl> & <lgl> & <lgl>\\\\\n",
              "\\hline\n",
              "\t A & Útil & 166 & TRUE & FALSE\\\\\n",
              "\t B & Fim  & 191 & TRUE & FALSE\\\\\n",
              "\\end{tabular}\n"
            ],
            "text/markdown": [
              "\n",
              "A tibble: 2 × 5\n",
              "\n",
              "| Promocao &lt;chr&gt; | Dia &lt;chr&gt; | Vendas &lt;dbl&gt; | is.outlier &lt;lgl&gt; | is.extreme &lt;lgl&gt; |\n",
              "|---|---|---|---|---|\n",
              "| A | Útil | 166 | TRUE | FALSE |\n",
              "| B | Fim  | 191 | TRUE | FALSE |\n",
              "\n"
            ],
            "text/plain": [
              "  Promocao Dia  Vendas is.outlier is.extreme\n",
              "1 A        Útil 166    TRUE       FALSE     \n",
              "2 B        Fim  191    TRUE       FALSE     "
            ]
          },
          "metadata": {},
          "output_type": "display_data"
        }
      ],
      "source": [
        "dados %>%\n",
        "  group_by(Promocao, Dia) %>%\n",
        "  identify_outliers(Vendas)"
      ]
    },
    {
      "cell_type": "markdown",
      "metadata": {
        "id": "HhbotCX2SBmh"
      },
      "source": [
        "##### 2. Quais as hipóteses a serem testadas?\n",
        "\n",
        "$H_0:$\n",
        "- Não há diferença nas vendas devido o tipo de promoção ou ausência deste.\n",
        "- Não há diferença nas vendas devido o tipo de dia da semana, sendo útil ou final de semana.\n",
        "- Não há interação entre o tipo de promoção e o dia da semana nas vendas.\n",
        "\n",
        "$H_1:$\n",
        "- O tipo de produção afeta nas vendas do produto.\n",
        "- O dia da semana afeta nas vendas do produto.\n",
        "- Há interação entre o tipo de promoção e o dia da semana nas vendas."
      ]
    },
    {
      "cell_type": "markdown",
      "metadata": {
        "id": "qwIF-CPXSBmh"
      },
      "source": [
        "##### 3. Qual o valor da estatística de teste? E o p-valor?"
      ]
    },
    {
      "cell_type": "code",
      "execution_count": 14,
      "metadata": {
        "colab": {
          "base_uri": "https://localhost:8080/",
          "height": 192
        },
        "id": "q_H9Yp7uSBmh",
        "outputId": "eb11c371-c8e0-47fb-a0db-c8aa3334210f",
        "vscode": {
          "languageId": "r"
        }
      },
      "outputs": [
        {
          "data": {
            "text/html": [
              "<table class=\"dataframe\">\n",
              "<caption>A anova_test: 3 × 7</caption>\n",
              "<thead>\n",
              "\t<tr><th></th><th scope=col>Effect</th><th scope=col>DFn</th><th scope=col>DFd</th><th scope=col>F</th><th scope=col>p</th><th scope=col>p&lt;.05</th><th scope=col>ges</th></tr>\n",
              "\t<tr><th></th><th scope=col>&lt;chr&gt;</th><th scope=col>&lt;dbl&gt;</th><th scope=col>&lt;dbl&gt;</th><th scope=col>&lt;dbl&gt;</th><th scope=col>&lt;dbl&gt;</th><th scope=col>&lt;chr&gt;</th><th scope=col>&lt;dbl&gt;</th></tr>\n",
              "</thead>\n",
              "<tbody>\n",
              "\t<tr><th scope=row>1</th><td>Promocao    </td><td>2</td><td>54</td><td>63.861</td><td>5.90e-15</td><td>*</td><td>0.703</td></tr>\n",
              "\t<tr><th scope=row>2</th><td>Dia         </td><td>1</td><td>54</td><td>34.135</td><td>3.05e-07</td><td>*</td><td>0.387</td></tr>\n",
              "\t<tr><th scope=row>3</th><td>Promocao:Dia</td><td>2</td><td>54</td><td> 1.618</td><td>2.08e-01</td><td> </td><td>0.057</td></tr>\n",
              "</tbody>\n",
              "</table>\n"
            ],
            "text/latex": [
              "A anova\\_test: 3 × 7\n",
              "\\begin{tabular}{r|lllllll}\n",
              "  & Effect & DFn & DFd & F & p & p<.05 & ges\\\\\n",
              "  & <chr> & <dbl> & <dbl> & <dbl> & <dbl> & <chr> & <dbl>\\\\\n",
              "\\hline\n",
              "\t1 & Promocao     & 2 & 54 & 63.861 & 5.90e-15 & * & 0.703\\\\\n",
              "\t2 & Dia          & 1 & 54 & 34.135 & 3.05e-07 & * & 0.387\\\\\n",
              "\t3 & Promocao:Dia & 2 & 54 &  1.618 & 2.08e-01 &   & 0.057\\\\\n",
              "\\end{tabular}\n"
            ],
            "text/markdown": [
              "\n",
              "A anova_test: 3 × 7\n",
              "\n",
              "| <!--/--> | Effect &lt;chr&gt; | DFn &lt;dbl&gt; | DFd &lt;dbl&gt; | F &lt;dbl&gt; | p &lt;dbl&gt; | p&lt;.05 &lt;chr&gt; | ges &lt;dbl&gt; |\n",
              "|---|---|---|---|---|---|---|---|\n",
              "| 1 | Promocao     | 2 | 54 | 63.861 | 5.90e-15 | * | 0.703 |\n",
              "| 2 | Dia          | 1 | 54 | 34.135 | 3.05e-07 | * | 0.387 |\n",
              "| 3 | Promocao:Dia | 2 | 54 |  1.618 | 2.08e-01 | <!----> | 0.057 |\n",
              "\n"
            ],
            "text/plain": [
              "  Effect       DFn DFd F      p        p<.05 ges  \n",
              "1 Promocao     2   54  63.861 5.90e-15 *     0.703\n",
              "2 Dia          1   54  34.135 3.05e-07 *     0.387\n",
              "3 Promocao:Dia 2   54   1.618 2.08e-01       0.057"
            ]
          },
          "metadata": {},
          "output_type": "display_data"
        }
      ],
      "source": [
        "resultado_anova <- anova_test(Vendas ~ Promocao * Dia, data = dados)\n",
        "resultado_anova"
      ]
    },
    {
      "cell_type": "markdown",
      "metadata": {
        "id": "pja7zOMKSBmi"
      },
      "source": [
        "##### 4. Qual a conclusão do teste?"
      ]
    },
    {
      "cell_type": "code",
      "execution_count": 16,
      "metadata": {
        "id": "JZqk3fkSYH1K",
        "vscode": {
          "languageId": "r"
        }
      },
      "outputs": [],
      "source": [
        "significancia <- 0.05"
      ]
    },
    {
      "cell_type": "code",
      "execution_count": 15,
      "metadata": {
        "id": "omeHvKHVSBmi",
        "vscode": {
          "languageId": "r"
        }
      },
      "outputs": [],
      "source": [
        "p_valor_promo <- resultado_anova$p[1]\n",
        "p_valor_dia <- resultado_anova$p[2]\n",
        "p_valor_promo_dia <- resultado_anova$p[3]"
      ]
    },
    {
      "cell_type": "code",
      "execution_count": 17,
      "metadata": {
        "colab": {
          "base_uri": "https://localhost:8080/",
          "height": 69
        },
        "id": "sdsHWAWmSBmj",
        "outputId": "599395ad-c7f8-47a5-a15b-b22a25d78644",
        "vscode": {
          "languageId": "r"
        }
      },
      "outputs": [
        {
          "data": {
            "text/html": [
              "TRUE"
            ],
            "text/latex": [
              "TRUE"
            ],
            "text/markdown": [
              "TRUE"
            ],
            "text/plain": [
              "[1] TRUE"
            ]
          },
          "metadata": {},
          "output_type": "display_data"
        },
        {
          "data": {
            "text/html": [
              "TRUE"
            ],
            "text/latex": [
              "TRUE"
            ],
            "text/markdown": [
              "TRUE"
            ],
            "text/plain": [
              "[1] TRUE"
            ]
          },
          "metadata": {},
          "output_type": "display_data"
        },
        {
          "data": {
            "text/html": [
              "FALSE"
            ],
            "text/latex": [
              "FALSE"
            ],
            "text/markdown": [
              "FALSE"
            ],
            "text/plain": [
              "[1] FALSE"
            ]
          },
          "metadata": {},
          "output_type": "display_data"
        }
      ],
      "source": [
        "p_valor_promo < significancia\n",
        "p_valor_dia < significancia\n",
        "p_valor_promo_dia < significancia"
      ]
    },
    {
      "cell_type": "markdown",
      "metadata": {
        "id": "13fu-ucoSBmj"
      },
      "source": [
        "##### **Conclusão**\n",
        "\n",
        "Com base nesses resultados, podemos concluir que:\n",
        "\n",
        "* Ao aplicar o **Teste ANOVA de duas vias**, obtivemos as estatísticas para o nível de significância ($\\alpha = 0.05$):\n",
        "  * **Tipo de Promoção**: $p_{value} < 0.05$ (rejeitamos $H_0$).\n",
        "  * **Dia da semana**: $p_{value} < 0.05$ (rejeitamos $H_0$).  \n",
        "  * **Interação entre promoção e dia da semana**: $p_{value} > 0.05$ (aceitamos $H_0$).\n",
        "\n",
        "* Isso indica que:\n",
        "\n",
        "  * O **tipo de promoção** tem um efeito significativo nas vendas.\n",
        "  * O **dia da semana** tem um efeito significativo nas vendas.\n",
        "  * **Não há uma interação significativa** entre o tipo de promoção e o dia da semana nas vendas.\n",
        "\n"
      ]
    },
    {
      "cell_type": "markdown",
      "metadata": {
        "id": "i_X1NcH9_T-u"
      },
      "source": [
        "## **Aula 04 - Testes não paramétricos para dados categóricos**"
      ]
    },
    {
      "cell_type": "markdown",
      "metadata": {
        "id": "hd7f_bUIi8ty"
      },
      "source": [
        "### **Mão na Massa - Consultoria para uma empresa de móveis**"
      ]
    },
    {
      "cell_type": "markdown",
      "metadata": {
        "id": "_PehOjjeVL1Y"
      },
      "source": [
        "Você foi contratado como consultor por uma empresa de móveis que deseja compreender sua clientela e melhorar as ofertas das condições de venda de seus produtos. A empresa enfrenta dois problemas que precisam ser resolvidos com base em análises estatísticas."
      ]
    },
    {
      "cell_type": "markdown",
      "metadata": {
        "id": "s5YqAJ8sVOMP"
      },
      "source": [
        "#### Case 1: Analisando a preferência de pagamento\n",
        "A empresa deseja entender melhor o comportamento de seus clientes e, por isso, nos forneceu dados sobre duas variáveis categóricas:\n",
        "\n",
        "1. **Preferência de Pagamento:** Cartão de Crédito (CC) ou Boleto (Boleto).\n",
        "2. **Faixa Etária:** Jovem (18-25 anos), Adulto (26-50 anos) ou Idoso (51+ anos).\n",
        "\n",
        "* A empresa quer saber se há associação entre a preferência de pagamento e a faixa etária dos clientes ao nível de significância de 5%\n"
      ]
    },
    {
      "cell_type": "markdown",
      "metadata": {
        "id": "rROCDpt6VOMQ"
      },
      "source": [
        "##### **Dados do problema**"
      ]
    },
    {
      "cell_type": "code",
      "execution_count": 4,
      "metadata": {
        "colab": {
          "base_uri": "https://localhost:8080/",
          "height": 286
        },
        "id": "_5WGBGeyVOMQ",
        "outputId": "78ca15a1-791c-4fd7-c7e8-3bf89ba35193",
        "vscode": {
          "languageId": "r"
        }
      },
      "outputs": [
        {
          "data": {
            "text/html": [
              "<table class=\"dataframe\">\n",
              "<caption>A data.frame: 6 × 2</caption>\n",
              "<thead>\n",
              "\t<tr><th></th><th scope=col>Faixa_Etaria</th><th scope=col>Preferencia_Pagamento</th></tr>\n",
              "\t<tr><th></th><th scope=col>&lt;chr&gt;</th><th scope=col>&lt;chr&gt;</th></tr>\n",
              "</thead>\n",
              "<tbody>\n",
              "\t<tr><th scope=row>1</th><td>Jovem</td><td>CC    </td></tr>\n",
              "\t<tr><th scope=row>2</th><td>Jovem</td><td>Boleto</td></tr>\n",
              "\t<tr><th scope=row>3</th><td>Jovem</td><td>Boleto</td></tr>\n",
              "\t<tr><th scope=row>4</th><td>Jovem</td><td>Boleto</td></tr>\n",
              "\t<tr><th scope=row>5</th><td>Jovem</td><td>CC    </td></tr>\n",
              "\t<tr><th scope=row>6</th><td>Jovem</td><td>CC    </td></tr>\n",
              "</tbody>\n",
              "</table>\n"
            ],
            "text/latex": [
              "A data.frame: 6 × 2\n",
              "\\begin{tabular}{r|ll}\n",
              "  & Faixa\\_Etaria & Preferencia\\_Pagamento\\\\\n",
              "  & <chr> & <chr>\\\\\n",
              "\\hline\n",
              "\t1 & Jovem & CC    \\\\\n",
              "\t2 & Jovem & Boleto\\\\\n",
              "\t3 & Jovem & Boleto\\\\\n",
              "\t4 & Jovem & Boleto\\\\\n",
              "\t5 & Jovem & CC    \\\\\n",
              "\t6 & Jovem & CC    \\\\\n",
              "\\end{tabular}\n"
            ],
            "text/markdown": [
              "\n",
              "A data.frame: 6 × 2\n",
              "\n",
              "| <!--/--> | Faixa_Etaria &lt;chr&gt; | Preferencia_Pagamento &lt;chr&gt; |\n",
              "|---|---|---|\n",
              "| 1 | Jovem | CC     |\n",
              "| 2 | Jovem | Boleto |\n",
              "| 3 | Jovem | Boleto |\n",
              "| 4 | Jovem | Boleto |\n",
              "| 5 | Jovem | CC     |\n",
              "| 6 | Jovem | CC     |\n",
              "\n"
            ],
            "text/plain": [
              "  Faixa_Etaria Preferencia_Pagamento\n",
              "1 Jovem        CC                   \n",
              "2 Jovem        Boleto               \n",
              "3 Jovem        Boleto               \n",
              "4 Jovem        Boleto               \n",
              "5 Jovem        CC                   \n",
              "6 Jovem        CC                   "
            ]
          },
          "metadata": {},
          "output_type": "display_data"
        }
      ],
      "source": [
        "faixa <- c(\"Jovem\", \"Jovem\", \"Jovem\", \"Jovem\", \"Jovem\", \"Jovem\", \"Jovem\", \"Jovem\", \"Jovem\", \"Jovem\", \"Jovem\", \"Jovem\", \"Jovem\", \"Jovem\",\n",
        "            \"Jovem\", \"Jovem\", \"Jovem\", \"Jovem\", \"Jovem\", \"Jovem\", \"Jovem\", \"Jovem\", \"Jovem\", \"Jovem\", \"Jovem\", \"Jovem\", \"Jovem\", \"Jovem\",\n",
        "            \"Jovem\", \"Jovem\", \"Jovem\", \"Jovem\", \"Jovem\", \"Jovem\", \"Jovem\", \"Jovem\", \"Jovem\", \"Jovem\", \"Jovem\", \"Jovem\", \"Jovem\", \"Jovem\",\n",
        "            \"Jovem\", \"Jovem\", \"Jovem\", \"Jovem\", \"Jovem\", \"Jovem\", \"Jovem\", \"Jovem\", \"Adulto\", \"Adulto\", \"Adulto\", \"Adulto\", \"Adulto\", \"Adulto\",\n",
        "            \"Adulto\", \"Adulto\", \"Adulto\", \"Adulto\", \"Adulto\", \"Adulto\", \"Adulto\", \"Adulto\", \"Adulto\", \"Adulto\", \"Adulto\", \"Adulto\", \"Adulto\", \"Adulto\",\n",
        "            \"Adulto\", \"Adulto\", \"Adulto\", \"Adulto\", \"Adulto\", \"Adulto\", \"Adulto\", \"Adulto\", \"Adulto\", \"Adulto\", \"Adulto\", \"Adulto\", \"Adulto\", \"Adulto\",\n",
        "            \"Adulto\", \"Adulto\", \"Adulto\", \"Adulto\", \"Adulto\", \"Adulto\", \"Adulto\", \"Adulto\", \"Adulto\", \"Adulto\", \"Adulto\", \"Adulto\", \"Adulto\", \"Adulto\",\n",
        "            \"Adulto\", \"Adulto\", \"Idoso\", \"Idoso\", \"Idoso\", \"Idoso\", \"Idoso\", \"Idoso\", \"Idoso\", \"Idoso\", \"Idoso\", \"Idoso\", \"Idoso\", \"Idoso\",\n",
        "            \"Idoso\", \"Idoso\", \"Idoso\", \"Idoso\", \"Idoso\", \"Idoso\", \"Idoso\", \"Idoso\", \"Idoso\", \"Idoso\", \"Idoso\", \"Idoso\", \"Idoso\", \"Idoso\",\n",
        "            \"Idoso\", \"Idoso\", \"Idoso\", \"Idoso\", \"Idoso\", \"Idoso\", \"Idoso\", \"Idoso\", \"Idoso\", \"Idoso\", \"Idoso\", \"Idoso\", \"Idoso\", \"Idoso\",\n",
        "            \"Idoso\", \"Idoso\", \"Idoso\", \"Idoso\", \"Idoso\", \"Idoso\", \"Idoso\", \"Idoso\", \"Idoso\", \"Idoso\")\n",
        "\n",
        "pref_pag <- c(\"CC\", \"Boleto\", \"Boleto\", \"Boleto\", \"CC\", \"CC\", \"Boleto\", \"CC\", \"Boleto\", \"CC\", \"CC\", \"Boleto\", \"Boleto\", \"CC\", \"CC\", \"CC\", \"CC\",\n",
        "              \"CC\", \"CC\", \"CC\", \"CC\", \"Boleto\", \"CC\", \"Boleto\", \"CC\", \"CC\",  \"CC\", \"Boleto\", \"CC\", \"CC\", \"CC\", \"CC\", \"CC\", \"CC\", \"CC\", \"Boleto\",\n",
        "              \"Boleto\", \"Boleto\", \"Boleto\", \"Boleto\", \"Boleto\", \"Boleto\", \"Boleto\", \"Boleto\", \"Boleto\", \"CC\", \"CC\", \"CC\", \"Boleto\", \"Boleto\", \"CC\",\n",
        "              \"CC\", \"CC\", \"CC\", \"Boleto\", \"Boleto\", \"Boleto\", \"Boleto\", \"Boleto\", \"CC\", \"CC\", \"CC\", \"CC\", \"CC\", \"CC\", \"Boleto\", \"Boleto\", \"Boleto\",\n",
        "              \"Boleto\", \"CC\", \"CC\", \"Boleto\", \"CC\", \"Boleto\", \"Boleto\", \"Boleto\", \"Boleto\", \"Boleto\", \"Boleto\", \"CC\", \"CC\", \"Boleto\", \"CC\", \"CC\",\n",
        "              \"CC\", \"Boleto\", \"Boleto\", \"CC\", \"CC\", \"Boleto\", \"Boleto\", \"CC\", \"Boleto\", \"CC\", \"Boleto\", \"Boleto\", \"Boleto\", \"CC\", \"CC\", \"Boleto\",\n",
        "              \"Boleto\", \"Boleto\", \"Boleto\", \"Boleto\", \"Boleto\", \"Boleto\", \"Boleto\", \"Boleto\", \"Boleto\", \"Boleto\", \"Boleto\", \"Boleto\", \"Boleto\", \"CC\",\n",
        "              \"CC\", \"Boleto\", \"Boleto\", \"CC\", \"Boleto\", \"Boleto\", \"Boleto\", \"Boleto\", \"CC\", \"CC\", \"CC\", \"CC\", \"CC\", \"Boleto\", \"CC\", \"Boleto\",\n",
        "              \"Boleto\", \"Boleto\", \"Boleto\", \"Boleto\", \"CC\", \"CC\", \"Boleto\", \"CC\", \"Boleto\", \"CC\", \"Boleto\", \"Boleto\", \"Boleto\", \"Boleto\",\n",
        "              \"Boleto\", \"Boleto\", \"Boleto\", \"CC\", \"CC\", \"Boleto\")\n",
        "dados <- data.frame(Faixa_Etaria = faixa ,Preferencia_Pagamento = pref_pag)\n",
        "head(dados)"
      ]
    },
    {
      "cell_type": "code",
      "execution_count": 25,
      "metadata": {
        "colab": {
          "base_uri": "https://localhost:8080/",
          "height": 104
        },
        "id": "CoR_5-qaXAfR",
        "outputId": "8cf8056f-2d19-4f5a-a4ce-f68aaa628e85",
        "vscode": {
          "languageId": "r"
        }
      },
      "outputs": [
        {
          "data": {
            "text/plain": [
              "        \n",
              "         Boleto CC\n",
              "  Adulto     26 24\n",
              "  Idoso      35 15\n",
              "  Jovem      22 28"
            ]
          },
          "metadata": {},
          "output_type": "display_data"
        }
      ],
      "source": [
        "tabela <- table(dados$Faixa_Etaria, dados$Preferencia_Pagamento)\n",
        "tabela"
      ]
    },
    {
      "cell_type": "markdown",
      "metadata": {
        "id": "EDzmUS6nVOMQ"
      },
      "source": [
        "##### 1. Quais as hipóteses a serem testadas?\n",
        "\n",
        "$H_0:$ Não há associação entre a preferência de pagamento e a faixa etária (as variáveis são independentes).\n",
        "\n",
        "$H_1:$ Há associação entre a preferência de pagamento e a faixa etária (as variáveis não são independentes)."
      ]
    },
    {
      "cell_type": "markdown",
      "metadata": {
        "id": "PVdPIdFNVOMR"
      },
      "source": [
        "##### 2. Qual o valor da estatística de teste? E o p-valor?"
      ]
    },
    {
      "cell_type": "code",
      "execution_count": 6,
      "metadata": {
        "colab": {
          "base_uri": "https://localhost:8080/",
          "height": 104
        },
        "id": "KMFA5-45VOMR",
        "outputId": "bac44414-b65e-46b9-a2fe-8b70aeccb1ce",
        "vscode": {
          "languageId": "r"
        }
      },
      "outputs": [
        {
          "data": {
            "text/plain": [
              "\n",
              "\tPearson's Chi-squared test\n",
              "\n",
              "data:  tabela\n",
              "X-squared = 7.175, df = 2, p-value = 0.02767\n"
            ]
          },
          "metadata": {},
          "output_type": "display_data"
        }
      ],
      "source": [
        "qui_2 <- chisq.test(tabela)\n",
        "qui_2"
      ]
    },
    {
      "cell_type": "markdown",
      "metadata": {
        "id": "mgIM2-yGVOMR"
      },
      "source": [
        "###### $p_{valor}$ ?"
      ]
    },
    {
      "cell_type": "code",
      "execution_count": 7,
      "metadata": {
        "colab": {
          "base_uri": "https://localhost:8080/",
          "height": 34
        },
        "id": "o9bM9eOPVOMR",
        "outputId": "0952b799-5d6b-44f2-ec99-b02a984eb179",
        "vscode": {
          "languageId": "r"
        }
      },
      "outputs": [
        {
          "data": {
            "text/html": [
              "0.02766784790455"
            ],
            "text/latex": [
              "0.02766784790455"
            ],
            "text/markdown": [
              "0.02766784790455"
            ],
            "text/plain": [
              "[1] 0.02766785"
            ]
          },
          "metadata": {},
          "output_type": "display_data"
        }
      ],
      "source": [
        "p_valor <- qui_2$p.value\n",
        "p_valor"
      ]
    },
    {
      "cell_type": "markdown",
      "metadata": {
        "id": "Bc8YP8K-VOMR"
      },
      "source": [
        "##### 3. Qual a conclusão do teste?"
      ]
    },
    {
      "cell_type": "code",
      "execution_count": 8,
      "metadata": {
        "id": "FrXPdumZW8yK",
        "vscode": {
          "languageId": "r"
        }
      },
      "outputs": [],
      "source": [
        "significancia <- 0.05"
      ]
    },
    {
      "cell_type": "code",
      "execution_count": 9,
      "metadata": {
        "colab": {
          "base_uri": "https://localhost:8080/",
          "height": 34
        },
        "id": "jkUhidTtVOMS",
        "outputId": "f3c7fbd1-fc3d-4260-e876-a76d598223a6",
        "vscode": {
          "languageId": "r"
        }
      },
      "outputs": [
        {
          "data": {
            "text/html": [
              "TRUE"
            ],
            "text/latex": [
              "TRUE"
            ],
            "text/markdown": [
              "TRUE"
            ],
            "text/plain": [
              "[1] TRUE"
            ]
          },
          "metadata": {},
          "output_type": "display_data"
        }
      ],
      "source": [
        "p_valor <= significancia"
      ]
    },
    {
      "cell_type": "markdown",
      "metadata": {
        "id": "MNNx83yOYBlv"
      },
      "source": [
        "###### Quais as frequências esperadas?"
      ]
    },
    {
      "cell_type": "code",
      "execution_count": 11,
      "metadata": {
        "colab": {
          "base_uri": "https://localhost:8080/",
          "height": 161
        },
        "id": "uxNg_p_oYRwF",
        "outputId": "311bb85c-7724-42ac-bbe1-16cbc53f6508",
        "vscode": {
          "languageId": "r"
        }
      },
      "outputs": [
        {
          "data": {
            "text/html": [
              "<table class=\"dataframe\">\n",
              "<caption>A matrix: 3 × 2 of type dbl</caption>\n",
              "<thead>\n",
              "\t<tr><th></th><th scope=col>Boleto</th><th scope=col>CC</th></tr>\n",
              "</thead>\n",
              "<tbody>\n",
              "\t<tr><th scope=row>Adulto</th><td>27.66667</td><td>22.33333</td></tr>\n",
              "\t<tr><th scope=row>Idoso</th><td>27.66667</td><td>22.33333</td></tr>\n",
              "\t<tr><th scope=row>Jovem</th><td>27.66667</td><td>22.33333</td></tr>\n",
              "</tbody>\n",
              "</table>\n"
            ],
            "text/latex": [
              "A matrix: 3 × 2 of type dbl\n",
              "\\begin{tabular}{r|ll}\n",
              "  & Boleto & CC\\\\\n",
              "\\hline\n",
              "\tAdulto & 27.66667 & 22.33333\\\\\n",
              "\tIdoso & 27.66667 & 22.33333\\\\\n",
              "\tJovem & 27.66667 & 22.33333\\\\\n",
              "\\end{tabular}\n"
            ],
            "text/markdown": [
              "\n",
              "A matrix: 3 × 2 of type dbl\n",
              "\n",
              "| <!--/--> | Boleto | CC |\n",
              "|---|---|---|\n",
              "| Adulto | 27.66667 | 22.33333 |\n",
              "| Idoso | 27.66667 | 22.33333 |\n",
              "| Jovem | 27.66667 | 22.33333 |\n",
              "\n"
            ],
            "text/plain": [
              "        \n",
              "         Boleto   CC      \n",
              "  Adulto 27.66667 22.33333\n",
              "  Idoso  27.66667 22.33333\n",
              "  Jovem  27.66667 22.33333"
            ]
          },
          "metadata": {},
          "output_type": "display_data"
        }
      ],
      "source": [
        "tab_esperada <- qui_2$expected\n",
        "tab_esperada"
      ]
    },
    {
      "cell_type": "markdown",
      "metadata": {
        "id": "qPJ5zubrYG8g"
      },
      "source": [
        "###### Análise dos resíduos padronizados ajustados"
      ]
    },
    {
      "cell_type": "code",
      "execution_count": 32,
      "metadata": {
        "colab": {
          "base_uri": "https://localhost:8080/",
          "height": 248
        },
        "id": "mOj1w_9AVOMS",
        "outputId": "4aa0b20b-c675-4a8b-e194-0a8aafde77b2",
        "vscode": {
          "languageId": "r"
        }
      },
      "outputs": [
        {
          "data": {
            "text/plain": [
              "        \n",
              "         Boleto CC\n",
              "  Adulto     26 24\n",
              "  Idoso      35 15\n",
              "  Jovem      22 28"
            ]
          },
          "metadata": {},
          "output_type": "display_data"
        },
        {
          "data": {
            "text/html": [
              "<table class=\"dataframe\">\n",
              "<caption>A matrix: 3 × 2 of type dbl</caption>\n",
              "<thead>\n",
              "\t<tr><th></th><th scope=col>Boleto</th><th scope=col>CC</th></tr>\n",
              "</thead>\n",
              "<tbody>\n",
              "\t<tr><th scope=row>Adulto</th><td>27.66667</td><td>22.33333</td></tr>\n",
              "\t<tr><th scope=row>Idoso</th><td>27.66667</td><td>22.33333</td></tr>\n",
              "\t<tr><th scope=row>Jovem</th><td>27.66667</td><td>22.33333</td></tr>\n",
              "</tbody>\n",
              "</table>\n"
            ],
            "text/latex": [
              "A matrix: 3 × 2 of type dbl\n",
              "\\begin{tabular}{r|ll}\n",
              "  & Boleto & CC\\\\\n",
              "\\hline\n",
              "\tAdulto & 27.66667 & 22.33333\\\\\n",
              "\tIdoso & 27.66667 & 22.33333\\\\\n",
              "\tJovem & 27.66667 & 22.33333\\\\\n",
              "\\end{tabular}\n"
            ],
            "text/markdown": [
              "\n",
              "A matrix: 3 × 2 of type dbl\n",
              "\n",
              "| <!--/--> | Boleto | CC |\n",
              "|---|---|---|\n",
              "| Adulto | 27.66667 | 22.33333 |\n",
              "| Idoso | 27.66667 | 22.33333 |\n",
              "| Jovem | 27.66667 | 22.33333 |\n",
              "\n"
            ],
            "text/plain": [
              "        \n",
              "         Boleto   CC      \n",
              "  Adulto 27.66667 22.33333\n",
              "  Idoso  27.66667 22.33333\n",
              "  Jovem  27.66667 22.33333"
            ]
          },
          "metadata": {},
          "output_type": "display_data"
        }
      ],
      "source": [
        "tabela\n",
        "tab_esperada"
      ]
    },
    {
      "cell_type": "code",
      "execution_count": 33,
      "metadata": {
        "colab": {
          "base_uri": "https://localhost:8080/",
          "height": 104
        },
        "id": "SzqKiFmFYgwi",
        "outputId": "b7d87cb7-8004-4b03-8e11-53294394829e",
        "vscode": {
          "languageId": "r"
        }
      },
      "outputs": [
        {
          "data": {
            "text/plain": [
              "        \n",
              "            Boleto        CC\n",
              "  Adulto -0.580663  0.580663\n",
              "  Idoso   2.554917 -2.554917\n",
              "  Jovem  -1.974254  1.974254"
            ]
          },
          "metadata": {},
          "output_type": "display_data"
        }
      ],
      "source": [
        "qui_2$stdres"
      ]
    },
    {
      "cell_type": "markdown",
      "metadata": {
        "id": "-TN_P8VsVOMS"
      },
      "source": [
        "##### **Conclusão**\n",
        "\n",
        "> Como o p-valor ($p_{value} = 0.028$) é menor que o nível de significância ($\\alpha$ = 0.05), **rejeitamos a hipótese nula**.\n",
        ">\n",
        "> Isso indica que **há uma associação significativa** entre a faixa etária dos clientes e o tipo de pagamento ao **nível de significância de 5%**.\n",
        ">\n",
        "> Além disso, a análise dos resíduos padronizados ajustados mostrou que as células **Idoso** e **Jovem** contribuíram significativamente para a rejeição de $H_0$."
      ]
    },
    {
      "cell_type": "markdown",
      "metadata": {
        "id": "alhpFBhKaPFf"
      },
      "source": [
        "#### Case 2: Avaliando e-mail marketing de um produto\n",
        "A empresa lançou uma campanha de marketing por e-mail para promover um novo produto. A campanha foi enviada para um grupo de clientes, e a empresa quer saber se houve associação entre o **recebimento do e-mail** e a **compra do produto**.\n",
        "\n",
        "* Com base nos dados fornecidos, verifique se há associação entre receber o e-mail e comprar o produto, dada uma pequena amostra a um **nível de significância de 5%**. Neste caso, o teste exato de Fisher será o mais adequado.\n"
      ]
    },
    {
      "cell_type": "markdown",
      "metadata": {
        "id": "x6OIQlGGaPFg"
      },
      "source": [
        "##### **Dados do problema**"
      ]
    },
    {
      "cell_type": "code",
      "execution_count": 36,
      "metadata": {
        "colab": {
          "base_uri": "https://localhost:8080/",
          "height": 129
        },
        "id": "RzI6kwSoaPFg",
        "outputId": "aff87049-8889-44d9-a2cf-45c58281c349",
        "vscode": {
          "languageId": "r"
        }
      },
      "outputs": [
        {
          "data": {
            "text/html": [
              "<table class=\"dataframe\">\n",
              "<caption>A matrix: 2 × 2 of type dbl</caption>\n",
              "<thead>\n",
              "\t<tr><th></th><th scope=col>Comprou</th><th scope=col>Não Comprou</th></tr>\n",
              "</thead>\n",
              "<tbody>\n",
              "\t<tr><th scope=row>Recebeu E-mail</th><td>12</td><td> 4</td></tr>\n",
              "\t<tr><th scope=row>Não Recebeu E-mail</th><td> 6</td><td>11</td></tr>\n",
              "</tbody>\n",
              "</table>\n"
            ],
            "text/latex": [
              "A matrix: 2 × 2 of type dbl\n",
              "\\begin{tabular}{r|ll}\n",
              "  & Comprou & Não Comprou\\\\\n",
              "\\hline\n",
              "\tRecebeu E-mail & 12 &  4\\\\\n",
              "\tNão Recebeu E-mail &  6 & 11\\\\\n",
              "\\end{tabular}\n"
            ],
            "text/markdown": [
              "\n",
              "A matrix: 2 × 2 of type dbl\n",
              "\n",
              "| <!--/--> | Comprou | Não Comprou |\n",
              "|---|---|---|\n",
              "| Recebeu E-mail | 12 |  4 |\n",
              "| Não Recebeu E-mail |  6 | 11 |\n",
              "\n"
            ],
            "text/plain": [
              "                   Comprou Não Comprou\n",
              "Recebeu E-mail     12       4         \n",
              "Não Recebeu E-mail  6      11         "
            ]
          },
          "metadata": {},
          "output_type": "display_data"
        }
      ],
      "source": [
        "dados <- matrix(c(12, 4, 6, 11), nrow = 2, byrow = TRUE,\n",
        "                dimnames = list(c(\"Recebeu E-mail\", \"Não Recebeu E-mail\"),\n",
        "                                c(\"Comprou\", \"Não Comprou\")))\n",
        "dados"
      ]
    },
    {
      "cell_type": "markdown",
      "metadata": {
        "id": "V4iZbX2xaPFg"
      },
      "source": [
        "##### 1. Quais as hipóteses a serem testadas?\n",
        "\n",
        "$H_0:$ Não há associação entre receber o e-mail e comprar o produto (as variáveis são independentes).\n",
        "\n",
        "$H_1:$ Há associação entre receber o e-mail e comprar o produto (as variáveis não são independentes)."
      ]
    },
    {
      "cell_type": "markdown",
      "metadata": {
        "id": "d-B-O6JZaPFh"
      },
      "source": [
        "##### 2. Qual o valor da estatística de teste? E o p-valor?"
      ]
    },
    {
      "cell_type": "code",
      "execution_count": 40,
      "metadata": {
        "colab": {
          "base_uri": "https://localhost:8080/",
          "height": 208
        },
        "id": "H2jRaPLtaPFh",
        "outputId": "2a976dcd-d336-4aec-c25b-faf870fa699f",
        "vscode": {
          "languageId": "r"
        }
      },
      "outputs": [
        {
          "data": {
            "text/plain": [
              "\n",
              "\tFisher's Exact Test for Count Data\n",
              "\n",
              "data:  dados\n",
              "p-value = 0.03664\n",
              "alternative hypothesis: true odds ratio is not equal to 1\n",
              "95 percent confidence interval:\n",
              "  0.996045 33.128576\n",
              "sample estimates:\n",
              "odds ratio \n",
              "  5.191776 \n"
            ]
          },
          "metadata": {},
          "output_type": "display_data"
        }
      ],
      "source": [
        "resultado_fisher <- fisher.test(dados)\n",
        "resultado_fisher"
      ]
    },
    {
      "cell_type": "markdown",
      "metadata": {
        "id": "1d-ckpaSaPFh"
      },
      "source": [
        "###### $p_{valor}$ ?"
      ]
    },
    {
      "cell_type": "code",
      "execution_count": 41,
      "metadata": {
        "colab": {
          "base_uri": "https://localhost:8080/",
          "height": 34
        },
        "id": "YAuNfO31aPFh",
        "outputId": "4dd3e3b7-de33-44ae-f7fc-06fb89083bea",
        "vscode": {
          "languageId": "r"
        }
      },
      "outputs": [
        {
          "data": {
            "text/html": [
              "0.0366365204494527"
            ],
            "text/latex": [
              "0.0366365204494527"
            ],
            "text/markdown": [
              "0.0366365204494527"
            ],
            "text/plain": [
              "[1] 0.03663652"
            ]
          },
          "metadata": {},
          "output_type": "display_data"
        }
      ],
      "source": [
        "p_valor <- resultado_fisher$p.value\n",
        "p_valor"
      ]
    },
    {
      "cell_type": "markdown",
      "metadata": {
        "id": "jDdxbA2gaPFh"
      },
      "source": [
        "##### 3. Qual a conclusão do teste?"
      ]
    },
    {
      "cell_type": "code",
      "execution_count": 42,
      "metadata": {
        "id": "Jw6b7J7iaPFi",
        "vscode": {
          "languageId": "r"
        }
      },
      "outputs": [],
      "source": [
        "significancia <- 0.05"
      ]
    },
    {
      "cell_type": "code",
      "execution_count": 43,
      "metadata": {
        "colab": {
          "base_uri": "https://localhost:8080/",
          "height": 34
        },
        "id": "0Zbch-Y-aPFi",
        "outputId": "2608c1a1-7c0a-4b91-ccfc-9897782e8bfc",
        "vscode": {
          "languageId": "r"
        }
      },
      "outputs": [
        {
          "data": {
            "text/html": [
              "TRUE"
            ],
            "text/latex": [
              "TRUE"
            ],
            "text/markdown": [
              "TRUE"
            ],
            "text/plain": [
              "[1] TRUE"
            ]
          },
          "metadata": {},
          "output_type": "display_data"
        }
      ],
      "source": [
        "p_valor <= significancia"
      ]
    },
    {
      "cell_type": "markdown",
      "metadata": {
        "id": "kEO6PEa8aPFi"
      },
      "source": [
        "###### Enviar e-mail ajuda nas vendas?"
      ]
    },
    {
      "cell_type": "code",
      "execution_count": 44,
      "metadata": {
        "id": "234fvI23aPFi",
        "vscode": {
          "languageId": "r"
        }
      },
      "outputs": [],
      "source": [
        "taxa_compra_com_email <- dados[1,1] / rowSums(dados)[1]\n",
        "taxa_compra_sem_email <- dados[2,1] / rowSums(dados)[2]"
      ]
    },
    {
      "cell_type": "code",
      "execution_count": 45,
      "metadata": {
        "colab": {
          "base_uri": "https://localhost:8080/"
        },
        "id": "pKC10b2nf9TF",
        "outputId": "061c850a-a0a9-47fb-81a8-89a7c63336dd",
        "vscode": {
          "languageId": "r"
        }
      },
      "outputs": [
        {
          "name": "stdout",
          "output_type": "stream",
          "text": [
            "Taxa de compra com email: 75%\n",
            "Taxa de compra sem email: 35.2941176470588%"
          ]
        }
      ],
      "source": [
        "cat(paste0(\"Taxa de compra com email: \", 100 * taxa_compra_com_email, \"%\\n\"))\n",
        "cat(paste0(\"Taxa de compra sem email: \", 100 * taxa_compra_sem_email, \"%\"))"
      ]
    },
    {
      "cell_type": "markdown",
      "metadata": {
        "id": "SOa5uiVAaPFj"
      },
      "source": [
        "##### **Conclusão**\n",
        "\n",
        "> Como o p-valor ($p_{value} = 0.037$) é menor que o nível de significância ($\\alpha$ = 0.05), **rejeitamos a hipótese nula**.\n",
        ">\n",
        "> Isso indica que **há uma associação significativa** entre receber o e-mail e comprar o produto ao **nível de significância de 5%**.\n",
        ">\n",
        "> Além disso, a análise da **taxa de compras** mostrou que ao enviar e-mail temos uma taxa de conversão significativamente maior (75%) em comparação com não enviando e-mail (35.3%). Portanto, a empresa pode continuar priorizando o e-mail marketing desse produto visando maximizar as vendas."
      ]
    },
    {
      "cell_type": "markdown",
      "metadata": {
        "id": "8oiQ6DsahpRv"
      },
      "source": [
        "## **Aula 05 - Cálculo do tamanho da amostra**"
      ]
    },
    {
      "cell_type": "markdown",
      "metadata": {
        "id": "41X1NLZpi9Z_"
      },
      "source": [
        "### **Mão na Massa - Consultoria para um produtor rural**"
      ]
    },
    {
      "cell_type": "markdown",
      "metadata": {
        "id": "iBC8rHu8MJw5"
      },
      "source": [
        "Você foi contratado como consultor por um produtor rural que deseja melhorar a eficiência de sua produção. Para isso, ele nos solicitou resolver dois problemas:\n",
        "* Case 1: Avaliar o efeito de um novo composto na ração de suínos sobre o ganho de peso dos animais.\n",
        "* Case 2: Comparar duas variedades de milho em relação ao rendimento e a necessidade de uso de água.\n"
      ]
    },
    {
      "cell_type": "markdown",
      "metadata": {
        "id": "aRpb2MdQ3m9M"
      },
      "source": [
        "####  Case 1: Analisando inserção de novo composto em ração\n",
        "O produtor rural deseja saber se a adição de um novo composto na ração de suínos tem um efeito significativo no ganho de peso dos animais. Para isso, ele testou o mesmo grupo de **35 porcos** em duas situações:\n",
        "* **Sem Composto:** Alimentou os porcos com a ração tradicional por uma semana e registrou a variação de peso.\n",
        "* **Com Composto:** Alimentou os mesmos porcos com a ração contendo o novo composto por mais uma semana e registrou a variação de peso.\n",
        "\n",
        "Com base nos dados, queremos saber se há diferença no ganho de peso dos porcos de acordo a presença ou não do composto ao **nível de significância de 5%**.\n"
      ]
    },
    {
      "cell_type": "markdown",
      "metadata": {
        "id": "RLbREQ-66Ld-"
      },
      "source": [
        "> Lembre-se de rodar os códigos na aba **Importando os pacotes e configurando o ambiente** localizado no início deste documento, pois será preciso utilizar alguns dos pacotes aqui."
      ]
    },
    {
      "cell_type": "markdown",
      "metadata": {
        "id": "efyAPpjQ3m9M"
      },
      "source": [
        "##### **Dados do problema**"
      ]
    },
    {
      "cell_type": "code",
      "execution_count": 7,
      "metadata": {
        "colab": {
          "base_uri": "https://localhost:8080/",
          "height": 286
        },
        "id": "FKqYow4Q3m9N",
        "outputId": "9b1e6fdb-21e5-4d5f-ade1-ec40ec457b94",
        "vscode": {
          "languageId": "r"
        }
      },
      "outputs": [
        {
          "data": {
            "text/html": [
              "<table class=\"dataframe\">\n",
              "<caption>A data.frame: 6 × 2</caption>\n",
              "<thead>\n",
              "\t<tr><th></th><th scope=col>Sem_Composto</th><th scope=col>Com_Composto</th></tr>\n",
              "\t<tr><th></th><th scope=col>&lt;dbl&gt;</th><th scope=col>&lt;dbl&gt;</th></tr>\n",
              "</thead>\n",
              "<tbody>\n",
              "\t<tr><th scope=row>1</th><td>180</td><td>384</td></tr>\n",
              "\t<tr><th scope=row>2</th><td>139</td><td>187</td></tr>\n",
              "\t<tr><th scope=row>3</th><td>325</td><td>442</td></tr>\n",
              "\t<tr><th scope=row>4</th><td>303</td><td>208</td></tr>\n",
              "\t<tr><th scope=row>5</th><td>127</td><td>488</td></tr>\n",
              "\t<tr><th scope=row>6</th><td>149</td><td>283</td></tr>\n",
              "</tbody>\n",
              "</table>\n"
            ],
            "text/latex": [
              "A data.frame: 6 × 2\n",
              "\\begin{tabular}{r|ll}\n",
              "  & Sem\\_Composto & Com\\_Composto\\\\\n",
              "  & <dbl> & <dbl>\\\\\n",
              "\\hline\n",
              "\t1 & 180 & 384\\\\\n",
              "\t2 & 139 & 187\\\\\n",
              "\t3 & 325 & 442\\\\\n",
              "\t4 & 303 & 208\\\\\n",
              "\t5 & 127 & 488\\\\\n",
              "\t6 & 149 & 283\\\\\n",
              "\\end{tabular}\n"
            ],
            "text/markdown": [
              "\n",
              "A data.frame: 6 × 2\n",
              "\n",
              "| <!--/--> | Sem_Composto &lt;dbl&gt; | Com_Composto &lt;dbl&gt; |\n",
              "|---|---|---|\n",
              "| 1 | 180 | 384 |\n",
              "| 2 | 139 | 187 |\n",
              "| 3 | 325 | 442 |\n",
              "| 4 | 303 | 208 |\n",
              "| 5 | 127 | 488 |\n",
              "| 6 | 149 | 283 |\n",
              "\n"
            ],
            "text/plain": [
              "  Sem_Composto Com_Composto\n",
              "1 180          384         \n",
              "2 139          187         \n",
              "3 325          442         \n",
              "4 303          208         \n",
              "5 127          488         \n",
              "6 149          283         "
            ]
          },
          "metadata": {},
          "output_type": "display_data"
        }
      ],
      "source": [
        "pesos <- data.frame(\n",
        "  Sem_Composto = c(180, 139, 325, 303, 127, 149, 271, 163, 287, 255, 398, 324, 335, 421,\n",
        "                   216, 274, 373, 116, 197, 237, 321, 431, 112, 304, 417, 362, 151, 187,\n",
        "                   195, 304, 202, 158, 105, 190, 245),\n",
        "  Com_Composto = c(384, 187, 442, 208, 488, 283, 286, 319, 240, 266, 298, 230, 484, 424,\n",
        "                   185, 233, 282, 286, 208, 290, 429, 386, 218, 390, 347, 442, 240, 356,\n",
        "                   317, 454, 301, 108, 228, 271, 395)\n",
        ")\n",
        "head(pesos)"
      ]
    },
    {
      "cell_type": "markdown",
      "metadata": {
        "id": "JUX5DE3V3m9N"
      },
      "source": [
        "##### 1. Quais as hipóteses a serem testadas?\n",
        "\n",
        "$H_0:$ Não há diferença no ganho de peso dos porcos com e sem o composto (as medianas são iguais).\n",
        "\n",
        "$H_1:$ Há diferença no ganho de peso dos porcos com e sem o composto (as medianas são diferentes)."
      ]
    },
    {
      "cell_type": "markdown",
      "metadata": {
        "id": "lf_cnSze3m9N"
      },
      "source": [
        "##### 2. Qual o valor da estatística de teste? E o p-valor?"
      ]
    },
    {
      "cell_type": "code",
      "execution_count": 12,
      "metadata": {
        "colab": {
          "base_uri": "https://localhost:8080/",
          "height": 156
        },
        "id": "LtNvIYYp3m9N",
        "outputId": "d2ae4c1a-362d-4ce3-f6c9-55be8ed2edd3",
        "vscode": {
          "languageId": "r"
        }
      },
      "outputs": [
        {
          "name": "stderr",
          "output_type": "stream",
          "text": [
            "Warning message in wilcox.test.default(pesos$Sem_Composto, pesos$Com_Composto, paired = T, :\n",
            "“cannot compute exact p-value with ties”\n"
          ]
        },
        {
          "data": {
            "text/plain": [
              "\n",
              "\tWilcoxon signed rank test\n",
              "\n",
              "data:  pesos$Sem_Composto and pesos$Com_Composto\n",
              "V = 123, p-value = 0.001661\n",
              "alternative hypothesis: true location shift is not equal to 0\n"
            ]
          },
          "metadata": {},
          "output_type": "display_data"
        }
      ],
      "source": [
        "teste_wilcoxon <- wilcox.test(pesos$Sem_Composto, pesos$Com_Composto, paired = T, correct = F)\n",
        "teste_wilcoxon"
      ]
    },
    {
      "cell_type": "markdown",
      "metadata": {
        "id": "vy8aR1vm3m9N"
      },
      "source": [
        "###### $p_{valor}$ ?"
      ]
    },
    {
      "cell_type": "code",
      "execution_count": 13,
      "metadata": {
        "colab": {
          "base_uri": "https://localhost:8080/",
          "height": 34
        },
        "id": "yuRVklO63m9N",
        "outputId": "a1ff268d-e6c6-4dcc-b6c0-be9cf417c213",
        "vscode": {
          "languageId": "r"
        }
      },
      "outputs": [
        {
          "data": {
            "text/html": [
              "0.0016614309038594"
            ],
            "text/latex": [
              "0.0016614309038594"
            ],
            "text/markdown": [
              "0.0016614309038594"
            ],
            "text/plain": [
              "[1] 0.001661431"
            ]
          },
          "metadata": {},
          "output_type": "display_data"
        }
      ],
      "source": [
        "p_valor <- teste_wilcoxon$p.value\n",
        "p_valor"
      ]
    },
    {
      "cell_type": "markdown",
      "metadata": {
        "id": "86PDkD-G3m9O"
      },
      "source": [
        "##### 3. Qual a conclusão do teste?"
      ]
    },
    {
      "cell_type": "code",
      "execution_count": 15,
      "metadata": {
        "id": "QC4J8vnR3m9O",
        "vscode": {
          "languageId": "r"
        }
      },
      "outputs": [],
      "source": [
        "significancia <- 0.05"
      ]
    },
    {
      "cell_type": "code",
      "execution_count": 16,
      "metadata": {
        "colab": {
          "base_uri": "https://localhost:8080/",
          "height": 34
        },
        "id": "yJvsl3qV3m9O",
        "outputId": "bcaa8a8d-3da0-41e4-bdfa-644a788aa967",
        "vscode": {
          "languageId": "r"
        }
      },
      "outputs": [
        {
          "data": {
            "text/html": [
              "TRUE"
            ],
            "text/latex": [
              "TRUE"
            ],
            "text/markdown": [
              "TRUE"
            ],
            "text/plain": [
              "[1] TRUE"
            ]
          },
          "metadata": {},
          "output_type": "display_data"
        }
      ],
      "source": [
        "p_valor <= significancia"
      ]
    },
    {
      "cell_type": "markdown",
      "metadata": {
        "id": "gLeNSfku3m9O"
      },
      "source": [
        "##### 4. Análise descritiva dos dados"
      ]
    },
    {
      "cell_type": "code",
      "execution_count": 18,
      "metadata": {
        "id": "0bpH-Y9R6AQN",
        "vscode": {
          "languageId": "r"
        }
      },
      "outputs": [],
      "source": [
        "pesos$Dif <- pesos$Com_Composto - pesos$Sem_Composto"
      ]
    },
    {
      "cell_type": "code",
      "execution_count": 22,
      "metadata": {
        "colab": {
          "base_uri": "https://localhost:8080/",
          "height": 192
        },
        "id": "F5sWbhCI3m9O",
        "outputId": "6f32f88a-b212-41f9-e06e-a069dab22a50",
        "vscode": {
          "languageId": "r"
        }
      },
      "outputs": [
        {
          "data": {
            "text/html": [
              "<table class=\"dataframe\">\n",
              "<caption>A tibble: 3 × 4</caption>\n",
              "<thead>\n",
              "\t<tr><th scope=col>variable</th><th scope=col>n</th><th scope=col>median</th><th scope=col>iqr</th></tr>\n",
              "\t<tr><th scope=col>&lt;fct&gt;</th><th scope=col>&lt;dbl&gt;</th><th scope=col>&lt;dbl&gt;</th><th scope=col>&lt;dbl&gt;</th></tr>\n",
              "</thead>\n",
              "<tbody>\n",
              "\t<tr><td>Sem_Composto</td><td>35</td><td>245</td><td>151.0</td></tr>\n",
              "\t<tr><td>Com_Composto</td><td>35</td><td>290</td><td>151.5</td></tr>\n",
              "\t<tr><td>Dif         </td><td>35</td><td> 81</td><td>164.5</td></tr>\n",
              "</tbody>\n",
              "</table>\n"
            ],
            "text/latex": [
              "A tibble: 3 × 4\n",
              "\\begin{tabular}{llll}\n",
              " variable & n & median & iqr\\\\\n",
              " <fct> & <dbl> & <dbl> & <dbl>\\\\\n",
              "\\hline\n",
              "\t Sem\\_Composto & 35 & 245 & 151.0\\\\\n",
              "\t Com\\_Composto & 35 & 290 & 151.5\\\\\n",
              "\t Dif          & 35 &  81 & 164.5\\\\\n",
              "\\end{tabular}\n"
            ],
            "text/markdown": [
              "\n",
              "A tibble: 3 × 4\n",
              "\n",
              "| variable &lt;fct&gt; | n &lt;dbl&gt; | median &lt;dbl&gt; | iqr &lt;dbl&gt; |\n",
              "|---|---|---|---|\n",
              "| Sem_Composto | 35 | 245 | 151.0 |\n",
              "| Com_Composto | 35 | 290 | 151.5 |\n",
              "| Dif          | 35 |  81 | 164.5 |\n",
              "\n"
            ],
            "text/plain": [
              "  variable     n  median iqr  \n",
              "1 Sem_Composto 35 245    151.0\n",
              "2 Com_Composto 35 290    151.5\n",
              "3 Dif          35  81    164.5"
            ]
          },
          "metadata": {},
          "output_type": "display_data"
        }
      ],
      "source": [
        "pesos %>%\n",
        "  get_summary_stats(Sem_Composto, Com_Composto, Dif, type = \"median_iqr\")"
      ]
    },
    {
      "cell_type": "markdown",
      "metadata": {
        "id": "Qcmma9nu3m9O"
      },
      "source": [
        "##### **Conclusão**\n",
        "\n",
        "> Como o p-valor ($p_{value} = 0.002$) é menor que o nível de significância ($\\alpha$ = 0.05), **rejeitamos a hipótese nula**.\n",
        ">\n",
        "> Isso indica que **há uma diferença significativa** no ganho de peso dos porcos com e sem o composto ao **nível de significância de 5%**.\n",
        ">\n",
        "> Além disso, a análise da mediana e intervalo interquartil nos mostrou que a diferença (Dif = Com - Sem) é **positiva** e de 80 quilos e varia entre 164.5 quilos entre o 1º e 3º quartil. Logo, a inserção do composto na ração se demonstrou eficaz no ganho de peso dos porcos."
      ]
    },
    {
      "cell_type": "markdown",
      "metadata": {
        "id": "lrumrJfr3m9P"
      },
      "source": [
        "#### Case 2: Comparando variedades do milho\n",
        "O produtor rural deseja comparar o rendimento e o uso de água entre duas variedades de milho (Variedade A e Variedade B). Ele coletou os seguintes dados:\n",
        "* **Rendimento (kg/hectare):** Medida de produtividade.\n",
        "* **Uso de Água (litros/hectare):** Quantidade de água utilizada no cultivo.\n",
        "\n",
        "Com base nos dados fornecidos, queremos verificar a um **nível de significância de 5%**:\n",
        "* Se o rendimento difere entre as variedades de milho.\n",
        "* Se o uso de água difere entre as variedades de milho.\n"
      ]
    },
    {
      "cell_type": "markdown",
      "metadata": {
        "id": "FBBQw4U-6OXo"
      },
      "source": [
        "> Lembre-se de rodar os códigos na aba **Importando os pacotes e configurando o ambiente** localizado no início deste documento, pois será preciso utilizar alguns dos pacotes aqui."
      ]
    },
    {
      "cell_type": "markdown",
      "metadata": {
        "id": "V6EuBYdx3m9P"
      },
      "source": [
        "##### **Dados do problema**"
      ]
    },
    {
      "cell_type": "code",
      "execution_count": 57,
      "metadata": {
        "colab": {
          "base_uri": "https://localhost:8080/",
          "height": 286
        },
        "id": "Zt-4uzVJ3m9P",
        "outputId": "53656135-b05b-410e-92b1-3fb4b2f94ac5",
        "vscode": {
          "languageId": "r"
        }
      },
      "outputs": [
        {
          "data": {
            "text/html": [
              "<table class=\"dataframe\">\n",
              "<caption>A data.frame: 6 × 3</caption>\n",
              "<thead>\n",
              "\t<tr><th></th><th scope=col>Variedade</th><th scope=col>Rendimento</th><th scope=col>Uso_Agua</th></tr>\n",
              "\t<tr><th></th><th scope=col>&lt;chr&gt;</th><th scope=col>&lt;dbl&gt;</th><th scope=col>&lt;dbl&gt;</th></tr>\n",
              "</thead>\n",
              "<tbody>\n",
              "\t<tr><th scope=row>1</th><td>A</td><td>120</td><td>500</td></tr>\n",
              "\t<tr><th scope=row>2</th><td>A</td><td>130</td><td>510</td></tr>\n",
              "\t<tr><th scope=row>3</th><td>A</td><td>125</td><td>505</td></tr>\n",
              "\t<tr><th scope=row>4</th><td>A</td><td>135</td><td>515</td></tr>\n",
              "\t<tr><th scope=row>5</th><td>A</td><td>140</td><td>520</td></tr>\n",
              "\t<tr><th scope=row>6</th><td>A</td><td>150</td><td>530</td></tr>\n",
              "</tbody>\n",
              "</table>\n"
            ],
            "text/latex": [
              "A data.frame: 6 × 3\n",
              "\\begin{tabular}{r|lll}\n",
              "  & Variedade & Rendimento & Uso\\_Agua\\\\\n",
              "  & <chr> & <dbl> & <dbl>\\\\\n",
              "\\hline\n",
              "\t1 & A & 120 & 500\\\\\n",
              "\t2 & A & 130 & 510\\\\\n",
              "\t3 & A & 125 & 505\\\\\n",
              "\t4 & A & 135 & 515\\\\\n",
              "\t5 & A & 140 & 520\\\\\n",
              "\t6 & A & 150 & 530\\\\\n",
              "\\end{tabular}\n"
            ],
            "text/markdown": [
              "\n",
              "A data.frame: 6 × 3\n",
              "\n",
              "| <!--/--> | Variedade &lt;chr&gt; | Rendimento &lt;dbl&gt; | Uso_Agua &lt;dbl&gt; |\n",
              "|---|---|---|---|\n",
              "| 1 | A | 120 | 500 |\n",
              "| 2 | A | 130 | 510 |\n",
              "| 3 | A | 125 | 505 |\n",
              "| 4 | A | 135 | 515 |\n",
              "| 5 | A | 140 | 520 |\n",
              "| 6 | A | 150 | 530 |\n",
              "\n"
            ],
            "text/plain": [
              "  Variedade Rendimento Uso_Agua\n",
              "1 A         120        500     \n",
              "2 A         130        510     \n",
              "3 A         125        505     \n",
              "4 A         135        515     \n",
              "5 A         140        520     \n",
              "6 A         150        530     "
            ]
          },
          "metadata": {},
          "output_type": "display_data"
        }
      ],
      "source": [
        "dados <- data.frame(\n",
        "  Variedade = rep(c(\"A\", \"B\"), each = 20),\n",
        "  Rendimento = c(120, 130, 125, 135, 140, 150, 145, 155, 160, 170, 165, 175, 180,\n",
        "                 190, 185, 195, 200, 210, 205, 215, 110, 115, 105, 115, 120, 130,\n",
        "                 125, 135, 140, 150, 150, 155, 160, 170, 165, 175, 180, 190, 190, 195),\n",
        "  Uso_Agua = c(500, 510, 505, 515, 520, 530, 525, 535, 540, 550, 545, 555, 560, 570,\n",
        "               565, 575, 580, 590, 585, 595, 600, 620, 615, 625, 630, 630, 635, 635,\n",
        "               640, 640, 655, 655, 660, 660, 665, 675, 680, 690, 685, 695)\n",
        ")\n",
        "head(dados)"
      ]
    },
    {
      "cell_type": "code",
      "execution_count": 58,
      "metadata": {
        "colab": {
          "base_uri": "https://localhost:8080/",
          "height": 161
        },
        "id": "KXTTL1xT8kHb",
        "outputId": "bde947c4-64d3-4750-f073-44f234c9d072",
        "vscode": {
          "languageId": "r"
        }
      },
      "outputs": [
        {
          "data": {
            "text/html": [
              "<table class=\"dataframe\">\n",
              "<caption>A grouped_df: 2 × 2</caption>\n",
              "<thead>\n",
              "\t<tr><th scope=col>Variedade</th><th scope=col>n</th></tr>\n",
              "\t<tr><th scope=col>&lt;chr&gt;</th><th scope=col>&lt;int&gt;</th></tr>\n",
              "</thead>\n",
              "<tbody>\n",
              "\t<tr><td>A</td><td>20</td></tr>\n",
              "\t<tr><td>B</td><td>20</td></tr>\n",
              "</tbody>\n",
              "</table>\n"
            ],
            "text/latex": [
              "A grouped\\_df: 2 × 2\n",
              "\\begin{tabular}{ll}\n",
              " Variedade & n\\\\\n",
              " <chr> & <int>\\\\\n",
              "\\hline\n",
              "\t A & 20\\\\\n",
              "\t B & 20\\\\\n",
              "\\end{tabular}\n"
            ],
            "text/markdown": [
              "\n",
              "A grouped_df: 2 × 2\n",
              "\n",
              "| Variedade &lt;chr&gt; | n &lt;int&gt; |\n",
              "|---|---|\n",
              "| A | 20 |\n",
              "| B | 20 |\n",
              "\n"
            ],
            "text/plain": [
              "  Variedade n \n",
              "1 A         20\n",
              "2 B         20"
            ]
          },
          "metadata": {},
          "output_type": "display_data"
        }
      ],
      "source": [
        "dados %>%\n",
        "  group_by(Variedade) %>%\n",
        "  count()"
      ]
    },
    {
      "cell_type": "markdown",
      "metadata": {
        "id": "LOowf14G3m9P"
      },
      "source": [
        "##### 1. Quais as hipóteses a serem testadas?\n",
        "\n",
        "$H_0:$ Não há diferença entre as variedades de milho (as medianas são iguais).\n",
        "\n",
        "$H_1:$ Há diferença entre as variedades de milho (as medianas são diferentes)."
      ]
    },
    {
      "cell_type": "markdown",
      "metadata": {
        "id": "Bo73xFeD3m9P"
      },
      "source": [
        "##### 2. Qual o valor da estatística de teste? E o p-valor?"
      ]
    },
    {
      "cell_type": "markdown",
      "metadata": {
        "id": "A_JtPuc183z7"
      },
      "source": [
        "###### 2.1 Teste para o rendimento"
      ]
    },
    {
      "cell_type": "code",
      "execution_count": 59,
      "metadata": {
        "colab": {
          "base_uri": "https://localhost:8080/",
          "height": 129
        },
        "id": "1I_DjWdq3m9P",
        "outputId": "3f60a1cf-f5bc-4cb4-fe17-a64fd93e7ea0",
        "vscode": {
          "languageId": "r"
        }
      },
      "outputs": [
        {
          "data": {
            "text/html": [
              "<table class=\"dataframe\">\n",
              "<caption>A rstatix_test: 1 × 7</caption>\n",
              "<thead>\n",
              "\t<tr><th></th><th scope=col>.y.</th><th scope=col>group1</th><th scope=col>group2</th><th scope=col>n1</th><th scope=col>n2</th><th scope=col>statistic</th><th scope=col>p</th></tr>\n",
              "\t<tr><th></th><th scope=col>&lt;chr&gt;</th><th scope=col>&lt;chr&gt;</th><th scope=col>&lt;chr&gt;</th><th scope=col>&lt;int&gt;</th><th scope=col>&lt;int&gt;</th><th scope=col>&lt;dbl&gt;</th><th scope=col>&lt;dbl&gt;</th></tr>\n",
              "</thead>\n",
              "<tbody>\n",
              "\t<tr><th scope=row>W</th><td>Rendimento</td><td>A</td><td>B</td><td>20</td><td>20</td><td>270</td><td>0.0599</td></tr>\n",
              "</tbody>\n",
              "</table>\n"
            ],
            "text/latex": [
              "A rstatix\\_test: 1 × 7\n",
              "\\begin{tabular}{r|lllllll}\n",
              "  & .y. & group1 & group2 & n1 & n2 & statistic & p\\\\\n",
              "  & <chr> & <chr> & <chr> & <int> & <int> & <dbl> & <dbl>\\\\\n",
              "\\hline\n",
              "\tW & Rendimento & A & B & 20 & 20 & 270 & 0.0599\\\\\n",
              "\\end{tabular}\n"
            ],
            "text/markdown": [
              "\n",
              "A rstatix_test: 1 × 7\n",
              "\n",
              "| <!--/--> | .y. &lt;chr&gt; | group1 &lt;chr&gt; | group2 &lt;chr&gt; | n1 &lt;int&gt; | n2 &lt;int&gt; | statistic &lt;dbl&gt; | p &lt;dbl&gt; |\n",
              "|---|---|---|---|---|---|---|---|\n",
              "| W | Rendimento | A | B | 20 | 20 | 270 | 0.0599 |\n",
              "\n"
            ],
            "text/plain": [
              "  .y.        group1 group2 n1 n2 statistic p     \n",
              "W Rendimento A      B      20 20 270       0.0599"
            ]
          },
          "metadata": {},
          "output_type": "display_data"
        }
      ],
      "source": [
        "teste_rendimento <- dados %>%\n",
        "  wilcox_test(Rendimento ~ Variedade)\n",
        "teste_rendimento"
      ]
    },
    {
      "cell_type": "code",
      "execution_count": 60,
      "metadata": {
        "colab": {
          "base_uri": "https://localhost:8080/",
          "height": 34
        },
        "id": "ojExsnZE9Ibd",
        "outputId": "3f425329-5ede-49ad-e92b-38b8c8802e70",
        "vscode": {
          "languageId": "r"
        }
      },
      "outputs": [
        {
          "data": {
            "text/html": [
              "0.0599"
            ],
            "text/latex": [
              "0.0599"
            ],
            "text/markdown": [
              "0.0599"
            ],
            "text/plain": [
              "[1] 0.0599"
            ]
          },
          "metadata": {},
          "output_type": "display_data"
        }
      ],
      "source": [
        "p_valor_rendimento <- teste_rendimento$p\n",
        "p_valor_rendimento"
      ]
    },
    {
      "cell_type": "markdown",
      "metadata": {
        "id": "M29XHrxg8-cp"
      },
      "source": [
        "###### 2.2 Teste para o uso de água"
      ]
    },
    {
      "cell_type": "code",
      "execution_count": 61,
      "metadata": {
        "colab": {
          "base_uri": "https://localhost:8080/",
          "height": 129
        },
        "id": "VkD2feih9b17",
        "outputId": "cb66ce67-49e6-4ce2-c5ab-db2d60207fef",
        "vscode": {
          "languageId": "r"
        }
      },
      "outputs": [
        {
          "data": {
            "text/html": [
              "<table class=\"dataframe\">\n",
              "<caption>A rstatix_test: 1 × 7</caption>\n",
              "<thead>\n",
              "\t<tr><th></th><th scope=col>.y.</th><th scope=col>group1</th><th scope=col>group2</th><th scope=col>n1</th><th scope=col>n2</th><th scope=col>statistic</th><th scope=col>p</th></tr>\n",
              "\t<tr><th></th><th scope=col>&lt;chr&gt;</th><th scope=col>&lt;chr&gt;</th><th scope=col>&lt;chr&gt;</th><th scope=col>&lt;int&gt;</th><th scope=col>&lt;int&gt;</th><th scope=col>&lt;dbl&gt;</th><th scope=col>&lt;dbl&gt;</th></tr>\n",
              "</thead>\n",
              "<tbody>\n",
              "\t<tr><th scope=row>W</th><td>Uso_Agua</td><td>A</td><td>B</td><td>20</td><td>20</td><td>0</td><td>6.75e-08</td></tr>\n",
              "</tbody>\n",
              "</table>\n"
            ],
            "text/latex": [
              "A rstatix\\_test: 1 × 7\n",
              "\\begin{tabular}{r|lllllll}\n",
              "  & .y. & group1 & group2 & n1 & n2 & statistic & p\\\\\n",
              "  & <chr> & <chr> & <chr> & <int> & <int> & <dbl> & <dbl>\\\\\n",
              "\\hline\n",
              "\tW & Uso\\_Agua & A & B & 20 & 20 & 0 & 6.75e-08\\\\\n",
              "\\end{tabular}\n"
            ],
            "text/markdown": [
              "\n",
              "A rstatix_test: 1 × 7\n",
              "\n",
              "| <!--/--> | .y. &lt;chr&gt; | group1 &lt;chr&gt; | group2 &lt;chr&gt; | n1 &lt;int&gt; | n2 &lt;int&gt; | statistic &lt;dbl&gt; | p &lt;dbl&gt; |\n",
              "|---|---|---|---|---|---|---|---|\n",
              "| W | Uso_Agua | A | B | 20 | 20 | 0 | 6.75e-08 |\n",
              "\n"
            ],
            "text/plain": [
              "  .y.      group1 group2 n1 n2 statistic p       \n",
              "W Uso_Agua A      B      20 20 0         6.75e-08"
            ]
          },
          "metadata": {},
          "output_type": "display_data"
        }
      ],
      "source": [
        "teste_agua <- dados %>%\n",
        "  wilcox_test(Uso_Agua ~ Variedade)\n",
        "teste_agua"
      ]
    },
    {
      "cell_type": "code",
      "execution_count": 62,
      "metadata": {
        "colab": {
          "base_uri": "https://localhost:8080/",
          "height": 34
        },
        "id": "nQ9zgdmu9b18",
        "outputId": "6227108b-ec1b-423b-e5ca-a4a978bee194",
        "vscode": {
          "languageId": "r"
        }
      },
      "outputs": [
        {
          "data": {
            "text/html": [
              "0.0599"
            ],
            "text/latex": [
              "0.0599"
            ],
            "text/markdown": [
              "0.0599"
            ],
            "text/plain": [
              "[1] 0.0599"
            ]
          },
          "metadata": {},
          "output_type": "display_data"
        }
      ],
      "source": [
        "p_valor_agua <- teste_rendimento$p\n",
        "p_valor_agua"
      ]
    },
    {
      "cell_type": "markdown",
      "metadata": {
        "id": "sYjjpXWS3m9Q"
      },
      "source": [
        "##### 3. Qual a conclusão do teste?"
      ]
    },
    {
      "cell_type": "code",
      "execution_count": 63,
      "metadata": {
        "id": "RWwT1rmz3m9Q",
        "vscode": {
          "languageId": "r"
        }
      },
      "outputs": [],
      "source": [
        "significancia <- 0.05"
      ]
    },
    {
      "cell_type": "code",
      "execution_count": 64,
      "metadata": {
        "colab": {
          "base_uri": "https://localhost:8080/",
          "height": 52
        },
        "id": "xw9TZ2ta3m9Q",
        "outputId": "4e6019c7-81b6-4cf0-b305-fe486444d4d6",
        "vscode": {
          "languageId": "r"
        }
      },
      "outputs": [
        {
          "data": {
            "text/html": [
              "FALSE"
            ],
            "text/latex": [
              "FALSE"
            ],
            "text/markdown": [
              "FALSE"
            ],
            "text/plain": [
              "[1] FALSE"
            ]
          },
          "metadata": {},
          "output_type": "display_data"
        },
        {
          "data": {
            "text/html": [
              "FALSE"
            ],
            "text/latex": [
              "FALSE"
            ],
            "text/markdown": [
              "FALSE"
            ],
            "text/plain": [
              "[1] FALSE"
            ]
          },
          "metadata": {},
          "output_type": "display_data"
        }
      ],
      "source": [
        "p_valor_rendimento <= significancia\n",
        "p_valor_agua <= significancia"
      ]
    },
    {
      "cell_type": "markdown",
      "metadata": {
        "id": "iA8E8ZVZ99Dg"
      },
      "source": [
        "##### 4.Análise descritiva dos dados"
      ]
    },
    {
      "cell_type": "code",
      "execution_count": 65,
      "metadata": {
        "colab": {
          "base_uri": "https://localhost:8080/",
          "height": 224
        },
        "id": "tDU-0HH6-A0E",
        "outputId": "5e51245c-a6dd-4f2a-cbd6-8c5765be7573",
        "vscode": {
          "languageId": "r"
        }
      },
      "outputs": [
        {
          "data": {
            "text/html": [
              "<table class=\"dataframe\">\n",
              "<caption>A tibble: 4 × 5</caption>\n",
              "<thead>\n",
              "\t<tr><th scope=col>Variedade</th><th scope=col>variable</th><th scope=col>n</th><th scope=col>median</th><th scope=col>iqr</th></tr>\n",
              "\t<tr><th scope=col>&lt;chr&gt;</th><th scope=col>&lt;fct&gt;</th><th scope=col>&lt;dbl&gt;</th><th scope=col>&lt;dbl&gt;</th><th scope=col>&lt;dbl&gt;</th></tr>\n",
              "</thead>\n",
              "<tbody>\n",
              "\t<tr><td>A</td><td>Rendimento</td><td>20</td><td>167.5</td><td>47.5</td></tr>\n",
              "\t<tr><td>A</td><td>Uso_Agua  </td><td>20</td><td>547.5</td><td>47.5</td></tr>\n",
              "\t<tr><td>B</td><td>Rendimento</td><td>20</td><td>150.0</td><td>47.5</td></tr>\n",
              "\t<tr><td>B</td><td>Uso_Agua  </td><td>20</td><td>647.5</td><td>37.5</td></tr>\n",
              "</tbody>\n",
              "</table>\n"
            ],
            "text/latex": [
              "A tibble: 4 × 5\n",
              "\\begin{tabular}{lllll}\n",
              " Variedade & variable & n & median & iqr\\\\\n",
              " <chr> & <fct> & <dbl> & <dbl> & <dbl>\\\\\n",
              "\\hline\n",
              "\t A & Rendimento & 20 & 167.5 & 47.5\\\\\n",
              "\t A & Uso\\_Agua   & 20 & 547.5 & 47.5\\\\\n",
              "\t B & Rendimento & 20 & 150.0 & 47.5\\\\\n",
              "\t B & Uso\\_Agua   & 20 & 647.5 & 37.5\\\\\n",
              "\\end{tabular}\n"
            ],
            "text/markdown": [
              "\n",
              "A tibble: 4 × 5\n",
              "\n",
              "| Variedade &lt;chr&gt; | variable &lt;fct&gt; | n &lt;dbl&gt; | median &lt;dbl&gt; | iqr &lt;dbl&gt; |\n",
              "|---|---|---|---|---|\n",
              "| A | Rendimento | 20 | 167.5 | 47.5 |\n",
              "| A | Uso_Agua   | 20 | 547.5 | 47.5 |\n",
              "| B | Rendimento | 20 | 150.0 | 47.5 |\n",
              "| B | Uso_Agua   | 20 | 647.5 | 37.5 |\n",
              "\n"
            ],
            "text/plain": [
              "  Variedade variable   n  median iqr \n",
              "1 A         Rendimento 20 167.5  47.5\n",
              "2 A         Uso_Agua   20 547.5  47.5\n",
              "3 B         Rendimento 20 150.0  47.5\n",
              "4 B         Uso_Agua   20 647.5  37.5"
            ]
          },
          "metadata": {},
          "output_type": "display_data"
        }
      ],
      "source": [
        "dados %>%\n",
        "  group_by(Variedade) %>%\n",
        "  get_summary_stats(Rendimento, Uso_Agua, type = \"median_iqr\")"
      ]
    },
    {
      "cell_type": "markdown",
      "metadata": {
        "id": "4MKqnoIA3m9R"
      },
      "source": [
        "##### **Conclusão**\n",
        "\n",
        "Com base nesses resultados, podemos concluir que:\n",
        "\n",
        "#### **Para o rendimento**\n",
        "\n",
        "> Como o p-valor ($p_{value} = 0.06$) é maior que o nível de significância ($\\alpha$ = 0.05), **não rejeitamos a hipótese nula** para um nível de significância de 5% ($\\alpha = 0.05$).\n",
        ">\n",
        "> Isso indica que **não há diferença significativa** entre as variedades do milho. Embora a Variedade A tem uma mediana de rendimento maior (167.5 kg/hectare) em comparação com a Variedade B (150 kg/hectare).\n",
        ">\n",
        "> Isso se deve a uma **variação no intervalo interquartil** que traz muitos valores na mesma faixa: Variedade A e B (IQR = 47.5 kg/hectare). O que contribui para não rejeição da hipótese nula.\n",
        "\n",
        "#### **Para uso de água**\n",
        "\n",
        "> Como o p-valor ($p_{value} < 0.001$) é menor que o nível de significância ($\\alpha$ = 0.05), **rejeitamos a hipótese nula** para um nível de significância de 5% ($\\alpha = 0.05$).\n",
        ">\n",
        "> Isso indica que **há diferenças significativas** entre as variedades do milho. As variedades possuem medianas de uso de água distantes (547.5 litros/hectare para A e 647.5 litros/hectare para B).\n",
        ">\n",
        "> Além disso, a análise descritiva mostrou que **variação no intervalo interquartil** assegura os valores em faixas distintas, tendo a Variedade A com IQR = 47.5 e a Variedade B com IQR = 37.5."
      ]
    },
    {
      "cell_type": "markdown",
      "metadata": {},
      "source": []
    }
  ],
  "metadata": {
    "colab": {
      "collapsed_sections": [
        "QDUU7jVGiMiZ",
        "22pbEbEZiTMC",
        "mPX0HG4diTPH",
        "TOv2WJHri6Rh",
        "JGoT_dqUi6Rj",
        "cy1s7XHgi6Rk"
      ],
      "provenance": []
    },
    "kernelspec": {
      "display_name": "R",
      "name": "ir"
    },
    "language_info": {
      "name": "R"
    },
    "orig_nbformat": 4
  },
  "nbformat": 4,
  "nbformat_minor": 0
}
